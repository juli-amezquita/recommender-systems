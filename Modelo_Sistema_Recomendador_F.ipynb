{
  "cells": [
    {
      "cell_type": "markdown",
      "metadata": {
        "id": "view-in-github",
        "colab_type": "text"
      },
      "source": [
        "<a href=\"https://colab.research.google.com/github/juli-amezquita/recommender-systems/blob/main/Modelo_Sistema_Recomendador_F.ipynb\" target=\"_parent\"><img src=\"https://colab.research.google.com/assets/colab-badge.svg\" alt=\"Open In Colab\"/></a>"
      ]
    },
    {
      "cell_type": "markdown",
      "metadata": {
        "id": "YC8RhS3mHlwh"
      },
      "source": [
        "# Sistema Recomendador para Planes de Formación y Objetivos de Desarrollo Empresarial\n",
        "\n",
        "## Modelo"
      ]
    },
    {
      "cell_type": "code",
      "execution_count": null,
      "metadata": {
        "id": "wXmiRm_8oZg5"
      },
      "outputs": [],
      "source": [
        "import pandas as pd\n",
        "import numpy as np\n",
        "import re\n",
        "import string\n",
        "from unicodedata import normalize\n",
        "import matplotlib.pyplot as plt\n",
        "import seaborn as sns\n",
        "sns.set()"
      ]
    },
    {
      "cell_type": "markdown",
      "metadata": {
        "id": "RkU5AzuXnkOv"
      },
      "source": [
        "# Carga de datos"
      ]
    },
    {
      "cell_type": "code",
      "execution_count": null,
      "metadata": {
        "colab": {
          "base_uri": "https://localhost:8080/",
          "height": 206
        },
        "id": "Wvv6d8m4m8lI",
        "outputId": "681e848d-6c28-4fd5-a469-286523fdf6e4"
      },
      "outputs": [
        {
          "output_type": "execute_result",
          "data": {
            "text/plain": [
              "   index                                              Title  \\\n",
              "0      1  tableau a z hands on tableau training for data...   \n",
              "1      2                 pmp exam prep seminar pmbok guide    \n",
              "2      3             the complete financial analyst course    \n",
              "3      4  an entire mba in course award winning business...   \n",
              "4      5  microsoft power bi a complete introduction edi...   \n",
              "\n",
              "                                             Summary  Enrollment  Stars  \\\n",
              "0  learn tableau for data science step by step re...      211674    4.6   \n",
              "1  pmp exam prep seminar earn pdus by completing ...      157957    4.6   \n",
              "2  excel accounting financial statement analysis ...      249097    4.5   \n",
              "3   best selling business course everything you n...      376913    4.5   \n",
              "4  learn how to use microsoft s power bi tools in...      126880    4.6   \n",
              "\n",
              "   Rating                                               Link  Category  \\\n",
              "0   55582            https://www.udemy.com/course/tableau10/  Business   \n",
              "1   53858   https://www.udemy.com/course/pmp-pmbok6-35-pdus/  Business   \n",
              "2   47415  https://www.udemy.com/course/the-complete-fina...  Business   \n",
              "3   42101  https://www.udemy.com/course/an-entire-mba-in-...  Business   \n",
              "4   38771  https://www.udemy.com/course/powerbi-complete-...  Business   \n",
              "\n",
              "  languages  \n",
              "0        en  \n",
              "1        en  \n",
              "2        en  \n",
              "3        en  \n",
              "4        en  "
            ],
            "text/html": [
              "\n",
              "  <div id=\"df-94e9e6d5-c865-402f-94f3-839f5e5e13eb\">\n",
              "    <div class=\"colab-df-container\">\n",
              "      <div>\n",
              "<style scoped>\n",
              "    .dataframe tbody tr th:only-of-type {\n",
              "        vertical-align: middle;\n",
              "    }\n",
              "\n",
              "    .dataframe tbody tr th {\n",
              "        vertical-align: top;\n",
              "    }\n",
              "\n",
              "    .dataframe thead th {\n",
              "        text-align: right;\n",
              "    }\n",
              "</style>\n",
              "<table border=\"1\" class=\"dataframe\">\n",
              "  <thead>\n",
              "    <tr style=\"text-align: right;\">\n",
              "      <th></th>\n",
              "      <th>index</th>\n",
              "      <th>Title</th>\n",
              "      <th>Summary</th>\n",
              "      <th>Enrollment</th>\n",
              "      <th>Stars</th>\n",
              "      <th>Rating</th>\n",
              "      <th>Link</th>\n",
              "      <th>Category</th>\n",
              "      <th>languages</th>\n",
              "    </tr>\n",
              "  </thead>\n",
              "  <tbody>\n",
              "    <tr>\n",
              "      <th>0</th>\n",
              "      <td>1</td>\n",
              "      <td>tableau a z hands on tableau training for data...</td>\n",
              "      <td>learn tableau for data science step by step re...</td>\n",
              "      <td>211674</td>\n",
              "      <td>4.6</td>\n",
              "      <td>55582</td>\n",
              "      <td>https://www.udemy.com/course/tableau10/</td>\n",
              "      <td>Business</td>\n",
              "      <td>en</td>\n",
              "    </tr>\n",
              "    <tr>\n",
              "      <th>1</th>\n",
              "      <td>2</td>\n",
              "      <td>pmp exam prep seminar pmbok guide</td>\n",
              "      <td>pmp exam prep seminar earn pdus by completing ...</td>\n",
              "      <td>157957</td>\n",
              "      <td>4.6</td>\n",
              "      <td>53858</td>\n",
              "      <td>https://www.udemy.com/course/pmp-pmbok6-35-pdus/</td>\n",
              "      <td>Business</td>\n",
              "      <td>en</td>\n",
              "    </tr>\n",
              "    <tr>\n",
              "      <th>2</th>\n",
              "      <td>3</td>\n",
              "      <td>the complete financial analyst course</td>\n",
              "      <td>excel accounting financial statement analysis ...</td>\n",
              "      <td>249097</td>\n",
              "      <td>4.5</td>\n",
              "      <td>47415</td>\n",
              "      <td>https://www.udemy.com/course/the-complete-fina...</td>\n",
              "      <td>Business</td>\n",
              "      <td>en</td>\n",
              "    </tr>\n",
              "    <tr>\n",
              "      <th>3</th>\n",
              "      <td>4</td>\n",
              "      <td>an entire mba in course award winning business...</td>\n",
              "      <td>best selling business course everything you n...</td>\n",
              "      <td>376913</td>\n",
              "      <td>4.5</td>\n",
              "      <td>42101</td>\n",
              "      <td>https://www.udemy.com/course/an-entire-mba-in-...</td>\n",
              "      <td>Business</td>\n",
              "      <td>en</td>\n",
              "    </tr>\n",
              "    <tr>\n",
              "      <th>4</th>\n",
              "      <td>5</td>\n",
              "      <td>microsoft power bi a complete introduction edi...</td>\n",
              "      <td>learn how to use microsoft s power bi tools in...</td>\n",
              "      <td>126880</td>\n",
              "      <td>4.6</td>\n",
              "      <td>38771</td>\n",
              "      <td>https://www.udemy.com/course/powerbi-complete-...</td>\n",
              "      <td>Business</td>\n",
              "      <td>en</td>\n",
              "    </tr>\n",
              "  </tbody>\n",
              "</table>\n",
              "</div>\n",
              "      <button class=\"colab-df-convert\" onclick=\"convertToInteractive('df-94e9e6d5-c865-402f-94f3-839f5e5e13eb')\"\n",
              "              title=\"Convert this dataframe to an interactive table.\"\n",
              "              style=\"display:none;\">\n",
              "        \n",
              "  <svg xmlns=\"http://www.w3.org/2000/svg\" height=\"24px\"viewBox=\"0 0 24 24\"\n",
              "       width=\"24px\">\n",
              "    <path d=\"M0 0h24v24H0V0z\" fill=\"none\"/>\n",
              "    <path d=\"M18.56 5.44l.94 2.06.94-2.06 2.06-.94-2.06-.94-.94-2.06-.94 2.06-2.06.94zm-11 1L8.5 8.5l.94-2.06 2.06-.94-2.06-.94L8.5 2.5l-.94 2.06-2.06.94zm10 10l.94 2.06.94-2.06 2.06-.94-2.06-.94-.94-2.06-.94 2.06-2.06.94z\"/><path d=\"M17.41 7.96l-1.37-1.37c-.4-.4-.92-.59-1.43-.59-.52 0-1.04.2-1.43.59L10.3 9.45l-7.72 7.72c-.78.78-.78 2.05 0 2.83L4 21.41c.39.39.9.59 1.41.59.51 0 1.02-.2 1.41-.59l7.78-7.78 2.81-2.81c.8-.78.8-2.07 0-2.86zM5.41 20L4 18.59l7.72-7.72 1.47 1.35L5.41 20z\"/>\n",
              "  </svg>\n",
              "      </button>\n",
              "      \n",
              "  <style>\n",
              "    .colab-df-container {\n",
              "      display:flex;\n",
              "      flex-wrap:wrap;\n",
              "      gap: 12px;\n",
              "    }\n",
              "\n",
              "    .colab-df-convert {\n",
              "      background-color: #E8F0FE;\n",
              "      border: none;\n",
              "      border-radius: 50%;\n",
              "      cursor: pointer;\n",
              "      display: none;\n",
              "      fill: #1967D2;\n",
              "      height: 32px;\n",
              "      padding: 0 0 0 0;\n",
              "      width: 32px;\n",
              "    }\n",
              "\n",
              "    .colab-df-convert:hover {\n",
              "      background-color: #E2EBFA;\n",
              "      box-shadow: 0px 1px 2px rgba(60, 64, 67, 0.3), 0px 1px 3px 1px rgba(60, 64, 67, 0.15);\n",
              "      fill: #174EA6;\n",
              "    }\n",
              "\n",
              "    [theme=dark] .colab-df-convert {\n",
              "      background-color: #3B4455;\n",
              "      fill: #D2E3FC;\n",
              "    }\n",
              "\n",
              "    [theme=dark] .colab-df-convert:hover {\n",
              "      background-color: #434B5C;\n",
              "      box-shadow: 0px 1px 3px 1px rgba(0, 0, 0, 0.15);\n",
              "      filter: drop-shadow(0px 1px 2px rgba(0, 0, 0, 0.3));\n",
              "      fill: #FFFFFF;\n",
              "    }\n",
              "  </style>\n",
              "\n",
              "      <script>\n",
              "        const buttonEl =\n",
              "          document.querySelector('#df-94e9e6d5-c865-402f-94f3-839f5e5e13eb button.colab-df-convert');\n",
              "        buttonEl.style.display =\n",
              "          google.colab.kernel.accessAllowed ? 'block' : 'none';\n",
              "\n",
              "        async function convertToInteractive(key) {\n",
              "          const element = document.querySelector('#df-94e9e6d5-c865-402f-94f3-839f5e5e13eb');\n",
              "          const dataTable =\n",
              "            await google.colab.kernel.invokeFunction('convertToInteractive',\n",
              "                                                     [key], {});\n",
              "          if (!dataTable) return;\n",
              "\n",
              "          const docLinkHtml = 'Like what you see? Visit the ' +\n",
              "            '<a target=\"_blank\" href=https://colab.research.google.com/notebooks/data_table.ipynb>data table notebook</a>'\n",
              "            + ' to learn more about interactive tables.';\n",
              "          element.innerHTML = '';\n",
              "          dataTable['output_type'] = 'display_data';\n",
              "          await google.colab.output.renderOutput(dataTable, element);\n",
              "          const docLink = document.createElement('div');\n",
              "          docLink.innerHTML = docLinkHtml;\n",
              "          element.appendChild(docLink);\n",
              "        }\n",
              "      </script>\n",
              "    </div>\n",
              "  </div>\n",
              "  "
            ]
          },
          "metadata": {},
          "execution_count": 2
        }
      ],
      "source": [
        "url_en = 'https://github.com/juli-amezquita/recommender-systems/blob/main/clean%20datasets/en_courses_9categories.csv?raw=true'\n",
        "data = pd.read_csv(url_en)\n",
        "data.head()"
      ]
    },
    {
      "cell_type": "code",
      "execution_count": null,
      "metadata": {
        "colab": {
          "base_uri": "https://localhost:8080/"
        },
        "id": "yZysrVlqzLld",
        "outputId": "265f0199-742a-4dde-b440-3c9b28405b75"
      },
      "outputs": [
        {
          "output_type": "stream",
          "name": "stdout",
          "text": [
            "<class 'pandas.core.frame.DataFrame'>\n",
            "RangeIndex: 23771 entries, 0 to 23770\n",
            "Data columns (total 9 columns):\n",
            " #   Column      Non-Null Count  Dtype  \n",
            "---  ------      --------------  -----  \n",
            " 0   index       23771 non-null  int64  \n",
            " 1   Title       23768 non-null  object \n",
            " 2   Summary     23771 non-null  object \n",
            " 3   Enrollment  23771 non-null  int64  \n",
            " 4   Stars       23771 non-null  float64\n",
            " 5   Rating      23771 non-null  int64  \n",
            " 6   Link        23771 non-null  object \n",
            " 7   Category    23771 non-null  object \n",
            " 8   languages   23771 non-null  object \n",
            "dtypes: float64(1), int64(3), object(5)\n",
            "memory usage: 1.6+ MB\n"
          ]
        }
      ],
      "source": [
        "data.info()"
      ]
    },
    {
      "cell_type": "markdown",
      "source": [
        "Revisamos nulos"
      ],
      "metadata": {
        "id": "Z3ENjXfWdf_C"
      }
    },
    {
      "cell_type": "code",
      "execution_count": null,
      "metadata": {
        "colab": {
          "base_uri": "https://localhost:8080/"
        },
        "id": "AHC5REGQzUw8",
        "outputId": "fb9957fd-a3e7-4630-abbc-d2045d1b9adb"
      },
      "outputs": [
        {
          "output_type": "stream",
          "name": "stdout",
          "text": [
            "index         0\n",
            "Title         3\n",
            "Summary       0\n",
            "Enrollment    0\n",
            "Stars         0\n",
            "Rating        0\n",
            "Link          0\n",
            "Category      0\n",
            "languages     0\n",
            "dtype: int64\n"
          ]
        }
      ],
      "source": [
        "print(data.isna().sum())"
      ]
    },
    {
      "cell_type": "code",
      "execution_count": null,
      "metadata": {
        "id": "c1XE5ruxzdbN"
      },
      "outputs": [],
      "source": [
        "data = data.dropna()"
      ]
    },
    {
      "cell_type": "code",
      "execution_count": null,
      "metadata": {
        "colab": {
          "base_uri": "https://localhost:8080/"
        },
        "id": "NvRYp-rrzjpg",
        "outputId": "68f3bebf-0b92-46a8-d6f2-f1bbf01beebe"
      },
      "outputs": [
        {
          "output_type": "stream",
          "name": "stdout",
          "text": [
            "index         0\n",
            "Title         0\n",
            "Summary       0\n",
            "Enrollment    0\n",
            "Stars         0\n",
            "Rating        0\n",
            "Link          0\n",
            "Category      0\n",
            "languages     0\n",
            "dtype: int64\n"
          ]
        }
      ],
      "source": [
        "print(data.isna().sum())"
      ]
    },
    {
      "cell_type": "code",
      "execution_count": null,
      "metadata": {
        "colab": {
          "base_uri": "https://localhost:8080/",
          "height": 339
        },
        "id": "mwuohHW6nWFJ",
        "outputId": "a778f782-9c5d-4e93-a888-07fad6ce6d9d"
      },
      "outputs": [
        {
          "output_type": "display_data",
          "data": {
            "text/plain": [
              "<Figure size 1080x360 with 1 Axes>"
            ],
            "image/png": "[encoded data removed]"
          },
          "metadata": {}
        }
      ],
      "source": [
        "f, ax = plt.subplots(figsize=(15, 5))\n",
        "sns.countplot(data = data, x= \"Category\", order = data[\"Category\"].value_counts().index)\n",
        "plt.show()"
      ]
    },
    {
      "cell_type": "code",
      "execution_count": null,
      "metadata": {
        "colab": {
          "base_uri": "https://localhost:8080/",
          "height": 35
        },
        "id": "aIOr1dniluD3",
        "outputId": "a37a3b0c-2979-4f1e-b616-62981a568a63"
      },
      "outputs": [
        {
          "output_type": "execute_result",
          "data": {
            "text/plain": [
              "'stock options learn to trade'"
            ],
            "application/vnd.google.colaboratory.intrinsic+json": {
              "type": "string"
            }
          },
          "metadata": {},
          "execution_count": 8
        }
      ],
      "source": [
        "data.iloc[12345].Title"
      ]
    },
    {
      "cell_type": "code",
      "execution_count": null,
      "metadata": {
        "colab": {
          "base_uri": "https://localhost:8080/",
          "height": 35
        },
        "id": "1RGxTXrNlLw7",
        "outputId": "89b91ea0-6862-4887-d351-e653e11786b6"
      },
      "outputs": [
        {
          "output_type": "execute_result",
          "data": {
            "text/plain": [
              "'stock option trading for beginners'"
            ],
            "application/vnd.google.colaboratory.intrinsic+json": {
              "type": "string"
            }
          },
          "metadata": {},
          "execution_count": 9
        }
      ],
      "source": [
        "data.iloc[12345].Summary"
      ]
    },
    {
      "cell_type": "code",
      "execution_count": null,
      "metadata": {
        "colab": {
          "base_uri": "https://localhost:8080/"
        },
        "id": "7HPvHTuVpGKB",
        "outputId": "2a9927b6-e4e7-4f6e-afd0-1dea1b4323a3"
      },
      "outputs": [
        {
          "output_type": "stream",
          "name": "stdout",
          "text": [
            "index                                                      1237\n",
            "Title                              stock options learn to trade\n",
            "Summary                      stock option trading for beginners\n",
            "Enrollment                                                 1764\n",
            "Stars                                                       4.2\n",
            "Rating                                                       33\n",
            "Link          https://www.udemy.com/course/options-trading-b...\n",
            "Category                                                Finance\n",
            "languages                                                    en\n",
            "Name: 12346, dtype: object\n"
          ]
        }
      ],
      "source": [
        "print(data.iloc[12345])"
      ]
    },
    {
      "cell_type": "markdown",
      "metadata": {
        "id": "8lZhrA1x7mSI"
      },
      "source": [
        "# Stopwords"
      ]
    },
    {
      "cell_type": "code",
      "execution_count": null,
      "metadata": {
        "id": "E85BSiuWAc79"
      },
      "outputs": [],
      "source": [
        "#!pip install nltk"
      ]
    },
    {
      "cell_type": "code",
      "execution_count": null,
      "metadata": {
        "id": "dpRXzhMf7o7s"
      },
      "outputs": [],
      "source": [
        "import nltk"
      ]
    },
    {
      "cell_type": "code",
      "execution_count": null,
      "metadata": {
        "colab": {
          "base_uri": "https://localhost:8080/"
        },
        "id": "oVudsrE3dlHc",
        "outputId": "ae4f297d-75c8-4c65-8316-320ce8faf875"
      },
      "outputs": [
        {
          "output_type": "stream",
          "name": "stderr",
          "text": [
            "[nltk_data] Downloading package stopwords to /root/nltk_data...\n",
            "[nltk_data]   Package stopwords is already up-to-date!\n"
          ]
        }
      ],
      "source": [
        "# se descarga la lista de stopwords\n",
        "nltk.download('stopwords')\n",
        "from nltk.corpus import stopwords"
      ]
    },
    {
      "cell_type": "code",
      "execution_count": null,
      "metadata": {
        "colab": {
          "base_uri": "https://localhost:8080/"
        },
        "id": "ogUGoo057tox",
        "outputId": "8a89419a-4c65-4b1d-a03a-282e52c4ffc8"
      },
      "outputs": [
        {
          "output_type": "stream",
          "name": "stdout",
          "text": [
            "179\n",
            "['i', 'me', 'my', 'myself', 'we', 'our', 'ours', 'ourselves', 'you', \"you're\", \"you've\", \"you'll\", \"you'd\", 'your', 'yours', 'yourself', 'yourselves', 'he', 'him', 'his', 'himself', 'she', \"she's\", 'her', 'hers', 'herself', 'it', \"it's\", 'its', 'itself', 'they', 'them', 'their', 'theirs', 'themselves', 'what', 'which', 'who', 'whom', 'this', 'that', \"that'll\", 'these', 'those', 'am', 'is', 'are', 'was', 'were', 'be', 'been', 'being', 'have', 'has', 'had', 'having', 'do', 'does', 'did', 'doing', 'a', 'an', 'the', 'and', 'but', 'if', 'or', 'because', 'as', 'until', 'while', 'of', 'at', 'by', 'for', 'with', 'about', 'against', 'between', 'into', 'through', 'during', 'before', 'after', 'above', 'below', 'to', 'from', 'up', 'down', 'in', 'out', 'on', 'off', 'over', 'under', 'again', 'further', 'then', 'once', 'here', 'there', 'when', 'where', 'why', 'how', 'all', 'any', 'both', 'each', 'few', 'more', 'most', 'other', 'some', 'such', 'no', 'nor', 'not', 'only', 'own', 'same', 'so', 'than', 'too', 'very', 's', 't', 'can', 'will', 'just', 'don', \"don't\", 'should', \"should've\", 'now', 'd', 'll', 'm', 'o', 're', 've', 'y', 'ain', 'aren', \"aren't\", 'couldn', \"couldn't\", 'didn', \"didn't\", 'doesn', \"doesn't\", 'hadn', \"hadn't\", 'hasn', \"hasn't\", 'haven', \"haven't\", 'isn', \"isn't\", 'ma', 'mightn', \"mightn't\", 'mustn', \"mustn't\", 'needn', \"needn't\", 'shan', \"shan't\", 'shouldn', \"shouldn't\", 'wasn', \"wasn't\", 'weren', \"weren't\", 'won', \"won't\", 'wouldn', \"wouldn't\"]\n"
          ]
        }
      ],
      "source": [
        "stop_words = list(stopwords.words('english'))\n",
        "# se imprime la lista de stopwords de nltk\n",
        "print(len(stop_words))\n",
        "print(list(stop_words))"
      ]
    },
    {
      "cell_type": "code",
      "execution_count": null,
      "metadata": {
        "colab": {
          "base_uri": "https://localhost:8080/"
        },
        "id": "HejOVax5lOVP",
        "outputId": "63b9e215-5eba-451c-e2b7-923ffe5485f2"
      },
      "outputs": [
        {
          "output_type": "stream",
          "name": "stdout",
          "text": [
            "222\n"
          ]
        }
      ],
      "source": [
        "# agregamos stopwords nuevas a la lista\n",
        "\n",
        "new_stop_words = ['course' ,'learn' ,'using' ,'full' ,'use' ,'start' ,'want' ,'hour' ,'hours' ,'top' ,'become' ,'amazing' ,'step' ,'steps' ,'find' ,'make' ,'take' ,'need' ,'great' ,'know' ,'az' ,'create' ,\n",
        "                   'build' ,'building' ,\"way\" ,\"ways\" ,\"like\" ,\"–\" ,\"follow\" ,\"easy\" ,\"best\" ,\"time\" ,\"complete\" ,\"creating\" ,\"guide\" ,\"level\" ,\"would\" ,\"end\" ,\"fully\" ,\"awesome\" ,\"day\" ,\"today\" ,\"non\"]\n",
        "for w in new_stop_words:\n",
        "    stop_words.append(w)\n",
        "\n",
        "print(len(stop_words))"
      ]
    },
    {
      "cell_type": "code",
      "execution_count": null,
      "metadata": {
        "colab": {
          "base_uri": "https://localhost:8080/"
        },
        "id": "tWgazsk08esz",
        "outputId": "ab64acce-92c1-47db-f09b-d54553eb513c"
      },
      "outputs": [
        {
          "output_type": "stream",
          "name": "stdout",
          "text": [
            "CPU times: user 1.7 s, sys: 17.2 ms, total: 1.72 s\n",
            "Wall time: 2.4 s\n"
          ]
        }
      ],
      "source": [
        "%%time\n",
        "# Se remueven las stopwords del campo Summary\n",
        "data['Summary'] = data['Summary'].apply(lambda x: \" \".join([t for t in x.split() if t not in stop_words]))"
      ]
    },
    {
      "cell_type": "code",
      "execution_count": null,
      "metadata": {
        "colab": {
          "base_uri": "https://localhost:8080/",
          "height": 35
        },
        "id": "D3IaJfCYP1I9",
        "outputId": "9b0c2685-004f-40b4-e426-48832e5df0b4"
      },
      "outputs": [
        {
          "output_type": "execute_result",
          "data": {
            "text/plain": [
              "'stock option trading beginners'"
            ],
            "application/vnd.google.colaboratory.intrinsic+json": {
              "type": "string"
            }
          },
          "metadata": {},
          "execution_count": 17
        }
      ],
      "source": [
        "data.iloc[12345].Summary"
      ]
    },
    {
      "cell_type": "markdown",
      "metadata": {
        "id": "6FVkuqCK-Bl6"
      },
      "source": [
        "# Conteo de palabras"
      ]
    },
    {
      "cell_type": "markdown",
      "metadata": {
        "id": "x1JDPUThf0CX"
      },
      "source": [
        "### Palabras en el summary"
      ]
    },
    {
      "cell_type": "code",
      "execution_count": null,
      "metadata": {
        "id": "VZgKKVWk-A3P"
      },
      "outputs": [],
      "source": [
        "data['palabras_summary'] = data['Summary'].apply(lambda x: len( x.split() ))"
      ]
    },
    {
      "cell_type": "code",
      "execution_count": null,
      "metadata": {
        "colab": {
          "base_uri": "https://localhost:8080/",
          "height": 206
        },
        "id": "IWZ9Sg-Iex3H",
        "outputId": "d9c0b6ad-92ed-4a2c-be64-429fa0c61d27"
      },
      "outputs": [
        {
          "output_type": "execute_result",
          "data": {
            "text/plain": [
              "   index                                              Title  \\\n",
              "0      1  tableau a z hands on tableau training for data...   \n",
              "1      2                 pmp exam prep seminar pmbok guide    \n",
              "2      3             the complete financial analyst course    \n",
              "3      4  an entire mba in course award winning business...   \n",
              "4      5  microsoft power bi a complete introduction edi...   \n",
              "\n",
              "                                             Summary  Enrollment  Stars  \\\n",
              "0  tableau data science real life data analytics ...      211674    4.6   \n",
              "1  pmp exam prep seminar earn pdus completing ent...      157957    4.6   \n",
              "2  excel accounting financial statement analysis ...      249097    4.5   \n",
              "3           selling business everything business ipo      376913    4.5   \n",
              "4  microsoft power bi tools including power bi de...      126880    4.6   \n",
              "\n",
              "   Rating                                               Link  Category  \\\n",
              "0   55582            https://www.udemy.com/course/tableau10/  Business   \n",
              "1   53858   https://www.udemy.com/course/pmp-pmbok6-35-pdus/  Business   \n",
              "2   47415  https://www.udemy.com/course/the-complete-fina...  Business   \n",
              "3   42101  https://www.udemy.com/course/an-entire-mba-in-...  Business   \n",
              "4   38771  https://www.udemy.com/course/powerbi-complete-...  Business   \n",
              "\n",
              "  languages  palabras_summary  \n",
              "0        en                10  \n",
              "1        en                 9  \n",
              "2        en                12  \n",
              "3        en                 5  \n",
              "4        en                14  "
            ],
            "text/html": [
              "\n",
              "  <div id=\"df-1a47ce80-f447-455a-9e08-4c81ebb1cadc\">\n",
              "    <div class=\"colab-df-container\">\n",
              "      <div>\n",
              "<style scoped>\n",
              "    .dataframe tbody tr th:only-of-type {\n",
              "        vertical-align: middle;\n",
              "    }\n",
              "\n",
              "    .dataframe tbody tr th {\n",
              "        vertical-align: top;\n",
              "    }\n",
              "\n",
              "    .dataframe thead th {\n",
              "        text-align: right;\n",
              "    }\n",
              "</style>\n",
              "<table border=\"1\" class=\"dataframe\">\n",
              "  <thead>\n",
              "    <tr style=\"text-align: right;\">\n",
              "      <th></th>\n",
              "      <th>index</th>\n",
              "      <th>Title</th>\n",
              "      <th>Summary</th>\n",
              "      <th>Enrollment</th>\n",
              "      <th>Stars</th>\n",
              "      <th>Rating</th>\n",
              "      <th>Link</th>\n",
              "      <th>Category</th>\n",
              "      <th>languages</th>\n",
              "      <th>palabras_summary</th>\n",
              "    </tr>\n",
              "  </thead>\n",
              "  <tbody>\n",
              "    <tr>\n",
              "      <th>0</th>\n",
              "      <td>1</td>\n",
              "      <td>tableau a z hands on tableau training for data...</td>\n",
              "      <td>tableau data science real life data analytics ...</td>\n",
              "      <td>211674</td>\n",
              "      <td>4.6</td>\n",
              "      <td>55582</td>\n",
              "      <td>https://www.udemy.com/course/tableau10/</td>\n",
              "      <td>Business</td>\n",
              "      <td>en</td>\n",
              "      <td>10</td>\n",
              "    </tr>\n",
              "    <tr>\n",
              "      <th>1</th>\n",
              "      <td>2</td>\n",
              "      <td>pmp exam prep seminar pmbok guide</td>\n",
              "      <td>pmp exam prep seminar earn pdus completing ent...</td>\n",
              "      <td>157957</td>\n",
              "      <td>4.6</td>\n",
              "      <td>53858</td>\n",
              "      <td>https://www.udemy.com/course/pmp-pmbok6-35-pdus/</td>\n",
              "      <td>Business</td>\n",
              "      <td>en</td>\n",
              "      <td>9</td>\n",
              "    </tr>\n",
              "    <tr>\n",
              "      <th>2</th>\n",
              "      <td>3</td>\n",
              "      <td>the complete financial analyst course</td>\n",
              "      <td>excel accounting financial statement analysis ...</td>\n",
              "      <td>249097</td>\n",
              "      <td>4.5</td>\n",
              "      <td>47415</td>\n",
              "      <td>https://www.udemy.com/course/the-complete-fina...</td>\n",
              "      <td>Business</td>\n",
              "      <td>en</td>\n",
              "      <td>12</td>\n",
              "    </tr>\n",
              "    <tr>\n",
              "      <th>3</th>\n",
              "      <td>4</td>\n",
              "      <td>an entire mba in course award winning business...</td>\n",
              "      <td>selling business everything business ipo</td>\n",
              "      <td>376913</td>\n",
              "      <td>4.5</td>\n",
              "      <td>42101</td>\n",
              "      <td>https://www.udemy.com/course/an-entire-mba-in-...</td>\n",
              "      <td>Business</td>\n",
              "      <td>en</td>\n",
              "      <td>5</td>\n",
              "    </tr>\n",
              "    <tr>\n",
              "      <th>4</th>\n",
              "      <td>5</td>\n",
              "      <td>microsoft power bi a complete introduction edi...</td>\n",
              "      <td>microsoft power bi tools including power bi de...</td>\n",
              "      <td>126880</td>\n",
              "      <td>4.6</td>\n",
              "      <td>38771</td>\n",
              "      <td>https://www.udemy.com/course/powerbi-complete-...</td>\n",
              "      <td>Business</td>\n",
              "      <td>en</td>\n",
              "      <td>14</td>\n",
              "    </tr>\n",
              "  </tbody>\n",
              "</table>\n",
              "</div>\n",
              "      <button class=\"colab-df-convert\" onclick=\"convertToInteractive('df-1a47ce80-f447-455a-9e08-4c81ebb1cadc')\"\n",
              "              title=\"Convert this dataframe to an interactive table.\"\n",
              "              style=\"display:none;\">\n",
              "        \n",
              "  <svg xmlns=\"http://www.w3.org/2000/svg\" height=\"24px\"viewBox=\"0 0 24 24\"\n",
              "       width=\"24px\">\n",
              "    <path d=\"M0 0h24v24H0V0z\" fill=\"none\"/>\n",
              "    <path d=\"M18.56 5.44l.94 2.06.94-2.06 2.06-.94-2.06-.94-.94-2.06-.94 2.06-2.06.94zm-11 1L8.5 8.5l.94-2.06 2.06-.94-2.06-.94L8.5 2.5l-.94 2.06-2.06.94zm10 10l.94 2.06.94-2.06 2.06-.94-2.06-.94-.94-2.06-.94 2.06-2.06.94z\"/><path d=\"M17.41 7.96l-1.37-1.37c-.4-.4-.92-.59-1.43-.59-.52 0-1.04.2-1.43.59L10.3 9.45l-7.72 7.72c-.78.78-.78 2.05 0 2.83L4 21.41c.39.39.9.59 1.41.59.51 0 1.02-.2 1.41-.59l7.78-7.78 2.81-2.81c.8-.78.8-2.07 0-2.86zM5.41 20L4 18.59l7.72-7.72 1.47 1.35L5.41 20z\"/>\n",
              "  </svg>\n",
              "      </button>\n",
              "      \n",
              "  <style>\n",
              "    .colab-df-container {\n",
              "      display:flex;\n",
              "      flex-wrap:wrap;\n",
              "      gap: 12px;\n",
              "    }\n",
              "\n",
              "    .colab-df-convert {\n",
              "      background-color: #E8F0FE;\n",
              "      border: none;\n",
              "      border-radius: 50%;\n",
              "      cursor: pointer;\n",
              "      display: none;\n",
              "      fill: #1967D2;\n",
              "      height: 32px;\n",
              "      padding: 0 0 0 0;\n",
              "      width: 32px;\n",
              "    }\n",
              "\n",
              "    .colab-df-convert:hover {\n",
              "      background-color: #E2EBFA;\n",
              "      box-shadow: 0px 1px 2px rgba(60, 64, 67, 0.3), 0px 1px 3px 1px rgba(60, 64, 67, 0.15);\n",
              "      fill: #174EA6;\n",
              "    }\n",
              "\n",
              "    [theme=dark] .colab-df-convert {\n",
              "      background-color: #3B4455;\n",
              "      fill: #D2E3FC;\n",
              "    }\n",
              "\n",
              "    [theme=dark] .colab-df-convert:hover {\n",
              "      background-color: #434B5C;\n",
              "      box-shadow: 0px 1px 3px 1px rgba(0, 0, 0, 0.15);\n",
              "      filter: drop-shadow(0px 1px 2px rgba(0, 0, 0, 0.3));\n",
              "      fill: #FFFFFF;\n",
              "    }\n",
              "  </style>\n",
              "\n",
              "      <script>\n",
              "        const buttonEl =\n",
              "          document.querySelector('#df-1a47ce80-f447-455a-9e08-4c81ebb1cadc button.colab-df-convert');\n",
              "        buttonEl.style.display =\n",
              "          google.colab.kernel.accessAllowed ? 'block' : 'none';\n",
              "\n",
              "        async function convertToInteractive(key) {\n",
              "          const element = document.querySelector('#df-1a47ce80-f447-455a-9e08-4c81ebb1cadc');\n",
              "          const dataTable =\n",
              "            await google.colab.kernel.invokeFunction('convertToInteractive',\n",
              "                                                     [key], {});\n",
              "          if (!dataTable) return;\n",
              "\n",
              "          const docLinkHtml = 'Like what you see? Visit the ' +\n",
              "            '<a target=\"_blank\" href=https://colab.research.google.com/notebooks/data_table.ipynb>data table notebook</a>'\n",
              "            + ' to learn more about interactive tables.';\n",
              "          element.innerHTML = '';\n",
              "          dataTable['output_type'] = 'display_data';\n",
              "          await google.colab.output.renderOutput(dataTable, element);\n",
              "          const docLink = document.createElement('div');\n",
              "          docLink.innerHTML = docLinkHtml;\n",
              "          element.appendChild(docLink);\n",
              "        }\n",
              "      </script>\n",
              "    </div>\n",
              "  </div>\n",
              "  "
            ]
          },
          "metadata": {},
          "execution_count": 19
        }
      ],
      "source": [
        "data.head()"
      ]
    },
    {
      "cell_type": "code",
      "execution_count": null,
      "metadata": {
        "colab": {
          "base_uri": "https://localhost:8080/"
        },
        "id": "fllxT8dE-hek",
        "outputId": "dd961a45-c7f9-4c65-f5fe-eae4ea0f7be5"
      },
      "outputs": [
        {
          "output_type": "stream",
          "name": "stdout",
          "text": [
            "Total de palabras en el campo summary: 191268\n"
          ]
        }
      ],
      "source": [
        "# Total palabras en summary\n",
        "print('Total de palabras en el campo summary:', data.palabras_summary.sum())"
      ]
    },
    {
      "cell_type": "code",
      "execution_count": null,
      "metadata": {
        "id": "cGxR1tqxAc8O"
      },
      "outputs": [],
      "source": [
        "from itertools import chain\n",
        "# chain toma una lista de listas y las concatena\n",
        "# ej: chain(*[[1,1], [2], [3,3]])  -> [1, 1, 2, 3, 3]"
      ]
    },
    {
      "cell_type": "code",
      "execution_count": null,
      "metadata": {
        "colab": {
          "base_uri": "https://localhost:8080/"
        },
        "id": "lguOruZCAc8O",
        "outputId": "80f0f9ac-fe10-4251-aeea-d500c7629ada"
      },
      "outputs": [
        {
          "output_type": "stream",
          "name": "stdout",
          "text": [
            "Total de palabras unicas en el campo summary: 13456\n"
          ]
        }
      ],
      "source": [
        "# Total de palabras unicas en summary\n",
        "unique_words = set(chain(*data.Summary.str.split().values))  # set() crea un conjunto de elementos unicos\n",
        "print('Total de palabras unicas en el campo summary:', len(unique_words))"
      ]
    },
    {
      "cell_type": "code",
      "execution_count": null,
      "metadata": {
        "colab": {
          "base_uri": "https://localhost:8080/"
        },
        "id": "Vyhlxh07e3kV",
        "outputId": "2825521f-d97b-4fc4-80b6-78ed9bea741e"
      },
      "outputs": [
        {
          "output_type": "stream",
          "name": "stdout",
          "text": [
            "Mínimo de palabras en el summary de un curso: 0\n",
            "Máximo de palabras en el summary de un curso: 20\n",
            "Promedio de palabras en el summary de un curso: 8.047290474587681\n"
          ]
        }
      ],
      "source": [
        "print('Mínimo de palabras en el summary de un curso:',data.palabras_summary.min())\n",
        "print('Máximo de palabras en el summary de un curso:',data.palabras_summary.max())\n",
        "print('Promedio de palabras en el summary de un curso:',data.palabras_summary.mean())"
      ]
    },
    {
      "cell_type": "code",
      "execution_count": null,
      "metadata": {
        "colab": {
          "base_uri": "https://localhost:8080/",
          "height": 175
        },
        "id": "WSk39lxsAc8P",
        "outputId": "c5db9ab9-1817-48e7-89e6-30a447ff4fb5"
      },
      "outputs": [
        {
          "output_type": "execute_result",
          "data": {
            "text/plain": [
              "       index                                             Title Summary  \\\n",
              "4593    6202  how to conduct effective performance evaluations           \n",
              "5279    7317  behavioral finance why people are bad with money           \n",
              "12755   1942  behavioral finance why people are bad with money           \n",
              "20271   3854  build a social network using node js and mongodb           \n",
              "\n",
              "       Enrollment  Stars  Rating  \\\n",
              "4593           46    4.1      19   \n",
              "5279         1049    4.1      12   \n",
              "12755        1049    4.1      12   \n",
              "20271        3899    4.6     104   \n",
              "\n",
              "                                                    Link  Category languages  \\\n",
              "4593   https://www.udemy.com/course/how-to-conduct-ef...  Business        en   \n",
              "5279   https://www.udemy.com/course/behavioral-financ...  Business        en   \n",
              "12755  https://www.udemy.com/course/behavioral-financ...   Finance        en   \n",
              "20271  https://www.udemy.com/course/build-a-social-ne...      Tech        en   \n",
              "\n",
              "       palabras_summary  \n",
              "4593                  0  \n",
              "5279                  0  \n",
              "12755                 0  \n",
              "20271                 0  "
            ],
            "text/html": [
              "\n",
              "  <div id=\"df-b44e4c31-c5fc-455e-b275-d754bb1b8943\">\n",
              "    <div class=\"colab-df-container\">\n",
              "      <div>\n",
              "<style scoped>\n",
              "    .dataframe tbody tr th:only-of-type {\n",
              "        vertical-align: middle;\n",
              "    }\n",
              "\n",
              "    .dataframe tbody tr th {\n",
              "        vertical-align: top;\n",
              "    }\n",
              "\n",
              "    .dataframe thead th {\n",
              "        text-align: right;\n",
              "    }\n",
              "</style>\n",
              "<table border=\"1\" class=\"dataframe\">\n",
              "  <thead>\n",
              "    <tr style=\"text-align: right;\">\n",
              "      <th></th>\n",
              "      <th>index</th>\n",
              "      <th>Title</th>\n",
              "      <th>Summary</th>\n",
              "      <th>Enrollment</th>\n",
              "      <th>Stars</th>\n",
              "      <th>Rating</th>\n",
              "      <th>Link</th>\n",
              "      <th>Category</th>\n",
              "      <th>languages</th>\n",
              "      <th>palabras_summary</th>\n",
              "    </tr>\n",
              "  </thead>\n",
              "  <tbody>\n",
              "    <tr>\n",
              "      <th>4593</th>\n",
              "      <td>6202</td>\n",
              "      <td>how to conduct effective performance evaluations</td>\n",
              "      <td></td>\n",
              "      <td>46</td>\n",
              "      <td>4.1</td>\n",
              "      <td>19</td>\n",
              "      <td>https://www.udemy.com/course/how-to-conduct-ef...</td>\n",
              "      <td>Business</td>\n",
              "      <td>en</td>\n",
              "      <td>0</td>\n",
              "    </tr>\n",
              "    <tr>\n",
              "      <th>5279</th>\n",
              "      <td>7317</td>\n",
              "      <td>behavioral finance why people are bad with money</td>\n",
              "      <td></td>\n",
              "      <td>1049</td>\n",
              "      <td>4.1</td>\n",
              "      <td>12</td>\n",
              "      <td>https://www.udemy.com/course/behavioral-financ...</td>\n",
              "      <td>Business</td>\n",
              "      <td>en</td>\n",
              "      <td>0</td>\n",
              "    </tr>\n",
              "    <tr>\n",
              "      <th>12755</th>\n",
              "      <td>1942</td>\n",
              "      <td>behavioral finance why people are bad with money</td>\n",
              "      <td></td>\n",
              "      <td>1049</td>\n",
              "      <td>4.1</td>\n",
              "      <td>12</td>\n",
              "      <td>https://www.udemy.com/course/behavioral-financ...</td>\n",
              "      <td>Finance</td>\n",
              "      <td>en</td>\n",
              "      <td>0</td>\n",
              "    </tr>\n",
              "    <tr>\n",
              "      <th>20271</th>\n",
              "      <td>3854</td>\n",
              "      <td>build a social network using node js and mongodb</td>\n",
              "      <td></td>\n",
              "      <td>3899</td>\n",
              "      <td>4.6</td>\n",
              "      <td>104</td>\n",
              "      <td>https://www.udemy.com/course/build-a-social-ne...</td>\n",
              "      <td>Tech</td>\n",
              "      <td>en</td>\n",
              "      <td>0</td>\n",
              "    </tr>\n",
              "  </tbody>\n",
              "</table>\n",
              "</div>\n",
              "      <button class=\"colab-df-convert\" onclick=\"convertToInteractive('df-b44e4c31-c5fc-455e-b275-d754bb1b8943')\"\n",
              "              title=\"Convert this dataframe to an interactive table.\"\n",
              "              style=\"display:none;\">\n",
              "        \n",
              "  <svg xmlns=\"http://www.w3.org/2000/svg\" height=\"24px\"viewBox=\"0 0 24 24\"\n",
              "       width=\"24px\">\n",
              "    <path d=\"M0 0h24v24H0V0z\" fill=\"none\"/>\n",
              "    <path d=\"M18.56 5.44l.94 2.06.94-2.06 2.06-.94-2.06-.94-.94-2.06-.94 2.06-2.06.94zm-11 1L8.5 8.5l.94-2.06 2.06-.94-2.06-.94L8.5 2.5l-.94 2.06-2.06.94zm10 10l.94 2.06.94-2.06 2.06-.94-2.06-.94-.94-2.06-.94 2.06-2.06.94z\"/><path d=\"M17.41 7.96l-1.37-1.37c-.4-.4-.92-.59-1.43-.59-.52 0-1.04.2-1.43.59L10.3 9.45l-7.72 7.72c-.78.78-.78 2.05 0 2.83L4 21.41c.39.39.9.59 1.41.59.51 0 1.02-.2 1.41-.59l7.78-7.78 2.81-2.81c.8-.78.8-2.07 0-2.86zM5.41 20L4 18.59l7.72-7.72 1.47 1.35L5.41 20z\"/>\n",
              "  </svg>\n",
              "      </button>\n",
              "      \n",
              "  <style>\n",
              "    .colab-df-container {\n",
              "      display:flex;\n",
              "      flex-wrap:wrap;\n",
              "      gap: 12px;\n",
              "    }\n",
              "\n",
              "    .colab-df-convert {\n",
              "      background-color: #E8F0FE;\n",
              "      border: none;\n",
              "      border-radius: 50%;\n",
              "      cursor: pointer;\n",
              "      display: none;\n",
              "      fill: #1967D2;\n",
              "      height: 32px;\n",
              "      padding: 0 0 0 0;\n",
              "      width: 32px;\n",
              "    }\n",
              "\n",
              "    .colab-df-convert:hover {\n",
              "      background-color: #E2EBFA;\n",
              "      box-shadow: 0px 1px 2px rgba(60, 64, 67, 0.3), 0px 1px 3px 1px rgba(60, 64, 67, 0.15);\n",
              "      fill: #174EA6;\n",
              "    }\n",
              "\n",
              "    [theme=dark] .colab-df-convert {\n",
              "      background-color: #3B4455;\n",
              "      fill: #D2E3FC;\n",
              "    }\n",
              "\n",
              "    [theme=dark] .colab-df-convert:hover {\n",
              "      background-color: #434B5C;\n",
              "      box-shadow: 0px 1px 3px 1px rgba(0, 0, 0, 0.15);\n",
              "      filter: drop-shadow(0px 1px 2px rgba(0, 0, 0, 0.3));\n",
              "      fill: #FFFFFF;\n",
              "    }\n",
              "  </style>\n",
              "\n",
              "      <script>\n",
              "        const buttonEl =\n",
              "          document.querySelector('#df-b44e4c31-c5fc-455e-b275-d754bb1b8943 button.colab-df-convert');\n",
              "        buttonEl.style.display =\n",
              "          google.colab.kernel.accessAllowed ? 'block' : 'none';\n",
              "\n",
              "        async function convertToInteractive(key) {\n",
              "          const element = document.querySelector('#df-b44e4c31-c5fc-455e-b275-d754bb1b8943');\n",
              "          const dataTable =\n",
              "            await google.colab.kernel.invokeFunction('convertToInteractive',\n",
              "                                                     [key], {});\n",
              "          if (!dataTable) return;\n",
              "\n",
              "          const docLinkHtml = 'Like what you see? Visit the ' +\n",
              "            '<a target=\"_blank\" href=https://colab.research.google.com/notebooks/data_table.ipynb>data table notebook</a>'\n",
              "            + ' to learn more about interactive tables.';\n",
              "          element.innerHTML = '';\n",
              "          dataTable['output_type'] = 'display_data';\n",
              "          await google.colab.output.renderOutput(dataTable, element);\n",
              "          const docLink = document.createElement('div');\n",
              "          docLink.innerHTML = docLinkHtml;\n",
              "          element.appendChild(docLink);\n",
              "        }\n",
              "      </script>\n",
              "    </div>\n",
              "  </div>\n",
              "  "
            ]
          },
          "metadata": {},
          "execution_count": 24
        }
      ],
      "source": [
        "data[data.palabras_summary == 0]"
      ]
    },
    {
      "cell_type": "code",
      "execution_count": null,
      "metadata": {
        "id": "ufhoy5oSAc8Q"
      },
      "outputs": [],
      "source": [
        "# Vamos a tomar solo los registros con campo summary\n",
        "data = data[data.palabras_summary > 0]"
      ]
    },
    {
      "cell_type": "code",
      "execution_count": null,
      "metadata": {
        "colab": {
          "base_uri": "https://localhost:8080/",
          "height": 305
        },
        "id": "7CaOo1XghsdV",
        "outputId": "9acbb0a2-8edb-4e39-ed6a-ab96c7073e6b"
      },
      "outputs": [
        {
          "output_type": "execute_result",
          "data": {
            "text/plain": [
              "<AxesSubplot:xlabel='palabras_summary', ylabel='Count'>"
            ]
          },
          "metadata": {},
          "execution_count": 26
        },
        {
          "output_type": "display_data",
          "data": {
            "text/plain": [
              "<Figure size 432x288 with 1 Axes>"
            ],
            "image/png": "[encoded data removed]"
          },
          "metadata": {}
        }
      ],
      "source": [
        "sns.histplot(data= data, x ='palabras_summary', color= 'tomato', bins = 20, kde=False)"
      ]
    },
    {
      "cell_type": "code",
      "execution_count": null,
      "metadata": {
        "colab": {
          "base_uri": "https://localhost:8080/",
          "height": 206
        },
        "id": "Mp_ea5GZjqlP",
        "outputId": "b03d1ecc-8cdc-42fd-e679-56dad743ba30"
      },
      "outputs": [
        {
          "output_type": "execute_result",
          "data": {
            "text/plain": [
              "      index                                              Title    Summary  \\\n",
              "901     919     deliver your project master project management     budget   \n",
              "1409   1507                     photoshop basics for beginners      icons   \n",
              "1770   1976                     learn hubspot crm from scratch  beginners   \n",
              "1817   2035                               how to find shippers   shippers   \n",
              "2307   2694  online course essentials online course as fast...     online   \n",
              "\n",
              "      Enrollment  Stars  Rating  \\\n",
              "901         2061    4.6     481   \n",
              "1409       28653    4.3     230   \n",
              "1770        1972    4.1     153   \n",
              "1817         732    4.7     146   \n",
              "2307       22791    4.3      90   \n",
              "\n",
              "                                                   Link  Category languages  \\\n",
              "901   https://www.udemy.com/course/deliver-your-proj...  Business        en   \n",
              "1409   https://www.udemy.com/course/-mobile-app-design/  Business        en   \n",
              "1770  https://www.udemy.com/course/learn-hubspot-crm...  Business        en   \n",
              "1817             https://www.udemy.com/course/shippers/  Business        en   \n",
              "2307  https://www.udemy.com/course/online-course-ess...  Business        en   \n",
              "\n",
              "      palabras_summary  \n",
              "901                  1  \n",
              "1409                 1  \n",
              "1770                 1  \n",
              "1817                 1  \n",
              "2307                 1  "
            ],
            "text/html": [
              "\n",
              "  <div id=\"df-38236af6-6985-448a-995a-4e2ba5873c00\">\n",
              "    <div class=\"colab-df-container\">\n",
              "      <div>\n",
              "<style scoped>\n",
              "    .dataframe tbody tr th:only-of-type {\n",
              "        vertical-align: middle;\n",
              "    }\n",
              "\n",
              "    .dataframe tbody tr th {\n",
              "        vertical-align: top;\n",
              "    }\n",
              "\n",
              "    .dataframe thead th {\n",
              "        text-align: right;\n",
              "    }\n",
              "</style>\n",
              "<table border=\"1\" class=\"dataframe\">\n",
              "  <thead>\n",
              "    <tr style=\"text-align: right;\">\n",
              "      <th></th>\n",
              "      <th>index</th>\n",
              "      <th>Title</th>\n",
              "      <th>Summary</th>\n",
              "      <th>Enrollment</th>\n",
              "      <th>Stars</th>\n",
              "      <th>Rating</th>\n",
              "      <th>Link</th>\n",
              "      <th>Category</th>\n",
              "      <th>languages</th>\n",
              "      <th>palabras_summary</th>\n",
              "    </tr>\n",
              "  </thead>\n",
              "  <tbody>\n",
              "    <tr>\n",
              "      <th>901</th>\n",
              "      <td>919</td>\n",
              "      <td>deliver your project master project management</td>\n",
              "      <td>budget</td>\n",
              "      <td>2061</td>\n",
              "      <td>4.6</td>\n",
              "      <td>481</td>\n",
              "      <td>https://www.udemy.com/course/deliver-your-proj...</td>\n",
              "      <td>Business</td>\n",
              "      <td>en</td>\n",
              "      <td>1</td>\n",
              "    </tr>\n",
              "    <tr>\n",
              "      <th>1409</th>\n",
              "      <td>1507</td>\n",
              "      <td>photoshop basics for beginners</td>\n",
              "      <td>icons</td>\n",
              "      <td>28653</td>\n",
              "      <td>4.3</td>\n",
              "      <td>230</td>\n",
              "      <td>https://www.udemy.com/course/-mobile-app-design/</td>\n",
              "      <td>Business</td>\n",
              "      <td>en</td>\n",
              "      <td>1</td>\n",
              "    </tr>\n",
              "    <tr>\n",
              "      <th>1770</th>\n",
              "      <td>1976</td>\n",
              "      <td>learn hubspot crm from scratch</td>\n",
              "      <td>beginners</td>\n",
              "      <td>1972</td>\n",
              "      <td>4.1</td>\n",
              "      <td>153</td>\n",
              "      <td>https://www.udemy.com/course/learn-hubspot-crm...</td>\n",
              "      <td>Business</td>\n",
              "      <td>en</td>\n",
              "      <td>1</td>\n",
              "    </tr>\n",
              "    <tr>\n",
              "      <th>1817</th>\n",
              "      <td>2035</td>\n",
              "      <td>how to find shippers</td>\n",
              "      <td>shippers</td>\n",
              "      <td>732</td>\n",
              "      <td>4.7</td>\n",
              "      <td>146</td>\n",
              "      <td>https://www.udemy.com/course/shippers/</td>\n",
              "      <td>Business</td>\n",
              "      <td>en</td>\n",
              "      <td>1</td>\n",
              "    </tr>\n",
              "    <tr>\n",
              "      <th>2307</th>\n",
              "      <td>2694</td>\n",
              "      <td>online course essentials online course as fast...</td>\n",
              "      <td>online</td>\n",
              "      <td>22791</td>\n",
              "      <td>4.3</td>\n",
              "      <td>90</td>\n",
              "      <td>https://www.udemy.com/course/online-course-ess...</td>\n",
              "      <td>Business</td>\n",
              "      <td>en</td>\n",
              "      <td>1</td>\n",
              "    </tr>\n",
              "  </tbody>\n",
              "</table>\n",
              "</div>\n",
              "      <button class=\"colab-df-convert\" onclick=\"convertToInteractive('df-38236af6-6985-448a-995a-4e2ba5873c00')\"\n",
              "              title=\"Convert this dataframe to an interactive table.\"\n",
              "              style=\"display:none;\">\n",
              "        \n",
              "  <svg xmlns=\"http://www.w3.org/2000/svg\" height=\"24px\"viewBox=\"0 0 24 24\"\n",
              "       width=\"24px\">\n",
              "    <path d=\"M0 0h24v24H0V0z\" fill=\"none\"/>\n",
              "    <path d=\"M18.56 5.44l.94 2.06.94-2.06 2.06-.94-2.06-.94-.94-2.06-.94 2.06-2.06.94zm-11 1L8.5 8.5l.94-2.06 2.06-.94-2.06-.94L8.5 2.5l-.94 2.06-2.06.94zm10 10l.94 2.06.94-2.06 2.06-.94-2.06-.94-.94-2.06-.94 2.06-2.06.94z\"/><path d=\"M17.41 7.96l-1.37-1.37c-.4-.4-.92-.59-1.43-.59-.52 0-1.04.2-1.43.59L10.3 9.45l-7.72 7.72c-.78.78-.78 2.05 0 2.83L4 21.41c.39.39.9.59 1.41.59.51 0 1.02-.2 1.41-.59l7.78-7.78 2.81-2.81c.8-.78.8-2.07 0-2.86zM5.41 20L4 18.59l7.72-7.72 1.47 1.35L5.41 20z\"/>\n",
              "  </svg>\n",
              "      </button>\n",
              "      \n",
              "  <style>\n",
              "    .colab-df-container {\n",
              "      display:flex;\n",
              "      flex-wrap:wrap;\n",
              "      gap: 12px;\n",
              "    }\n",
              "\n",
              "    .colab-df-convert {\n",
              "      background-color: #E8F0FE;\n",
              "      border: none;\n",
              "      border-radius: 50%;\n",
              "      cursor: pointer;\n",
              "      display: none;\n",
              "      fill: #1967D2;\n",
              "      height: 32px;\n",
              "      padding: 0 0 0 0;\n",
              "      width: 32px;\n",
              "    }\n",
              "\n",
              "    .colab-df-convert:hover {\n",
              "      background-color: #E2EBFA;\n",
              "      box-shadow: 0px 1px 2px rgba(60, 64, 67, 0.3), 0px 1px 3px 1px rgba(60, 64, 67, 0.15);\n",
              "      fill: #174EA6;\n",
              "    }\n",
              "\n",
              "    [theme=dark] .colab-df-convert {\n",
              "      background-color: #3B4455;\n",
              "      fill: #D2E3FC;\n",
              "    }\n",
              "\n",
              "    [theme=dark] .colab-df-convert:hover {\n",
              "      background-color: #434B5C;\n",
              "      box-shadow: 0px 1px 3px 1px rgba(0, 0, 0, 0.15);\n",
              "      filter: drop-shadow(0px 1px 2px rgba(0, 0, 0, 0.3));\n",
              "      fill: #FFFFFF;\n",
              "    }\n",
              "  </style>\n",
              "\n",
              "      <script>\n",
              "        const buttonEl =\n",
              "          document.querySelector('#df-38236af6-6985-448a-995a-4e2ba5873c00 button.colab-df-convert');\n",
              "        buttonEl.style.display =\n",
              "          google.colab.kernel.accessAllowed ? 'block' : 'none';\n",
              "\n",
              "        async function convertToInteractive(key) {\n",
              "          const element = document.querySelector('#df-38236af6-6985-448a-995a-4e2ba5873c00');\n",
              "          const dataTable =\n",
              "            await google.colab.kernel.invokeFunction('convertToInteractive',\n",
              "                                                     [key], {});\n",
              "          if (!dataTable) return;\n",
              "\n",
              "          const docLinkHtml = 'Like what you see? Visit the ' +\n",
              "            '<a target=\"_blank\" href=https://colab.research.google.com/notebooks/data_table.ipynb>data table notebook</a>'\n",
              "            + ' to learn more about interactive tables.';\n",
              "          element.innerHTML = '';\n",
              "          dataTable['output_type'] = 'display_data';\n",
              "          await google.colab.output.renderOutput(dataTable, element);\n",
              "          const docLink = document.createElement('div');\n",
              "          docLink.innerHTML = docLinkHtml;\n",
              "          element.appendChild(docLink);\n",
              "        }\n",
              "      </script>\n",
              "    </div>\n",
              "  </div>\n",
              "  "
            ]
          },
          "metadata": {},
          "execution_count": 27
        }
      ],
      "source": [
        "una = data[data.palabras_summary == 1]\n",
        "una.head()"
      ]
    },
    {
      "cell_type": "code",
      "execution_count": null,
      "metadata": {
        "colab": {
          "base_uri": "https://localhost:8080/"
        },
        "id": "M-xRJA97fou9",
        "outputId": "b3662670-e902-4b8c-e725-c74bb1af93bf"
      },
      "outputs": [
        {
          "output_type": "execute_result",
          "data": {
            "text/plain": [
              "(103, 10)"
            ]
          },
          "metadata": {},
          "execution_count": 28
        }
      ],
      "source": [
        "una.shape"
      ]
    },
    {
      "cell_type": "markdown",
      "metadata": {
        "id": "a2kal1dZf5ik"
      },
      "source": [
        "### Palabras en el título"
      ]
    },
    {
      "cell_type": "code",
      "execution_count": null,
      "metadata": {
        "id": "zRF_Mndd-pa5"
      },
      "outputs": [],
      "source": [
        "data['palabras_title'] = data['Title'].apply(lambda x: len(str(x).split()))"
      ]
    },
    {
      "cell_type": "code",
      "execution_count": null,
      "metadata": {
        "colab": {
          "base_uri": "https://localhost:8080/",
          "height": 250
        },
        "id": "aDI9g-JEf-k2",
        "outputId": "93a10430-6bb2-4c22-d0a5-07862183f90f"
      },
      "outputs": [
        {
          "output_type": "execute_result",
          "data": {
            "text/plain": [
              "   index                                              Title  \\\n",
              "0      1  tableau a z hands on tableau training for data...   \n",
              "1      2                 pmp exam prep seminar pmbok guide    \n",
              "2      3             the complete financial analyst course    \n",
              "3      4  an entire mba in course award winning business...   \n",
              "4      5  microsoft power bi a complete introduction edi...   \n",
              "\n",
              "                                             Summary  Enrollment  Stars  \\\n",
              "0  tableau data science real life data analytics ...      211674    4.6   \n",
              "1  pmp exam prep seminar earn pdus completing ent...      157957    4.6   \n",
              "2  excel accounting financial statement analysis ...      249097    4.5   \n",
              "3           selling business everything business ipo      376913    4.5   \n",
              "4  microsoft power bi tools including power bi de...      126880    4.6   \n",
              "\n",
              "   Rating                                               Link  Category  \\\n",
              "0   55582            https://www.udemy.com/course/tableau10/  Business   \n",
              "1   53858   https://www.udemy.com/course/pmp-pmbok6-35-pdus/  Business   \n",
              "2   47415  https://www.udemy.com/course/the-complete-fina...  Business   \n",
              "3   42101  https://www.udemy.com/course/an-entire-mba-in-...  Business   \n",
              "4   38771  https://www.udemy.com/course/powerbi-complete-...  Business   \n",
              "\n",
              "  languages  palabras_summary  palabras_title  \n",
              "0        en                10              10  \n",
              "1        en                 9               6  \n",
              "2        en                12               5  \n",
              "3        en                 5              10  \n",
              "4        en                14               7  "
            ],
            "text/html": [
              "\n",
              "  <div id=\"df-127506cf-f1f2-4a59-a115-34beff1a2181\">\n",
              "    <div class=\"colab-df-container\">\n",
              "      <div>\n",
              "<style scoped>\n",
              "    .dataframe tbody tr th:only-of-type {\n",
              "        vertical-align: middle;\n",
              "    }\n",
              "\n",
              "    .dataframe tbody tr th {\n",
              "        vertical-align: top;\n",
              "    }\n",
              "\n",
              "    .dataframe thead th {\n",
              "        text-align: right;\n",
              "    }\n",
              "</style>\n",
              "<table border=\"1\" class=\"dataframe\">\n",
              "  <thead>\n",
              "    <tr style=\"text-align: right;\">\n",
              "      <th></th>\n",
              "      <th>index</th>\n",
              "      <th>Title</th>\n",
              "      <th>Summary</th>\n",
              "      <th>Enrollment</th>\n",
              "      <th>Stars</th>\n",
              "      <th>Rating</th>\n",
              "      <th>Link</th>\n",
              "      <th>Category</th>\n",
              "      <th>languages</th>\n",
              "      <th>palabras_summary</th>\n",
              "      <th>palabras_title</th>\n",
              "    </tr>\n",
              "  </thead>\n",
              "  <tbody>\n",
              "    <tr>\n",
              "      <th>0</th>\n",
              "      <td>1</td>\n",
              "      <td>tableau a z hands on tableau training for data...</td>\n",
              "      <td>tableau data science real life data analytics ...</td>\n",
              "      <td>211674</td>\n",
              "      <td>4.6</td>\n",
              "      <td>55582</td>\n",
              "      <td>https://www.udemy.com/course/tableau10/</td>\n",
              "      <td>Business</td>\n",
              "      <td>en</td>\n",
              "      <td>10</td>\n",
              "      <td>10</td>\n",
              "    </tr>\n",
              "    <tr>\n",
              "      <th>1</th>\n",
              "      <td>2</td>\n",
              "      <td>pmp exam prep seminar pmbok guide</td>\n",
              "      <td>pmp exam prep seminar earn pdus completing ent...</td>\n",
              "      <td>157957</td>\n",
              "      <td>4.6</td>\n",
              "      <td>53858</td>\n",
              "      <td>https://www.udemy.com/course/pmp-pmbok6-35-pdus/</td>\n",
              "      <td>Business</td>\n",
              "      <td>en</td>\n",
              "      <td>9</td>\n",
              "      <td>6</td>\n",
              "    </tr>\n",
              "    <tr>\n",
              "      <th>2</th>\n",
              "      <td>3</td>\n",
              "      <td>the complete financial analyst course</td>\n",
              "      <td>excel accounting financial statement analysis ...</td>\n",
              "      <td>249097</td>\n",
              "      <td>4.5</td>\n",
              "      <td>47415</td>\n",
              "      <td>https://www.udemy.com/course/the-complete-fina...</td>\n",
              "      <td>Business</td>\n",
              "      <td>en</td>\n",
              "      <td>12</td>\n",
              "      <td>5</td>\n",
              "    </tr>\n",
              "    <tr>\n",
              "      <th>3</th>\n",
              "      <td>4</td>\n",
              "      <td>an entire mba in course award winning business...</td>\n",
              "      <td>selling business everything business ipo</td>\n",
              "      <td>376913</td>\n",
              "      <td>4.5</td>\n",
              "      <td>42101</td>\n",
              "      <td>https://www.udemy.com/course/an-entire-mba-in-...</td>\n",
              "      <td>Business</td>\n",
              "      <td>en</td>\n",
              "      <td>5</td>\n",
              "      <td>10</td>\n",
              "    </tr>\n",
              "    <tr>\n",
              "      <th>4</th>\n",
              "      <td>5</td>\n",
              "      <td>microsoft power bi a complete introduction edi...</td>\n",
              "      <td>microsoft power bi tools including power bi de...</td>\n",
              "      <td>126880</td>\n",
              "      <td>4.6</td>\n",
              "      <td>38771</td>\n",
              "      <td>https://www.udemy.com/course/powerbi-complete-...</td>\n",
              "      <td>Business</td>\n",
              "      <td>en</td>\n",
              "      <td>14</td>\n",
              "      <td>7</td>\n",
              "    </tr>\n",
              "  </tbody>\n",
              "</table>\n",
              "</div>\n",
              "      <button class=\"colab-df-convert\" onclick=\"convertToInteractive('df-127506cf-f1f2-4a59-a115-34beff1a2181')\"\n",
              "              title=\"Convert this dataframe to an interactive table.\"\n",
              "              style=\"display:none;\">\n",
              "        \n",
              "  <svg xmlns=\"http://www.w3.org/2000/svg\" height=\"24px\"viewBox=\"0 0 24 24\"\n",
              "       width=\"24px\">\n",
              "    <path d=\"M0 0h24v24H0V0z\" fill=\"none\"/>\n",
              "    <path d=\"M18.56 5.44l.94 2.06.94-2.06 2.06-.94-2.06-.94-.94-2.06-.94 2.06-2.06.94zm-11 1L8.5 8.5l.94-2.06 2.06-.94-2.06-.94L8.5 2.5l-.94 2.06-2.06.94zm10 10l.94 2.06.94-2.06 2.06-.94-2.06-.94-.94-2.06-.94 2.06-2.06.94z\"/><path d=\"M17.41 7.96l-1.37-1.37c-.4-.4-.92-.59-1.43-.59-.52 0-1.04.2-1.43.59L10.3 9.45l-7.72 7.72c-.78.78-.78 2.05 0 2.83L4 21.41c.39.39.9.59 1.41.59.51 0 1.02-.2 1.41-.59l7.78-7.78 2.81-2.81c.8-.78.8-2.07 0-2.86zM5.41 20L4 18.59l7.72-7.72 1.47 1.35L5.41 20z\"/>\n",
              "  </svg>\n",
              "      </button>\n",
              "      \n",
              "  <style>\n",
              "    .colab-df-container {\n",
              "      display:flex;\n",
              "      flex-wrap:wrap;\n",
              "      gap: 12px;\n",
              "    }\n",
              "\n",
              "    .colab-df-convert {\n",
              "      background-color: #E8F0FE;\n",
              "      border: none;\n",
              "      border-radius: 50%;\n",
              "      cursor: pointer;\n",
              "      display: none;\n",
              "      fill: #1967D2;\n",
              "      height: 32px;\n",
              "      padding: 0 0 0 0;\n",
              "      width: 32px;\n",
              "    }\n",
              "\n",
              "    .colab-df-convert:hover {\n",
              "      background-color: #E2EBFA;\n",
              "      box-shadow: 0px 1px 2px rgba(60, 64, 67, 0.3), 0px 1px 3px 1px rgba(60, 64, 67, 0.15);\n",
              "      fill: #174EA6;\n",
              "    }\n",
              "\n",
              "    [theme=dark] .colab-df-convert {\n",
              "      background-color: #3B4455;\n",
              "      fill: #D2E3FC;\n",
              "    }\n",
              "\n",
              "    [theme=dark] .colab-df-convert:hover {\n",
              "      background-color: #434B5C;\n",
              "      box-shadow: 0px 1px 3px 1px rgba(0, 0, 0, 0.15);\n",
              "      filter: drop-shadow(0px 1px 2px rgba(0, 0, 0, 0.3));\n",
              "      fill: #FFFFFF;\n",
              "    }\n",
              "  </style>\n",
              "\n",
              "      <script>\n",
              "        const buttonEl =\n",
              "          document.querySelector('#df-127506cf-f1f2-4a59-a115-34beff1a2181 button.colab-df-convert');\n",
              "        buttonEl.style.display =\n",
              "          google.colab.kernel.accessAllowed ? 'block' : 'none';\n",
              "\n",
              "        async function convertToInteractive(key) {\n",
              "          const element = document.querySelector('#df-127506cf-f1f2-4a59-a115-34beff1a2181');\n",
              "          const dataTable =\n",
              "            await google.colab.kernel.invokeFunction('convertToInteractive',\n",
              "                                                     [key], {});\n",
              "          if (!dataTable) return;\n",
              "\n",
              "          const docLinkHtml = 'Like what you see? Visit the ' +\n",
              "            '<a target=\"_blank\" href=https://colab.research.google.com/notebooks/data_table.ipynb>data table notebook</a>'\n",
              "            + ' to learn more about interactive tables.';\n",
              "          element.innerHTML = '';\n",
              "          dataTable['output_type'] = 'display_data';\n",
              "          await google.colab.output.renderOutput(dataTable, element);\n",
              "          const docLink = document.createElement('div');\n",
              "          docLink.innerHTML = docLinkHtml;\n",
              "          element.appendChild(docLink);\n",
              "        }\n",
              "      </script>\n",
              "    </div>\n",
              "  </div>\n",
              "  "
            ]
          },
          "metadata": {},
          "execution_count": 30
        }
      ],
      "source": [
        "data.head()"
      ]
    },
    {
      "cell_type": "code",
      "execution_count": null,
      "metadata": {
        "colab": {
          "base_uri": "https://localhost:8080/"
        },
        "id": "uPdyHv-Y-wKE",
        "outputId": "ec0fb1b7-0a1d-43ed-9d32-c0b78078a66a"
      },
      "outputs": [
        {
          "output_type": "stream",
          "name": "stdout",
          "text": [
            "Total de palabras en el campo title: 160972\n"
          ]
        }
      ],
      "source": [
        "# Total palabras en title\n",
        "print('Total de palabras en el campo title:', data.palabras_title.sum())"
      ]
    },
    {
      "cell_type": "code",
      "execution_count": null,
      "metadata": {
        "colab": {
          "base_uri": "https://localhost:8080/"
        },
        "id": "ohx3kRBogEw9",
        "outputId": "68b44b44-3db1-4680-abce-308830b3f411"
      },
      "outputs": [
        {
          "output_type": "stream",
          "name": "stdout",
          "text": [
            "Mínimo de palabras en el título de un curso: 0\n",
            "Máximo de palabras en el título de un curso: 15\n",
            "Promedio de palabras en el título de un curso: 6.77377545867699\n"
          ]
        }
      ],
      "source": [
        "print('Mínimo de palabras en el título de un curso:', data.palabras_title.min())\n",
        "print('Máximo de palabras en el título de un curso:', data.palabras_title.max())\n",
        "print('Promedio de palabras en el título de un curso:', data.palabras_title.mean())"
      ]
    },
    {
      "cell_type": "code",
      "execution_count": null,
      "metadata": {
        "colab": {
          "base_uri": "https://localhost:8080/",
          "height": 302
        },
        "id": "KwDSexPci6P4",
        "outputId": "85aef15e-8caa-4570-96f4-a54ead4beaf2"
      },
      "outputs": [
        {
          "output_type": "execute_result",
          "data": {
            "text/plain": [
              "<AxesSubplot:xlabel='palabras_title', ylabel='Count'>"
            ]
          },
          "metadata": {},
          "execution_count": 33
        },
        {
          "output_type": "display_data",
          "data": {
            "text/plain": [
              "<Figure size 432x288 with 1 Axes>"
            ],
            "image/png": "[encoded data removed]"
          },
          "metadata": {}
        }
      ],
      "source": [
        "sns.histplot(data= data, x ='palabras_title', color= 'green', bins = 10, kde=False)"
      ]
    },
    {
      "cell_type": "code",
      "execution_count": null,
      "metadata": {
        "id": "M18TNNW9lIzJ"
      },
      "outputs": [],
      "source": [
        "# data[data.palabras_title == 1]"
      ]
    },
    {
      "cell_type": "markdown",
      "metadata": {
        "id": "CakziXRVA5qJ"
      },
      "source": [
        "### Se eliminan todas las descripciones que tienen 1 palabra en el campo Summary"
      ]
    },
    {
      "cell_type": "code",
      "execution_count": null,
      "metadata": {
        "id": "3cjw_EOmv9lk"
      },
      "outputs": [],
      "source": [
        "data = data[(data.palabras_summary > 1)]"
      ]
    },
    {
      "cell_type": "code",
      "execution_count": null,
      "metadata": {
        "colab": {
          "base_uri": "https://localhost:8080/",
          "height": 305
        },
        "id": "5dTF_enQBFgc",
        "outputId": "ec0fe657-ae19-4de5-df27-3e833f3c91e1"
      },
      "outputs": [
        {
          "output_type": "execute_result",
          "data": {
            "text/plain": [
              "<AxesSubplot:xlabel='palabras_summary', ylabel='Count'>"
            ]
          },
          "metadata": {},
          "execution_count": 36
        },
        {
          "output_type": "display_data",
          "data": {
            "text/plain": [
              "<Figure size 432x288 with 1 Axes>"
            ],
            "image/png": "[encoded data removed]"
          },
          "metadata": {}
        }
      ],
      "source": [
        "sns.histplot(data= data, x ='palabras_summary', color= 'tomato', bins = 20, kde=False)"
      ]
    },
    {
      "cell_type": "code",
      "execution_count": null,
      "metadata": {
        "colab": {
          "base_uri": "https://localhost:8080/"
        },
        "id": "rNWvL1sYhVBr",
        "outputId": "c84940dd-1931-449c-92e3-368f7f404381"
      },
      "outputs": [
        {
          "output_type": "execute_result",
          "data": {
            "text/plain": [
              "(23661, 11)"
            ]
          },
          "metadata": {},
          "execution_count": 37
        }
      ],
      "source": [
        "data.shape"
      ]
    },
    {
      "cell_type": "markdown",
      "source": [
        "### Eliminamos los cursos duplicados"
      ],
      "metadata": {
        "id": "HbKhH-cXAjQc"
      }
    },
    {
      "cell_type": "code",
      "source": [
        "data = data.drop_duplicates(subset=['Title'], keep=\"last\")"
      ],
      "metadata": {
        "id": "vvn1ZZl-_Ebo"
      },
      "execution_count": null,
      "outputs": []
    },
    {
      "cell_type": "code",
      "source": [
        "data.shape"
      ],
      "metadata": {
        "colab": {
          "base_uri": "https://localhost:8080/"
        },
        "id": "m6wma2ny_RAi",
        "outputId": "b2c9b031-36f3-4d0c-e787-5fb083d4232c"
      },
      "execution_count": null,
      "outputs": [
        {
          "output_type": "execute_result",
          "data": {
            "text/plain": [
              "(21635, 11)"
            ]
          },
          "metadata": {},
          "execution_count": 39
        }
      ]
    },
    {
      "cell_type": "markdown",
      "metadata": {
        "id": "rHWF4jKULEMB"
      },
      "source": [
        "# Las palabras más frecuentes"
      ]
    },
    {
      "cell_type": "code",
      "execution_count": null,
      "metadata": {
        "id": "P1biqONQGlmV"
      },
      "outputs": [],
      "source": [
        "#!pip install contexto"
      ]
    },
    {
      "cell_type": "code",
      "execution_count": null,
      "metadata": {
        "id": "xZyXAKWfHWWo"
      },
      "outputs": [],
      "source": [
        "# Se crea una variable 'texto' que nos permite juntar el texto de todos los summary en uno solo\n",
        "texto = ' '.join(data['Summary'])\n",
        "#texto"
      ]
    },
    {
      "cell_type": "code",
      "execution_count": null,
      "metadata": {
        "colab": {
          "base_uri": "https://localhost:8080/",
          "height": 1000
        },
        "id": "WCOVouNlGaVq",
        "outputId": "95e5fa3d-5bcd-41eb-c70d-73b28eb27e9e"
      },
      "outputs": [
        {
          "output_type": "display_data",
          "data": {
            "text/plain": [
              "<Figure size 1000x1000 with 1 Axes>"
            ],
            "image/png": "[encoded data removed]"
          },
          "metadata": {}
        }
      ],
      "source": [
        "from contexto.exploracion import grafica_barchart_frecuencias\n",
        "\n",
        "grafica_barchart_frecuencias(texto, titulo='Las 50 palabras más frecuentes', dim_figura=(10,10), n_terminos=50, ubicacion_archivo='barras_palabras.jpg')"
      ]
    },
    {
      "cell_type": "code",
      "execution_count": null,
      "metadata": {
        "colab": {
          "base_uri": "https://localhost:8080/",
          "height": 1000
        },
        "id": "nkfaPyjfGwyV",
        "outputId": "be29a30b-6c9e-48bd-9076-5ea7bceeada6"
      },
      "outputs": [
        {
          "output_type": "display_data",
          "data": {
            "text/plain": [
              "<Figure size 1000x1000 with 1 Axes>"
            ],
            "image/png": "[encoded data removed]"
          },
          "metadata": {}
        }
      ],
      "source": [
        "grafica_barchart_frecuencias(texto,  n_grama=2, titulo='Los 30 bigramas más frecuentes', dim_figura=(10,10), n_terminos=30, ubicacion_archivo='bigramas_barras_palabras.jpg')"
      ]
    },
    {
      "cell_type": "markdown",
      "metadata": {
        "id": "yQFSqdnY2H2W"
      },
      "source": [
        "# Se carga el modelo mediano de inglés de Spacy"
      ]
    },
    {
      "cell_type": "code",
      "execution_count": null,
      "metadata": {
        "id": "7GbIodn5z8Oa",
        "tags": []
      },
      "outputs": [],
      "source": [
        "#!python -m spacy download en_core_web_md"
      ]
    },
    {
      "cell_type": "markdown",
      "metadata": {
        "id": "rvQgVi5TRcko"
      },
      "source": [
        "# Lematización"
      ]
    },
    {
      "cell_type": "code",
      "execution_count": null,
      "metadata": {
        "id": "CXa2YVqEzyeJ"
      },
      "outputs": [],
      "source": [
        "import spacy \n",
        "import en_core_web_md\n",
        "\n",
        "# Se carga el modelo mediano de inglés\n",
        "nlp = en_core_web_md.load()"
      ]
    },
    {
      "cell_type": "code",
      "execution_count": null,
      "metadata": {
        "id": "E-fwgUPlRetC"
      },
      "outputs": [],
      "source": [
        "def lemmatization(texts, allowed=['NOUN', 'ADJ', 'ADV', 'VERB']): \n",
        "    texts_out = [token.text for token in nlp(texts) if token.pos_ in \n",
        "                 allowed and token.text and len(token.text)>2]\n",
        "    return texts_out"
      ]
    },
    {
      "cell_type": "code",
      "execution_count": null,
      "metadata": {
        "colab": {
          "base_uri": "https://localhost:8080/"
        },
        "id": "JVEWOdUARi_z",
        "outputId": "f5ba33ef-096c-4ce8-af28-c999fd6eca5b"
      },
      "outputs": [
        {
          "output_type": "stream",
          "name": "stdout",
          "text": [
            "CPU times: user 2min 36s, sys: 584 ms, total: 2min 36s\n",
            "Wall time: 2min 38s\n"
          ]
        }
      ],
      "source": [
        "%%time\n",
        "# Se aplica la función lemmatization sobre el campo summary\n",
        "data['Summary'] = data['Summary'].apply(lambda x: lemmatization(x))"
      ]
    },
    {
      "cell_type": "code",
      "execution_count": null,
      "metadata": {
        "id": "fdKI1sbXcpCw",
        "colab": {
          "base_uri": "https://localhost:8080/"
        },
        "outputId": "260a32ca-3a57-421c-9e95-608553bc4108"
      },
      "outputs": [
        {
          "output_type": "execute_result",
          "data": {
            "text/plain": [
              "(21635, 11)"
            ]
          },
          "metadata": {},
          "execution_count": 48
        }
      ],
      "source": [
        "data.shape"
      ]
    },
    {
      "cell_type": "code",
      "execution_count": null,
      "metadata": {
        "id": "0mDM0D1JtG1y",
        "colab": {
          "base_uri": "https://localhost:8080/",
          "height": 35
        },
        "outputId": "1879b8a7-d4c8-411a-86ac-0acdfa9c2cc8"
      },
      "outputs": [
        {
          "output_type": "execute_result",
          "data": {
            "text/plain": [
              "'six sigma yellow belt masterclass includes a yb project '"
            ],
            "application/vnd.google.colaboratory.intrinsic+json": {
              "type": "string"
            }
          },
          "metadata": {},
          "execution_count": 49
        }
      ],
      "source": [
        "data.iloc[250].Title"
      ]
    },
    {
      "cell_type": "code",
      "execution_count": null,
      "metadata": {
        "id": "xGQdPmqoeqdO",
        "colab": {
          "base_uri": "https://localhost:8080/"
        },
        "outputId": "822056da-9537-491c-a2ee-2419f333ff5e"
      },
      "outputs": [
        {
          "output_type": "execute_result",
          "data": {
            "text/plain": [
              "['get',\n",
              " 'sigma',\n",
              " 'certification',\n",
              " 'online',\n",
              " 'realistic',\n",
              " 'yellow',\n",
              " 'belt',\n",
              " 'project',\n",
              " 'tools']"
            ]
          },
          "metadata": {},
          "execution_count": 50
        }
      ],
      "source": [
        "data.iloc[250].Summary"
      ]
    },
    {
      "cell_type": "markdown",
      "metadata": {
        "id": "A9Ff-LBzY_Aa"
      },
      "source": [
        "# Bigramas \n",
        "\n",
        "Creo Bigramas para correr el modelo no solo con los unigramas más frecuentes sino también considerar pares de palabras más frecuentes. Ya que hace más sentido. "
      ]
    },
    {
      "cell_type": "code",
      "execution_count": null,
      "metadata": {
        "id": "fJzePodUWJOO"
      },
      "outputs": [],
      "source": [
        "import gensim\n",
        "\n",
        "bigram = gensim.models.Phrases(data['Summary'])"
      ]
    },
    {
      "cell_type": "markdown",
      "source": [
        "Creamos los bigramas, como el diccionario `bigram` devuelve las palabras unidas por un `_` lo cambiamos por un espacio en blanco, mantenemos las palabras también y usamos `set(...)` para eliminar duplicados"
      ],
      "metadata": {
        "id": "vnpewlxgh41I"
      }
    },
    {
      "cell_type": "code",
      "execution_count": null,
      "metadata": {
        "id": "rgEwYsUYWNuM",
        "colab": {
          "base_uri": "https://localhost:8080/"
        },
        "outputId": "5e9312e0-4e67-4ce7-ed54-09f8399c94ad"
      },
      "outputs": [
        {
          "output_type": "execute_result",
          "data": {
            "text/plain": [
              "['quizzes',\n",
              " 'data analytics',\n",
              " 'real life',\n",
              " 'exercises quizzes',\n",
              " 'life',\n",
              " 'science',\n",
              " 'analytics',\n",
              " 'included',\n",
              " 'real',\n",
              " 'exercises',\n",
              " 'data']"
            ]
          },
          "metadata": {},
          "execution_count": 52
        }
      ],
      "source": [
        "texts = [list(set([word.replace('_', ' ') for word in bigram[line]] + line)) for line in data['Summary']]\n",
        "texts[0]"
      ]
    },
    {
      "cell_type": "markdown",
      "metadata": {
        "id": "zzy7ZWg-VY5g"
      },
      "source": [
        "# Preparar el corpus"
      ]
    },
    {
      "cell_type": "code",
      "execution_count": null,
      "metadata": {
        "id": "NnqZHI2P7AsA"
      },
      "outputs": [],
      "source": [
        "#!pip install python-Levenshtein"
      ]
    },
    {
      "cell_type": "markdown",
      "metadata": {
        "id": "j3MLhuCXlSz2"
      },
      "source": [
        "# Diccionario\n",
        "\n",
        "Creo un diccionario de palabras"
      ]
    },
    {
      "cell_type": "code",
      "execution_count": null,
      "metadata": {
        "id": "z0VQcuw0VbMn"
      },
      "outputs": [],
      "source": [
        "from gensim.corpora import Dictionary\n",
        "\n",
        "# Se instancia y se define nuestro diccionario\n",
        "dictionary = Dictionary(texts)\n",
        "dictionary.compactify()\n",
        "\n",
        "# Gensim filter_extremes\n",
        "# Filtra los tokens que aparecen en menos de 50 documentos (número absoluto) o más del 0.97 documentos(fracción del tamaño total del corpus)\n",
        "# después de los dos pasos anteriores, conserva todos los tokens más frecuentes.\n",
        "dictionary.filter_extremes(no_below=50, no_above=0.97, keep_n=None)\n",
        "dictionary.compactify()\n",
        "\n",
        "# Para cada documento creamos un diccionario que informa cuántas palabras y cuántas veces aparecen esas palabras (doc2bow)\n",
        "# Hace un mapeo entre las palabras y su respectiva identificación con un vector de números\n",
        "bow_corpus = [dictionary.doc2bow(text) for text in texts]\n"
      ]
    },
    {
      "cell_type": "markdown",
      "metadata": {
        "id": "8vz5tn_qE9xd"
      },
      "source": [
        "como se ve la descripción del curso 250"
      ]
    },
    {
      "cell_type": "code",
      "execution_count": null,
      "metadata": {
        "id": "xXTZJm2DE6Fg",
        "colab": {
          "base_uri": "https://localhost:8080/"
        },
        "outputId": "0c5a0c8e-12a1-4368-d7b2-0d6400ac9324"
      },
      "outputs": [
        {
          "output_type": "stream",
          "name": "stdout",
          "text": [
            "['tools', 'online', 'project', 'belt', 'sigma', 'yellow belt', 'yellow', 'certification', 'get', 'realistic'] \n",
            " [(16, 1), (20, 1), (24, 1), (123, 1), (199, 1), (371, 1)]\n"
          ]
        }
      ],
      "source": [
        "print(texts[250], '\\n', bow_corpus[250])"
      ]
    },
    {
      "cell_type": "markdown",
      "metadata": {
        "id": "eVx49xCxWDe2"
      },
      "source": [
        "# Modelo TF-IDF\n",
        "\n",
        "### A continuación, se crea un modelo TF-IDF utilizando el módulo \"models\" de Gensim (TfidfModel) sobre \"bow_corpus\", luego se aplica la transformación a todo el corpus. Con TF-IDF estoy sacando las palabras más relevantes"
      ]
    },
    {
      "cell_type": "code",
      "execution_count": null,
      "metadata": {
        "id": "t_LAPXoCWEmm"
      },
      "outputs": [],
      "source": [
        "from gensim.models import TfidfModel\n",
        "\n",
        "tfidf = TfidfModel(bow_corpus)\n",
        "corpus_tfidf = tfidf[bow_corpus]"
      ]
    },
    {
      "cell_type": "markdown",
      "metadata": {
        "id": "nUxKIkyBljPo"
      },
      "source": [
        "como se ve la descripción del curso 250 después de aplicar TF-IDF"
      ]
    },
    {
      "cell_type": "code",
      "source": [
        "corpus_tfidf[250]"
      ],
      "metadata": {
        "colab": {
          "base_uri": "https://localhost:8080/"
        },
        "id": "8fwE22E2njNJ",
        "outputId": "e3cf82ae-d4ac-4bce-fc1b-bb6e8f4d6347"
      },
      "execution_count": null,
      "outputs": [
        {
          "output_type": "execute_result",
          "data": {
            "text/plain": [
              "[(16, 0.3779245941044253),\n",
              " (20, 0.32120066423723753),\n",
              " (24, 0.38646203265883644),\n",
              " (123, 0.34602729442017616),\n",
              " (199, 0.4571095616226105),\n",
              " (371, 0.525324844231834)]"
            ]
          },
          "metadata": {},
          "execution_count": 57
        }
      ]
    },
    {
      "cell_type": "markdown",
      "metadata": {
        "id": "WxFrFptkWJlP"
      },
      "source": [
        "# Modelo LDA\n",
        "\n",
        "### Aplico modelo LDA para sacar un listado de temas"
      ]
    },
    {
      "cell_type": "code",
      "execution_count": null,
      "metadata": {
        "id": "qv14Cs3hWL8B"
      },
      "outputs": [],
      "source": [
        "# Se importan los modelos\n",
        "from gensim.models import CoherenceModel, LdaModel"
      ]
    },
    {
      "cell_type": "markdown",
      "source": [
        "Los parámetros a utilizar en el modelo son: \n",
        "\n",
        "* num_topics es el número de temas latentes (ocultos) solicitados para ser extraídos del corpus de entrenamiento, es un parámetro que debe ser suministrado por el analista\n",
        "* minimum_probability es el umbral con el que se filtran los temas \n",
        "* update_every es el número de documentos que se van a iterar para cada actualización. Se establece en 1 para el aprendizaje iterativo en línea\n",
        "* passes es el número de pasadas por el corpus durante el entrenamiento\n",
        "* alfa es el parámentro de la distribución Dirichlet de los temas por documenento. Un alfa bajo significa que la distribución de los temas por cada documentos será uniforme (homogenea), y viceversa \n",
        "* eta es el parámetro de la distribución Dirichlet de las palabras por tema. Un eta bajo significa que cada tema está representado solo por una pequeña cantidad de palabras, y viceversa"
      ],
      "metadata": {
        "id": "R9qgU2OGW26v"
      }
    },
    {
      "cell_type": "code",
      "execution_count": null,
      "metadata": {
        "id": "dTXiR4ELWwL8",
        "colab": {
          "base_uri": "https://localhost:8080/"
        },
        "outputId": "b7506e55-db45-4323-80a9-0a2323e4be35"
      },
      "outputs": [
        {
          "output_type": "stream",
          "name": "stdout",
          "text": [
            "CPU times: user 8.98 s, sys: 70 ms, total: 9.05 s\n",
            "Wall time: 9.09 s\n"
          ]
        }
      ],
      "source": [
        "%%time\n",
        "\n",
        "ldamodel = LdaModel(corpus_tfidf, num_topics=25, id2word=dictionary, minimum_probability=0.01, random_state=123, update_every=1, passes=2, alpha=.1, eta=.01)"
      ]
    },
    {
      "cell_type": "code",
      "execution_count": null,
      "metadata": {
        "id": "hyE3wJydW0_j",
        "colab": {
          "base_uri": "https://localhost:8080/"
        },
        "outputId": "57112b26-b0f0-44ac-9f86-86442c2b3ff7"
      },
      "outputs": [
        {
          "output_type": "stream",
          "name": "stdout",
          "text": [
            "(15, '0.169*\"language\" + 0.078*\"latest\" + 0.074*\"power\" + 0.059*\"understanding\" + 0.059*\"accounting\" + 0.057*\"better\" + 0.044*\"version\" + 0.044*\"processing\" + 0.040*\"service\" + 0.038*\"job\"')\n",
            "(7, '0.132*\"web\" + 0.113*\"scratch\" + 0.098*\"coding\" + 0.063*\"websites\" + 0.045*\"responsive\" + 0.036*\"web applications\" + 0.034*\"development\" + 0.033*\"applications\" + 0.032*\"blog\" + 0.031*\"store\"')\n",
            "(16, '0.189*\"developer\" + 0.114*\"testing\" + 0.072*\"dynamic\" + 0.056*\"financial\" + 0.053*\"income\" + 0.051*\"dive\" + 0.038*\"personal\" + 0.034*\"never\" + 0.030*\"setting\" + 0.027*\"stocks\"')\n",
            "(5, '0.181*\"application\" + 0.147*\"website\" + 0.111*\"wordpress\" + 0.054*\"computer\" + 0.050*\"set\" + 0.049*\"professional\" + 0.044*\"methods\" + 0.038*\"less\" + 0.038*\"students\" + 0.034*\"wordpress website\"')\n",
            "(6, '0.107*\"system\" + 0.101*\"understand\" + 0.095*\"examples\" + 0.082*\"powerful\" + 0.078*\"basic\" + 0.058*\"advance\" + 0.042*\"practical\" + 0.039*\"complex\" + 0.032*\"show\" + 0.031*\"essentials\"')\n",
            "(8, '0.147*\"applications\" + 0.078*\"features\" + 0.072*\"test\" + 0.051*\"includes\" + 0.043*\"questions\" + 0.041*\"developing\" + 0.035*\"many\" + 0.033*\"industry\" + 0.032*\"exam\" + 0.029*\"environment\"')\n",
            "(14, '0.125*\"hands\" + 0.090*\"introduction\" + 0.088*\"mysql\" + 0.056*\"functional\" + 0.051*\"user\" + 0.049*\"driven\" + 0.039*\"exercises\" + 0.033*\"fun\" + 0.033*\"solutions\" + 0.031*\"life\"')\n",
            "(19, '0.116*\"expert\" + 0.060*\"market\" + 0.059*\"trading\" + 0.058*\"services\" + 0.052*\"comprehensive\" + 0.048*\"sell\" + 0.047*\"strategies\" + 0.040*\"products\" + 0.039*\"gain\" + 0.034*\"profitable\"')\n",
            "(17, '0.087*\"skills\" + 0.077*\"improve\" + 0.071*\"implement\" + 0.062*\"much\" + 0.059*\"performance\" + 0.051*\"high\" + 0.044*\"earn\" + 0.042*\"running\" + 0.038*\"portfolio\" + 0.037*\"needed\"')\n",
            "(9, '0.155*\"code\" + 0.102*\"core\" + 0.075*\"concepts\" + 0.060*\"algorithms\" + 0.054*\"design\" + 0.042*\"made\" + 0.039*\"multiple\" + 0.038*\"sql server\" + 0.037*\"teaches\" + 0.036*\"certified\"')\n"
          ]
        }
      ],
      "source": [
        "topics_lda = ldamodel.show_topics()\n",
        "for topic in topics_lda:\n",
        "    print(topic)"
      ]
    },
    {
      "cell_type": "code",
      "execution_count": null,
      "metadata": {
        "id": "bNYADCcFW5PG",
        "colab": {
          "base_uri": "https://localhost:8080/",
          "height": 932
        },
        "outputId": "e0103099-1a23-4925-dd9c-7945571563bb"
      },
      "outputs": [
        {
          "output_type": "execute_result",
          "data": {
            "text/plain": [
              "      Topic# 01     Topic# 02          Topic# 03      Topic# 04  \\\n",
              "0         world          game               apps           work   \n",
              "1          real       develop              games        program   \n",
              "2    real world     bootstrap                api       designed   \n",
              "3        modern           pro             deploy        working   \n",
              "4        studio   interactive             visual       leverage   \n",
              "5      tutorial     databases           approach  professionals   \n",
              "6     knowledge   development               used        digital   \n",
              "7           ads          live          photoshop          files   \n",
              "8      ultimate     important                web         launch   \n",
              "9         quick       systems              skill       standard   \n",
              "10     required  intermediate           included        promote   \n",
              "11        forms  intelligence            digital  certification   \n",
              "12     facebook    characters  digital marketing     publishing   \n",
              "13      virtual         users            control     management   \n",
              "14  advertising         excel         successful    engineering   \n",
              "15  programming       analyze             assets        prepare   \n",
              "16       unique        design            solving         action   \n",
              "17   experience      generate             change          agile   \n",
              "18        prior       graphic            problem     investment   \n",
              "19      editing      insights          marketing        succeed   \n",
              "\n",
              "        Topic# 05          Topic# 06   Topic# 07         Topic# 08  \\\n",
              "0     development        application      system               web   \n",
              "1           write            website  understand           scratch   \n",
              "2            deep          wordpress    examples            coding   \n",
              "3            help           computer    powerful          websites   \n",
              "4   deep learning                set       basic        responsive   \n",
              "5       effective       professional     advance  web applications   \n",
              "6        learning            methods   practical       development   \n",
              "7        networks               less     complex      applications   \n",
              "8          topics           students        show              blog   \n",
              "9          neural  wordpress website  essentials             store   \n",
              "10          class            minutes        cost           website   \n",
              "11            run               line      google            making   \n",
              "12     artificial           creation    research         interview   \n",
              "13           plan             useful         see         practices   \n",
              "14       strategy            designs     getting         essential   \n",
              "15         faster            product    creative         ecommerce   \n",
              "16         growth            account   transform         wordpress   \n",
              "17        machine               copy        days      professional   \n",
              "18       business             impact        good           success   \n",
              "19          small             amazon      secret            design   \n",
              "\n",
              "        Topic# 09      Topic# 10      Topic# 11    Topic# 12        Topic# 13  \\\n",
              "0    applications           code    programming     platform        marketing   \n",
              "1        features           core         python   automation              seo   \n",
              "2            test       concepts           data        video           social   \n",
              "3        includes     algorithms       database        depth            media   \n",
              "4       questions         design            sql    efficient            email   \n",
              "5      developing           made         server     analysis           videos   \n",
              "6            many       multiple        science          big     social media   \n",
              "7        industry     sql server            net        teach          youtube   \n",
              "8            exam        teaches   data science       covers            stack   \n",
              "9     environment      certified      analytics      options          traffic   \n",
              "10          forex           grow       oriented   production            sales   \n",
              "11  project based        perfect   applications  fundamental          library   \n",
              "12        project   optimization         single       highly             tips   \n",
              "13          based          ideas            art         also             list   \n",
              "14     confidence  grow business          tools       future            leads   \n",
              "15         series          crash      mastering         stop              add   \n",
              "16       covering        company  visualization   statements        instagram   \n",
              "17           well          smart         master         risk  email marketing   \n",
              "18      designing    preparation        network     planning         business   \n",
              "19       designer       business          local    financial         optimize   \n",
              "\n",
              "     Topic# 14     Topic# 15      Topic# 16       Topic# 17    Topic# 18  \\\n",
              "0       basics         hands       language       developer       skills   \n",
              "1    beginners  introduction         latest         testing      improve   \n",
              "2    framework         mysql          power         dynamic    implement   \n",
              "3         fast    functional  understanding       financial         much   \n",
              "4      started          user     accounting          income  performance   \n",
              "5      content        driven         better            dive         high   \n",
              "6   developers     exercises        version        personal         earn   \n",
              "7         page           fun     processing           never      running   \n",
              "8    including     solutions        service         setting    portfolio   \n",
              "9        model          life            job          stocks       needed   \n",
              "10   functions     different            get          credit     internet   \n",
              "11     publish     practical          tasks           avoid        boost   \n",
              "12    advanced    experience        enhance         passive       demand   \n",
              "13      common      stunning       practice            deep        money   \n",
              "14   real life    foundation       customer       resources    campaigns   \n",
              "15        real       various    information         achieve         give   \n",
              "16        life    enterprise        winning          public      growing   \n",
              "17         low      engaging            tax         startup      reports   \n",
              "18    examples          real  communication         deliver    necessary   \n",
              "19       bring         value   productivity  passive income        study   \n",
              "\n",
              "       Topic# 19       Topic# 20   Topic# 21     Topic# 22  \\\n",
              "0     javascript          expert      mobile  fundamentals   \n",
              "1       learning          market        next         first   \n",
              "2       projects         trading     explore        secure   \n",
              "3          based        services    training      patterns   \n",
              "4         easily   comprehensive     writing        custom   \n",
              "5         manage            sell       pages         setup   \n",
              "6            web      strategies      source           let   \n",
              "7        desktop        products     clients      problems   \n",
              "8       modeling            gain     secrets      programs   \n",
              "9        scratch      profitable       style        people   \n",
              "10          open         manager     journey         solve   \n",
              "11          save       technical        part        master   \n",
              "12         exams          profit     results     potential   \n",
              "13     thousands           trade  operations      managing   \n",
              "14         price           works    template           buy   \n",
              "15  successfully       explained     looking        invest   \n",
              "16     practical         attract    audience      identify   \n",
              "17      practice  cryptocurrency     landing          rank   \n",
              "18        master         bitcoin        turn           get   \n",
              "19  entrepreneur         profits  generation         world   \n",
              "\n",
              "              Topic# 23         Topic# 24     Topic# 25  \n",
              "0              beginner               app        object  \n",
              "1              software           machine     animation  \n",
              "2              advanced  machine learning       project  \n",
              "3             beautiful               new         right  \n",
              "4                models           quickly    animations  \n",
              "5                  site          learning       effects  \n",
              "6                online           process         ready  \n",
              "7                master           popular         apply  \n",
              "8                 front              tool         image  \n",
              "9     beginner advanced          increase       quality  \n",
              "10            affiliate          automate    principles  \n",
              "11             absolute              free         stock  \n",
              "12            tutorials          discover      graphics  \n",
              "13              selling            simple          text  \n",
              "14              updated             brand       courses  \n",
              "15            beginners      architecture   masterclass  \n",
              "16                 even           connect          book  \n",
              "17              shopify       effectively        theory  \n",
              "18            templates        technology          ease  \n",
              "19  affiliate marketing         customers  high quality  "
            ],
            "text/html": [
              "\n",
              "  <div id=\"df-7ccf5144-2965-44ce-9199-9dd0e1de5c3a\">\n",
              "    <div class=\"colab-df-container\">\n",
              "      <div>\n",
              "<style scoped>\n",
              "    .dataframe tbody tr th:only-of-type {\n",
              "        vertical-align: middle;\n",
              "    }\n",
              "\n",
              "    .dataframe tbody tr th {\n",
              "        vertical-align: top;\n",
              "    }\n",
              "\n",
              "    .dataframe thead th {\n",
              "        text-align: right;\n",
              "    }\n",
              "</style>\n",
              "<table border=\"1\" class=\"dataframe\">\n",
              "  <thead>\n",
              "    <tr style=\"text-align: right;\">\n",
              "      <th></th>\n",
              "      <th>Topic# 01</th>\n",
              "      <th>Topic# 02</th>\n",
              "      <th>Topic# 03</th>\n",
              "      <th>Topic# 04</th>\n",
              "      <th>Topic# 05</th>\n",
              "      <th>Topic# 06</th>\n",
              "      <th>Topic# 07</th>\n",
              "      <th>Topic# 08</th>\n",
              "      <th>Topic# 09</th>\n",
              "      <th>Topic# 10</th>\n",
              "      <th>Topic# 11</th>\n",
              "      <th>Topic# 12</th>\n",
              "      <th>Topic# 13</th>\n",
              "      <th>Topic# 14</th>\n",
              "      <th>Topic# 15</th>\n",
              "      <th>Topic# 16</th>\n",
              "      <th>Topic# 17</th>\n",
              "      <th>Topic# 18</th>\n",
              "      <th>Topic# 19</th>\n",
              "      <th>Topic# 20</th>\n",
              "      <th>Topic# 21</th>\n",
              "      <th>Topic# 22</th>\n",
              "      <th>Topic# 23</th>\n",
              "      <th>Topic# 24</th>\n",
              "      <th>Topic# 25</th>\n",
              "    </tr>\n",
              "  </thead>\n",
              "  <tbody>\n",
              "    <tr>\n",
              "      <th>0</th>\n",
              "      <td>world</td>\n",
              "      <td>game</td>\n",
              "      <td>apps</td>\n",
              "      <td>work</td>\n",
              "      <td>development</td>\n",
              "      <td>application</td>\n",
              "      <td>system</td>\n",
              "      <td>web</td>\n",
              "      <td>applications</td>\n",
              "      <td>code</td>\n",
              "      <td>programming</td>\n",
              "      <td>platform</td>\n",
              "      <td>marketing</td>\n",
              "      <td>basics</td>\n",
              "      <td>hands</td>\n",
              "      <td>language</td>\n",
              "      <td>developer</td>\n",
              "      <td>skills</td>\n",
              "      <td>javascript</td>\n",
              "      <td>expert</td>\n",
              "      <td>mobile</td>\n",
              "      <td>fundamentals</td>\n",
              "      <td>beginner</td>\n",
              "      <td>app</td>\n",
              "      <td>object</td>\n",
              "    </tr>\n",
              "    <tr>\n",
              "      <th>1</th>\n",
              "      <td>real</td>\n",
              "      <td>develop</td>\n",
              "      <td>games</td>\n",
              "      <td>program</td>\n",
              "      <td>write</td>\n",
              "      <td>website</td>\n",
              "      <td>understand</td>\n",
              "      <td>scratch</td>\n",
              "      <td>features</td>\n",
              "      <td>core</td>\n",
              "      <td>python</td>\n",
              "      <td>automation</td>\n",
              "      <td>seo</td>\n",
              "      <td>beginners</td>\n",
              "      <td>introduction</td>\n",
              "      <td>latest</td>\n",
              "      <td>testing</td>\n",
              "      <td>improve</td>\n",
              "      <td>learning</td>\n",
              "      <td>market</td>\n",
              "      <td>next</td>\n",
              "      <td>first</td>\n",
              "      <td>software</td>\n",
              "      <td>machine</td>\n",
              "      <td>animation</td>\n",
              "    </tr>\n",
              "    <tr>\n",
              "      <th>2</th>\n",
              "      <td>real world</td>\n",
              "      <td>bootstrap</td>\n",
              "      <td>api</td>\n",
              "      <td>designed</td>\n",
              "      <td>deep</td>\n",
              "      <td>wordpress</td>\n",
              "      <td>examples</td>\n",
              "      <td>coding</td>\n",
              "      <td>test</td>\n",
              "      <td>concepts</td>\n",
              "      <td>data</td>\n",
              "      <td>video</td>\n",
              "      <td>social</td>\n",
              "      <td>framework</td>\n",
              "      <td>mysql</td>\n",
              "      <td>power</td>\n",
              "      <td>dynamic</td>\n",
              "      <td>implement</td>\n",
              "      <td>projects</td>\n",
              "      <td>trading</td>\n",
              "      <td>explore</td>\n",
              "      <td>secure</td>\n",
              "      <td>advanced</td>\n",
              "      <td>machine learning</td>\n",
              "      <td>project</td>\n",
              "    </tr>\n",
              "    <tr>\n",
              "      <th>3</th>\n",
              "      <td>modern</td>\n",
              "      <td>pro</td>\n",
              "      <td>deploy</td>\n",
              "      <td>working</td>\n",
              "      <td>help</td>\n",
              "      <td>computer</td>\n",
              "      <td>powerful</td>\n",
              "      <td>websites</td>\n",
              "      <td>includes</td>\n",
              "      <td>algorithms</td>\n",
              "      <td>database</td>\n",
              "      <td>depth</td>\n",
              "      <td>media</td>\n",
              "      <td>fast</td>\n",
              "      <td>functional</td>\n",
              "      <td>understanding</td>\n",
              "      <td>financial</td>\n",
              "      <td>much</td>\n",
              "      <td>based</td>\n",
              "      <td>services</td>\n",
              "      <td>training</td>\n",
              "      <td>patterns</td>\n",
              "      <td>beautiful</td>\n",
              "      <td>new</td>\n",
              "      <td>right</td>\n",
              "    </tr>\n",
              "    <tr>\n",
              "      <th>4</th>\n",
              "      <td>studio</td>\n",
              "      <td>interactive</td>\n",
              "      <td>visual</td>\n",
              "      <td>leverage</td>\n",
              "      <td>deep learning</td>\n",
              "      <td>set</td>\n",
              "      <td>basic</td>\n",
              "      <td>responsive</td>\n",
              "      <td>questions</td>\n",
              "      <td>design</td>\n",
              "      <td>sql</td>\n",
              "      <td>efficient</td>\n",
              "      <td>email</td>\n",
              "      <td>started</td>\n",
              "      <td>user</td>\n",
              "      <td>accounting</td>\n",
              "      <td>income</td>\n",
              "      <td>performance</td>\n",
              "      <td>easily</td>\n",
              "      <td>comprehensive</td>\n",
              "      <td>writing</td>\n",
              "      <td>custom</td>\n",
              "      <td>models</td>\n",
              "      <td>quickly</td>\n",
              "      <td>animations</td>\n",
              "    </tr>\n",
              "    <tr>\n",
              "      <th>5</th>\n",
              "      <td>tutorial</td>\n",
              "      <td>databases</td>\n",
              "      <td>approach</td>\n",
              "      <td>professionals</td>\n",
              "      <td>effective</td>\n",
              "      <td>professional</td>\n",
              "      <td>advance</td>\n",
              "      <td>web applications</td>\n",
              "      <td>developing</td>\n",
              "      <td>made</td>\n",
              "      <td>server</td>\n",
              "      <td>analysis</td>\n",
              "      <td>videos</td>\n",
              "      <td>content</td>\n",
              "      <td>driven</td>\n",
              "      <td>better</td>\n",
              "      <td>dive</td>\n",
              "      <td>high</td>\n",
              "      <td>manage</td>\n",
              "      <td>sell</td>\n",
              "      <td>pages</td>\n",
              "      <td>setup</td>\n",
              "      <td>site</td>\n",
              "      <td>learning</td>\n",
              "      <td>effects</td>\n",
              "    </tr>\n",
              "    <tr>\n",
              "      <th>6</th>\n",
              "      <td>knowledge</td>\n",
              "      <td>development</td>\n",
              "      <td>used</td>\n",
              "      <td>digital</td>\n",
              "      <td>learning</td>\n",
              "      <td>methods</td>\n",
              "      <td>practical</td>\n",
              "      <td>development</td>\n",
              "      <td>many</td>\n",
              "      <td>multiple</td>\n",
              "      <td>science</td>\n",
              "      <td>big</td>\n",
              "      <td>social media</td>\n",
              "      <td>developers</td>\n",
              "      <td>exercises</td>\n",
              "      <td>version</td>\n",
              "      <td>personal</td>\n",
              "      <td>earn</td>\n",
              "      <td>web</td>\n",
              "      <td>strategies</td>\n",
              "      <td>source</td>\n",
              "      <td>let</td>\n",
              "      <td>online</td>\n",
              "      <td>process</td>\n",
              "      <td>ready</td>\n",
              "    </tr>\n",
              "    <tr>\n",
              "      <th>7</th>\n",
              "      <td>ads</td>\n",
              "      <td>live</td>\n",
              "      <td>photoshop</td>\n",
              "      <td>files</td>\n",
              "      <td>networks</td>\n",
              "      <td>less</td>\n",
              "      <td>complex</td>\n",
              "      <td>applications</td>\n",
              "      <td>industry</td>\n",
              "      <td>sql server</td>\n",
              "      <td>net</td>\n",
              "      <td>teach</td>\n",
              "      <td>youtube</td>\n",
              "      <td>page</td>\n",
              "      <td>fun</td>\n",
              "      <td>processing</td>\n",
              "      <td>never</td>\n",
              "      <td>running</td>\n",
              "      <td>desktop</td>\n",
              "      <td>products</td>\n",
              "      <td>clients</td>\n",
              "      <td>problems</td>\n",
              "      <td>master</td>\n",
              "      <td>popular</td>\n",
              "      <td>apply</td>\n",
              "    </tr>\n",
              "    <tr>\n",
              "      <th>8</th>\n",
              "      <td>ultimate</td>\n",
              "      <td>important</td>\n",
              "      <td>web</td>\n",
              "      <td>launch</td>\n",
              "      <td>topics</td>\n",
              "      <td>students</td>\n",
              "      <td>show</td>\n",
              "      <td>blog</td>\n",
              "      <td>exam</td>\n",
              "      <td>teaches</td>\n",
              "      <td>data science</td>\n",
              "      <td>covers</td>\n",
              "      <td>stack</td>\n",
              "      <td>including</td>\n",
              "      <td>solutions</td>\n",
              "      <td>service</td>\n",
              "      <td>setting</td>\n",
              "      <td>portfolio</td>\n",
              "      <td>modeling</td>\n",
              "      <td>gain</td>\n",
              "      <td>secrets</td>\n",
              "      <td>programs</td>\n",
              "      <td>front</td>\n",
              "      <td>tool</td>\n",
              "      <td>image</td>\n",
              "    </tr>\n",
              "    <tr>\n",
              "      <th>9</th>\n",
              "      <td>quick</td>\n",
              "      <td>systems</td>\n",
              "      <td>skill</td>\n",
              "      <td>standard</td>\n",
              "      <td>neural</td>\n",
              "      <td>wordpress website</td>\n",
              "      <td>essentials</td>\n",
              "      <td>store</td>\n",
              "      <td>environment</td>\n",
              "      <td>certified</td>\n",
              "      <td>analytics</td>\n",
              "      <td>options</td>\n",
              "      <td>traffic</td>\n",
              "      <td>model</td>\n",
              "      <td>life</td>\n",
              "      <td>job</td>\n",
              "      <td>stocks</td>\n",
              "      <td>needed</td>\n",
              "      <td>scratch</td>\n",
              "      <td>profitable</td>\n",
              "      <td>style</td>\n",
              "      <td>people</td>\n",
              "      <td>beginner advanced</td>\n",
              "      <td>increase</td>\n",
              "      <td>quality</td>\n",
              "    </tr>\n",
              "    <tr>\n",
              "      <th>10</th>\n",
              "      <td>required</td>\n",
              "      <td>intermediate</td>\n",
              "      <td>included</td>\n",
              "      <td>promote</td>\n",
              "      <td>class</td>\n",
              "      <td>minutes</td>\n",
              "      <td>cost</td>\n",
              "      <td>website</td>\n",
              "      <td>forex</td>\n",
              "      <td>grow</td>\n",
              "      <td>oriented</td>\n",
              "      <td>production</td>\n",
              "      <td>sales</td>\n",
              "      <td>functions</td>\n",
              "      <td>different</td>\n",
              "      <td>get</td>\n",
              "      <td>credit</td>\n",
              "      <td>internet</td>\n",
              "      <td>open</td>\n",
              "      <td>manager</td>\n",
              "      <td>journey</td>\n",
              "      <td>solve</td>\n",
              "      <td>affiliate</td>\n",
              "      <td>automate</td>\n",
              "      <td>principles</td>\n",
              "    </tr>\n",
              "    <tr>\n",
              "      <th>11</th>\n",
              "      <td>forms</td>\n",
              "      <td>intelligence</td>\n",
              "      <td>digital</td>\n",
              "      <td>certification</td>\n",
              "      <td>run</td>\n",
              "      <td>line</td>\n",
              "      <td>google</td>\n",
              "      <td>making</td>\n",
              "      <td>project based</td>\n",
              "      <td>perfect</td>\n",
              "      <td>applications</td>\n",
              "      <td>fundamental</td>\n",
              "      <td>library</td>\n",
              "      <td>publish</td>\n",
              "      <td>practical</td>\n",
              "      <td>tasks</td>\n",
              "      <td>avoid</td>\n",
              "      <td>boost</td>\n",
              "      <td>save</td>\n",
              "      <td>technical</td>\n",
              "      <td>part</td>\n",
              "      <td>master</td>\n",
              "      <td>absolute</td>\n",
              "      <td>free</td>\n",
              "      <td>stock</td>\n",
              "    </tr>\n",
              "    <tr>\n",
              "      <th>12</th>\n",
              "      <td>facebook</td>\n",
              "      <td>characters</td>\n",
              "      <td>digital marketing</td>\n",
              "      <td>publishing</td>\n",
              "      <td>artificial</td>\n",
              "      <td>creation</td>\n",
              "      <td>research</td>\n",
              "      <td>interview</td>\n",
              "      <td>project</td>\n",
              "      <td>optimization</td>\n",
              "      <td>single</td>\n",
              "      <td>highly</td>\n",
              "      <td>tips</td>\n",
              "      <td>advanced</td>\n",
              "      <td>experience</td>\n",
              "      <td>enhance</td>\n",
              "      <td>passive</td>\n",
              "      <td>demand</td>\n",
              "      <td>exams</td>\n",
              "      <td>profit</td>\n",
              "      <td>results</td>\n",
              "      <td>potential</td>\n",
              "      <td>tutorials</td>\n",
              "      <td>discover</td>\n",
              "      <td>graphics</td>\n",
              "    </tr>\n",
              "    <tr>\n",
              "      <th>13</th>\n",
              "      <td>virtual</td>\n",
              "      <td>users</td>\n",
              "      <td>control</td>\n",
              "      <td>management</td>\n",
              "      <td>plan</td>\n",
              "      <td>useful</td>\n",
              "      <td>see</td>\n",
              "      <td>practices</td>\n",
              "      <td>based</td>\n",
              "      <td>ideas</td>\n",
              "      <td>art</td>\n",
              "      <td>also</td>\n",
              "      <td>list</td>\n",
              "      <td>common</td>\n",
              "      <td>stunning</td>\n",
              "      <td>practice</td>\n",
              "      <td>deep</td>\n",
              "      <td>money</td>\n",
              "      <td>thousands</td>\n",
              "      <td>trade</td>\n",
              "      <td>operations</td>\n",
              "      <td>managing</td>\n",
              "      <td>selling</td>\n",
              "      <td>simple</td>\n",
              "      <td>text</td>\n",
              "    </tr>\n",
              "    <tr>\n",
              "      <th>14</th>\n",
              "      <td>advertising</td>\n",
              "      <td>excel</td>\n",
              "      <td>successful</td>\n",
              "      <td>engineering</td>\n",
              "      <td>strategy</td>\n",
              "      <td>designs</td>\n",
              "      <td>getting</td>\n",
              "      <td>essential</td>\n",
              "      <td>confidence</td>\n",
              "      <td>grow business</td>\n",
              "      <td>tools</td>\n",
              "      <td>future</td>\n",
              "      <td>leads</td>\n",
              "      <td>real life</td>\n",
              "      <td>foundation</td>\n",
              "      <td>customer</td>\n",
              "      <td>resources</td>\n",
              "      <td>campaigns</td>\n",
              "      <td>price</td>\n",
              "      <td>works</td>\n",
              "      <td>template</td>\n",
              "      <td>buy</td>\n",
              "      <td>updated</td>\n",
              "      <td>brand</td>\n",
              "      <td>courses</td>\n",
              "    </tr>\n",
              "    <tr>\n",
              "      <th>15</th>\n",
              "      <td>programming</td>\n",
              "      <td>analyze</td>\n",
              "      <td>assets</td>\n",
              "      <td>prepare</td>\n",
              "      <td>faster</td>\n",
              "      <td>product</td>\n",
              "      <td>creative</td>\n",
              "      <td>ecommerce</td>\n",
              "      <td>series</td>\n",
              "      <td>crash</td>\n",
              "      <td>mastering</td>\n",
              "      <td>stop</td>\n",
              "      <td>add</td>\n",
              "      <td>real</td>\n",
              "      <td>various</td>\n",
              "      <td>information</td>\n",
              "      <td>achieve</td>\n",
              "      <td>give</td>\n",
              "      <td>successfully</td>\n",
              "      <td>explained</td>\n",
              "      <td>looking</td>\n",
              "      <td>invest</td>\n",
              "      <td>beginners</td>\n",
              "      <td>architecture</td>\n",
              "      <td>masterclass</td>\n",
              "    </tr>\n",
              "    <tr>\n",
              "      <th>16</th>\n",
              "      <td>unique</td>\n",
              "      <td>design</td>\n",
              "      <td>solving</td>\n",
              "      <td>action</td>\n",
              "      <td>growth</td>\n",
              "      <td>account</td>\n",
              "      <td>transform</td>\n",
              "      <td>wordpress</td>\n",
              "      <td>covering</td>\n",
              "      <td>company</td>\n",
              "      <td>visualization</td>\n",
              "      <td>statements</td>\n",
              "      <td>instagram</td>\n",
              "      <td>life</td>\n",
              "      <td>enterprise</td>\n",
              "      <td>winning</td>\n",
              "      <td>public</td>\n",
              "      <td>growing</td>\n",
              "      <td>practical</td>\n",
              "      <td>attract</td>\n",
              "      <td>audience</td>\n",
              "      <td>identify</td>\n",
              "      <td>even</td>\n",
              "      <td>connect</td>\n",
              "      <td>book</td>\n",
              "    </tr>\n",
              "    <tr>\n",
              "      <th>17</th>\n",
              "      <td>experience</td>\n",
              "      <td>generate</td>\n",
              "      <td>change</td>\n",
              "      <td>agile</td>\n",
              "      <td>machine</td>\n",
              "      <td>copy</td>\n",
              "      <td>days</td>\n",
              "      <td>professional</td>\n",
              "      <td>well</td>\n",
              "      <td>smart</td>\n",
              "      <td>master</td>\n",
              "      <td>risk</td>\n",
              "      <td>email marketing</td>\n",
              "      <td>low</td>\n",
              "      <td>engaging</td>\n",
              "      <td>tax</td>\n",
              "      <td>startup</td>\n",
              "      <td>reports</td>\n",
              "      <td>practice</td>\n",
              "      <td>cryptocurrency</td>\n",
              "      <td>landing</td>\n",
              "      <td>rank</td>\n",
              "      <td>shopify</td>\n",
              "      <td>effectively</td>\n",
              "      <td>theory</td>\n",
              "    </tr>\n",
              "    <tr>\n",
              "      <th>18</th>\n",
              "      <td>prior</td>\n",
              "      <td>graphic</td>\n",
              "      <td>problem</td>\n",
              "      <td>investment</td>\n",
              "      <td>business</td>\n",
              "      <td>impact</td>\n",
              "      <td>good</td>\n",
              "      <td>success</td>\n",
              "      <td>designing</td>\n",
              "      <td>preparation</td>\n",
              "      <td>network</td>\n",
              "      <td>planning</td>\n",
              "      <td>business</td>\n",
              "      <td>examples</td>\n",
              "      <td>real</td>\n",
              "      <td>communication</td>\n",
              "      <td>deliver</td>\n",
              "      <td>necessary</td>\n",
              "      <td>master</td>\n",
              "      <td>bitcoin</td>\n",
              "      <td>turn</td>\n",
              "      <td>get</td>\n",
              "      <td>templates</td>\n",
              "      <td>technology</td>\n",
              "      <td>ease</td>\n",
              "    </tr>\n",
              "    <tr>\n",
              "      <th>19</th>\n",
              "      <td>editing</td>\n",
              "      <td>insights</td>\n",
              "      <td>marketing</td>\n",
              "      <td>succeed</td>\n",
              "      <td>small</td>\n",
              "      <td>amazon</td>\n",
              "      <td>secret</td>\n",
              "      <td>design</td>\n",
              "      <td>designer</td>\n",
              "      <td>business</td>\n",
              "      <td>local</td>\n",
              "      <td>financial</td>\n",
              "      <td>optimize</td>\n",
              "      <td>bring</td>\n",
              "      <td>value</td>\n",
              "      <td>productivity</td>\n",
              "      <td>passive income</td>\n",
              "      <td>study</td>\n",
              "      <td>entrepreneur</td>\n",
              "      <td>profits</td>\n",
              "      <td>generation</td>\n",
              "      <td>world</td>\n",
              "      <td>affiliate marketing</td>\n",
              "      <td>customers</td>\n",
              "      <td>high quality</td>\n",
              "    </tr>\n",
              "  </tbody>\n",
              "</table>\n",
              "</div>\n",
              "      <button class=\"colab-df-convert\" onclick=\"convertToInteractive('df-7ccf5144-2965-44ce-9199-9dd0e1de5c3a')\"\n",
              "              title=\"Convert this dataframe to an interactive table.\"\n",
              "              style=\"display:none;\">\n",
              "        \n",
              "  <svg xmlns=\"http://www.w3.org/2000/svg\" height=\"24px\"viewBox=\"0 0 24 24\"\n",
              "       width=\"24px\">\n",
              "    <path d=\"M0 0h24v24H0V0z\" fill=\"none\"/>\n",
              "    <path d=\"M18.56 5.44l.94 2.06.94-2.06 2.06-.94-2.06-.94-.94-2.06-.94 2.06-2.06.94zm-11 1L8.5 8.5l.94-2.06 2.06-.94-2.06-.94L8.5 2.5l-.94 2.06-2.06.94zm10 10l.94 2.06.94-2.06 2.06-.94-2.06-.94-.94-2.06-.94 2.06-2.06.94z\"/><path d=\"M17.41 7.96l-1.37-1.37c-.4-.4-.92-.59-1.43-.59-.52 0-1.04.2-1.43.59L10.3 9.45l-7.72 7.72c-.78.78-.78 2.05 0 2.83L4 21.41c.39.39.9.59 1.41.59.51 0 1.02-.2 1.41-.59l7.78-7.78 2.81-2.81c.8-.78.8-2.07 0-2.86zM5.41 20L4 18.59l7.72-7.72 1.47 1.35L5.41 20z\"/>\n",
              "  </svg>\n",
              "      </button>\n",
              "      \n",
              "  <style>\n",
              "    .colab-df-container {\n",
              "      display:flex;\n",
              "      flex-wrap:wrap;\n",
              "      gap: 12px;\n",
              "    }\n",
              "\n",
              "    .colab-df-convert {\n",
              "      background-color: #E8F0FE;\n",
              "      border: none;\n",
              "      border-radius: 50%;\n",
              "      cursor: pointer;\n",
              "      display: none;\n",
              "      fill: #1967D2;\n",
              "      height: 32px;\n",
              "      padding: 0 0 0 0;\n",
              "      width: 32px;\n",
              "    }\n",
              "\n",
              "    .colab-df-convert:hover {\n",
              "      background-color: #E2EBFA;\n",
              "      box-shadow: 0px 1px 2px rgba(60, 64, 67, 0.3), 0px 1px 3px 1px rgba(60, 64, 67, 0.15);\n",
              "      fill: #174EA6;\n",
              "    }\n",
              "\n",
              "    [theme=dark] .colab-df-convert {\n",
              "      background-color: #3B4455;\n",
              "      fill: #D2E3FC;\n",
              "    }\n",
              "\n",
              "    [theme=dark] .colab-df-convert:hover {\n",
              "      background-color: #434B5C;\n",
              "      box-shadow: 0px 1px 3px 1px rgba(0, 0, 0, 0.15);\n",
              "      filter: drop-shadow(0px 1px 2px rgba(0, 0, 0, 0.3));\n",
              "      fill: #FFFFFF;\n",
              "    }\n",
              "  </style>\n",
              "\n",
              "      <script>\n",
              "        const buttonEl =\n",
              "          document.querySelector('#df-7ccf5144-2965-44ce-9199-9dd0e1de5c3a button.colab-df-convert');\n",
              "        buttonEl.style.display =\n",
              "          google.colab.kernel.accessAllowed ? 'block' : 'none';\n",
              "\n",
              "        async function convertToInteractive(key) {\n",
              "          const element = document.querySelector('#df-7ccf5144-2965-44ce-9199-9dd0e1de5c3a');\n",
              "          const dataTable =\n",
              "            await google.colab.kernel.invokeFunction('convertToInteractive',\n",
              "                                                     [key], {});\n",
              "          if (!dataTable) return;\n",
              "\n",
              "          const docLinkHtml = 'Like what you see? Visit the ' +\n",
              "            '<a target=\"_blank\" href=https://colab.research.google.com/notebooks/data_table.ipynb>data table notebook</a>'\n",
              "            + ' to learn more about interactive tables.';\n",
              "          element.innerHTML = '';\n",
              "          dataTable['output_type'] = 'display_data';\n",
              "          await google.colab.output.renderOutput(dataTable, element);\n",
              "          const docLink = document.createElement('div');\n",
              "          docLink.innerHTML = docLinkHtml;\n",
              "          element.appendChild(docLink);\n",
              "        }\n",
              "      </script>\n",
              "    </div>\n",
              "  </div>\n",
              "  "
            ]
          },
          "metadata": {},
          "execution_count": 61
        }
      ],
      "source": [
        "# Mostramos los temas en un dataframe\n",
        "word_dict = {};\n",
        "for i in range(0,25):\n",
        "    words = ldamodel.show_topic(i, topn = 20)\n",
        "    word_dict['Topic# ' + '{:02d}'.format(i+1)] = [i[0] for i in words]\n",
        "pd.set_option('max_columns', None)  \n",
        "df_topic = pd.DataFrame(word_dict)\n",
        "df_topic\n"
      ]
    },
    {
      "cell_type": "markdown",
      "metadata": {
        "id": "_8N3nVrWWZ2A"
      },
      "source": [
        "# Puntuación de Coherecia\n",
        "\n",
        "Utilizo la puntuación de coherencia para determinar el número óptimo de temas."
      ]
    },
    {
      "cell_type": "code",
      "source": [
        "def compute_coherence_values(dictionary, corpus_tfidf, texts, limit):\n",
        "    coherence_values = []\n",
        "    model_list = []\n",
        "    for num_topics in range(1, limit):\n",
        "        model=LdaModel(corpus_tfidf, id2word=dictionary, num_topics=num_topics, minimum_probability=0.01, random_state=42, update_every=1, passes=2, alpha=1e-2, eta=0.5e-2) # entrenar modelo LDA\n",
        "        model_list.append(model)\n",
        "        coherencemodel = CoherenceModel(model=model, texts=texts, dictionary=dictionary, coherence='c_v') # cálculo de la coherencia\n",
        "        coherence_values.append(coherencemodel.get_coherence())\n",
        "    \n",
        "    # graficamos\n",
        "    x = range(1, limit)\n",
        "    plt.plot(x, coherence_values)\n",
        "    plt.xlabel(\"num_topics\")\n",
        "    plt.ylabel(\"Coherence score\")\n",
        "    plt.legend((\"coherence_values\"), loc='best')\n",
        "    plt.show()\n",
        "    \n",
        "    return model_list, coherence_values"
      ],
      "metadata": {
        "id": "I6s3yvhKiRR8"
      },
      "execution_count": null,
      "outputs": []
    },
    {
      "cell_type": "code",
      "execution_count": null,
      "metadata": {
        "id": "nL1XrxxEXAuA",
        "colab": {
          "base_uri": "https://localhost:8080/",
          "height": 485
        },
        "outputId": "b02c732c-9604-42c6-ec2d-11facc144521"
      },
      "outputs": [
        {
          "output_type": "display_data",
          "data": {
            "text/plain": [
              "<Figure size 640x480 with 1 Axes>"
            ],
            "image/png": "[encoded data removed]"
          },
          "metadata": {}
        },
        {
          "output_type": "stream",
          "name": "stdout",
          "text": [
            "CPU times: user 5min 6s, sys: 3.56 s, total: 5min 10s\n",
            "Wall time: 5min 9s\n"
          ]
        }
      ],
      "source": [
        "%%time\n",
        "model_list, coherence_values = compute_coherence_values(dictionary=dictionary, corpus_tfidf=corpus_tfidf , texts = texts, limit=30)\n"
      ]
    },
    {
      "cell_type": "markdown",
      "metadata": {
        "id": "PxAaWjVul1gR"
      },
      "source": [
        "### El número óptimo de temas fue 20, ya que es el que tiene mejor puntaje de coherencia"
      ]
    },
    {
      "cell_type": "code",
      "execution_count": null,
      "metadata": {
        "id": "cXtrQeBEYJUB",
        "colab": {
          "base_uri": "https://localhost:8080/",
          "height": 685
        },
        "outputId": "5ccf2213-f59a-4540-9ade-888996fcb0a5"
      },
      "outputs": [
        {
          "output_type": "execute_result",
          "data": {
            "text/plain": [
              "       Topic# 01   Topic# 02     Topic# 03     Topic# 04      Topic# 05  \\\n",
              "0     javascript     program        social     including            app   \n",
              "1        website  developers         media     practices         mobile   \n",
              "2      wordpress    services  social media      industry         expert   \n",
              "3         modern         set     animation     analytics           deep   \n",
              "4       websites        made           seo  architecture        trading   \n",
              "5         object         big     marketing       service  deep learning   \n",
              "6          store  processing          tool          plan       includes   \n",
              "7            web    analysis    animations      research         market   \n",
              "8        dynamic      neural       effects      customer          stock   \n",
              "9   professional    modeling      graphics       secrets        version   \n",
              "10       traffic    networks  intelligence       shopify          depth   \n",
              "11          test  operations  optimization          rank       learning   \n",
              "12          free        sell         solve           key     artificial   \n",
              "13           get  technology      friendly         super        perfect   \n",
              "14     ecommerce    training      problems          give          forex   \n",
              "\n",
              "            Topic# 06    Topic# 07      Topic# 08      Topic# 09  \\\n",
              "0         programming         apps         server         python   \n",
              "1            language         game           core   applications   \n",
              "2            advanced  development           data         basics   \n",
              "3            beginner          api            sql     automation   \n",
              "4          functional       deploy        testing  comprehensive   \n",
              "5               basic          web        science        explore   \n",
              "6               write      youtube   data science         system   \n",
              "7              master      popular     developing    programming   \n",
              "8          techniques         live       computer        complex   \n",
              "9   beginner advanced       latest           grow      exercises   \n",
              "10          beginners        ready          brand          skill   \n",
              "11         principles  performance           much            add   \n",
              "12             skills       custom     sql server            web   \n",
              "13             basics    important        teaches            new   \n",
              "14        fundamental       source  visualization           also   \n",
              "\n",
              "        Topic# 10     Topic# 11  Topic# 12   Topic# 13     Topic# 14  \\\n",
              "0           games       quickly  developer       hands      ultimate   \n",
              "1        oriented       started   features       power        income   \n",
              "2       implement  fundamentals   platform       stack         model   \n",
              "3       functions          fast  bootstrap     library          high   \n",
              "4       customers        easily   software   beautiful       quality   \n",
              "5         options        videos       next        blog         pages   \n",
              "6         network       content       user    practice        topics   \n",
              "7        designed       advance      based     results        useful   \n",
              "8          better     financial    digital  successful          cost   \n",
              "9         connect         basic  interview        part           low   \n",
              "10           show      programs  essential       never    generation   \n",
              "11         people     different        web  foundation   engineering   \n",
              "12           help    essentials       dive      google    statements   \n",
              "13  professionals   advertising  mastering   practical  high quality   \n",
              "14         demand       journey  solutions   designing       lessons   \n",
              "\n",
              "           Topic# 15          Topic# 16    Topic# 17      Topic# 18  \\\n",
              "0           learning           tutorial  application          mysql   \n",
              "1            machine              quick         code   introduction   \n",
              "2   machine learning            project       studio         making   \n",
              "3          photoshop           concepts  interactive      databases   \n",
              "4          efficient            methods          pro         search   \n",
              "5             python          beginners          art  understanding   \n",
              "6                run              apply      desktop       projects   \n",
              "7          instagram          knowledge        teach     accounting   \n",
              "8           stunning            systems       covers       patterns   \n",
              "9        masterclass              class      develop       automate   \n",
              "10          required              forms       design          right   \n",
              "11           enhance  wordpress website     audience        control   \n",
              "12          internet           absolute      setting          money   \n",
              "13           publish           included      scratch        minutes   \n",
              "14          covering            process        ideas          tasks   \n",
              "\n",
              "    Topic# 19         Topic# 20  \n",
              "0         ads              real  \n",
              "1       sales             world  \n",
              "2      visual        real world  \n",
              "3   marketing             first  \n",
              "4        site          examples  \n",
              "5      secure               net  \n",
              "6    approach      applications  \n",
              "7    generate  web applications  \n",
              "8       email              page  \n",
              "9   affiliate               web  \n",
              "10     online            models  \n",
              "11       life            single  \n",
              "12      leads              many  \n",
              "13   increase              tips  \n",
              "14   business               fun  "
            ],
            "text/html": [
              "\n",
              "  <div id=\"df-03d1f8f9-67b1-47eb-9f36-01823847e302\">\n",
              "    <div class=\"colab-df-container\">\n",
              "      <div>\n",
              "<style scoped>\n",
              "    .dataframe tbody tr th:only-of-type {\n",
              "        vertical-align: middle;\n",
              "    }\n",
              "\n",
              "    .dataframe tbody tr th {\n",
              "        vertical-align: top;\n",
              "    }\n",
              "\n",
              "    .dataframe thead th {\n",
              "        text-align: right;\n",
              "    }\n",
              "</style>\n",
              "<table border=\"1\" class=\"dataframe\">\n",
              "  <thead>\n",
              "    <tr style=\"text-align: right;\">\n",
              "      <th></th>\n",
              "      <th>Topic# 01</th>\n",
              "      <th>Topic# 02</th>\n",
              "      <th>Topic# 03</th>\n",
              "      <th>Topic# 04</th>\n",
              "      <th>Topic# 05</th>\n",
              "      <th>Topic# 06</th>\n",
              "      <th>Topic# 07</th>\n",
              "      <th>Topic# 08</th>\n",
              "      <th>Topic# 09</th>\n",
              "      <th>Topic# 10</th>\n",
              "      <th>Topic# 11</th>\n",
              "      <th>Topic# 12</th>\n",
              "      <th>Topic# 13</th>\n",
              "      <th>Topic# 14</th>\n",
              "      <th>Topic# 15</th>\n",
              "      <th>Topic# 16</th>\n",
              "      <th>Topic# 17</th>\n",
              "      <th>Topic# 18</th>\n",
              "      <th>Topic# 19</th>\n",
              "      <th>Topic# 20</th>\n",
              "    </tr>\n",
              "  </thead>\n",
              "  <tbody>\n",
              "    <tr>\n",
              "      <th>0</th>\n",
              "      <td>javascript</td>\n",
              "      <td>program</td>\n",
              "      <td>social</td>\n",
              "      <td>including</td>\n",
              "      <td>app</td>\n",
              "      <td>programming</td>\n",
              "      <td>apps</td>\n",
              "      <td>server</td>\n",
              "      <td>python</td>\n",
              "      <td>games</td>\n",
              "      <td>quickly</td>\n",
              "      <td>developer</td>\n",
              "      <td>hands</td>\n",
              "      <td>ultimate</td>\n",
              "      <td>learning</td>\n",
              "      <td>tutorial</td>\n",
              "      <td>application</td>\n",
              "      <td>mysql</td>\n",
              "      <td>ads</td>\n",
              "      <td>real</td>\n",
              "    </tr>\n",
              "    <tr>\n",
              "      <th>1</th>\n",
              "      <td>website</td>\n",
              "      <td>developers</td>\n",
              "      <td>media</td>\n",
              "      <td>practices</td>\n",
              "      <td>mobile</td>\n",
              "      <td>language</td>\n",
              "      <td>game</td>\n",
              "      <td>core</td>\n",
              "      <td>applications</td>\n",
              "      <td>oriented</td>\n",
              "      <td>started</td>\n",
              "      <td>features</td>\n",
              "      <td>power</td>\n",
              "      <td>income</td>\n",
              "      <td>machine</td>\n",
              "      <td>quick</td>\n",
              "      <td>code</td>\n",
              "      <td>introduction</td>\n",
              "      <td>sales</td>\n",
              "      <td>world</td>\n",
              "    </tr>\n",
              "    <tr>\n",
              "      <th>2</th>\n",
              "      <td>wordpress</td>\n",
              "      <td>services</td>\n",
              "      <td>social media</td>\n",
              "      <td>industry</td>\n",
              "      <td>expert</td>\n",
              "      <td>advanced</td>\n",
              "      <td>development</td>\n",
              "      <td>data</td>\n",
              "      <td>basics</td>\n",
              "      <td>implement</td>\n",
              "      <td>fundamentals</td>\n",
              "      <td>platform</td>\n",
              "      <td>stack</td>\n",
              "      <td>model</td>\n",
              "      <td>machine learning</td>\n",
              "      <td>project</td>\n",
              "      <td>studio</td>\n",
              "      <td>making</td>\n",
              "      <td>visual</td>\n",
              "      <td>real world</td>\n",
              "    </tr>\n",
              "    <tr>\n",
              "      <th>3</th>\n",
              "      <td>modern</td>\n",
              "      <td>set</td>\n",
              "      <td>animation</td>\n",
              "      <td>analytics</td>\n",
              "      <td>deep</td>\n",
              "      <td>beginner</td>\n",
              "      <td>api</td>\n",
              "      <td>sql</td>\n",
              "      <td>automation</td>\n",
              "      <td>functions</td>\n",
              "      <td>fast</td>\n",
              "      <td>bootstrap</td>\n",
              "      <td>library</td>\n",
              "      <td>high</td>\n",
              "      <td>photoshop</td>\n",
              "      <td>concepts</td>\n",
              "      <td>interactive</td>\n",
              "      <td>databases</td>\n",
              "      <td>marketing</td>\n",
              "      <td>first</td>\n",
              "    </tr>\n",
              "    <tr>\n",
              "      <th>4</th>\n",
              "      <td>websites</td>\n",
              "      <td>made</td>\n",
              "      <td>seo</td>\n",
              "      <td>architecture</td>\n",
              "      <td>trading</td>\n",
              "      <td>functional</td>\n",
              "      <td>deploy</td>\n",
              "      <td>testing</td>\n",
              "      <td>comprehensive</td>\n",
              "      <td>customers</td>\n",
              "      <td>easily</td>\n",
              "      <td>software</td>\n",
              "      <td>beautiful</td>\n",
              "      <td>quality</td>\n",
              "      <td>efficient</td>\n",
              "      <td>methods</td>\n",
              "      <td>pro</td>\n",
              "      <td>search</td>\n",
              "      <td>site</td>\n",
              "      <td>examples</td>\n",
              "    </tr>\n",
              "    <tr>\n",
              "      <th>5</th>\n",
              "      <td>object</td>\n",
              "      <td>big</td>\n",
              "      <td>marketing</td>\n",
              "      <td>service</td>\n",
              "      <td>deep learning</td>\n",
              "      <td>basic</td>\n",
              "      <td>web</td>\n",
              "      <td>science</td>\n",
              "      <td>explore</td>\n",
              "      <td>options</td>\n",
              "      <td>videos</td>\n",
              "      <td>next</td>\n",
              "      <td>blog</td>\n",
              "      <td>pages</td>\n",
              "      <td>python</td>\n",
              "      <td>beginners</td>\n",
              "      <td>art</td>\n",
              "      <td>understanding</td>\n",
              "      <td>secure</td>\n",
              "      <td>net</td>\n",
              "    </tr>\n",
              "    <tr>\n",
              "      <th>6</th>\n",
              "      <td>store</td>\n",
              "      <td>processing</td>\n",
              "      <td>tool</td>\n",
              "      <td>plan</td>\n",
              "      <td>includes</td>\n",
              "      <td>write</td>\n",
              "      <td>youtube</td>\n",
              "      <td>data science</td>\n",
              "      <td>system</td>\n",
              "      <td>network</td>\n",
              "      <td>content</td>\n",
              "      <td>user</td>\n",
              "      <td>practice</td>\n",
              "      <td>topics</td>\n",
              "      <td>run</td>\n",
              "      <td>apply</td>\n",
              "      <td>desktop</td>\n",
              "      <td>projects</td>\n",
              "      <td>approach</td>\n",
              "      <td>applications</td>\n",
              "    </tr>\n",
              "    <tr>\n",
              "      <th>7</th>\n",
              "      <td>web</td>\n",
              "      <td>analysis</td>\n",
              "      <td>animations</td>\n",
              "      <td>research</td>\n",
              "      <td>market</td>\n",
              "      <td>master</td>\n",
              "      <td>popular</td>\n",
              "      <td>developing</td>\n",
              "      <td>programming</td>\n",
              "      <td>designed</td>\n",
              "      <td>advance</td>\n",
              "      <td>based</td>\n",
              "      <td>results</td>\n",
              "      <td>useful</td>\n",
              "      <td>instagram</td>\n",
              "      <td>knowledge</td>\n",
              "      <td>teach</td>\n",
              "      <td>accounting</td>\n",
              "      <td>generate</td>\n",
              "      <td>web applications</td>\n",
              "    </tr>\n",
              "    <tr>\n",
              "      <th>8</th>\n",
              "      <td>dynamic</td>\n",
              "      <td>neural</td>\n",
              "      <td>effects</td>\n",
              "      <td>customer</td>\n",
              "      <td>stock</td>\n",
              "      <td>techniques</td>\n",
              "      <td>live</td>\n",
              "      <td>computer</td>\n",
              "      <td>complex</td>\n",
              "      <td>better</td>\n",
              "      <td>financial</td>\n",
              "      <td>digital</td>\n",
              "      <td>successful</td>\n",
              "      <td>cost</td>\n",
              "      <td>stunning</td>\n",
              "      <td>systems</td>\n",
              "      <td>covers</td>\n",
              "      <td>patterns</td>\n",
              "      <td>email</td>\n",
              "      <td>page</td>\n",
              "    </tr>\n",
              "    <tr>\n",
              "      <th>9</th>\n",
              "      <td>professional</td>\n",
              "      <td>modeling</td>\n",
              "      <td>graphics</td>\n",
              "      <td>secrets</td>\n",
              "      <td>version</td>\n",
              "      <td>beginner advanced</td>\n",
              "      <td>latest</td>\n",
              "      <td>grow</td>\n",
              "      <td>exercises</td>\n",
              "      <td>connect</td>\n",
              "      <td>basic</td>\n",
              "      <td>interview</td>\n",
              "      <td>part</td>\n",
              "      <td>low</td>\n",
              "      <td>masterclass</td>\n",
              "      <td>class</td>\n",
              "      <td>develop</td>\n",
              "      <td>automate</td>\n",
              "      <td>affiliate</td>\n",
              "      <td>web</td>\n",
              "    </tr>\n",
              "    <tr>\n",
              "      <th>10</th>\n",
              "      <td>traffic</td>\n",
              "      <td>networks</td>\n",
              "      <td>intelligence</td>\n",
              "      <td>shopify</td>\n",
              "      <td>depth</td>\n",
              "      <td>beginners</td>\n",
              "      <td>ready</td>\n",
              "      <td>brand</td>\n",
              "      <td>skill</td>\n",
              "      <td>show</td>\n",
              "      <td>programs</td>\n",
              "      <td>essential</td>\n",
              "      <td>never</td>\n",
              "      <td>generation</td>\n",
              "      <td>required</td>\n",
              "      <td>forms</td>\n",
              "      <td>design</td>\n",
              "      <td>right</td>\n",
              "      <td>online</td>\n",
              "      <td>models</td>\n",
              "    </tr>\n",
              "    <tr>\n",
              "      <th>11</th>\n",
              "      <td>test</td>\n",
              "      <td>operations</td>\n",
              "      <td>optimization</td>\n",
              "      <td>rank</td>\n",
              "      <td>learning</td>\n",
              "      <td>principles</td>\n",
              "      <td>performance</td>\n",
              "      <td>much</td>\n",
              "      <td>add</td>\n",
              "      <td>people</td>\n",
              "      <td>different</td>\n",
              "      <td>web</td>\n",
              "      <td>foundation</td>\n",
              "      <td>engineering</td>\n",
              "      <td>enhance</td>\n",
              "      <td>wordpress website</td>\n",
              "      <td>audience</td>\n",
              "      <td>control</td>\n",
              "      <td>life</td>\n",
              "      <td>single</td>\n",
              "    </tr>\n",
              "    <tr>\n",
              "      <th>12</th>\n",
              "      <td>free</td>\n",
              "      <td>sell</td>\n",
              "      <td>solve</td>\n",
              "      <td>key</td>\n",
              "      <td>artificial</td>\n",
              "      <td>skills</td>\n",
              "      <td>custom</td>\n",
              "      <td>sql server</td>\n",
              "      <td>web</td>\n",
              "      <td>help</td>\n",
              "      <td>essentials</td>\n",
              "      <td>dive</td>\n",
              "      <td>google</td>\n",
              "      <td>statements</td>\n",
              "      <td>internet</td>\n",
              "      <td>absolute</td>\n",
              "      <td>setting</td>\n",
              "      <td>money</td>\n",
              "      <td>leads</td>\n",
              "      <td>many</td>\n",
              "    </tr>\n",
              "    <tr>\n",
              "      <th>13</th>\n",
              "      <td>get</td>\n",
              "      <td>technology</td>\n",
              "      <td>friendly</td>\n",
              "      <td>super</td>\n",
              "      <td>perfect</td>\n",
              "      <td>basics</td>\n",
              "      <td>important</td>\n",
              "      <td>teaches</td>\n",
              "      <td>new</td>\n",
              "      <td>professionals</td>\n",
              "      <td>advertising</td>\n",
              "      <td>mastering</td>\n",
              "      <td>practical</td>\n",
              "      <td>high quality</td>\n",
              "      <td>publish</td>\n",
              "      <td>included</td>\n",
              "      <td>scratch</td>\n",
              "      <td>minutes</td>\n",
              "      <td>increase</td>\n",
              "      <td>tips</td>\n",
              "    </tr>\n",
              "    <tr>\n",
              "      <th>14</th>\n",
              "      <td>ecommerce</td>\n",
              "      <td>training</td>\n",
              "      <td>problems</td>\n",
              "      <td>give</td>\n",
              "      <td>forex</td>\n",
              "      <td>fundamental</td>\n",
              "      <td>source</td>\n",
              "      <td>visualization</td>\n",
              "      <td>also</td>\n",
              "      <td>demand</td>\n",
              "      <td>journey</td>\n",
              "      <td>solutions</td>\n",
              "      <td>designing</td>\n",
              "      <td>lessons</td>\n",
              "      <td>covering</td>\n",
              "      <td>process</td>\n",
              "      <td>ideas</td>\n",
              "      <td>tasks</td>\n",
              "      <td>business</td>\n",
              "      <td>fun</td>\n",
              "    </tr>\n",
              "  </tbody>\n",
              "</table>\n",
              "</div>\n",
              "      <button class=\"colab-df-convert\" onclick=\"convertToInteractive('df-03d1f8f9-67b1-47eb-9f36-01823847e302')\"\n",
              "              title=\"Convert this dataframe to an interactive table.\"\n",
              "              style=\"display:none;\">\n",
              "        \n",
              "  <svg xmlns=\"http://www.w3.org/2000/svg\" height=\"24px\"viewBox=\"0 0 24 24\"\n",
              "       width=\"24px\">\n",
              "    <path d=\"M0 0h24v24H0V0z\" fill=\"none\"/>\n",
              "    <path d=\"M18.56 5.44l.94 2.06.94-2.06 2.06-.94-2.06-.94-.94-2.06-.94 2.06-2.06.94zm-11 1L8.5 8.5l.94-2.06 2.06-.94-2.06-.94L8.5 2.5l-.94 2.06-2.06.94zm10 10l.94 2.06.94-2.06 2.06-.94-2.06-.94-.94-2.06-.94 2.06-2.06.94z\"/><path d=\"M17.41 7.96l-1.37-1.37c-.4-.4-.92-.59-1.43-.59-.52 0-1.04.2-1.43.59L10.3 9.45l-7.72 7.72c-.78.78-.78 2.05 0 2.83L4 21.41c.39.39.9.59 1.41.59.51 0 1.02-.2 1.41-.59l7.78-7.78 2.81-2.81c.8-.78.8-2.07 0-2.86zM5.41 20L4 18.59l7.72-7.72 1.47 1.35L5.41 20z\"/>\n",
              "  </svg>\n",
              "      </button>\n",
              "      \n",
              "  <style>\n",
              "    .colab-df-container {\n",
              "      display:flex;\n",
              "      flex-wrap:wrap;\n",
              "      gap: 12px;\n",
              "    }\n",
              "\n",
              "    .colab-df-convert {\n",
              "      background-color: #E8F0FE;\n",
              "      border: none;\n",
              "      border-radius: 50%;\n",
              "      cursor: pointer;\n",
              "      display: none;\n",
              "      fill: #1967D2;\n",
              "      height: 32px;\n",
              "      padding: 0 0 0 0;\n",
              "      width: 32px;\n",
              "    }\n",
              "\n",
              "    .colab-df-convert:hover {\n",
              "      background-color: #E2EBFA;\n",
              "      box-shadow: 0px 1px 2px rgba(60, 64, 67, 0.3), 0px 1px 3px 1px rgba(60, 64, 67, 0.15);\n",
              "      fill: #174EA6;\n",
              "    }\n",
              "\n",
              "    [theme=dark] .colab-df-convert {\n",
              "      background-color: #3B4455;\n",
              "      fill: #D2E3FC;\n",
              "    }\n",
              "\n",
              "    [theme=dark] .colab-df-convert:hover {\n",
              "      background-color: #434B5C;\n",
              "      box-shadow: 0px 1px 3px 1px rgba(0, 0, 0, 0.15);\n",
              "      filter: drop-shadow(0px 1px 2px rgba(0, 0, 0, 0.3));\n",
              "      fill: #FFFFFF;\n",
              "    }\n",
              "  </style>\n",
              "\n",
              "      <script>\n",
              "        const buttonEl =\n",
              "          document.querySelector('#df-03d1f8f9-67b1-47eb-9f36-01823847e302 button.colab-df-convert');\n",
              "        buttonEl.style.display =\n",
              "          google.colab.kernel.accessAllowed ? 'block' : 'none';\n",
              "\n",
              "        async function convertToInteractive(key) {\n",
              "          const element = document.querySelector('#df-03d1f8f9-67b1-47eb-9f36-01823847e302');\n",
              "          const dataTable =\n",
              "            await google.colab.kernel.invokeFunction('convertToInteractive',\n",
              "                                                     [key], {});\n",
              "          if (!dataTable) return;\n",
              "\n",
              "          const docLinkHtml = 'Like what you see? Visit the ' +\n",
              "            '<a target=\"_blank\" href=https://colab.research.google.com/notebooks/data_table.ipynb>data table notebook</a>'\n",
              "            + ' to learn more about interactive tables.';\n",
              "          element.innerHTML = '';\n",
              "          dataTable['output_type'] = 'display_data';\n",
              "          await google.colab.output.renderOutput(dataTable, element);\n",
              "          const docLink = document.createElement('div');\n",
              "          docLink.innerHTML = docLinkHtml;\n",
              "          element.appendChild(docLink);\n",
              "        }\n",
              "      </script>\n",
              "    </div>\n",
              "  </div>\n",
              "  "
            ]
          },
          "metadata": {},
          "execution_count": 65
        }
      ],
      "source": [
        "# # Aplico de nuevo el modelo LDA con los 20 temas \n",
        "\n",
        "coherence_ldamodel = model_list[20]\n",
        "word_dict = {};\n",
        "for i in range(0,20):\n",
        "  words = coherence_ldamodel.show_topic(i, topn = 15)\n",
        "  word_dict['Topic# ' + '{:02d}'.format(i+1)] = [i[0] for i in words]\n",
        "\n",
        "pd.set_option('max_columns', None)  \n",
        "pd.DataFrame(word_dict)"
      ]
    },
    {
      "cell_type": "markdown",
      "metadata": {
        "id": "KP3mUUMpxdhe"
      },
      "source": [
        "Revisemos de qué temas se compone el curso 250"
      ]
    },
    {
      "cell_type": "code",
      "execution_count": null,
      "metadata": {
        "colab": {
          "base_uri": "https://localhost:8080/",
          "height": 35
        },
        "id": "JQtFzK-Thqzl",
        "outputId": "7467c72b-e476-430b-f5e1-d293a7f80c2d"
      },
      "outputs": [
        {
          "output_type": "execute_result",
          "data": {
            "text/plain": [
              "'six sigma yellow belt masterclass includes a yb project '"
            ],
            "application/vnd.google.colaboratory.intrinsic+json": {
              "type": "string"
            }
          },
          "metadata": {},
          "execution_count": 66
        }
      ],
      "source": [
        "data.iloc[250].Title"
      ]
    },
    {
      "cell_type": "code",
      "execution_count": null,
      "metadata": {
        "colab": {
          "base_uri": "https://localhost:8080/"
        },
        "id": "nZwTcrEzhqzm",
        "outputId": "17b18ccf-7eb3-4616-8d6a-455e58d3a451"
      },
      "outputs": [
        {
          "output_type": "execute_result",
          "data": {
            "text/plain": [
              "['get',\n",
              " 'sigma',\n",
              " 'certification',\n",
              " 'online',\n",
              " 'realistic',\n",
              " 'yellow',\n",
              " 'belt',\n",
              " 'project',\n",
              " 'tools']"
            ]
          },
          "metadata": {},
          "execution_count": 67
        }
      ],
      "source": [
        "data.iloc[250].Summary"
      ]
    },
    {
      "cell_type": "code",
      "execution_count": null,
      "metadata": {
        "colab": {
          "base_uri": "https://localhost:8080/"
        },
        "id": "BKIGCFwrhqzm",
        "outputId": "5f10fece-40cb-451c-968c-5e75feb5ef49"
      },
      "outputs": [
        {
          "output_type": "stream",
          "name": "stdout",
          "text": [
            "(1, 0.92377836)\n"
          ]
        }
      ],
      "source": [
        "corpus_ldamodel = coherence_ldamodel[corpus_tfidf]\n",
        "for course in corpus_ldamodel[250]:\n",
        "    print(course)"
      ]
    },
    {
      "cell_type": "markdown",
      "metadata": {
        "id": "ZCHTr_pvmKA5"
      },
      "source": [
        "### Con la librería pyLDAvis reviso la distribucicón de las palabras por tema "
      ]
    },
    {
      "cell_type": "code",
      "execution_count": null,
      "metadata": {
        "collapsed": true,
        "id": "MtEeY2VoTYbN",
        "jupyter": {
          "outputs_hidden": true
        }
      },
      "outputs": [],
      "source": [
        " #!pip install pyLDAvis"
      ]
    },
    {
      "cell_type": "code",
      "execution_count": null,
      "metadata": {
        "id": "IKYNMyWqTRDn",
        "jupyter": {
          "outputs_hidden": true
        },
        "colab": {
          "base_uri": "https://localhost:8080/",
          "height": 951
        },
        "outputId": "28500833-6100-4a71-e007-eaad23461561"
      },
      "outputs": [
        {
          "output_type": "stream",
          "name": "stderr",
          "text": [
            "/usr/local/lib/python3.7/dist-packages/past/builtins/misc.py:4: DeprecationWarning: Using or importing the ABCs from 'collections' instead of from 'collections.abc' is deprecated since Python 3.3,and in 3.9 it will stop working\n",
            "  from collections import Mapping\n",
            "/usr/local/lib/python3.7/dist-packages/pyLDAvis/_prepare.py:247: FutureWarning: In a future version of pandas all arguments of DataFrame.drop except for the argument 'labels' will be keyword-only\n",
            "  by='saliency', ascending=False).head(R).drop('saliency', 1)\n"
          ]
        },
        {
          "output_type": "execute_result",
          "data": {
            "text/plain": [
              "<IPython.core.display.HTML object>"
            ],
            "text/html": [
              "\n",
              "<link rel=\"stylesheet\" type=\"text/css\" href=\"https://cdn.jsdelivr.net/gh/bmabey/pyLDAvis@3.3.1/pyLDAvis/js/ldavis.v1.0.0.css\">\n",
              "\n",
              "\n",
              "<div id=\"ldavis_el8811401010127296805083783530\"></div>\n",
              "<script type=\"text/javascript\">\n",
              "\n",
              "var ldavis_el8811401010127296805083783530_data = {\"mdsDat\": {\"x\": [0.06751260977838015, -0.1544818325396661, -0.06425578555997015, -0.17404387735887514, 0.005514008046405549, 0.12246872663212778, 0.08499092513877946, -0.12241604630967876, 0.10901896217007108, -0.03748289915069322, -0.030265891610437256, 0.024818043454870885, -0.07700087962548584, -0.19256025729232892, 0.01791566723047343, 0.05545551609924287, 0.17363528854473134, 0.05244822657153221, -0.21739436325760222, 0.19311627504877588, 0.16300758398934562], \"y\": [0.08606648155797977, -0.16069277306960006, 0.13387027847195668, 0.04472645005944544, 0.02260283338991621, -0.018925990509579996, 0.16025338603679434, -0.08009562154796693, -0.2119360515492283, -0.2009655370255708, -0.013244155006864381, -0.004912599431729764, 0.119415946135009, 0.03446346183925854, -0.12039628102563228, -0.020789388230859566, 0.0745906526953817, -0.03355847175341418, 0.11112944797408132, -0.028484461548306035, 0.10688239253892907], \"topics\": [1, 2, 3, 4, 5, 6, 7, 8, 9, 10, 11, 12, 13, 14, 15, 16, 17, 18, 19, 20, 21], \"cluster\": [1, 1, 1, 1, 1, 1, 1, 1, 1, 1, 1, 1, 1, 1, 1, 1, 1, 1, 1, 1, 1], \"Freq\": [5.0646376293203295, 4.368299757189496, 4.624174774349025, 4.82457100988705, 6.108078966729271, 5.025832125421024, 5.45361472169412, 4.732547178278412, 4.440413015516328, 3.6956593384499627, 4.9726199799192345, 5.1116343511193, 4.578532866167849, 3.501053415662502, 4.201037554115518, 4.67576310721911, 4.197718216334277, 4.389353120254167, 6.235683505282035, 5.069043579956825, 4.72973178713415]}, \"tinfo\": {\"Term\": [\"programming\", \"javascript\", \"games\", \"apps\", \"application\", \"game\", \"python\", \"applications\", \"hands\", \"app\", \"machine\", \"coding\", \"learning\", \"developer\", \"code\", \"website\", \"language\", \"machine learning\", \"mobile\", \"framework\", \"world\", \"web\", \"real\", \"mysql\", \"database\", \"introduction\", \"social\", \"media\", \"real world\", \"quickly\", \"javascript\", \"object\", \"looking\", \"copywriting\", \"detailed\", \"dynamic\", \"running\", \"modern\", \"engaging\", \"pass\", \"ecommerce\", \"store\", \"courses\", \"manager\", \"websites\", \"traffic\", \"text\", \"website\", \"wordpress\", \"method\", \"image\", \"test\", \"open\", \"portfolio\", \"free\", \"exam\", \"professional\", \"publish\", \"blog\", \"certification\", \"get\", \"web\", \"first\", \"design\", \"learning\", \"developers\", \"program\", \"services\", \"processing\", \"neural\", \"technology\", \"operations\", \"modeling\", \"credit\", \"big\", \"made\", \"case\", \"study\", \"profits\", \"studies\", \"self\", \"set\", \"risk\", \"agile\", \"certification\", \"networks\", \"publishing\", \"sell\", \"books\", \"analysis\", \"products\", \"image\", \"training\", \"book\", \"confidence\", \"data\", \"python\", \"animation\", \"animations\", \"social media\", \"tool\", \"solve\", \"optimization\", \"intelligence\", \"media\", \"friendly\", \"social\", \"assets\", \"motion\", \"common\", \"avoid\", \"budget\", \"branding\", \"graphics\", \"effects\", \"problems\", \"entrepreneur\", \"seo\", \"graphic\", \"marketing\", \"text\", \"traffic\", \"characters\", \"action\", \"free\", \"beginner\", \"improve\", \"tools\", \"strategies\", \"business\", \"online\", \"design\", \"basics\", \"architecture\", \"rank\", \"shopify\", \"taught\", \"research\", \"tax\", \"super\", \"thousands\", \"overview\", \"customer\", \"industry\", \"engagement\", \"change\", \"give\", \"plan\", \"key\", \"managing\", \"including\", \"practices\", \"organization\", \"service\", \"dropshipping\", \"managers\", \"entrepreneurs\", \"analytics\", \"secrets\", \"impact\", \"public\", \"product\", \"seo\", \"implement\", \"business\", \"data\", \"marketing\", \"deep\", \"deep learning\", \"stock\", \"version\", \"artificial\", \"works\", \"bitcoin\", \"cryptocurrency\", \"buy\", \"forex trading\", \"value\", \"stock trading\", \"successfully\", \"forex\", \"personal\", \"designs\", \"mobile\", \"trading\", \"app\", \"perfect\", \"includes\", \"trade\", \"growth\", \"invest\", \"depth\", \"drive\", \"market\", \"investing\", \"working\", \"expert\", \"insights\", \"latest\", \"learning\", \"strategies\", \"development\", \"functional\", \"beginner advanced\", \"fundamental\", \"series\", \"crash\", \"structure\", \"animated\", \"drawing\", \"communication\", \"coaching\", \"language\", \"blueprint\", \"action\", \"faster\", \"principles\", \"programming\", \"presentations\", \"graphic\", \"beginner\", \"advanced\", \"write\", \"basic\", \"boost\", \"price\", \"techniques\", \"powerful\", \"depth\", \"skills\", \"tools\", \"master\", \"beginners\", \"basics\", \"scratch\", \"projects\", \"development\", \"learning\", \"game\", \"apps\", \"api\", \"deploy\", \"popular\", \"custom\", \"let\", \"tutorials\", \"important\", \"source\", \"channel\", \"technical\", \"watch\", \"secret\", \"theory\", \"productivity\", \"fiverr\", \"live\", \"ready\", \"performance\", \"starting\", \"youtube\", \"virtual\", \"latest\", \"open\", \"clients\", \"development\", \"develop\", \"video\", \"code\", \"web\", \"scratch\", \"based\", \"get\", \"projects\", \"server\", \"testing\", \"science\", \"data science\", \"sql server\", \"teaches\", \"developing\", \"visualization\", \"email marketing\", \"creation\", \"grow business\", \"campaign\", \"support\", \"brand\", \"team\", \"long\", \"earn\", \"account\", \"core\", \"win\", \"computer\", \"much\", \"sql\", \"grow\", \"portfolio\", \"used\", \"data\", \"email\", \"career\", \"clients\", \"python\", \"marketing\", \"business\", \"automation\", \"explore\", \"complex\", \"also\", \"skill\", \"preparation\", \"solving\", \"linkedin\", \"problem\", \"creative\", \"paid\", \"convert\", \"freelance\", \"finance\", \"exercises\", \"comprehensive\", \"add\", \"applications\", \"python\", \"book\", \"impact\", \"exam\", \"system\", \"basics\", \"publishing\", \"test\", \"new\", \"writing\", \"simple\", \"problems\", \"understand\", \"programming\", \"web\", \"data\", \"fundamentals\", \"development\", \"games\", \"oriented\", \"options\", \"functions\", \"connect\", \"network\", \"designed\", \"demand\", \"attract\", \"show\", \"transform\", \"prepare\", \"print\", \"professionals\", \"people\", \"customers\", \"realistic\", \"line\", \"implement\", \"better\", \"help\", \"excel\", \"networks\", \"add\", \"understand\", \"exam\", \"improve\", \"gain\", \"professional\", \"approach\", \"online\", \"basics\", \"learning\", \"data\", \"beginners\", \"programs\", \"advertising\", \"followers\", \"needed\", \"journey\", \"modelling\", \"photo\", \"production\", \"markets\", \"copy\", \"targeted\", \"look\", \"essentials\", \"quickly\", \"different\", \"succeed\", \"started\", \"confident\", \"company\", \"easily\", \"advance\", \"videos\", \"financial\", \"fast\", \"content\", \"fundamentals\", \"questions\", \"basic\", \"video\", \"excel\", \"master\", \"scratch\", \"developer\", \"bootstrap\", \"platform\", \"features\", \"interview\", \"dive\", \"digital marketing\", \"solutions\", \"project based\", \"ease\", \"essential\", \"information\", \"turn\", \"idea\", \"potential\", \"user\", \"job\", \"mastering\", \"next\", \"editing\", \"leverage\", \"digital\", \"analyze\", \"software\", \"based\", \"questions\", \"books\", \"career\", \"project\", \"product\", \"skills\", \"web\", \"development\", \"advanced\", \"marketing\", \"projects\", \"stack\", \"library\", \"power\", \"google\", \"foundation\", \"never\", \"designer\", \"days\", \"designing\", \"short\", \"exams\", \"substance\", \"corporate\", \"becoming\", \"winning\", \"results\", \"startup\", \"hands\", \"part\", \"launch\", \"planning\", \"beautiful\", \"leadership\", \"blog\", \"practice\", \"successful\", \"home\", \"entrepreneur\", \"practical\", \"profit\", \"business\", \"projects\", \"scratch\", \"development\", \"useful\", \"low\", \"engineering\", \"statements\", \"high quality\", \"elements\", \"ultimate\", \"passive\", \"generation\", \"passive income\", \"following\", \"lessons\", \"wealth\", \"investment\", \"competition\", \"income\", \"quality\", \"lean\", \"cost\", \"model\", \"high\", \"lead\", \"topics\", \"pages\", \"success\", \"books\", \"risk\", \"clients\", \"profit\", \"home\", \"improve\", \"business\", \"projects\", \"strategy\", \"understand\", \"practical\", \"machine learning\", \"machine\", \"photoshop\", \"efficient\", \"stunning\", \"enhance\", \"covering\", \"masterclass\", \"landing\", \"smart\", \"things\", \"run\", \"vector\", \"internet\", \"instagram\", \"see\", \"workflow\", \"thinking\", \"amazon\", \"figure\", \"converting\", \"publish\", \"required\", \"learning\", \"book\", \"pages\", \"python\", \"experience\", \"method\", \"high\", \"beginners\", \"design\", \"web\", \"basics\", \"skills\", \"tutorial\", \"forms\", \"wordpress website\", \"absolute\", \"class\", \"systems\", \"files\", \"various\", \"methods\", \"campaigns\", \"templates\", \"quick\", \"inventory\", \"project management\", \"prior\", \"apply\", \"characters\", \"included\", \"knowledge\", \"project\", \"process\", \"concepts\", \"management\", \"discover\", \"wordpress\", \"beginners\", \"required\", \"effective\", \"practical\", \"excel\", \"website\", \"examples\", \"master\", \"programming\", \"scratch\", \"studio\", \"interactive\", \"covers\", \"desktop\", \"concept\", \"setting\", \"good\", \"fashion\", \"reports\", \"achieve\", \"teach\", \"deliver\", \"art\", \"audience\", \"application\", \"identify\", \"presentation\", \"pro\", \"save\", \"ideas\", \"code\", \"highly\", \"presentations\", \"develop\", \"design\", \"writing\", \"fun\", \"converting\", \"faster\", \"virtual\", \"scratch\", \"master\", \"manage\", \"professional\", \"simple\", \"programming\", \"data\", \"mysql\", \"databases\", \"search\", \"automate\", \"patterns\", \"updated\", \"control\", \"enterprise\", \"unique\", \"bring\", \"bookkeeping\", \"years\", \"tasks\", \"human\", \"minutes\", \"introduction\", \"understanding\", \"making\", \"resources\", \"accounting\", \"money\", \"right\", \"gain\", \"projects\", \"experience\", \"manage\", \"work\", \"agile\", \"sql\", \"working\", \"system\", \"design\", \"development\", \"concepts\", \"practical\", \"basics\", \"site\", \"secure\", \"generate\", \"facebook\", \"well\", \"even\", \"real life\", \"getting\", \"environment\", \"local\", \"affiliate marketing\", \"increase sales\", \"affiliate\", \"leads\", \"proven\", \"ads\", \"businesses\", \"list\", \"visual\", \"approach\", \"selling\", \"sales\", \"increase\", \"life\", \"certified\", \"email\", \"profitable\", \"product\", \"online\", \"profit\", \"marketing\", \"business\", \"get\", \"net\", \"web applications\", \"real world\", \"single\", \"many\", \"template\", \"future\", \"explained\", \"stocks\", \"standard\", \"tricks\", \"tips tricks\", \"real estate\", \"estate\", \"models\", \"world\", \"style\", \"confidence\", \"fun\", \"page\", \"tips\", \"real\", \"first\", \"examples\", \"applications\", \"line\", \"investing\", \"invest\", \"web\", \"framework\", \"develop\", \"concepts\", \"project\", \"code\", \"scratch\", \"development\", \"coding\", \"database\", \"algorithms\", \"driven\", \"responsive\", \"multiple\", \"front\", \"setup\", \"students\", \"intermediate\", \"users\", \"promote\", \"small\", \"effectively\", \"stop\", \"growing\", \"small business\", \"decisions\", \"necessary\", \"optimize\", \"less\", \"speaking\", \"subscribers\", \"framework\", \"public\", \"price\", \"web\", \"scratch\", \"websites\", \"beginners\", \"experience\", \"data\", \"design\", \"app\", \"programming\", \"beginner\"], \"Freq\": [497.0, 338.0, 265.0, 291.0, 277.0, 284.0, 389.0, 326.0, 255.0, 294.0, 194.0, 198.0, 399.0, 194.0, 231.0, 288.0, 196.0, 174.0, 207.0, 197.0, 210.0, 453.0, 265.0, 146.0, 150.0, 149.0, 146.0, 139.0, 142.0, 141.0, 338.596096062779, 78.16390123340614, 31.722626848603642, 22.120903306209275, 23.926532788138545, 64.034529184958, 34.78349094395237, 112.43596492703422, 23.148629747755425, 19.777820048779343, 42.378724213825166, 70.0800700271714, 32.61528347416194, 27.5918892775479, 98.82173735654325, 52.66336376709018, 31.984711169208946, 202.0749953171043, 117.53494934301258, 19.878728938270793, 35.74385252089632, 51.92924294557665, 17.301177593399608, 14.03471917397287, 43.77200440258753, 14.713887309855153, 57.842608663958856, 14.012081653138392, 22.07404053380138, 11.130804140554334, 42.79127716361239, 69.38331920686073, 20.636568835680077, 19.618908567473813, 18.805525775684117, 118.29520897036495, 125.23390788485086, 105.7331629830643, 73.39417972295313, 69.69399461951672, 54.438029312085526, 55.29759689002508, 68.95530554420867, 38.027565159148544, 77.05889940115355, 82.93789904976519, 37.16283364066203, 26.960872201382397, 37.55462801760275, 16.447131882692624, 32.8753270428511, 87.20717495918545, 31.607886609940202, 25.136082617264982, 37.92172143190077, 59.19701323205381, 22.27413569797, 55.097703957597815, 14.53327796731208, 71.61972150520371, 33.54424493729486, 20.4920117230348, 44.65995098994857, 6.261053227197314, 4.969548370880552, 44.03333716063287, 37.76735576395221, 112.65951217162534, 90.24738283902914, 116.01638543576323, 91.19264754761652, 57.7367130864066, 58.35385896975718, 64.57230591237341, 139.24790015959414, 51.9852912648392, 145.68392075020458, 41.4830769887442, 23.31515023631247, 41.432268884287275, 33.38501180658745, 27.51090061652242, 23.358049361746307, 65.17881863287396, 80.85895355772267, 49.95805439605468, 11.431364056298534, 98.11951226617619, 7.963181976906912, 92.62471975390989, 10.762338628397396, 8.828625752486788, 5.30569642409855, 2.9257452224687097, 13.961856427326673, 21.128744487704243, 9.43246212936676, 13.780609743585398, 11.549773982939456, 20.909096560573413, 15.12049116426542, 16.213988300970986, 12.19835268716666, 73.1668053582392, 47.47228154865888, 47.88366624227568, 38.06292369968697, 50.591543850483596, 32.74678064243189, 41.790952924964216, 32.91426754665781, 33.82818075989053, 50.111647779993646, 90.29250235681839, 28.862450774193615, 36.858744052540835, 41.41170872001963, 66.5781106578932, 46.85117752951935, 26.808456189131473, 127.48564762588911, 92.28512224524525, 21.010237821736077, 70.9245127895243, 30.90425141154924, 19.4487476306034, 31.811681528086584, 83.2615331354866, 48.74240344313357, 6.471899603829729, 4.679215535693187, 14.753133175276792, 35.77500082866469, 16.47978129066334, 37.55096624861928, 37.315533025337935, 30.374671690672756, 132.42225592529948, 87.92771031957973, 64.18243432023475, 62.01891476245375, 51.38326757479134, 40.59578265569959, 32.353543465345254, 33.28116197841936, 30.922833995984817, 19.255862747913497, 35.58010360435806, 15.71206586233689, 20.166949944074357, 48.95353002635838, 45.60393825881013, 36.5720160037091, 196.2096984826574, 108.69164528462979, 272.04722034121414, 50.30943901264133, 78.08015327640466, 40.10884505545657, 35.45918951053865, 19.93462562424049, 54.34544110452822, 30.76240212591063, 70.42309528175079, 31.274494989351307, 40.042571941911255, 138.7633567091575, 22.198972503678082, 34.159347502007485, 52.857448505720974, 32.42497210823301, 28.236147440504915, 82.59926489717897, 46.913240748737635, 37.505651181808354, 35.44035758564372, 33.46855800507982, 30.285611635347315, 24.378157432357984, 22.87469713963852, 20.346836750779445, 12.06002067581915, 191.44695603432544, 16.1053546681935, 21.549805511469064, 31.730452259439545, 45.371278188061545, 373.9136205655509, 12.176565430040613, 20.75701746325302, 142.88929191704875, 153.6176409317308, 52.41020226551823, 70.50141789649604, 21.713089425095045, 6.311599008527089, 49.18696026937665, 35.58035334667442, 14.449394157750296, 43.51111026591503, 28.248038573336032, 49.845138518216224, 45.82016718888289, 41.14950833271028, 35.529095473357444, 24.105502198320327, 22.658448326597508, 21.784382290926164, 284.75113040050826, 291.3330672339206, 129.1290566523726, 92.10340085333695, 62.52205518007918, 46.80284493782786, 41.353218033901626, 35.53750830201785, 45.675964229889125, 45.014169801653445, 20.211443960307662, 33.497903062351604, 18.677390798277266, 18.09635337917507, 28.605993474151898, 12.121311963175701, 11.015639284975398, 56.42951902247603, 49.868570920833776, 47.867300243504694, 24.854350286388215, 64.05073660643745, 31.390045055962652, 54.07391392679653, 15.096405076598213, 21.231601076371227, 142.66111244615306, 38.13274433305125, 27.08432532456889, 38.224662118400865, 64.23246436171242, 40.585551656386436, 20.873642918776284, 21.658039815083217, 20.33117639283154, 137.41261126494243, 109.21235713093043, 105.9045254893616, 85.63203342972416, 49.4760186955289, 47.77075068876542, 64.87462774400474, 46.611788350816596, 38.52962236976179, 36.5487700873897, 30.760389892190926, 22.139757607835932, 19.316832201950284, 58.82417846498109, 21.182518052407822, 13.249312025525981, 39.18830274734881, 22.96112837674434, 129.418963785372, 13.126818013213029, 64.45017497040817, 50.86377669435891, 122.26880469068307, 60.495905146844805, 18.881929404467346, 29.67544978850365, 128.00622993383763, 35.768436355351874, 23.345466065719144, 8.085317062338078, 41.255238394804614, 35.31803219641091, 23.527497130668976, 80.0265967699917, 71.54460852062527, 45.6329880533542, 30.87131656086548, 43.449394982574105, 24.650456126170663, 22.86076715247072, 22.674823144526968, 20.150653432544537, 23.94233921172894, 17.816427027664236, 26.46101703826111, 14.026440127186037, 30.29773697155753, 45.60740432687852, 77.91207525346671, 35.09567554262549, 222.14519933409557, 254.18223792376676, 20.994659840886193, 8.564415937286789, 23.861294029694495, 65.03833299618874, 114.69670319671303, 13.2857740835732, 28.954582663836067, 31.01048246369881, 13.578531623070143, 30.454085819019323, 11.389733569315174, 25.639227802877326, 51.60514998095772, 34.24453384371778, 24.344416995645574, 20.558803841061, 19.965395910282066, 265.79497720241676, 77.24456756867504, 58.55581458955791, 67.60366769142921, 51.20376015866054, 57.78736424621959, 55.25884733690373, 40.822261667717854, 33.46976862690487, 50.58370424637716, 30.802492276719825, 29.138703472811056, 19.436044722414415, 41.884661451080774, 48.52511746335969, 63.26502497392485, 26.225046659304656, 35.843840019685246, 67.63520143588859, 54.18684430486211, 45.124139063282506, 14.323334857619486, 19.663908344758838, 10.064877679506928, 30.111372901332366, 7.287983477517055, 15.111024882618038, 5.489148267666175, 13.805773714399528, 7.318489229986721, 11.617162176134999, 13.913204287809387, 14.75287391619549, 14.174951968930745, 13.259701483868904, 56.51367307206835, 50.12826756496423, 43.175548713782206, 49.6598686017078, 49.73335162774905, 31.66413527346098, 28.998218767621044, 47.042248374052754, 22.519715088773435, 26.23625910032758, 22.749239860301596, 33.7076416962904, 50.56133441699931, 140.75314493116343, 53.683423422553254, 19.09868147844053, 121.99794398956392, 16.467609811299067, 36.239451485472564, 97.67996227368356, 79.98784631899096, 91.84065919597576, 66.12108757179034, 112.25729248669114, 85.1259273510919, 119.61734398846042, 30.3790151460749, 58.18571281984979, 46.49912005423835, 11.322695315928947, 30.22260843152703, 19.13063374319835, 193.97581690426088, 99.45760267134223, 104.24345790567804, 113.51804801859664, 62.955550369037, 52.28994176399328, 42.68790621253442, 47.9489528599587, 37.05628928851831, 29.248715965157402, 55.63102911295637, 27.210032650490632, 27.227326488831906, 22.889135410940238, 19.819784431611914, 73.6049228018277, 42.331137480596205, 52.07020265397314, 81.7362517059983, 22.09184276645183, 33.226121175571855, 69.83050766090739, 25.16008419418568, 87.34652772218824, 73.28705622597359, 26.95937177436178, 6.362455709720303, 17.817269305970907, 27.46647676496624, 9.351383655513779, 31.63654682913773, 52.78491352852863, 43.48587336860365, 26.387284178413797, 23.648475803227583, 23.248354735248995, 108.1515771865006, 87.40112843457753, 119.98226142635066, 45.769412999271836, 48.83787694101035, 48.92430836584292, 39.4216420594282, 35.384429025767474, 41.14992736144065, 30.140225471814936, 32.63880399087967, 20.82071249181518, 23.71700354811046, 33.449865871074216, 29.028911181940217, 52.901069093844605, 23.793777261308612, 243.95461812240072, 50.261612750468466, 39.52747470618931, 28.615867496701462, 84.02666714790195, 7.42086952357069, 64.11718825897317, 64.01803360789339, 50.56365620717023, 13.822408964107794, 5.636713206833676, 45.60862988590605, 8.430080280305864, 26.32849489083504, 20.602656985616115, 19.505149130067547, 17.928659531815512, 58.38316635989235, 46.22554437717395, 41.79629233687338, 41.78924227375944, 40.32012830761275, 38.477601556936875, 124.68015021225543, 38.60805369414518, 45.7269116465183, 27.02419039574555, 36.23276469052693, 39.004038161936, 21.0106054729905, 38.35778875499009, 19.34263270838573, 90.87720521902524, 88.18036335617231, 14.061252469630915, 54.581670637369115, 89.13801834267903, 88.20696716161041, 34.67688492242739, 60.38697526398396, 71.39381590933351, 12.209991732274535, 3.6467674761705675, 3.754189019940703, 4.798896499121115, 4.33580248328236, 3.046911393622639, 6.474517994471445, 15.479516591258836, 10.094097349193605, 6.469362345369899, 6.922412276526069, 8.01253751156093, 174.5550221103435, 194.20599338878577, 67.60628786084497, 62.783694604605515, 44.68431726846362, 37.75712221456822, 35.75217270142322, 42.469792899831816, 32.860898450415085, 31.460639524513542, 28.575095771893846, 51.21157470586799, 19.3540924276164, 37.32722330884995, 45.64404618087534, 31.894792841456653, 31.245714673107134, 15.584541393980412, 13.26343697174986, 12.364850869847823, 17.695231231137758, 35.80023737966348, 40.39998739691228, 213.85699090877765, 9.150255306574898, 20.37291566957411, 56.51257437221505, 12.11133535964615, 2.890509350840441, 9.8741022100509, 24.245927292603117, 14.694141015448919, 18.93825079198608, 15.336998296452318, 14.258806828774937, 105.2907453494603, 58.21873490458914, 56.55125841580851, 53.28363098573015, 58.42124092203839, 60.73474840717183, 40.624358020149195, 41.98519130171851, 73.33288038562105, 34.09758411258739, 34.95276934622386, 86.04763550212104, 25.35250442473125, 12.51123963568762, 30.21587438015454, 67.86815320759771, 37.31445725813089, 53.20671097272016, 62.116066675831135, 76.67208296663496, 52.62505197643343, 74.32987240388584, 47.659507169612155, 34.83738385041576, 43.64811516549446, 72.10569421194757, 13.908621697466861, 15.53124734568421, 40.30035131292005, 8.794331642648075, 44.95738367114877, 24.638656839946762, 31.209978566519816, 33.27799478415987, 25.6265782913919, 104.04482526086814, 98.15497457593717, 56.86110359741055, 61.754871387375104, 32.042737899178334, 36.021664713446036, 27.274458015862972, 20.4047895355894, 29.388696451224224, 23.107057618478443, 57.984246009156045, 18.646469172419213, 87.91368778353068, 39.790356306520906, 267.12044138531627, 13.956902538477229, 12.370027796948685, 88.37846484893187, 26.197467517024823, 33.33512911986566, 174.17985617625033, 30.60907875730502, 4.4115481464428665, 42.66888398889995, 41.648743495699044, 12.939077671046444, 7.939539208299061, 3.449415471764267, 6.090135516336313, 5.488044137088421, 35.21288693650509, 27.090335449320577, 8.462009442436388, 13.252558172727872, 12.553090059263715, 18.06671710858914, 14.570959623005038, 146.60721856269242, 78.2732800959676, 74.69281702580393, 63.652682895765835, 66.52564884861833, 42.95360265832582, 53.459304582515294, 36.29481392097342, 37.461913070521454, 26.10744354462594, 17.08251642376899, 18.850858230955875, 43.30855760248619, 9.763386704777652, 46.60736392959946, 144.9871936279624, 74.3935717304509, 80.59682655941353, 22.232918866825077, 68.5354048460229, 47.09574099791052, 61.089744308715346, 18.33960953291145, 68.88235720451948, 24.91774523025259, 13.131268026926268, 22.62960892315717, 5.860016732655845, 26.957270160880206, 7.882223005465215, 16.81102827672051, 22.597927594730532, 28.09762148181447, 18.772510004160424, 20.59315479199626, 17.977426557417047, 99.31633091290247, 95.78940904054457, 74.1670892108457, 62.54313210068594, 44.279544358426016, 59.974162647636426, 41.233271147989555, 39.84837112143676, 60.98089614195359, 50.27938774824125, 40.66735906800707, 23.778398064719497, 72.74111794382615, 69.48561535557235, 62.34613329083167, 154.06948709073845, 24.93856627380749, 62.94325474208935, 102.34313356550281, 89.16760816158168, 50.38998869642962, 110.43681902991352, 66.31704133436183, 70.39828740782, 43.29188217569777, 72.89978911394901, 32.47221149938359, 32.85253006626877, 70.72606370791637, 15.66727479013373, 100.86455917098603, 65.72005621109099, 28.48837664138609, 97.63837236535261, 81.18896175282528, 141.9865652885547, 58.054313397420536, 49.85998526279535, 35.4217175619932, 32.93032245099221, 30.77406373346388, 26.81431530421207, 28.306736841450977, 28.703957445258663, 15.057377216936052, 13.39178502218501, 14.276917424149731, 70.53644956221129, 181.1001877426394, 33.915611455250705, 27.596087153336914, 37.51640066417746, 80.04495944788884, 41.34877672221314, 187.78696512327153, 98.21312032656573, 97.98095561855659, 94.59139362735003, 8.928024893807766, 7.598995929060424, 4.429389892369149, 73.70501614552126, 30.336658188464597, 22.5581094273947, 22.10968894185211, 15.763887891728823, 18.641270979422192, 19.05570663313757, 18.035271142344907, 198.79377763080336, 149.97208123319948, 71.8903307250379, 62.205405741619714, 90.36403703989065, 47.57620222559082, 45.789820030415804, 44.53041432318052, 45.090550268184295, 41.849509703513945, 28.91459232070849, 24.72876020028966, 27.533273260471958, 33.62625609871958, 21.984182701798076, 17.955650271120412, 15.558395835042935, 15.869414849938602, 16.41896665373004, 29.567771582451325, 44.64154041990779, 7.100644045077323, 18.846160249894186, 166.71504041476268, 12.082355760299178, 11.83358135604503, 117.83231348063578, 88.20848398767062, 30.287783085478047, 67.9512206235003, 27.475751075013715, 27.891839664798468, 21.241051165254323, 22.11668204251222, 19.67717598061119, 18.4464298085742], \"Total\": [497.0, 338.0, 265.0, 291.0, 277.0, 284.0, 389.0, 326.0, 255.0, 294.0, 194.0, 198.0, 399.0, 194.0, 231.0, 288.0, 196.0, 174.0, 207.0, 197.0, 210.0, 453.0, 265.0, 146.0, 150.0, 149.0, 146.0, 139.0, 142.0, 141.0, 338.70995915552123, 78.27776432614847, 31.840916496858867, 22.24377316189964, 24.08645075468795, 64.5805732808299, 35.125092950304804, 115.26269826044808, 24.058189848690567, 21.044666273385484, 48.96083321696334, 83.20717468865438, 38.935017024755595, 35.603941352828436, 129.28963695237505, 69.44938938969385, 42.85402760288774, 288.1336551580857, 175.19377711735524, 31.105853596331297, 56.63687088264347, 97.4048433092496, 32.60946385026732, 33.02892522602306, 119.59939254944314, 46.28631253744622, 183.46995794132113, 49.95987934103025, 90.05924268823178, 49.29974165500154, 226.64544541314314, 453.62582363160567, 151.6729569092611, 232.69283539546117, 399.79122111091374, 118.41126561448868, 125.39253339291751, 105.87425518403744, 73.50530045319229, 69.80511534975588, 54.576905675693205, 55.43930446304022, 69.15389663307927, 38.14592318920696, 77.32763142001524, 83.25869161221623, 37.31764187891306, 27.080257612192728, 37.79987475763049, 16.578505855107274, 33.38357372388034, 96.6788290034894, 36.55096980407803, 31.16994679566861, 49.29974165500154, 78.96670192546162, 37.09022890274527, 93.06089000252996, 26.032141092318344, 135.81589757070552, 72.63232440125459, 56.63687088264347, 161.61598329628637, 39.37874141496306, 32.81517161340122, 362.95597786263147, 389.8175363341485, 112.77063835965413, 90.37015563624632, 116.19455469345604, 91.36154834599274, 57.85565750009045, 58.47780046710547, 64.71329364380645, 139.57504923367193, 52.108546506728125, 146.10943455600804, 41.620727538207305, 23.42627642434124, 41.635177759120126, 33.576923023024534, 27.68424169662717, 23.513478606367435, 66.02065387764003, 86.45173862611271, 61.468314577104024, 17.21705057778389, 159.14772909884482, 28.826482530360945, 365.8854786205883, 42.85402760288774, 69.44938938969385, 42.72534155725593, 24.5897626147036, 119.59939254944314, 210.14490774443684, 97.30054563675726, 145.9203588229394, 122.65588350768634, 306.47701513103175, 202.6976890258826, 232.69283539546117, 278.5731418173587, 73.2771666972057, 47.58457059196772, 47.99797909850402, 38.17969636926829, 50.75850481496393, 32.85714198139835, 41.93777918578331, 33.0324432705223, 33.94984530394564, 50.294389231601464, 90.69945863015226, 28.99285424100143, 37.03989953423003, 41.624244267499435, 66.93884460888945, 47.14914975458015, 26.98458377654169, 129.13374337026067, 93.50697184280104, 21.35632852868588, 72.59058944296991, 31.85715191974396, 20.072610812950856, 34.63849277127164, 102.42750792531984, 91.5059825815876, 16.358563080343124, 17.68973869964966, 65.59064227630417, 159.14772909884482, 85.06203354907332, 306.47701513103175, 362.95597786263147, 365.8854786205883, 132.5720572516277, 88.0696439729208, 64.29690552578943, 62.14018059884164, 51.495854731033475, 40.720315455935236, 32.48429240179202, 33.442448825778285, 31.099039267072527, 19.371465414263383, 35.82441625397023, 15.825282160406584, 20.324084047633107, 49.44455545720625, 47.36383490158483, 38.57310155541882, 207.3519174697804, 116.25894145530218, 294.2735389689438, 55.37571934853745, 87.76451013916054, 45.38460745167524, 41.57382088217274, 24.507862861199442, 68.99327375502429, 39.814019686506725, 92.70151216932175, 41.54191991333936, 53.2376968649684, 185.53310968819335, 30.83555731553687, 88.34165797606022, 399.79122111091374, 122.65588350768634, 365.63660224258615, 82.7124332748409, 47.03025971845602, 37.62111042097878, 35.56126427089745, 33.586067838889996, 30.402613907864126, 24.491325810019898, 23.034697357247325, 20.526568648780998, 12.20499440776226, 196.12667701820047, 16.970539313497117, 24.5897626147036, 37.966749357578514, 54.664187033688165, 497.2237293764163, 16.728007218916044, 28.826482530360945, 210.14490774443684, 261.62280306359014, 107.08959884709509, 185.24967284011672, 59.27945095381405, 18.266115252528138, 175.30718420792826, 126.87961408204924, 68.99327375502429, 222.08479196741536, 145.9203588229394, 297.780953779442, 300.1799552824556, 278.5731418173587, 344.8704766722297, 237.58438286184278, 365.63660224258615, 399.79122111091374, 284.864972549317, 291.4549709857798, 129.24289880118144, 92.21724300214575, 62.65469854527942, 46.916966979749276, 41.47192924497555, 35.6530671904079, 45.84573375454604, 45.22258658363792, 20.330936118024095, 33.70052201630883, 18.79537064721185, 18.216646286242206, 28.802342469596326, 12.277686387826991, 11.207783609472001, 58.3590913795645, 51.95707309881257, 51.17330905430748, 27.36750882434091, 72.59261377209793, 37.043475441088475, 88.34165797606022, 32.60946385026732, 50.32675535548789, 365.63660224258615, 169.05131621942414, 154.98980138519963, 231.1634087655677, 453.62582363160567, 344.8704766722297, 126.3143764358796, 226.64544541314314, 237.58438286184278, 137.53359626996715, 109.3369616649334, 106.03364592896489, 85.75079009235883, 49.59013571337608, 47.88792122795387, 65.03969575063928, 46.74849955216813, 38.64513239896636, 36.66272999344302, 30.894747005040298, 22.257000100708833, 19.490921504432432, 59.356877175269, 21.412872279487146, 13.421263090117144, 39.75094591812473, 23.338727184555193, 132.0336035423459, 13.45790649938592, 69.1264933575556, 57.763299683291685, 149.3459982018881, 81.27537815375412, 33.02892522602306, 76.78452081165108, 362.95597786263147, 115.39282428569754, 90.50596126183432, 50.32675535548789, 389.8175363341485, 365.8854786205883, 306.47701513103175, 80.14134179996277, 71.65834061229178, 45.76525088471555, 30.98504865253196, 43.62181836469183, 24.77950127564708, 22.992405847855544, 22.811542703802587, 20.291128726165265, 24.11461324555592, 17.954465409751215, 27.65144814795978, 15.549888511783745, 33.81747257005823, 54.316912003705106, 93.02286133317077, 45.346668934509, 326.14318001573935, 389.8175363341485, 39.37874141496306, 16.358563080343124, 46.28631253744622, 149.98232244913436, 278.5731418173587, 37.09022890274527, 97.4048433092496, 138.0153705751356, 72.58916499487923, 163.59903650716407, 61.468314577104024, 151.0054139405027, 497.2237293764163, 453.62582363160567, 362.95597786263147, 222.64789227393888, 365.63660224258615, 265.9073128161948, 77.3569031824531, 58.670792540705, 67.74218179662876, 51.32767484975413, 57.94434216932329, 55.413617887921866, 40.939141704624824, 33.591475500475475, 50.76802681309492, 30.936320582733924, 29.306220425054068, 19.588335392947243, 42.26336536011624, 49.76567287282973, 65.69245037672756, 29.205003810476335, 44.87963203616163, 85.06203354907332, 87.4560441963945, 93.96112494176182, 55.04199480578162, 78.96670192546162, 45.346668934509, 151.0054139405027, 46.28631253744622, 97.30054563675726, 63.16371591345901, 183.46995794132113, 104.1591353377684, 202.6976890258826, 278.5731418173587, 399.79122111091374, 362.95597786263147, 300.1799552824556, 56.626790168345174, 50.24027744054572, 43.28755858936369, 49.79342347032331, 49.90519438894862, 31.77949970634452, 29.110228643202543, 47.23422656478506, 22.631724964354934, 26.36862100882904, 22.871801600263467, 33.90329720123085, 50.87076657989735, 141.6651659477264, 54.04657958690314, 19.26547015974652, 123.16553703933637, 16.632327033634166, 36.74177331476494, 107.88045886965153, 91.61199019094285, 105.55511423438814, 93.80665252076165, 168.06852955412566, 128.5010216260132, 222.64789227393888, 68.4112094556329, 185.24967284011672, 154.98980138519963, 55.04199480578162, 297.780953779442, 344.8704766722297, 194.09123149677896, 99.5708685406565, 104.42114368879703, 113.71464368895255, 63.07453110851412, 52.40512504173485, 42.80117208184867, 48.07639069988103, 37.169897126642994, 29.36966006000901, 55.87825138819474, 27.34650876395096, 27.386648072834074, 23.02954912074835, 19.944130360837395, 74.11798940255484, 43.128076654991006, 53.360114720831604, 85.05739127081523, 23.015555325646126, 36.00955428759385, 81.7040258307192, 29.51383301051825, 125.6206976331296, 126.3143764358796, 68.4112094556329, 26.032141092318344, 90.50596126183432, 154.3011085363478, 65.59064227630417, 222.08479196741536, 453.62582363160567, 365.63660224258615, 261.62280306359014, 365.8854786205883, 237.58438286184278, 108.26320367330528, 87.51241270348167, 120.23575763438424, 45.881989445293655, 48.966349675130836, 49.056958144425806, 39.54472822283995, 35.50502758057263, 41.294917137949646, 30.259973715058706, 32.793436205417436, 20.931996760719297, 23.85493488905492, 33.69972427410323, 29.53644038119964, 54.04795504711998, 24.539642489529758, 255.46562342001369, 53.567418297911985, 42.491285645781026, 31.774489672059126, 98.05169107975975, 8.986453440982096, 90.05924268823178, 105.53523328870226, 90.63726243255988, 41.0771814562073, 17.21705057778389, 250.7975277176187, 48.36952931826959, 306.47701513103175, 237.58438286184278, 344.8704766722297, 365.63660224258615, 58.508777391811805, 46.33555074534625, 41.909315772297354, 41.903229743589804, 40.43331986243416, 38.589089468029655, 125.09047137690962, 38.742064280287856, 45.91549552800408, 27.14642563705463, 36.410634883061604, 39.22060093407916, 21.141902497731095, 38.605281411326935, 19.479196162490563, 92.1257937934305, 90.01283686708072, 14.359118239369257, 58.285803733312044, 95.80054887488454, 108.25313597052576, 42.81982206996582, 77.56669094133977, 91.87148684587709, 67.36358865373717, 26.032141092318344, 36.55096980407803, 50.32675535548789, 48.36952931826959, 41.0771814562073, 97.30054563675726, 306.47701513103175, 237.58438286184278, 103.42499911144476, 151.0054139405027, 250.7975277176187, 174.70726538767968, 194.3825214181982, 67.7190482351318, 62.95505085819893, 44.81894148180796, 37.880004155214536, 35.86910059424117, 42.612319485280885, 32.97365882470187, 31.580866051659545, 28.696537867692246, 51.44343599996864, 19.466852801903205, 37.57382880469568, 45.95200878905346, 32.13416689298574, 31.544031050658983, 15.842764486405558, 13.855367682367188, 13.756903284317001, 21.255823422800166, 49.95987934103025, 59.16396752607283, 399.79122111091374, 39.37874141496306, 91.87148684587709, 389.8175363341485, 125.96163204968391, 31.105853596331297, 108.25313597052576, 300.1799552824556, 232.69283539546117, 453.62582363160567, 278.5731418173587, 222.08479196741536, 105.43112970657788, 58.33080806707653, 56.66627576314582, 53.39842895108022, 58.563810841916265, 60.897010373509836, 40.747814808969586, 42.11379359499397, 73.5730750521382, 34.20965727507478, 35.13166038000113, 86.51671719729526, 25.516692923549243, 12.643881754183239, 32.29289181657567, 72.60991792687605, 42.72534155725593, 71.16472763814527, 97.52956618509592, 154.3011085363478, 110.02744267727894, 184.69714419022728, 131.30718631293786, 109.57863717618066, 175.19377711735524, 300.1799552824556, 59.16396752607283, 82.28287786457115, 250.7975277176187, 55.04199480578162, 288.1336551580857, 180.81514861020068, 297.780953779442, 497.2237293764163, 344.8704766722297, 104.19138758882652, 98.29900441937788, 56.982841853642135, 61.91109781872869, 32.15572112052332, 36.1586466764571, 27.41713157009618, 20.517326530423798, 29.553404960949454, 23.249233710803598, 58.35552089637728, 18.77498222262846, 88.80514322683119, 40.23798715400169, 277.38573390813394, 14.526681363302323, 13.638396550429963, 100.32556334492276, 30.82250882430231, 39.47128793151925, 231.1634087655677, 43.8044916590265, 16.728007218916044, 169.05131621942414, 232.69283539546117, 72.58916499487923, 48.24384887850856, 21.255823422800166, 37.966749357578514, 37.043475441088475, 344.8704766722297, 297.780953779442, 67.73444403733743, 183.46995794132113, 163.59903650716407, 497.2237293764163, 362.95597786263147, 146.7213721064745, 78.38903694597161, 74.81251528586144, 63.76525140753231, 66.65051366422415, 43.079338228928144, 53.62029748441105, 36.41898836144808, 37.62593514838321, 26.22594605254662, 17.196718162476287, 19.0094132714074, 43.828490651301365, 10.01031105238798, 47.792033250927325, 149.55707521365838, 77.55153749251562, 85.06010275705911, 24.621939313517938, 77.55059045432897, 57.93037139248488, 75.42305005634452, 63.16371591345901, 237.58438286184278, 125.96163204968391, 67.73444403733743, 119.14728097693379, 31.16994679566861, 149.3459982018881, 53.2376968649684, 149.98232244913436, 232.69283539546117, 365.63660224258615, 184.69714419022728, 250.7975277176187, 278.5731418173587, 99.42949166002633, 95.9017132040343, 74.29554285156105, 62.6559231503679, 44.396554809196765, 60.13392888788915, 41.34657854264818, 39.984759748265795, 61.1992377618081, 50.467511215720506, 40.85103307370817, 23.902579182190582, 73.19891125858346, 69.98028639592154, 62.98833707059364, 158.39503555611685, 25.944043494568458, 70.33384355684198, 115.13714488353112, 104.1591353377684, 60.61366638155897, 159.0301310874666, 98.3064124412652, 105.15787081877949, 65.08985413245814, 115.39282428569754, 56.42251355948943, 65.59064227630417, 202.6976890258826, 48.36952931826959, 365.8854786205883, 306.47701513103175, 226.64544541314314, 97.75181534973288, 81.30240473720555, 142.21819244888303, 58.181426531226485, 50.00407352556133, 35.54383203812079, 33.053123072393646, 30.90524345688583, 26.930842305172877, 28.435275864888506, 28.897522600303827, 15.178840557744604, 13.5314268129018, 14.43026992101138, 71.60616625301122, 210.11668938892862, 39.42626704551025, 32.81517161340122, 48.24384887850856, 105.91654702023727, 58.16673008405029, 265.7882662897393, 151.6729569092611, 180.81514861020068, 326.14318001573935, 44.87963203616163, 41.54191991333936, 24.507862861199442, 453.62582363160567, 197.46580829059204, 169.05131621942414, 184.69714419022728, 154.3011085363478, 231.1634087655677, 344.8704766722297, 365.63660224258615, 198.92110640208176, 150.11306059375514, 72.00418673757106, 62.32553616603816, 90.59069585236495, 47.69617133384538, 45.905615510000224, 44.64904248237713, 45.211099649758026, 41.9633657160471, 29.028448333241645, 24.844807066455704, 27.679509779159435, 33.81516053065471, 22.12839109497771, 18.08497167526488, 15.677883508291064, 16.002803825950757, 16.608109691175283, 30.08680610101526, 45.58805509650597, 7.398132623288585, 21.57854131792488, 197.46580829059204, 17.68973869964966, 18.266115252528138, 453.62582363160567, 344.8704766722297, 129.28963695237505, 300.1799552824556, 125.96163204968391, 362.95597786263147, 232.69283539546117, 294.2735389689438, 497.2237293764163, 210.14490774443684], \"Category\": [\"Default\", \"Default\", \"Default\", \"Default\", \"Default\", \"Default\", \"Default\", \"Default\", \"Default\", \"Default\", \"Default\", \"Default\", \"Default\", \"Default\", \"Default\", \"Default\", \"Default\", \"Default\", \"Default\", \"Default\", \"Default\", \"Default\", \"Default\", \"Default\", \"Default\", \"Default\", \"Default\", \"Default\", \"Default\", \"Default\", \"Topic1\", \"Topic1\", \"Topic1\", \"Topic1\", \"Topic1\", \"Topic1\", \"Topic1\", \"Topic1\", \"Topic1\", \"Topic1\", \"Topic1\", \"Topic1\", \"Topic1\", \"Topic1\", \"Topic1\", \"Topic1\", \"Topic1\", \"Topic1\", \"Topic1\", \"Topic1\", \"Topic1\", \"Topic1\", \"Topic1\", \"Topic1\", \"Topic1\", \"Topic1\", \"Topic1\", \"Topic1\", \"Topic1\", \"Topic1\", \"Topic1\", \"Topic1\", \"Topic1\", \"Topic1\", \"Topic1\", \"Topic2\", \"Topic2\", \"Topic2\", \"Topic2\", \"Topic2\", \"Topic2\", \"Topic2\", \"Topic2\", \"Topic2\", \"Topic2\", \"Topic2\", \"Topic2\", \"Topic2\", \"Topic2\", \"Topic2\", \"Topic2\", \"Topic2\", \"Topic2\", \"Topic2\", \"Topic2\", \"Topic2\", \"Topic2\", \"Topic2\", \"Topic2\", \"Topic2\", \"Topic2\", \"Topic2\", \"Topic2\", \"Topic2\", \"Topic2\", \"Topic2\", \"Topic2\", \"Topic3\", \"Topic3\", \"Topic3\", \"Topic3\", \"Topic3\", \"Topic3\", \"Topic3\", \"Topic3\", \"Topic3\", \"Topic3\", \"Topic3\", \"Topic3\", \"Topic3\", \"Topic3\", \"Topic3\", \"Topic3\", \"Topic3\", \"Topic3\", \"Topic3\", \"Topic3\", \"Topic3\", \"Topic3\", \"Topic3\", \"Topic3\", \"Topic3\", \"Topic3\", \"Topic3\", \"Topic3\", \"Topic3\", \"Topic3\", \"Topic3\", \"Topic3\", \"Topic3\", \"Topic3\", \"Topic3\", \"Topic3\", \"Topic4\", \"Topic4\", \"Topic4\", \"Topic4\", \"Topic4\", \"Topic4\", \"Topic4\", \"Topic4\", \"Topic4\", \"Topic4\", \"Topic4\", \"Topic4\", \"Topic4\", \"Topic4\", \"Topic4\", \"Topic4\", \"Topic4\", \"Topic4\", \"Topic4\", \"Topic4\", \"Topic4\", \"Topic4\", \"Topic4\", \"Topic4\", \"Topic4\", \"Topic4\", \"Topic4\", \"Topic4\", \"Topic4\", \"Topic4\", \"Topic4\", \"Topic4\", \"Topic4\", \"Topic4\", \"Topic5\", \"Topic5\", \"Topic5\", \"Topic5\", \"Topic5\", \"Topic5\", \"Topic5\", \"Topic5\", \"Topic5\", \"Topic5\", \"Topic5\", \"Topic5\", \"Topic5\", \"Topic5\", \"Topic5\", \"Topic5\", \"Topic5\", \"Topic5\", \"Topic5\", \"Topic5\", \"Topic5\", \"Topic5\", \"Topic5\", \"Topic5\", \"Topic5\", \"Topic5\", \"Topic5\", \"Topic5\", \"Topic5\", \"Topic5\", \"Topic5\", \"Topic5\", \"Topic5\", \"Topic5\", \"Topic5\", \"Topic6\", \"Topic6\", \"Topic6\", \"Topic6\", \"Topic6\", \"Topic6\", \"Topic6\", \"Topic6\", \"Topic6\", \"Topic6\", \"Topic6\", \"Topic6\", \"Topic6\", \"Topic6\", \"Topic6\", \"Topic6\", \"Topic6\", \"Topic6\", \"Topic6\", \"Topic6\", \"Topic6\", \"Topic6\", \"Topic6\", \"Topic6\", \"Topic6\", \"Topic6\", \"Topic6\", \"Topic6\", \"Topic6\", \"Topic6\", \"Topic6\", \"Topic6\", \"Topic6\", \"Topic6\", \"Topic6\", \"Topic6\", \"Topic7\", \"Topic7\", \"Topic7\", \"Topic7\", \"Topic7\", \"Topic7\", \"Topic7\", \"Topic7\", \"Topic7\", \"Topic7\", \"Topic7\", \"Topic7\", \"Topic7\", \"Topic7\", \"Topic7\", \"Topic7\", \"Topic7\", \"Topic7\", \"Topic7\", \"Topic7\", \"Topic7\", \"Topic7\", \"Topic7\", \"Topic7\", \"Topic7\", \"Topic7\", \"Topic7\", \"Topic7\", \"Topic7\", \"Topic7\", \"Topic7\", \"Topic7\", \"Topic7\", \"Topic7\", \"Topic7\", \"Topic8\", \"Topic8\", \"Topic8\", \"Topic8\", \"Topic8\", \"Topic8\", \"Topic8\", \"Topic8\", \"Topic8\", \"Topic8\", \"Topic8\", \"Topic8\", \"Topic8\", \"Topic8\", \"Topic8\", \"Topic8\", \"Topic8\", \"Topic8\", \"Topic8\", \"Topic8\", \"Topic8\", \"Topic8\", \"Topic8\", \"Topic8\", \"Topic8\", \"Topic8\", \"Topic8\", \"Topic8\", \"Topic8\", \"Topic8\", \"Topic8\", \"Topic8\", \"Topic8\", \"Topic9\", \"Topic9\", \"Topic9\", \"Topic9\", \"Topic9\", \"Topic9\", \"Topic9\", \"Topic9\", \"Topic9\", \"Topic9\", \"Topic9\", \"Topic9\", \"Topic9\", \"Topic9\", \"Topic9\", \"Topic9\", \"Topic9\", \"Topic9\", \"Topic9\", \"Topic9\", \"Topic9\", \"Topic9\", \"Topic9\", \"Topic9\", \"Topic9\", \"Topic9\", \"Topic9\", \"Topic9\", \"Topic9\", \"Topic9\", \"Topic9\", \"Topic9\", \"Topic9\", \"Topic9\", \"Topic9\", \"Topic9\", \"Topic10\", \"Topic10\", \"Topic10\", \"Topic10\", \"Topic10\", \"Topic10\", \"Topic10\", \"Topic10\", \"Topic10\", \"Topic10\", \"Topic10\", \"Topic10\", \"Topic10\", \"Topic10\", \"Topic10\", \"Topic10\", \"Topic10\", \"Topic10\", \"Topic10\", \"Topic10\", \"Topic10\", \"Topic10\", \"Topic10\", \"Topic10\", \"Topic10\", \"Topic10\", \"Topic10\", \"Topic10\", \"Topic10\", \"Topic10\", \"Topic10\", \"Topic10\", \"Topic10\", \"Topic10\", \"Topic10\", \"Topic11\", \"Topic11\", \"Topic11\", \"Topic11\", \"Topic11\", \"Topic11\", \"Topic11\", \"Topic11\", \"Topic11\", \"Topic11\", \"Topic11\", \"Topic11\", \"Topic11\", \"Topic11\", \"Topic11\", \"Topic11\", \"Topic11\", \"Topic11\", \"Topic11\", \"Topic11\", \"Topic11\", \"Topic11\", \"Topic11\", \"Topic11\", \"Topic11\", \"Topic11\", \"Topic11\", \"Topic11\", \"Topic11\", \"Topic11\", \"Topic11\", \"Topic11\", \"Topic12\", \"Topic12\", \"Topic12\", \"Topic12\", \"Topic12\", \"Topic12\", \"Topic12\", \"Topic12\", \"Topic12\", \"Topic12\", \"Topic12\", \"Topic12\", \"Topic12\", \"Topic12\", \"Topic12\", \"Topic12\", \"Topic12\", \"Topic12\", \"Topic12\", \"Topic12\", \"Topic12\", \"Topic12\", \"Topic12\", \"Topic12\", \"Topic12\", \"Topic12\", \"Topic12\", \"Topic12\", \"Topic12\", \"Topic12\", \"Topic12\", \"Topic12\", \"Topic12\", \"Topic12\", \"Topic12\", \"Topic12\", \"Topic13\", \"Topic13\", \"Topic13\", \"Topic13\", \"Topic13\", \"Topic13\", \"Topic13\", \"Topic13\", \"Topic13\", \"Topic13\", \"Topic13\", \"Topic13\", \"Topic13\", \"Topic13\", \"Topic13\", \"Topic13\", \"Topic13\", \"Topic13\", \"Topic13\", \"Topic13\", \"Topic13\", \"Topic13\", \"Topic13\", \"Topic13\", \"Topic13\", \"Topic13\", \"Topic13\", \"Topic13\", \"Topic13\", \"Topic13\", \"Topic13\", \"Topic13\", \"Topic13\", \"Topic13\", \"Topic14\", \"Topic14\", \"Topic14\", \"Topic14\", \"Topic14\", \"Topic14\", \"Topic14\", \"Topic14\", \"Topic14\", \"Topic14\", \"Topic14\", \"Topic14\", \"Topic14\", \"Topic14\", \"Topic14\", \"Topic14\", \"Topic14\", \"Topic14\", \"Topic14\", \"Topic14\", \"Topic14\", \"Topic14\", \"Topic14\", \"Topic14\", \"Topic14\", \"Topic14\", \"Topic14\", \"Topic14\", \"Topic14\", \"Topic14\", \"Topic14\", \"Topic14\", \"Topic14\", \"Topic14\", \"Topic14\", \"Topic14\", \"Topic15\", \"Topic15\", \"Topic15\", \"Topic15\", \"Topic15\", \"Topic15\", \"Topic15\", \"Topic15\", \"Topic15\", \"Topic15\", \"Topic15\", \"Topic15\", \"Topic15\", \"Topic15\", \"Topic15\", \"Topic15\", \"Topic15\", \"Topic15\", \"Topic15\", \"Topic15\", \"Topic15\", \"Topic15\", \"Topic15\", \"Topic15\", \"Topic15\", \"Topic15\", \"Topic15\", \"Topic15\", \"Topic15\", \"Topic15\", \"Topic15\", \"Topic15\", \"Topic15\", \"Topic15\", \"Topic15\", \"Topic16\", \"Topic16\", \"Topic16\", \"Topic16\", \"Topic16\", \"Topic16\", \"Topic16\", \"Topic16\", \"Topic16\", \"Topic16\", \"Topic16\", \"Topic16\", \"Topic16\", \"Topic16\", \"Topic16\", \"Topic16\", \"Topic16\", \"Topic16\", \"Topic16\", \"Topic16\", \"Topic16\", \"Topic16\", \"Topic16\", \"Topic16\", \"Topic16\", \"Topic16\", \"Topic16\", \"Topic16\", \"Topic16\", \"Topic16\", \"Topic16\", \"Topic16\", \"Topic16\", \"Topic16\", \"Topic16\", \"Topic17\", \"Topic17\", \"Topic17\", \"Topic17\", \"Topic17\", \"Topic17\", \"Topic17\", \"Topic17\", \"Topic17\", \"Topic17\", \"Topic17\", \"Topic17\", \"Topic17\", \"Topic17\", \"Topic17\", \"Topic17\", \"Topic17\", \"Topic17\", \"Topic17\", \"Topic17\", \"Topic17\", \"Topic17\", \"Topic17\", \"Topic17\", \"Topic17\", \"Topic17\", \"Topic17\", \"Topic17\", \"Topic17\", \"Topic17\", \"Topic17\", \"Topic17\", \"Topic17\", \"Topic17\", \"Topic17\", \"Topic17\", \"Topic17\", \"Topic18\", \"Topic18\", \"Topic18\", \"Topic18\", \"Topic18\", \"Topic18\", \"Topic18\", \"Topic18\", \"Topic18\", \"Topic18\", \"Topic18\", \"Topic18\", \"Topic18\", \"Topic18\", \"Topic18\", \"Topic18\", \"Topic18\", \"Topic18\", \"Topic18\", \"Topic18\", \"Topic18\", \"Topic18\", \"Topic18\", \"Topic18\", \"Topic18\", \"Topic18\", \"Topic18\", \"Topic18\", \"Topic18\", \"Topic18\", \"Topic18\", \"Topic18\", \"Topic18\", \"Topic18\", \"Topic18\", \"Topic18\", \"Topic19\", \"Topic19\", \"Topic19\", \"Topic19\", \"Topic19\", \"Topic19\", \"Topic19\", \"Topic19\", \"Topic19\", \"Topic19\", \"Topic19\", \"Topic19\", \"Topic19\", \"Topic19\", \"Topic19\", \"Topic19\", \"Topic19\", \"Topic19\", \"Topic19\", \"Topic19\", \"Topic19\", \"Topic19\", \"Topic19\", \"Topic19\", \"Topic19\", \"Topic19\", \"Topic19\", \"Topic19\", \"Topic19\", \"Topic19\", \"Topic19\", \"Topic19\", \"Topic19\", \"Topic20\", \"Topic20\", \"Topic20\", \"Topic20\", \"Topic20\", \"Topic20\", \"Topic20\", \"Topic20\", \"Topic20\", \"Topic20\", \"Topic20\", \"Topic20\", \"Topic20\", \"Topic20\", \"Topic20\", \"Topic20\", \"Topic20\", \"Topic20\", \"Topic20\", \"Topic20\", \"Topic20\", \"Topic20\", \"Topic20\", \"Topic20\", \"Topic20\", \"Topic20\", \"Topic20\", \"Topic20\", \"Topic20\", \"Topic20\", \"Topic20\", \"Topic20\", \"Topic20\", \"Topic20\", \"Topic20\", \"Topic20\", \"Topic21\", \"Topic21\", \"Topic21\", \"Topic21\", \"Topic21\", \"Topic21\", \"Topic21\", \"Topic21\", \"Topic21\", \"Topic21\", \"Topic21\", \"Topic21\", \"Topic21\", \"Topic21\", \"Topic21\", \"Topic21\", \"Topic21\", \"Topic21\", \"Topic21\", \"Topic21\", \"Topic21\", \"Topic21\", \"Topic21\", \"Topic21\", \"Topic21\", \"Topic21\", \"Topic21\", \"Topic21\", \"Topic21\", \"Topic21\", \"Topic21\", \"Topic21\", \"Topic21\", \"Topic21\", \"Topic21\", \"Topic21\"], \"logprob\": [30.0, 29.0, 28.0, 27.0, 26.0, 25.0, 24.0, 23.0, 22.0, 21.0, 20.0, 19.0, 18.0, 17.0, 16.0, 15.0, 14.0, 13.0, 12.0, 11.0, 10.0, 9.0, 8.0, 7.0, 6.0, 5.0, 4.0, 3.0, 2.0, 1.0, -1.8358, -3.3018, -4.2036, -4.5641, -4.4856, -3.5012, -4.1115, -2.9382, -4.5187, -4.6761, -3.914, -3.411, -4.1758, -4.3431, -3.0673, -3.6967, -4.1954, -2.352, -2.8939, -4.671, -4.0842, -3.7107, -4.8098, -5.0191, -3.8816, -4.9718, -3.6029, -5.0207, -4.5662, -5.2509, -3.9043, -3.421, -4.6335, -4.6841, -4.7265, -2.7395, -2.6825, -2.8518, -3.2169, -3.2686, -3.5156, -3.5, -3.2792, -3.8744, -3.1681, -3.0946, -3.8974, -4.2183, -3.8869, -4.7126, -4.02, -3.0444, -4.0593, -4.2884, -3.8772, -3.4318, -4.4093, -3.5036, -4.8363, -3.2413, -3.9998, -4.4927, -3.7136, -5.6784, -5.9094, -3.7278, -3.8813, -2.8453, -3.0671, -2.8159, -3.0567, -3.5137, -3.5031, -3.4018, -2.6334, -3.6187, -2.5882, -3.8443, -4.4205, -3.8456, -4.0615, -4.255, -4.4187, -3.3925, -3.1769, -3.6584, -5.1333, -2.9834, -5.4948, -3.0411, -5.1936, -5.3916, -5.9008, -6.4961, -4.9333, -4.519, -5.3255, -4.9464, -5.123, -4.5294, -4.8536, -4.7838, -5.0683, -3.3193, -3.7519, -3.7433, -3.9728, -3.6883, -4.1232, -3.8794, -4.1181, -4.0908, -3.6978, -3.109, -4.2495, -4.005, -3.8885, -3.4137, -3.7651, -4.3233, -2.764, -3.0872, -4.567, -3.3504, -4.1812, -4.6443, -4.1522, -3.1901, -3.7255, -5.7446, -6.0689, -4.9206, -4.0348, -4.8099, -3.9864, -3.9926, -4.1984, -2.9619, -3.3714, -3.6862, -3.7205, -3.9086, -4.1443, -4.3712, -4.3429, -4.4164, -4.8901, -4.2762, -5.0935, -4.8439, -3.9571, -4.0279, -4.2487, -2.5688, -3.1594, -2.242, -3.9297, -3.4902, -4.1563, -4.2796, -4.8555, -3.8526, -4.4216, -3.5934, -4.4051, -4.158, -2.9152, -4.7479, -4.3169, -3.8803, -4.369, -4.5073, -3.2389, -3.8046, -4.0284, -4.0851, -4.1423, -4.2422, -4.4592, -4.5229, -4.64, -5.163, -2.3983, -4.8738, -4.5826, -4.1956, -3.838, -1.7289, -5.1534, -4.62, -2.6908, -2.6185, -3.6938, -3.3973, -4.575, -5.8105, -3.7573, -4.0811, -4.9823, -3.8799, -4.3119, -3.744, -3.8282, -3.9357, -4.0826, -4.4705, -4.5324, -4.5717, -2.083, -2.0601, -2.8738, -3.2117, -3.5991, -3.8887, -4.0125, -4.164, -3.913, -3.9276, -4.7284, -4.2231, -4.8073, -4.8389, -4.381, -5.2396, -5.3353, -3.7016, -3.8252, -3.8662, -4.5216, -3.5749, -4.2881, -3.7443, -5.0202, -4.6791, -2.7741, -4.0935, -4.4357, -4.0911, -3.5721, -4.0312, -4.6961, -4.6592, -4.7225, -2.6698, -2.8995, -2.9303, -3.1427, -3.6913, -3.7264, -3.4203, -3.7509, -3.9414, -3.9941, -4.1666, -4.4954, -4.6318, -3.5182, -4.5396, -5.0088, -3.9244, -4.459, -2.7297, -5.0181, -3.4269, -3.6636, -2.7866, -3.4902, -4.6546, -4.2025, -2.7407, -4.0157, -4.4424, -5.5027, -3.873, -4.0284, -4.4346, -3.1467, -3.2588, -3.7084, -4.0992, -3.7575, -4.3243, -4.3997, -4.4078, -4.5258, -4.3534, -4.649, -4.2534, -4.8881, -4.118, -3.709, -3.1735, -3.971, -2.1257, -1.991, -4.4848, -5.3815, -4.3568, -3.3541, -2.7868, -4.9424, -4.1633, -4.0948, -4.9206, -4.1129, -5.0964, -4.285, -3.5855, -3.9955, -4.3368, -4.5058, -4.5351, -1.7628, -2.9985, -3.2755, -3.1318, -3.4097, -3.2887, -3.3335, -3.6363, -3.8348, -3.4219, -3.9179, -3.9734, -4.3784, -3.6106, -3.4634, -3.1982, -4.0788, -3.7663, -3.1314, -3.353, -3.5361, -4.6836, -4.3667, -5.0364, -3.9406, -5.3593, -4.6301, -5.6427, -4.7204, -5.3551, -4.893, -4.7126, -4.654, -4.694, -4.7608, -3.6078, -3.7277, -3.877, -3.7371, -3.7356, -4.1871, -4.275, -3.7912, -4.5279, -4.3751, -4.5177, -4.1246, -3.7191, -2.6953, -3.6592, -4.6927, -2.8383, -4.8409, -4.0521, -3.0606, -3.2604, -3.1222, -3.4508, -2.9215, -3.1981, -2.858, -4.2285, -3.5786, -3.8028, -5.2155, -4.2337, -4.691, -2.4021, -3.0701, -3.0231, -2.9379, -3.5274, -3.713, -3.9159, -3.7997, -4.0574, -4.294, -3.6511, -4.3663, -4.3656, -4.5392, -4.6832, -3.3711, -3.9243, -3.7173, -3.2664, -4.5746, -4.1665, -3.4238, -4.4446, -3.2, -3.3755, -4.3755, -5.8194, -4.7897, -4.3569, -5.4343, -4.2155, -3.7036, -3.8974, -4.397, -4.5065, -4.5236, -2.8762, -3.0892, -2.7724, -3.7361, -3.6712, -3.6694, -3.8854, -3.9934, -3.8425, -4.1538, -4.0742, -4.5238, -4.3935, -4.0497, -4.1914, -3.5913, -4.3903, -2.0627, -3.6425, -3.8827, -4.2057, -3.1286, -5.5554, -3.399, -3.4005, -3.6365, -4.9334, -5.8304, -3.7396, -5.4279, -4.2891, -4.5343, -4.589, -4.6733, -3.2244, -3.4579, -3.5586, -3.5588, -3.5945, -3.6413, -2.4656, -3.6379, -3.4687, -3.9947, -3.7014, -3.6277, -4.2464, -3.6444, -4.3291, -2.7819, -2.812, -4.648, -3.2917, -2.8012, -2.8117, -3.7453, -3.1906, -3.0232, -4.7891, -5.9976, -5.9685, -5.723, -5.8245, -6.1773, -5.4235, -4.5519, -4.9794, -5.4243, -5.3566, -5.2104, -2.3114, -2.2047, -3.26, -3.334, -3.674, -3.8425, -3.897, -3.7249, -3.9814, -4.0249, -4.1211, -3.5377, -4.5108, -3.8539, -3.6528, -4.0112, -4.0318, -4.7274, -4.8886, -4.9588, -4.6004, -3.8957, -3.7748, -2.1084, -5.2599, -4.4595, -3.4392, -4.9795, -6.4122, -5.1837, -4.2854, -4.7862, -4.5325, -4.7434, -4.8163, -2.924, -3.5165, -3.5456, -3.6051, -3.513, -3.4742, -3.8764, -3.8434, -3.2857, -4.0515, -4.0267, -3.1258, -4.3478, -5.0541, -4.1724, -3.3632, -3.9613, -3.6065, -3.4517, -3.2412, -3.6175, -3.2722, -3.7166, -4.03, -3.8046, -3.3026, -4.9482, -4.8379, -3.8844, -5.4066, -3.775, -4.3764, -4.14, -4.0758, -4.3371, -2.828, -2.8863, -3.4323, -3.3497, -4.0058, -3.8887, -4.1669, -4.4571, -4.0923, -4.3327, -3.4127, -4.5472, -2.9965, -3.7892, -1.8852, -4.8369, -4.9576, -2.9912, -4.2072, -3.9663, -2.3128, -4.0516, -5.9886, -3.7194, -3.7436, -4.9126, -5.401, -6.2347, -5.6662, -5.7703, -3.9115, -4.1737, -5.3373, -4.8887, -4.9429, -4.5788, -4.7938, -2.5298, -3.1573, -3.2041, -3.3641, -3.3199, -3.7574, -3.5386, -3.9258, -3.8942, -4.2553, -4.6795, -4.581, -3.7492, -5.2389, -3.6758, -2.5409, -3.2081, -3.1281, -4.4159, -3.2902, -3.6653, -3.4052, -4.6084, -3.2851, -4.3019, -4.9425, -4.3983, -5.7494, -4.2233, -5.4529, -4.6955, -4.3997, -4.1818, -4.5851, -4.4926, -4.6284, -3.2703, -3.3065, -3.5623, -3.7328, -4.0781, -3.7747, -4.1494, -4.1835, -3.7581, -3.951, -4.1632, -4.6998, -3.5817, -3.6275, -3.7359, -2.8312, -4.6522, -3.7264, -3.2403, -3.3781, -3.9488, -3.1642, -3.6742, -3.6144, -4.1007, -3.5795, -4.3882, -4.3766, -3.6098, -5.117, -3.2548, -3.6832, -4.5191, -3.0802, -3.2647, -2.7057, -3.6001, -3.7523, -4.0942, -4.1671, -4.2348, -4.3725, -4.3184, -4.3044, -4.9496, -5.0668, -5.0028, -3.4054, -2.4624, -4.1376, -4.3438, -4.0367, -3.2789, -3.9394, -2.4262, -3.0743, -3.0767, -3.1119, -5.4723, -5.6335, -6.1732, -3.3614, -4.2491, -4.5454, -4.5655, -4.9038, -4.7361, -4.7141, -4.7692, -2.2999, -2.5817, -3.3171, -3.4618, -3.0884, -3.7299, -3.7681, -3.796, -3.7835, -3.8581, -4.2279, -4.3842, -4.2768, -4.0769, -4.5019, -4.7043, -4.8476, -4.8278, -4.7938, -4.2055, -3.7935, -5.632, -4.6559, -2.4759, -5.1005, -5.1213, -2.8229, -3.1125, -4.1815, -3.3734, -4.2789, -4.2639, -4.5363, -4.4959, -4.6127, -4.6773], \"loglift\": [30.0, 29.0, 28.0, 27.0, 26.0, 25.0, 24.0, 23.0, 22.0, 21.0, 20.0, 19.0, 18.0, 17.0, 16.0, 15.0, 14.0, 13.0, 12.0, 11.0, 10.0, 9.0, 8.0, 7.0, 6.0, 5.0, 4.0, 3.0, 2.0, 1.0, 2.9826, 2.9814, 2.9792, 2.9773, 2.9762, 2.9744, 2.9731, 2.9581, 2.9443, 2.9208, 2.8385, 2.8112, 2.8058, 2.728, 2.7142, 2.7062, 2.6903, 2.6281, 2.5837, 2.5351, 2.5226, 2.3539, 2.3491, 2.127, 1.9777, 1.8368, 1.8286, 1.7116, 1.5768, 1.4947, 1.3158, 1.1053, 0.9882, 0.5097, -0.0739, 3.1298, 3.1295, 3.1295, 3.1293, 3.1292, 3.1282, 3.1282, 3.1279, 3.1277, 3.1273, 3.1269, 3.1266, 3.1264, 3.1243, 3.1228, 3.1155, 3.0277, 2.9855, 2.9156, 2.8684, 2.8426, 2.6209, 2.6067, 2.5479, 2.4909, 2.3583, 2.1142, 1.8447, 1.2919, 1.2432, 1.0215, 0.7966, 3.0729, 3.0725, 3.0723, 3.072, 3.0718, 3.0718, 3.0717, 3.0715, 3.0715, 3.071, 3.0706, 3.0691, 3.069, 3.0681, 3.0676, 3.0672, 3.061, 3.007, 2.8665, 2.6643, 2.5902, 1.7874, 1.7001, 1.6921, 1.0113, 0.9879, 0.9451, 0.9261, 0.7767, 0.7402, 0.7141, 0.7112, 0.3889, 0.4782, 0.41, -0.0545, 3.0299, 3.0291, 3.0291, 3.0284, 3.0282, 3.0281, 3.0279, 3.0279, 3.0279, 3.0278, 3.027, 3.0269, 3.0265, 3.0263, 3.026, 3.0251, 3.0249, 3.0186, 3.0183, 3.0151, 3.0082, 3.0011, 2.9999, 2.9463, 2.8243, 2.4016, 2.1042, 1.7016, 1.5395, 1.5389, 1.3902, 0.932, 0.7566, 0.5427, 2.7944, 2.7939, 2.7938, 2.7936, 2.7934, 2.7925, 2.7915, 2.7907, 2.7899, 2.7896, 2.7887, 2.7884, 2.7878, 2.7856, 2.7577, 2.7423, 2.7403, 2.7283, 2.717, 2.6996, 2.6786, 2.672, 2.6365, 2.589, 2.5569, 2.5376, 2.5207, 2.5117, 2.5107, 2.5051, 2.4669, 1.8454, 0.7722, 1.4651, 0.2345, 2.9892, 2.9881, 2.9875, 2.9872, 2.9871, 2.9867, 2.9859, 2.9836, 2.9818, 2.9786, 2.9664, 2.9383, 2.8586, 2.8111, 2.8042, 2.7056, 2.673, 2.6622, 2.6049, 2.4581, 2.276, 2.0245, 1.9862, 1.9279, 1.7197, 1.7191, 1.4272, 1.3605, 1.3485, 1.2031, 1.1109, 1.0781, 0.7178, 0.7025, 0.2095, 0.0808, 2.9085, 2.9085, 2.908, 2.9077, 2.9068, 2.9065, 2.906, 2.9056, 2.9052, 2.9043, 2.903, 2.9029, 2.9026, 2.9023, 2.9021, 2.8961, 2.8916, 2.8753, 2.8679, 2.8421, 2.8126, 2.7837, 2.7433, 2.418, 2.1387, 2.0458, 1.9677, 1.4198, 1.1645, 1.1092, 0.9541, 0.7691, 1.1086, 0.5609, 0.4505, 3.0498, 3.0496, 3.0495, 3.0493, 3.0484, 3.0483, 3.0482, 3.0478, 3.0477, 3.0476, 3.0463, 3.0454, 3.0417, 3.0417, 3.0399, 3.0378, 3.0365, 3.0344, 3.0307, 3.0258, 2.9807, 2.9235, 2.8507, 2.7554, 2.4915, 2.1, 2.0085, 1.8794, 1.6957, 1.2222, 0.8048, 0.7128, 0.4837, 3.113, 3.1128, 3.1115, 3.1107, 3.1105, 3.1092, 3.1087, 3.1084, 3.1075, 3.1073, 3.1067, 3.0704, 3.0113, 3.0045, 2.9397, 2.9372, 2.8582, 2.7304, 2.6868, 2.4855, 2.4673, 2.4518, 2.2789, 2.227, 2.0878, 1.9013, 1.6214, 1.4381, 1.4332, 1.4286, 1.3412, 0.849, 0.5307, 0.4124, 0.7321, 0.2068, 3.2976, 3.2966, 3.296, 3.296, 3.2956, 3.2953, 3.2952, 3.2952, 3.2944, 3.2944, 3.2937, 3.2923, 3.2902, 3.289, 3.2728, 3.2604, 3.1904, 3.0732, 3.0688, 2.8193, 2.5645, 1.9518, 1.9078, 1.7927, 1.6856, 1.4494, 1.4356, 0.8551, 0.711, 0.6425, 0.4388, 0.3012, -0.0015, 0.0552, 0.1784, 2.9992, 2.999, 2.9986, 2.9985, 2.9978, 2.9976, 2.9974, 2.9972, 2.9963, 2.9962, 2.9959, 2.9954, 2.9951, 2.9948, 2.9945, 2.9925, 2.9917, 2.9913, 2.9875, 2.9019, 2.8655, 2.862, 2.6515, 2.5976, 2.5894, 2.3799, 2.1894, 1.8432, 1.7973, 1.4199, 0.7135, 0.1093, 2.9731, 2.9725, 2.9719, 2.9719, 2.9718, 2.9715, 2.971, 2.971, 2.9706, 2.9695, 2.9692, 2.9686, 2.9678, 2.9675, 2.9674, 2.9667, 2.955, 2.9492, 2.9338, 2.9327, 2.8932, 2.8166, 2.8141, 2.6103, 2.4293, 2.0424, 1.5647, 1.3484, 1.2477, 1.0257, 1.0249, 0.8226, 0.8444, 0.6796, 0.2346, 0.6494, 3.0828, 3.0825, 3.0817, 3.0813, 3.0812, 3.0811, 3.0807, 3.0804, 3.0803, 3.0798, 3.0791, 3.0785, 3.078, 3.0763, 3.0665, 3.0623, 3.0529, 3.0377, 3.0201, 3.0115, 2.9791, 2.9294, 2.8924, 2.744, 2.5839, 2.5002, 1.9946, 1.9672, 1.3792, 1.3367, 0.6293, 0.6387, 0.2113, 0.0686, 3.35, 3.3497, 3.3494, 3.3494, 3.3493, 3.3492, 3.3488, 3.3486, 3.348, 3.3476, 3.3472, 3.3466, 3.3459, 3.3457, 3.3451, 3.3385, 3.3315, 3.3311, 3.2864, 3.28, 3.1473, 3.1412, 3.1017, 3.0999, 1.6443, 1.3866, 1.0763, 1.002, 0.9401, 0.7508, 0.6422, 0.3665, 0.1935, 0.5803, 0.2696, -0.0915, 3.169, 3.1689, 3.1682, 3.1671, 3.1668, 3.1666, 3.1666, 3.1665, 3.1664, 3.166, 3.1656, 3.1653, 3.164, 3.1633, 3.1631, 3.1624, 3.1603, 3.1534, 3.1262, 3.0632, 2.9865, 2.8366, 2.7884, 2.5442, 1.7104, 1.6637, 1.2386, 0.828, 0.7939, 0.7753, 0.6537, 0.4076, -0.0063, 0.2704, 0.4242, 3.0614, 3.0609, 3.0607, 3.0606, 3.0603, 3.0601, 3.0597, 3.0597, 3.0595, 3.0595, 3.0577, 3.0573, 3.0563, 3.0522, 2.9963, 2.9952, 2.9274, 2.772, 2.6116, 2.3634, 2.3252, 2.1526, 2.0493, 1.9168, 1.673, 1.6365, 1.615, 1.3955, 1.2345, 1.2288, 1.2051, 1.0696, 0.8072, 0.3586, 0.4632, 3.1692, 3.1692, 3.1685, 3.1681, 3.1671, 3.1668, 3.1654, 3.1651, 3.165, 3.1645, 3.1642, 3.1638, 3.1605, 3.1594, 3.1329, 3.1306, 3.073, 3.0438, 3.008, 3.0017, 2.8876, 2.8122, 1.8378, 1.7939, 1.4502, 1.4461, 1.3662, 1.3522, 1.3406, 1.2611, 0.8889, 0.7734, 1.0906, 0.5428, 0.6032, -0.1443, -0.0446, 3.1252, 3.1245, 3.1244, 3.1242, 3.1241, 3.1231, 3.123, 3.1226, 3.1216, 3.1215, 3.1193, 3.1176, 3.1141, 3.101, 3.1009, 3.095, 3.0844, 3.0721, 3.0239, 3.0024, 2.9189, 2.9152, 1.8893, 1.8879, 1.5056, 1.4854, 1.4649, 1.4547, 1.414, 1.2158, 0.9375, 0.7941, 0.56, 0.8397, 0.6263, 0.3854, 2.7737, 2.7737, 2.7732, 2.7731, 2.7722, 2.7722, 2.7721, 2.7715, 2.7713, 2.7711, 2.7704, 2.7697, 2.7686, 2.7678, 2.7646, 2.7472, 2.7354, 2.6639, 2.6571, 2.6195, 2.5902, 2.4102, 2.3812, 2.3736, 2.3671, 2.3156, 2.2224, 2.0835, 1.722, 1.6476, 1.4863, 1.2351, 0.701, 2.9809, 2.9806, 2.9804, 2.9798, 2.9791, 2.9786, 2.9783, 2.9778, 2.9777, 2.9775, 2.9753, 2.974, 2.9716, 2.9713, 2.967, 2.8334, 2.8315, 2.8088, 2.7305, 2.702, 2.6407, 2.6346, 2.5474, 2.3693, 1.7442, 1.3672, 1.2833, 1.2713, 1.1648, 1.1088, 0.9679, 0.8593, 0.7008, 0.4643, 0.0862, -0.0273, 3.0507, 3.0504, 3.0497, 3.0494, 3.0488, 3.0488, 3.0488, 3.0486, 3.0486, 3.0486, 3.0474, 3.0466, 3.046, 3.0457, 3.0448, 3.0441, 3.0437, 3.0429, 3.0398, 3.0339, 3.0303, 3.0103, 2.9159, 2.882, 2.6701, 2.6172, 1.7033, 1.6878, 1.6, 1.5657, 1.5286, 0.4854, 0.6575, 0.4631, -0.1783, 0.6184]}, \"token.table\": {\"Topic\": [16, 8, 11, 18, 17, 3, 6, 9, 10, 12, 15, 19, 9, 11, 20, 2, 3, 5, 6, 11, 12, 13, 15, 16, 17, 18, 19, 20, 21, 11, 19, 19, 2, 18, 21, 9, 15, 2, 4, 5, 6, 8, 9, 11, 14, 15, 20, 3, 4, 12, 13, 17, 12, 20, 6, 3, 3, 7, 5, 21, 7, 17, 6, 9, 10, 20, 5, 16, 10, 13, 19, 7, 4, 7, 17, 5, 3, 10, 17, 18, 9, 3, 2, 4, 5, 7, 11, 12, 15, 18, 21, 3, 4, 6, 11, 13, 14, 15, 17, 18, 20, 21, 3, 5, 6, 9, 10, 12, 15, 16, 17, 18, 19, 20, 1, 13, 13, 3, 6, 15, 17, 19, 20, 21, 6, 3, 6, 8, 10, 11, 13, 15, 16, 18, 20, 21, 6, 10, 13, 18, 20, 21, 2, 5, 1, 3, 13, 6, 13, 2, 9, 15, 17, 20, 18, 2, 12, 14, 16, 3, 4, 5, 6, 7, 8, 11, 15, 12, 8, 3, 18, 3, 1, 2, 3, 4, 5, 6, 7, 8, 9, 10, 11, 12, 13, 14, 15, 16, 17, 18, 19, 20, 21, 19, 21, 5, 8, 16, 1, 2, 3, 4, 5, 8, 9, 12, 13, 14, 17, 20, 21, 2, 1, 2, 1, 2, 4, 19, 4, 7, 3, 16, 16, 1, 3, 6, 7, 8, 13, 14, 17, 21, 6, 7, 17, 20, 21, 3, 6, 11, 14, 9, 4, 9, 18, 21, 8, 10, 17, 4, 5, 7, 9, 12, 15, 16, 18, 20, 2, 20, 11, 10, 2, 4, 11, 12, 14, 15, 16, 21, 18, 9, 11, 15, 17, 11, 1, 5, 8, 13, 14, 18, 1, 19, 15, 17, 6, 8, 9, 2, 5, 7, 4, 4, 10, 1, 2, 3, 4, 5, 6, 7, 8, 9, 10, 11, 12, 15, 17, 18, 21, 8, 21, 18, 13, 21, 5, 5, 17, 10, 7, 5, 6, 1, 3, 4, 5, 6, 8, 9, 11, 12, 14, 15, 16, 17, 18, 19, 20, 21, 10, 13, 13, 5, 10, 17, 1, 1, 2, 4, 5, 6, 7, 9, 10, 13, 16, 17, 20, 21, 12, 2, 8, 2, 4, 5, 6, 7, 9, 10, 11, 12, 13, 14, 15, 18, 19, 20, 11, 9, 12, 13, 15, 12, 4, 5, 6, 7, 8, 9, 10, 13, 15, 16, 19, 12, 6, 4, 5, 21, 1, 4, 1, 8, 12, 1, 11, 20, 1, 19, 12, 15, 2, 3, 4, 6, 7, 8, 11, 12, 13, 15, 16, 17, 18, 19, 20, 21, 3, 11, 15, 15, 14, 4, 8, 13, 16, 19, 8, 4, 1, 10, 14, 15, 18, 3, 13, 4, 19, 19, 12, 11, 20, 19, 1, 9, 10, 3, 4, 5, 7, 12, 16, 19, 20, 13, 2, 4, 8, 10, 11, 12, 13, 16, 20, 9, 19, 2, 3, 4, 5, 6, 11, 12, 13, 15, 16, 18, 21, 3, 5, 11, 19, 20, 9, 19, 17, 3, 4, 7, 8, 11, 12, 15, 16, 6, 17, 12, 4, 15, 16, 9, 13, 1, 9, 11, 13, 17, 20, 1, 6, 8, 11, 17, 18, 20, 21, 7, 11, 14, 5, 5, 16, 13, 20, 21, 1, 3, 5, 6, 7, 9, 10, 11, 12, 13, 14, 15, 20, 3, 9, 3, 21, 10, 17, 20, 6, 10, 6, 4, 5, 7, 8, 9, 10, 11, 12, 14, 15, 16, 18, 20, 3, 4, 5, 8, 9, 10, 12, 17, 18, 20, 7, 10, 19, 14, 1, 2, 3, 4, 5, 6, 7, 8, 9, 10, 11, 12, 13, 15, 17, 18, 19, 20, 21, 19, 4, 17, 13, 3, 6, 3, 8, 3, 7, 8, 13, 19, 21, 8, 21, 3, 5, 7, 15, 3, 12, 13, 1, 5, 6, 10, 13, 14, 15, 16, 17, 18, 20, 21, 7, 14, 15, 19, 14, 2, 17, 19, 2, 4, 5, 7, 11, 12, 13, 14, 15, 19, 20, 21, 18, 12, 12, 17, 19, 17, 1, 2, 4, 9, 14, 4, 9, 10, 7, 2, 3, 4, 5, 8, 10, 11, 12, 13, 14, 15, 16, 18, 19, 20, 3, 5, 13, 14, 16, 19, 20, 5, 20, 21, 4, 9, 4, 14, 1, 2, 3, 4, 7, 14, 19, 19, 4, 12, 4, 5, 12, 15, 3, 17, 21, 15, 12, 16, 18, 16, 5, 20, 5, 14, 20, 14, 1, 12, 11, 4, 1, 8, 10, 11, 13, 14, 15, 16, 15, 6, 9, 5, 7, 13, 16, 8, 14, 19, 4, 13, 19, 14, 1, 5, 6, 10, 11, 12, 13, 15, 16, 17, 18, 19, 20, 16, 21, 14, 7, 5, 12, 13, 4, 5, 13, 14, 18, 19, 10, 20, 9, 19, 21, 7, 19, 19, 8, 11, 1, 14, 15, 15, 2, 18, 19, 20, 1, 3, 7, 8, 9, 10, 11, 12, 14, 17, 18, 20, 21, 2, 3, 4, 6, 7, 8, 10, 11, 12, 13, 14, 16, 18, 20, 21, 1, 12, 14, 16, 4, 4, 20, 2, 4, 5, 6, 8, 19, 20, 1, 2, 3, 4, 6, 7, 8, 9, 10, 11, 12, 13, 14, 15, 16, 19, 20, 21, 11, 1, 2, 3, 4, 5, 6, 7, 8, 9, 11, 12, 13, 14, 15, 16, 17, 18, 19, 21, 15, 12, 15, 3, 1, 5, 15, 18, 21, 16, 18, 21, 3, 5, 14, 15, 2, 11, 5, 20, 1, 12, 1, 7, 13, 18, 21, 3, 5, 8, 11, 21, 18, 21, 11, 20, 10, 2, 10, 2, 13, 1, 3, 4, 5, 6, 7, 8, 9, 10, 11, 14, 15, 17, 19, 20, 21, 7, 12, 1, 1, 2, 3, 4, 5, 7, 8, 9, 10, 11, 12, 13, 14, 15, 16, 18, 19, 20, 21, 1, 7, 2, 3, 21, 10, 4, 10, 4, 4, 16, 20, 14, 15, 9, 6, 13, 1, 9, 14, 14, 18, 10, 5, 16, 3, 7, 5, 20, 11, 15, 4, 4, 13, 12, 7, 1, 8, 12, 13, 1, 2, 3, 5, 6, 9, 10, 12, 14, 15, 17, 18, 1, 2, 4, 5, 6, 7, 9, 10, 11, 12, 13, 14, 15, 16, 17, 18, 19, 1, 9, 10, 11, 13, 16, 18, 20, 2, 4, 9, 10, 17, 21, 6, 17, 6, 21, 6, 14, 16, 10, 16, 21, 5, 6, 11, 12, 17, 9, 3, 9, 4, 5, 8, 9, 12, 13, 16, 17, 18, 19, 20, 2, 4, 8, 11, 12, 13, 17, 19, 21, 11, 7, 2, 4, 10, 11, 19, 1, 2, 3, 5, 7, 8, 10, 13, 15, 16, 17, 18, 20, 21, 10, 1, 5, 6, 12, 13, 14, 15, 19, 20, 2, 4, 5, 13, 15, 19, 20, 21, 2, 2, 3, 6, 9, 16, 17, 21, 11, 1, 2, 4, 5, 7, 8, 9, 12, 16, 18, 20, 12, 16, 1, 2, 3, 4, 6, 7, 12, 13, 14, 17, 18, 21, 21, 19, 4, 9, 21, 1, 15, 2, 9, 14, 2, 8, 9, 15, 11, 14, 1, 11, 12, 16, 6, 11, 4, 1, 7, 1, 3, 5, 7, 8, 9, 11, 15, 16, 18, 19, 20, 20, 19, 20, 2, 10, 11, 17, 4, 15, 16, 4, 2, 18, 21, 6, 13, 4, 18, 19, 21, 2, 14, 16, 15, 1, 1, 3, 4, 6, 7, 8, 10, 13, 14, 15, 16, 17, 19, 4, 17, 8, 3, 5, 6, 7, 8, 11, 13, 16, 17, 18, 19, 20, 21, 18, 7, 4, 5, 7, 8, 13, 16, 19, 21, 19, 15, 2, 1, 2, 3, 4, 5, 16, 19, 21, 10, 14, 15, 19, 3, 4, 19, 21, 6, 8, 2, 4, 8, 2, 2, 3, 16, 17, 21, 4, 13, 10, 1, 3, 4, 5, 6, 7, 8, 9, 11, 12, 13, 14, 15, 16, 17, 18, 19, 20, 21, 20, 19, 9, 1, 2, 3, 4, 5, 6, 7, 8, 9, 10, 11, 12, 13, 15, 16, 17, 18, 19, 20, 21, 21, 21, 15, 3, 3, 6, 8, 9, 11, 12, 18, 20, 12, 3, 9, 7, 21, 8, 18, 8, 13, 20, 11, 13, 3, 7, 13, 20, 14, 5, 5, 20, 21, 1, 4, 2, 3, 4, 5, 6, 7, 8, 12, 13, 14, 15, 18, 19, 20, 3, 4, 5, 6, 8, 11, 12, 13, 14, 19, 6, 21, 2, 17, 2, 15, 16, 20, 4, 21, 13, 11, 2, 3, 4, 6, 7, 8, 10, 11, 12, 13, 14, 16, 17, 19, 3, 4, 7, 8, 11, 13, 14, 15, 19, 5, 4, 8, 5, 6, 8, 9, 10, 14, 16, 18, 19, 20, 16, 11, 18, 4, 4, 17, 8, 8, 7, 2, 3, 4, 5, 6, 7, 8, 9, 10, 11, 12, 14, 15, 16, 17, 18, 19, 20, 21, 2, 20, 16, 1, 9, 12, 19, 8, 1, 3, 7, 15, 15, 4, 15, 16, 17, 19, 20, 20, 3, 1, 2, 3, 4, 6, 8, 10, 11, 12, 13, 15, 16, 18, 19, 20, 13, 14, 15, 2, 5, 20, 5, 6, 10, 1, 3, 5, 8, 21, 1, 2, 3, 4, 5, 6, 8, 10, 11, 12, 15, 16, 18, 19, 20, 21, 10, 20, 12, 16, 7, 14, 3, 4, 5, 6, 7, 9, 10, 11, 12, 14, 16, 20, 5, 18, 18, 18, 3, 5, 6, 8, 16, 19, 20, 14, 12, 21, 5, 16, 15, 5, 4, 7, 8, 11, 12, 15, 16, 17, 19, 20, 21, 11, 12, 16, 7, 17, 11, 19, 8, 7, 14, 1, 3, 5, 7, 9, 12, 15, 20, 21, 20, 1, 3, 7, 8, 13, 16, 20, 1, 21, 19, 8, 13, 1, 3, 16, 21, 16, 2, 3, 4, 5, 6, 7, 10, 12, 13, 14, 15, 17, 18, 19, 20, 21, 15, 5, 13, 18, 5, 1, 3, 4, 6, 9, 16, 20, 1, 4, 6, 7, 8, 10, 13, 15, 16, 19, 1, 4, 8, 9, 10, 12, 13, 14, 16, 17, 18, 19, 20, 21, 18, 4, 7], \"Freq\": [0.9925385641692711, 0.9854864756815294, 0.11605327499473099, 0.8897417749596043, 0.9892799171833443, 0.12200199111341285, 0.8946812681650276, 0.77183177557205, 0.22052336444915713, 0.018939987541068782, 0.006313329180356261, 0.9722526937748641, 0.06549361047057774, 0.8732481396077032, 0.05457800872548145, 0.011466890366092511, 0.03057837430958003, 0.05351215504176505, 0.5886337054594155, 0.0076445935773950075, 0.0993797165061351, 0.05351215504176505, 0.011466890366092511, 0.03057837430958003, 0.0038222967886975038, 0.03440067109827753, 0.015289187154790015, 0.026756077520882524, 0.03440067109827753, 0.9952174340432323, 0.9972825926620577, 1.0036465889619741, 0.8020546253699096, 0.19249311008877829, 0.9999418542481936, 1.0004825342582386, 0.9382645266458169, 0.5301293978675576, 0.04417744982229647, 0.17670979928918587, 0.029451633214864312, 0.08099199134087687, 0.007362908303716078, 0.058903266429728623, 0.04417744982229647, 0.022088724911148234, 0.022088724911148234, 0.03905200937736775, 0.8103291945803808, 0.019526004688683873, 0.05857801406605163, 0.06834101641039356, 0.8470604272610205, 0.13552966836176328, 0.9799387826599862, 1.0020338772900654, 0.9959040057678306, 0.9981206023430726, 0.9243100856197116, 0.07476037457218256, 0.0360508806963802, 0.9625585145933513, 0.015330690035458368, 0.6806826375743515, 0.012264552028366694, 0.291283110673709, 0.05508889300809178, 0.9365111811375603, 0.06720485896220549, 0.06720485896220549, 0.8544617782337556, 0.9984389664576967, 0.9962175571232031, 0.011260609055555967, 0.9909335968889251, 0.9903709777491148, 0.985086095920897, 0.9823920952663391, 0.9940855104632633, 1.0036814501203388, 0.998236343480303, 0.9828178709934522, 0.055417286594874486, 0.07125079705055291, 0.023750265683517638, 0.16625185978462345, 0.007916755227839212, 0.5779231316322625, 0.007916755227839212, 0.047500531367035276, 0.03958377613919606, 0.032388721167558636, 0.010796240389186211, 0.3832665338161105, 0.3130909712864001, 0.016194360583779318, 0.016194360583779318, 0.021592480778372423, 0.03778684136215174, 0.07557368272430348, 0.05937932214052416, 0.03778684136215174, 0.04307665815058214, 0.03589721512548512, 0.147178582014489, 0.4128179739430789, 0.05025610117567917, 0.0610252657133247, 0.05384582268822768, 0.05025610117567917, 0.04307665815058214, 0.06461498722587321, 0.003589721512548512, 0.032307493612936604, 0.14278183115283302, 0.8566909869169981, 0.9792364985418904, 0.09993104389442876, 0.6804828227096815, 0.028551726826979647, 0.04282759024046947, 0.004758621137829941, 0.05234483251612935, 0.08565518048093894, 0.9993565904454458, 0.029982015259917713, 0.1532414113284683, 0.043307355375436694, 0.043307355375436694, 0.04997002543319619, 0.04997002543319619, 0.0799520406931139, 0.2398561220793417, 0.03664468531767721, 0.046638690404316445, 0.22653078196382273, 0.08004020836204921, 0.6174530359358081, 0.06860589288175646, 0.09147452384234195, 0.045737261921170974, 0.08004020836204921, 0.9957630744146855, 0.9850914898868075, 0.24428364422472304, 0.04441520804085873, 0.7106433286537397, 0.942810343527196, 0.05892564647044975, 0.15236647450901342, 0.533282660781547, 0.22854971176352012, 0.05078882483633781, 0.025394412418168904, 0.9885607148632852, 0.5762107675586566, 0.23048430702346268, 0.15365620468230845, 0.03841405117057711, 0.08434626029002212, 0.10121551234802655, 0.05060775617401327, 0.37112354527609737, 0.1349540164640354, 0.0674770082320177, 0.11808476440603097, 0.08434626029002212, 0.994266711247744, 0.9939876019047429, 0.9781623716778177, 0.991384636722202, 1.0114057053407137, 0.026103099433344667, 0.035891761720848916, 0.06852063601252975, 0.12398972230838717, 0.032628874291680834, 0.00978866228750425, 0.0195773245750085, 0.078309298300034, 0.022840212004176585, 0.016314437145840417, 0.052206198866689334, 0.029365986862512752, 0.08483507315837018, 0.04894331143752125, 0.016314437145840417, 0.039154649150017, 0.016314437145840417, 0.013051549716672333, 0.2153505703250935, 0.006525774858336167, 0.04894331143752125, 0.9636123222362737, 0.03854449288945094, 0.9968153592713268, 0.9884530664714043, 0.9938714008915974, 0.02209799191253256, 0.01104899595626628, 0.02209799191253256, 0.1104899595626628, 0.03314698786879884, 0.25412690699412444, 0.08839196765013024, 0.19888192721279305, 0.06629397573759768, 0.03314698786879884, 0.04419598382506512, 0.04419598382506512, 0.06629397573759768, 0.9914881578009743, 0.2231249014848343, 0.7707951142203366, 0.16899715242278698, 0.12290701994384508, 0.046090132478941906, 0.6606252321981673, 0.9989227958301248, 0.9837225341665056, 0.11702656591520831, 0.8659965877725415, 0.9903727091217103, 0.03974029292913495, 0.059610439393702426, 0.019870146464567476, 0.417273075755917, 0.1589611717165398, 0.03974029292913495, 0.09935073232283738, 0.03974029292913495, 0.09935073232283738, 0.9832040555764707, 0.16438587838327542, 0.7527142852286822, 0.08219293919163771, 1.0003966074759245, 0.9847442044610704, 0.9743469715863947, 0.9798111727376301, 0.9753995925451323, 1.0051294182976467, 0.07525031911165142, 0.8385035558155444, 0.043000182349515095, 0.032250136762136325, 0.925838949604475, 0.0723311679378496, 0.995157281034387, 0.04872841991931681, 0.10287110871855772, 0.02165707551969636, 0.09745683983863362, 0.08121403319886135, 0.027071344399620452, 0.40065589711438265, 0.10287110871855772, 0.11911391535832998, 0.15236854644264836, 0.8532638600788308, 0.9619820466279034, 0.9936160199986986, 0.007782039297013373, 0.1167305894552006, 0.6614733402461367, 0.03891019648506686, 0.015564078594026746, 0.05447427507909361, 0.03891019648506686, 0.062256314376106986, 0.9884316664861588, 0.9402762510258751, 0.03616447119330289, 0.8468267562240007, 0.14113779270400012, 0.9860204669517751, 0.9890408358273862, 0.015147658977273605, 0.9770240040341476, 1.0060811363191622, 0.9436260028540344, 0.051470509246583696, 0.8475660863078086, 0.15410292478323795, 1.0036493640372977, 1.0003011107519335, 0.9825502693050785, 1.0091992605738116, 0.995247145604666, 0.9961746059078668, 0.9867698436773196, 1.001769786616568, 0.9941466784645534, 0.030444898744537117, 0.9590143104529193, 0.033061860754203254, 0.12122682276541193, 0.011020620251401084, 0.10194073732546002, 0.005510310125700542, 0.011020620251401084, 0.011020620251401084, 0.3526598480448347, 0.06612372150840651, 0.03857217087990379, 0.016530930377101627, 0.06061341138270596, 0.033061860754203254, 0.04132732594275407, 0.019286085439951896, 0.07714434175980758, 1.0029062112124303, 0.9992468304003134, 0.9950371000700041, 0.9857758854171693, 0.9998247915814471, 0.9956849334355435, 0.9992092170493818, 1.0119849795170692, 1.0014865552339682, 0.9976442257968968, 0.7826849932029434, 0.20291833157113348, 0.08595021830392854, 0.06876017464314284, 0.021487554575982136, 0.03438008732157142, 0.08165270738873212, 0.012892532745589283, 0.030082576406374992, 0.0472726200671607, 0.060165152812749985, 0.012892532745589283, 0.06446266372794641, 0.06876017464314284, 0.18049545843824996, 0.09884275104951783, 0.012892532745589283, 0.030082576406374992, 0.09024772921912498, 0.9925358079171362, 0.9862250103282963, 0.9928582702572221, 0.9592176544798008, 0.0518496029448541, 1.001435965188852, 0.9964108138816956, 0.017746090755697396, 0.023661454340929863, 0.017746090755697396, 0.05915363585232465, 0.011830727170464931, 0.2247838162388337, 0.10647654453418438, 0.023661454340929863, 0.023661454340929863, 0.047322908681859725, 0.254360634164996, 0.13605336246034672, 0.06506899943755712, 0.9995299555983266, 0.9965268033209979, 0.9993896688755821, 0.027349559476995074, 0.0382893832677931, 0.0765787665355862, 0.06290398679708867, 0.3910987005210295, 0.05469911895399015, 0.013674779738497537, 0.013674779738497537, 0.11760310575107881, 0.04922920705859113, 0.0027349559476995073, 0.0027349559476995073, 0.0765787665355862, 0.021879647581596058, 0.04922920705859113, 0.9991381584688769, 0.02447859795971078, 0.8567509285898773, 0.06119649489927695, 0.04895719591942156, 1.0046453848920565, 0.11863626282464697, 0.10951039645352027, 0.04562933185563345, 0.04562933185563345, 0.00912586637112669, 0.00912586637112669, 0.03650346548450676, 0.07300693096901352, 0.01825173274225338, 0.31940532298943414, 0.20989492653591385, 0.9922693621776074, 0.9984936916379148, 0.22605102601710345, 0.7786202007255785, 0.9947768413067332, 0.031390125599402206, 0.9730938935814684, 0.9910100940370216, 0.9811087283389065, 0.9874135397122844, 0.0556171160455445, 0.9084128954105603, 0.03707807736369634, 0.8578285384540467, 0.1225469340648638, 0.9558752630003023, 0.043448875590922836, 0.06076598351639411, 0.024306393406557644, 0.10937877032950939, 0.09722557362623058, 0.024306393406557644, 0.08507237692295175, 0.024306393406557644, 0.024306393406557644, 0.08507237692295175, 0.036459590109836466, 0.19445114725246115, 0.07291918021967293, 0.07291918021967293, 0.06076598351639411, 0.036459590109836466, 1.0054661715764361, 0.9369389359571998, 0.011567147357496295, 0.04626858942998518, 1.0007139878562297, 0.9847342998720479, 0.00866605013084809, 0.31197780471053127, 0.00866605013084809, 0.043330250654240454, 0.6326216595519106, 1.0091827244210225, 1.0002464662133355, 0.9560154003544801, 0.04156588697193391, 1.0021638202874834, 1.0031677885856025, 0.9884953322346646, 0.6389015325420433, 0.34849174502293273, 0.9238277257415788, 0.057739232858848674, 0.9967444404686289, 1.0021788192862273, 1.0025404260401636, 0.9701828224027272, 0.9977728232569197, 0.3240698854086682, 0.5185118166538691, 0.15123261319071182, 0.016591530206727132, 0.02765255034454522, 0.06083561075799948, 0.0884881611025447, 0.04977459062018139, 0.1382627517227261, 0.07742714096472661, 0.5419899867530863, 1.006298937180253, 0.09083973096619673, 0.03633589238647869, 0.018167946193239345, 0.2543512467053508, 0.19984740812563279, 0.018167946193239345, 0.07267178477295738, 0.1635115157391541, 0.1271756233526754, 0.8468817225261667, 0.1656942500594674, 0.02381677619750663, 0.007938925399168876, 0.08732817939085764, 0.02381677619750663, 0.04763355239501326, 0.05557247779418213, 0.07938925399168877, 0.015877850798337752, 0.09526710479002652, 0.15083958258420865, 0.19847313497922192, 0.21435098577755965, 0.05928860901693818, 0.7491924230322188, 0.08623797675191007, 0.10779747093988759, 1.0030660345143814, 1.004767894215647, 1.0054915294888618, 0.9747858703882941, 0.0059499538828175135, 0.06544949271099265, 0.05354958494535762, 0.011899907765635027, 0.6663948348755615, 0.07734940047662768, 0.07139944659381016, 0.041649677179722594, 0.8428427648260728, 0.15803301840488865, 1.0025094068959843, 0.07269077781044005, 0.8722893337252805, 1.0061889255218393, 0.8871153791239209, 0.08871153791239209, 0.01066022476155064, 0.04264089904620256, 0.7035748342623422, 0.06396134856930384, 0.06396134856930384, 0.11726247237705703, 0.13845579612826647, 0.00659313314896507, 0.00659313314896507, 0.05274506519172056, 0.05933819834068563, 0.0659313314896507, 0.6461270485985768, 0.019779399446895208, 0.9814607761255849, 0.9933570153010581, 0.988722116920498, 0.9910090109397179, 0.9808240932567822, 0.9943287590548013, 1.0006872132616056, 0.15192503583127565, 0.845716032794101, 0.36789484513318177, 0.11705745072419421, 0.10033495776359504, 0.04180623240149793, 0.11705745072419421, 0.03344498592119834, 0.008361246480299586, 0.04180623240149793, 0.04180623240149793, 0.01672249296059917, 0.02508373944089876, 0.06688997184239669, 0.02508373944089876, 0.06430914274672757, 0.900327998454186, 0.9979169154773083, 1.0020560554291928, 0.06218409330389114, 0.16582424881037636, 0.7876651818492877, 1.0034767049374977, 1.003805873925721, 1.010071196059379, 0.02694837996767466, 0.01347418998383733, 0.035931173290232876, 0.07186234658046575, 0.0943193298868613, 0.017965586645116438, 0.5389675993534931, 0.04940536327407021, 0.0044913966612791095, 0.017965586645116438, 0.05389675993534932, 0.06737094991918664, 0.9983927971865988, 0.031663748262376015, 0.09499124478712805, 0.06332749652475203, 0.09499124478712805, 0.09499124478712805, 0.07915937065594005, 0.06332749652475203, 0.07915937065594005, 0.2849737343613841, 0.09499124478712805, 1.0004740051031007, 1.00034856951779, 0.9960220648477994, 1.0018404347165193, 0.18972364488338594, 0.04853395566784292, 0.013236533363957158, 0.0661826668197858, 0.01764871115194288, 0.01764871115194288, 0.09706791133568583, 0.03529742230388576, 0.026473066727914316, 0.04853395566784292, 0.07941920018374295, 0.061770489031800074, 0.044121777879857195, 0.026473066727914316, 0.01764871115194288, 0.00882435557597144, 0.12354097806360015, 0.030885244515900037, 0.044121777879857195, 1.000381151514481, 0.9850028684367766, 0.9847857326347317, 1.0025720452868996, 0.2775225867940756, 0.7284967903344485, 0.9845403852023086, 0.015146775156958593, 0.049215396973397406, 0.08612694470344545, 0.7382309546009611, 0.012303849243349351, 0.06151924621674676, 0.049215396973397406, 1.0034068249512622, 0.9953015311944835, 0.07216079581673546, 0.841875951195247, 0.04810719721115697, 0.024053598605578486, 0.003914420995719998, 0.03914420995719998, 0.9551187229556795, 0.04257079725768764, 0.08514159451537529, 0.04257079725768764, 0.478921469148986, 0.02128539862884382, 0.05321349657210955, 0.03192809794326573, 0.06385619588653146, 0.05321349657210955, 0.05321349657210955, 0.04257079725768764, 0.03192809794326573, 0.027712823033753168, 0.8129094756567596, 0.09237607677917722, 0.06466325374542406, 0.9892830995844902, 0.022828709160329603, 0.7076899839702177, 0.27394450992395525, 0.07303324847636694, 0.02434441615878898, 0.04868883231757796, 0.02434441615878898, 0.02434441615878898, 0.09737766463515592, 0.34082182622304574, 0.07303324847636694, 0.02434441615878898, 0.17041091311152287, 0.02434441615878898, 0.04868883231757796, 0.9989699568440963, 0.9987169040699226, 0.07600461391593943, 0.8360507530753337, 0.07600461391593943, 0.963743862061101, 0.6356283360815455, 0.35312685337863636, 0.3667803810476335, 0.5501705715714502, 0.06113006350793891, 0.1880980189683498, 0.011756126185521862, 0.7994165806154866, 1.003364898602777, 0.05138717329156629, 0.09249691192481933, 0.13360665055807236, 0.05138717329156629, 0.020554869316626517, 0.15416151987469887, 0.07194204260819281, 0.010277434658313258, 0.11305178124144584, 0.06166460794987955, 0.020554869316626517, 0.13360665055807236, 0.04110973863325303, 0.010277434658313258, 0.020554869316626517, 0.028103810221399243, 0.028103810221399243, 0.056207620442798485, 0.014051905110699621, 0.7447509708670799, 0.056207620442798485, 0.056207620442798485, 0.8887419285577074, 0.06836476373520826, 0.03418238186760413, 0.9834764848089111, 0.015487818658408049, 0.010854723295435095, 0.9877798198845936, 0.07120593485376416, 0.07120593485376416, 0.02034455281536119, 0.07120593485376416, 0.04068910563072238, 0.04068910563072238, 0.6713702429069193, 1.004075745009225, 0.9922881719393225, 0.9873289578957977, 0.16215046638643657, 0.713462052100321, 0.12972037310914927, 1.0010443767794102, 1.0044304089631357, 0.9969582151808759, 1.0008730063313032, 0.9847279656359118, 0.9988183644459299, 0.026745642051942842, 0.969529524382928, 0.9797507880391354, 0.8160646284529266, 0.16321292569058532, 0.7462341669491716, 0.07221620970475853, 0.19257655921268943, 0.9843212796488165, 1.000856310352379, 0.9738435668250358, 1.0018997142925141, 0.9968366395713072, 0.051266505077145315, 0.041013204061716255, 0.06151980609257438, 0.08202640812343251, 0.020506602030858127, 0.041013204061716255, 0.051266505077145315, 0.6357046629566019, 1.0007988550933389, 0.9738603789339443, 0.025493727197223672, 0.38486938980943386, 0.6112631485208655, 0.9413694924048883, 0.07060271193036662, 0.02335367013823741, 0.8173784548383094, 0.16347569096766187, 0.11127860468731407, 0.7789502328111986, 0.9859919636456551, 0.9749902303621513, 0.04752480544020962, 0.13256919412269, 0.05502872208866377, 0.037519583242270754, 0.012506527747423585, 0.04252219434124019, 0.03501827769278604, 0.5352793875897294, 0.022511749945362453, 0.022511749945362453, 0.0150078332969083, 0.002501305549484717, 0.04002088879175547, 0.021935570576175855, 0.9871006759279134, 0.9943753810797051, 0.9886205138374959, 0.08331122279493394, 0.9164234507442733, 0.9941446854491616, 0.05705707003463308, 0.07607609337951078, 0.03803804668975539, 0.03803804668975539, 0.11411414006926617, 0.6656658170707194, 0.8021456140948996, 0.2005364035237249, 1.0082614884334848, 0.8957280992199017, 0.09952534435776686, 0.9595762832525769, 0.03427058154473489, 0.9907363924937341, 0.9686122619541417, 1.002852312510939, 1.0049961973662669, 0.9927582441570537, 0.9980321202986392, 1.0016755720586132, 0.9968929176377032, 0.9522678362068853, 0.047025572158364705, 0.011756393039591176, 0.07381768716140695, 0.029527074864562776, 0.16239891175509527, 0.029527074864562776, 0.04429061229684417, 0.029527074864562776, 0.014763537432281388, 0.07381768716140695, 0.05905414972912555, 0.1181082994582511, 0.19192598661965807, 0.04429061229684417, 0.10334476202596972, 0.08377302346410995, 0.038078647029140884, 0.08377302346410995, 0.007615729405828177, 0.007615729405828177, 0.038078647029140884, 0.03046291762331271, 0.11423594108742266, 0.038078647029140884, 0.06092583524662542, 0.03046291762331271, 0.3655550114797525, 0.07615729405828177, 0.007615729405828177, 0.007615729405828177, 0.7864297865937147, 0.05617355618526534, 0.02808677809263267, 0.14043389046316335, 0.9465634628725623, 1.0005712974336003, 0.9999185361256768, 0.06472386328543209, 0.10787310547572015, 0.7551117383300411, 0.010787310547572015, 0.032361931642716044, 0.010787310547572015, 0.010787310547572015, 0.005466191245250093, 0.01639857373575028, 0.25417789290412934, 0.0819928686787514, 0.010932382490500187, 0.021864764981000373, 0.09565834679187664, 0.019131669358375326, 0.01639857373575028, 0.04919572120725084, 0.06559429494300112, 0.02459786060362542, 0.01639857373575028, 0.019131669358375326, 0.013665478113125235, 0.2760426578851297, 0.0027330956226250466, 0.00819928686787514, 1.0162725128652412, 0.03693990451836417, 0.04365625079443038, 0.030223558242297957, 0.030223558242297957, 0.060447116484595914, 0.1679086569016553, 0.04701442393246349, 0.023507211966231744, 0.0537307702085297, 0.10074519414099319, 0.0570889433465628, 0.023507211966231744, 0.010074519414099318, 0.020149038828198636, 0.10410336727902629, 0.09067067472689387, 0.04365625079443038, 0.013432692552132424, 0.04029807765639727, 0.9856304586871317, 0.9745106484881559, 0.018740589394003, 0.9958799997791209, 0.6429657986417981, 0.16074144966044954, 0.09644486979626972, 0.0642965798641798, 0.0321482899320899, 0.9922108046764108, 0.9834275046058653, 0.020923989459699262, 0.05304990729879865, 0.9452528936876852, 0.929013466470155, 0.06263012133506664, 0.9977745775643587, 1.0069384444592582, 0.013965277745307966, 0.9915347199168656, 0.9716933725334481, 0.026027501050003076, 0.034524204694801136, 0.12083471643180398, 0.017262102347400568, 0.8113188103278267, 0.017262102347400568, 0.9818034920864199, 0.01731203039789735, 0.8829135502927649, 0.1038721823873841, 1.006370085012233, 1.0018990273163701, 0.9633847739156972, 1.0041486709545049, 1.002538926252972, 1.0009605395210817, 0.747150362892088, 0.25327130945494514, 1.002791839097574, 0.9988389385200338, 0.057964558343483914, 0.04347341875761294, 0.028982279171741957, 0.09419240730816136, 0.02173670937880647, 0.10143797710109685, 0.06521012813641941, 0.22461266358100015, 0.057964558343483914, 0.02173670937880647, 0.04347341875761294, 0.03622784896467745, 0.050718988550548426, 0.07970126772229039, 0.02173670937880647, 0.050718988550548426, 0.03527030344074702, 0.9640549607137519, 0.9964515551952767, 0.06413491965534951, 0.03946764286483047, 0.07400183037155712, 0.06413491965534951, 0.03946764286483047, 0.04933455358103808, 0.02960073214862285, 0.0049334553581038085, 0.0592014642972457, 0.014800366074311426, 0.03453418750672666, 0.03453418750672666, 0.02960073214862285, 0.014800366074311426, 0.04933455358103808, 0.02960073214862285, 0.3502753304253704, 0.0049334553581038085, 0.02466727679051904, 0.5213210520129616, 0.4599891635408485, 0.9920759384105713, 0.9918293700637008, 0.9971148116977319, 1.0056110961696418, 0.9833150848842179, 0.9953862788223139, 1.0014773173664073, 0.16994511723046235, 0.07553116321353881, 0.7553116321353882, 0.7728186670050204, 0.21769539915634378, 1.0025361150671774, 0.056004192386418176, 0.933403206440303, 0.9503595704576869, 0.04751797852288435, 1.0066577691329521, 0.9946060804095417, 1.005243565526539, 0.9846144374499604, 0.9029228078338375, 0.09029228078338375, 0.058624311295098416, 0.9379889807215747, 0.9712051419734343, 0.0422263105205841, 0.9962134051039725, 1.0041487849015935, 1.0009136009363153, 0.09441536373873056, 0.9126818494743955, 0.9959668734327202, 1.0055111821258071, 0.42387089208006024, 0.5752533535372246, 1.0028013073596989, 0.9980392053160996, 0.13398527512076613, 0.047288920630858634, 0.07881486771809772, 0.08669635448990749, 0.2837335237851518, 0.09457784126171727, 0.047288920630858634, 0.0551704074026684, 0.03152594708723909, 0.06305189417447818, 0.015762973543619545, 0.07093338094628795, 0.015949120537199768, 0.03987280134299942, 0.0757583225516989, 0.043860081477299355, 0.07177104241739896, 0.0478473616115993, 0.0478473616115993, 0.03588552120869948, 0.02392368080579965, 0.03987280134299942, 0.1834148861777973, 0.031898241074399536, 0.03588552120869948, 0.15949120537199768, 0.007974560268599884, 0.08373288282029878, 0.05980920201449912, 0.08527957649346919, 0.15160813598838965, 0.02842652549782306, 0.06632855949492047, 0.6064325439535586, 0.009475508499274353, 0.02842652549782306, 0.018951016998548707, 0.010694389736854564, 0.9838838557906198, 1.0088984326964492, 0.9895510092870154, 0.879868828833965, 0.07332240240283042, 0.7173598052032396, 0.23911993506774654, 0.32847706899087725, 0.6569541379817545, 0.8232080717173683, 0.07317405081932163, 0.09146756352415203, 0.9699650133028112, 0.9289970118006358, 0.06193313412004239, 0.029902647939148833, 0.029902647939148833, 0.01993509862609922, 0.03987019725219844, 0.8771443395483657, 0.9856524134219375, 0.8134272160217032, 0.1789539875247747, 0.10906370000070939, 0.054531850000354695, 0.009088641666725782, 0.027265925000177348, 0.045443208333628915, 0.054531850000354695, 0.4816980083364665, 0.07270913333380626, 0.10906370000070939, 0.018177283333451564, 0.009088641666725782, 0.9931256596452651, 0.22869115897374018, 0.030492154529832026, 0.015246077264916013, 0.1372146953842441, 0.06098430905966405, 0.015246077264916013, 0.5031205497422284, 0.015246077264916013, 0.9950411686224225, 0.977382840784864, 0.4681111375724155, 0.1376797463448281, 0.013767974634482809, 0.08260784780689685, 0.28912746732413896, 0.3161280497952152, 0.021801934468635528, 0.04905435255442994, 0.06540580340590658, 0.010900967234317764, 0.021801934468635528, 0.07630677064022436, 0.06540580340590658, 0.04905435255442994, 0.03815338532011218, 0.07085628702306547, 0.059955319788747706, 0.07630677064022436, 0.07630677064022436, 0.9937684716332416, 0.020674172647412784, 0.24809007176895342, 0.020674172647412784, 0.04134834529482557, 0.16539338117930227, 0.08269669058965114, 0.020674172647412784, 0.33078676235860455, 0.04134834529482557, 0.03544684335786082, 0.03544684335786082, 0.21268106014716492, 0.03544684335786082, 0.03544684335786082, 0.5671494937257732, 0.03544684335786082, 0.03544684335786082, 1.0052943361228759, 0.9968695632642853, 0.002011167088212244, 0.7521764909913793, 0.10458068858703669, 0.06636851391100405, 0.03620100758782039, 0.04022334176424488, 1.0065906937431084, 0.032404174198283085, 0.0712891832362228, 0.012961669679313234, 0.006480834839656617, 0.012961669679313234, 0.019442504518969853, 0.05184667871725294, 0.17498254067072866, 0.4990242826535595, 0.006480834839656617, 0.10369335743450588, 0.9954291741496047, 1.0281652622778554, 0.07576255553155252, 0.033672246902912234, 0.025254185177184175, 0.03788127776577626, 0.1010167407087367, 0.08418061725728058, 0.09680770984587267, 0.08838964812014462, 0.04209030862864029, 0.05050837035436835, 0.290423129537618, 0.0715535246686885, 1.0062464938097198, 0.9843092052186428, 0.28264973750567746, 0.05652994750113549, 0.6783593700136259, 0.28022485611774295, 0.7205782014456247, 0.5931481322934529, 0.3504966236279494, 0.026961278740611494, 0.09748150469923114, 0.10517741296495992, 0.6515868998317028, 0.1462222570488467, 0.011109526538716587, 0.9776383354070596, 0.16079236264831556, 0.438524625404497, 0.39467216286404727, 0.9940275450336733, 0.00705889830651096, 0.9953046612180454, 0.9877151231019747, 0.038493315360477995, 0.9623328840119498, 0.007524786657887198, 0.003762393328943599, 0.04891111327626679, 0.05267350660521039, 0.018811966644717997, 0.030099146631548793, 0.003762393328943599, 0.026336753302605195, 0.007524786657887198, 0.003762393328943599, 0.07901025990781559, 0.7073299458413966, 0.9607264762061085, 0.991617721348075, 0.9984657908729824, 0.06848141547862308, 0.8902584012221, 0.03424070773931154, 0.9812744094401069, 0.08451089757962162, 0.6760871806369729, 0.23663051322294051, 1.0047577285011926, 0.08122837013500232, 0.8935120714850255, 0.9934795086094979, 0.018502087620672826, 0.9806106438956599, 0.09280982398312816, 0.8087713232815454, 0.03977563884991207, 0.06629273141652012, 0.8754897659768723, 0.10943622074710904, 0.02735905518677726, 0.9913801247652099, 0.9964386442910831, 0.006288116554780426, 0.025152466219121705, 0.08803363176692597, 0.025152466219121705, 0.006288116554780426, 0.03144058277390213, 0.012576233109560853, 0.01886434966434128, 0.03772869932868256, 0.03144058277390213, 0.012576233109560853, 0.006288116554780426, 0.6916928210258468, 0.12977528931214583, 0.8435393805289478, 0.9996826862957496, 0.017397836016280668, 0.05509314738488878, 0.10438701609768401, 0.1188852127779179, 0.034795672032561335, 0.05509314738488878, 0.05799278672093556, 0.07539062273721624, 0.10148737676163723, 0.04639422937674845, 0.023197114688374224, 0.05509314738488878, 0.2551682615721165, 1.0025060608298249, 0.9881072353913012, 0.5354841139081932, 0.12021071944877806, 0.04371298889046475, 0.021856494445232376, 0.03278474166784857, 0.010928247222616188, 0.20763669722970757, 0.021856494445232376, 1.0010248700746003, 0.9958247900612284, 0.9885101059864674, 0.010745652657876085, 0.5910108961831847, 0.010745652657876085, 0.010745652657876085, 0.11820217923663694, 0.03223695797362825, 0.21491305315752168, 0.010745652657876085, 0.016497929587447606, 0.06599171834979042, 0.08248964793723802, 0.8248964793723803, 0.6157800714776981, 0.22620492421629726, 0.12566940234238738, 0.031417350585596845, 0.9842169764656883, 0.9961202478198873, 0.013775890341621213, 0.9780882142551061, 0.013775890341621213, 1.0011876807609554, 0.8998867786954674, 0.010343526191901924, 0.08274820953521539, 0.9956124830147364, 1.0078603593293494, 1.0000421038871623, 0.9914086602484611, 1.004569277190132, 0.030562527180782315, 0.0489000434892517, 0.042787538053095237, 0.06112505436156463, 0.0489000434892517, 0.0489000434892517, 0.0489000434892517, 0.18337516308469387, 0.07335006523387755, 0.012225010872312925, 0.012225010872312925, 0.036675032616938774, 0.042787538053095237, 0.06112505436156463, 0.07946257067003401, 0.030562527180782315, 0.07946257067003401, 0.042787538053095237, 0.018337516308469387, 0.996881710503796, 0.9956804399493978, 0.9857452442836463, 0.03602227747847666, 0.009005569369619165, 0.022513923424047913, 0.027016708108857493, 0.004502784684809582, 0.19812252613162162, 0.045027846848095826, 0.022513923424047913, 0.04052506216328624, 0.049530631532905406, 0.05853620090252457, 0.14408910991390664, 0.05853620090252457, 0.06303898558733415, 0.027016708108857493, 0.03602227747847666, 0.03151949279366707, 0.03602227747847666, 0.03151949279366707, 0.06303898558733415, 1.01157860899263, 1.0205459168987057, 0.9816070258900003, 0.9992510096535479, 0.9983256126419235, 0.03184188653116579, 0.07960471632791448, 0.03980235816395724, 0.07960471632791448, 0.692561032052856, 0.06368377306233158, 0.007960471632791448, 0.9984110558473929, 1.0024948726908742, 1.000330289583209, 0.995077977611337, 0.946184713959398, 0.816895005349113, 0.1807882388887381, 0.988099735867089, 0.9975688538268318, 0.9846923987318872, 0.9905368249320902, 0.00811915430272205, 0.07307935891560513, 0.9134919864450641, 0.9780093581330696, 0.04075038992221123, 1.0023093746473086, 0.9953822734801703, 1.011040424924021, 1.002567973702547, 0.9941979019429545, 0.8412736072571488, 0.15623652706204194, 0.04891734361543289, 0.09783468723086577, 0.11414046843601006, 0.26089249928230873, 0.04076445301286074, 0.024458671807716444, 0.05707023421800503, 0.03261156241028859, 0.016305781205144296, 0.04891734361543289, 0.03261156241028859, 0.008152890602572148, 0.21197515566687583, 0.008152890602572148, 0.08701958015297756, 0.1353637913490762, 0.15470147582751564, 0.09668842239219728, 0.058013053435318374, 0.0676818956745381, 0.04834421119609864, 0.09668842239219728, 0.058013053435318374, 0.19337684478439457, 0.9867572601130857, 0.9953308003699672, 0.9651050667555149, 0.9981631150783614, 0.997036305439111, 1.0040397767596883, 0.12681900607603644, 0.8623692413170478, 0.1390270063114951, 0.8805043733061356, 1.003248769816758, 0.9862204162397658, 0.07422407416120655, 0.029689629664482624, 0.1632929631546544, 0.014844814832241312, 0.014844814832241312, 0.014844814832241312, 0.04453444449672393, 0.05937925932896525, 0.029689629664482624, 0.05937925932896525, 0.17813777798689573, 0.029689629664482624, 0.014844814832241312, 0.2523618521481023, 0.011032989889164693, 0.12136288878081163, 0.03309896966749408, 0.06619793933498816, 0.011032989889164693, 0.5626824843473993, 0.04413195955665877, 0.022065979778329387, 0.12136288878081163, 0.9840541868025364, 1.001483645901731, 0.9748128119893771, 0.10667923885114065, 0.006667452428196291, 0.04000471456917775, 0.43338440783275894, 0.026669809712785163, 0.026669809712785163, 0.0733419767101592, 0.11334669127933696, 0.160018858276711, 0.020002357284588875, 1.0016912098945168, 1.0056050853350815, 0.9810969841993232, 0.9952934049676484, 1.004347852855934, 0.9939076733286542, 1.0023404392834807, 0.9807185008111843, 0.9792133185364362, 0.03422563671368723, 0.05133845507053085, 0.03422563671368723, 0.011408545571229077, 0.2795093664951124, 0.03992990949930177, 0.028521363928072693, 0.0057042727856145385, 0.0057042727856145385, 0.03422563671368723, 0.06274700064175992, 0.03422563671368723, 0.05133845507053085, 0.07985981899860355, 0.05133845507053085, 0.017112818356843616, 0.11978972849790531, 0.04563418228491631, 0.0057042727856145385, 0.9894294909440031, 0.9846996790459304, 0.9962523724020719, 0.5338543570662678, 0.2977264683638801, 0.10266429943582073, 0.06159857966149244, 0.9969181358270589, 0.7467209452640494, 0.256685324934517, 1.006862550523879, 1.010574869125568, 1.009924752320175, 0.9990178361843657, 0.05157587500045185, 0.0687678333339358, 0.05157587500045185, 0.1031517500009037, 0.704870291672842, 0.9882177721635428, 0.9960426639813116, 0.027412213294058733, 0.06167747991163215, 0.09594274652920558, 0.10964885317623493, 0.19188549305841116, 0.09594274652920558, 0.020559159970544052, 0.06853053323514684, 0.06853053323514684, 0.07538358655866152, 0.027412213294058733, 0.027412213294058733, 0.04797137326460279, 0.05482442658811747, 0.020559159970544052, 0.14181344938794424, 0.773527905752423, 0.0773527905752423, 0.022033902156469748, 0.8813560862587899, 0.08813560862587899, 0.9375622953001597, 0.025804466843123663, 0.03440595579083155, 0.7631456585256183, 0.12959077220246348, 0.057595898756650436, 0.028797949378325218, 0.014398974689162609, 0.012375013654023638, 0.27843780721553185, 0.04950005461609455, 0.05568756144310637, 0.037125040962070914, 0.04331254778908273, 0.04950005461609455, 0.012375013654023638, 0.0990001092321891, 0.06187506827011819, 0.024750027308047276, 0.07425008192414183, 0.05568756144310637, 0.06806257509713001, 0.04950005461609455, 0.030937534135059095, 1.0020584030701316, 1.0035462347798318, 0.9858818767522848, 0.9959107930667371, 1.0097307984117965, 0.9992767524503363, 0.026489116486750803, 0.07284507033856472, 0.14569014067712943, 0.052978232973501606, 0.04635595385181391, 0.17217925716388022, 0.19866837365063103, 0.07284507033856472, 0.04635595385181391, 0.04635595385181391, 0.066222791216877, 0.052978232973501606, 0.03868395259461523, 0.954204164000509, 0.9833642633488111, 0.9981583229411155, 0.06511729118248678, 0.06511729118248678, 0.14325804060147093, 0.39070374709492073, 0.1562814988379683, 0.10418766589197886, 0.0911642076554815, 0.9913042552845582, 0.9984080868422643, 0.9990199843644737, 1.0049012311822474, 0.9972979495485893, 0.9760180648277382, 0.9977441230860495, 0.03226018715627223, 0.17420501064387, 0.05161629945003556, 0.29679372183770447, 0.05161629945003556, 0.03871222458752667, 0.04516426201878111, 0.058068336881290004, 0.13549278605634335, 0.0709724117437989, 0.03226018715627223, 0.8715825914006533, 0.09473723819572318, 0.028421171458716955, 0.8368545237959752, 0.13497653609612503, 0.11290882723512351, 0.8859000290755844, 1.0053798613910852, 1.0108872209348265, 0.9932880923206261, 0.1521077425610488, 0.019840140334049843, 0.02865798048251644, 0.14108544237546555, 0.07495164126196607, 0.1168363819671824, 0.04188474070521633, 0.16313004274663204, 0.2601262843797646, 0.9962804945538448, 0.701063539034244, 0.0381767273731519, 0.059000396849416575, 0.0034706115793774455, 0.03470611579377446, 0.15617752107198504, 0.006941223158754891, 0.7657226235113299, 0.23203715863979693, 0.9910678922970253, 0.9659749085486057, 0.9818380152016866, 0.6735399050216068, 0.022831861187173112, 0.25115047305890426, 0.051371687671139504, 1.00588929186469, 0.05035784241825514, 0.02517892120912757, 0.09232271110013443, 0.03357189494550343, 0.03357189494550343, 0.117501632309262, 0.041964868681879285, 0.03357189494550343, 0.06714378989100686, 0.041964868681879285, 0.03357189494550343, 0.03357189494550343, 0.1930383959366447, 0.06714378989100686, 0.07553676362738271, 0.05035784241825514, 0.9827532806512497, 0.7513473037997047, 0.09391841297496309, 0.15026946075994094, 1.0068684277352276, 0.004759260213494929, 0.02855556128096957, 0.019037040853979715, 0.014277780640484785, 0.047592602134949286, 0.014277780640484785, 0.861426098642582, 0.09337975029935655, 0.028013925089806962, 0.48557470155665405, 0.08404177526942089, 0.08404177526942089, 0.009337975029935655, 0.03735190011974262, 0.08404177526942089, 0.056027850179613925, 0.01867595005987131, 0.04132848201534807, 0.04132848201534807, 0.04132848201534807, 0.19286624940495767, 0.027552321343565382, 0.06888080335891346, 0.08265696403069614, 0.027552321343565382, 0.027552321343565382, 0.17909008873317497, 0.06888080335891346, 0.09643312470247883, 0.06888080335891346, 0.027552321343565382, 0.9995048099973943, 0.11020404947968578, 0.8816323958374862], \"Term\": [\"absolute\", \"account\", \"accounting\", \"accounting\", \"achieve\", \"action\", \"action\", \"add\", \"add\", \"ads\", \"ads\", \"ads\", \"advance\", \"advance\", \"advance\", \"advanced\", \"advanced\", \"advanced\", \"advanced\", \"advanced\", \"advanced\", \"advanced\", \"advanced\", \"advanced\", \"advanced\", \"advanced\", \"advanced\", \"advanced\", \"advanced\", \"advertising\", \"affiliate\", \"affiliate marketing\", \"agile\", \"agile\", \"algorithms\", \"also\", \"amazon\", \"analysis\", \"analysis\", \"analysis\", \"analysis\", \"analysis\", \"analysis\", \"analysis\", \"analysis\", \"analysis\", \"analysis\", \"analytics\", \"analytics\", \"analytics\", \"analytics\", \"analytics\", \"analyze\", \"analyze\", \"animated\", \"animation\", \"animations\", \"api\", \"app\", \"app\", \"application\", \"application\", \"applications\", \"applications\", \"applications\", \"applications\", \"apply\", \"apply\", \"approach\", \"approach\", \"approach\", \"apps\", \"architecture\", \"art\", \"art\", \"artificial\", \"assets\", \"attract\", \"audience\", \"automate\", \"automation\", \"avoid\", \"based\", \"based\", \"based\", \"based\", \"based\", \"based\", \"based\", \"based\", \"based\", \"basic\", \"basic\", \"basic\", \"basic\", \"basic\", \"basic\", \"basic\", \"basic\", \"basic\", \"basic\", \"basic\", \"basics\", \"basics\", \"basics\", \"basics\", \"basics\", \"basics\", \"basics\", \"basics\", \"basics\", \"basics\", \"basics\", \"basics\", \"beautiful\", \"beautiful\", \"becoming\", \"beginner\", \"beginner\", \"beginner\", \"beginner\", \"beginner\", \"beginner\", \"beginner\", \"beginner advanced\", \"beginners\", \"beginners\", \"beginners\", \"beginners\", \"beginners\", \"beginners\", \"beginners\", \"beginners\", \"beginners\", \"beginners\", \"beginners\", \"better\", \"better\", \"better\", \"better\", \"better\", \"better\", \"big\", \"bitcoin\", \"blog\", \"blog\", \"blog\", \"blueprint\", \"blueprint\", \"book\", \"book\", \"book\", \"book\", \"book\", \"bookkeeping\", \"books\", \"books\", \"books\", \"books\", \"boost\", \"boost\", \"boost\", \"boost\", \"boost\", \"boost\", \"boost\", \"boost\", \"bootstrap\", \"brand\", \"branding\", \"bring\", \"budget\", \"business\", \"business\", \"business\", \"business\", \"business\", \"business\", \"business\", \"business\", \"business\", \"business\", \"business\", \"business\", \"business\", \"business\", \"business\", \"business\", \"business\", \"business\", \"business\", \"business\", \"business\", \"businesses\", \"businesses\", \"buy\", \"campaign\", \"campaigns\", \"career\", \"career\", \"career\", \"career\", \"career\", \"career\", \"career\", \"career\", \"career\", \"career\", \"career\", \"career\", \"career\", \"case\", \"certification\", \"certification\", \"certified\", \"certified\", \"certified\", \"certified\", \"change\", \"channel\", \"characters\", \"characters\", \"class\", \"clients\", \"clients\", \"clients\", \"clients\", \"clients\", \"clients\", \"clients\", \"clients\", \"clients\", \"coaching\", \"code\", \"code\", \"code\", \"coding\", \"common\", \"communication\", \"company\", \"competition\", \"complex\", \"comprehensive\", \"comprehensive\", \"comprehensive\", \"comprehensive\", \"computer\", \"computer\", \"concept\", \"concepts\", \"concepts\", \"concepts\", \"concepts\", \"concepts\", \"concepts\", \"concepts\", \"concepts\", \"concepts\", \"confidence\", \"confidence\", \"confident\", \"connect\", \"content\", \"content\", \"content\", \"content\", \"content\", \"content\", \"content\", \"content\", \"control\", \"convert\", \"convert\", \"converting\", \"converting\", \"copy\", \"copywriting\", \"core\", \"core\", \"corporate\", \"cost\", \"cost\", \"courses\", \"courses\", \"covering\", \"covers\", \"crash\", \"creation\", \"creative\", \"credit\", \"cryptocurrency\", \"custom\", \"customer\", \"customers\", \"customers\", \"data\", \"data\", \"data\", \"data\", \"data\", \"data\", \"data\", \"data\", \"data\", \"data\", \"data\", \"data\", \"data\", \"data\", \"data\", \"data\", \"data science\", \"database\", \"databases\", \"days\", \"decisions\", \"deep\", \"deep learning\", \"deliver\", \"demand\", \"deploy\", \"depth\", \"depth\", \"design\", \"design\", \"design\", \"design\", \"design\", \"design\", \"design\", \"design\", \"design\", \"design\", \"design\", \"design\", \"design\", \"design\", \"design\", \"design\", \"design\", \"designed\", \"designer\", \"designing\", \"designs\", \"designs\", \"desktop\", \"detailed\", \"develop\", \"develop\", \"develop\", \"develop\", \"develop\", \"develop\", \"develop\", \"develop\", \"develop\", \"develop\", \"develop\", \"develop\", \"develop\", \"developer\", \"developers\", \"developing\", \"development\", \"development\", \"development\", \"development\", \"development\", \"development\", \"development\", \"development\", \"development\", \"development\", \"development\", \"development\", \"development\", \"development\", \"development\", \"different\", \"digital\", \"digital\", \"digital\", \"digital\", \"digital marketing\", \"discover\", \"discover\", \"discover\", \"discover\", \"discover\", \"discover\", \"discover\", \"discover\", \"discover\", \"discover\", \"discover\", \"dive\", \"drawing\", \"drive\", \"drive\", \"driven\", \"dropshipping\", \"dropshipping\", \"dynamic\", \"earn\", \"ease\", \"easily\", \"easily\", \"easily\", \"ecommerce\", \"ecommerce\", \"editing\", \"editing\", \"effective\", \"effective\", \"effective\", \"effective\", \"effective\", \"effective\", \"effective\", \"effective\", \"effective\", \"effective\", \"effective\", \"effective\", \"effective\", \"effective\", \"effective\", \"effectively\", \"effects\", \"effects\", \"effects\", \"efficient\", \"elements\", \"email\", \"email\", \"email\", \"email\", \"email\", \"email marketing\", \"engagement\", \"engaging\", \"engaging\", \"engineering\", \"enhance\", \"enterprise\", \"entrepreneur\", \"entrepreneur\", \"entrepreneurs\", \"entrepreneurs\", \"environment\", \"essential\", \"essentials\", \"estate\", \"even\", \"exam\", \"exam\", \"exam\", \"examples\", \"examples\", \"examples\", \"examples\", \"examples\", \"examples\", \"examples\", \"examples\", \"exams\", \"excel\", \"excel\", \"excel\", \"excel\", \"excel\", \"excel\", \"excel\", \"excel\", \"excel\", \"exercises\", \"exercises\", \"experience\", \"experience\", \"experience\", \"experience\", \"experience\", \"experience\", \"experience\", \"experience\", \"experience\", \"experience\", \"experience\", \"experience\", \"expert\", \"expert\", \"expert\", \"expert\", \"explained\", \"explore\", \"facebook\", \"fashion\", \"fast\", \"fast\", \"fast\", \"fast\", \"fast\", \"fast\", \"fast\", \"fast\", \"faster\", \"faster\", \"features\", \"figure\", \"figure\", \"files\", \"finance\", \"finance\", \"financial\", \"financial\", \"financial\", \"financial\", \"financial\", \"financial\", \"first\", \"first\", \"first\", \"first\", \"first\", \"first\", \"first\", \"first\", \"fiverr\", \"followers\", \"following\", \"forex\", \"forex trading\", \"forms\", \"foundation\", \"framework\", \"framework\", \"free\", \"free\", \"free\", \"free\", \"free\", \"free\", \"free\", \"free\", \"free\", \"free\", \"free\", \"free\", \"free\", \"freelance\", \"freelance\", \"friendly\", \"front\", \"fun\", \"fun\", \"fun\", \"functional\", \"functions\", \"fundamental\", \"fundamentals\", \"fundamentals\", \"fundamentals\", \"fundamentals\", \"fundamentals\", \"fundamentals\", \"fundamentals\", \"fundamentals\", \"fundamentals\", \"fundamentals\", \"fundamentals\", \"fundamentals\", \"future\", \"gain\", \"gain\", \"gain\", \"gain\", \"gain\", \"gain\", \"gain\", \"gain\", \"gain\", \"gain\", \"game\", \"games\", \"generate\", \"generation\", \"get\", \"get\", \"get\", \"get\", \"get\", \"get\", \"get\", \"get\", \"get\", \"get\", \"get\", \"get\", \"get\", \"get\", \"get\", \"get\", \"get\", \"get\", \"get\", \"getting\", \"give\", \"good\", \"google\", \"graphic\", \"graphic\", \"graphics\", \"graphics\", \"grow\", \"grow\", \"grow\", \"grow\", \"grow\", \"grow\", \"grow business\", \"growing\", \"growth\", \"growth\", \"growth\", \"growth\", \"hands\", \"hands\", \"hands\", \"help\", \"help\", \"help\", \"help\", \"help\", \"help\", \"help\", \"help\", \"help\", \"help\", \"help\", \"help\", \"high\", \"high\", \"high\", \"high\", \"high quality\", \"highly\", \"highly\", \"highly\", \"home\", \"home\", \"home\", \"home\", \"home\", \"home\", \"home\", \"home\", \"home\", \"home\", \"home\", \"home\", \"human\", \"idea\", \"ideas\", \"ideas\", \"ideas\", \"identify\", \"image\", \"image\", \"impact\", \"impact\", \"impact\", \"implement\", \"implement\", \"implement\", \"important\", \"improve\", \"improve\", \"improve\", \"improve\", \"improve\", \"improve\", \"improve\", \"improve\", \"improve\", \"improve\", \"improve\", \"improve\", \"improve\", \"improve\", \"improve\", \"included\", \"included\", \"included\", \"included\", \"included\", \"included\", \"included\", \"includes\", \"includes\", \"includes\", \"including\", \"including\", \"income\", \"income\", \"increase\", \"increase\", \"increase\", \"increase\", \"increase\", \"increase\", \"increase\", \"increase sales\", \"industry\", \"information\", \"insights\", \"insights\", \"insights\", \"instagram\", \"intelligence\", \"interactive\", \"intermediate\", \"internet\", \"interview\", \"introduction\", \"introduction\", \"inventory\", \"invest\", \"invest\", \"investing\", \"investing\", \"investing\", \"investment\", \"javascript\", \"job\", \"journey\", \"key\", \"knowledge\", \"knowledge\", \"knowledge\", \"knowledge\", \"knowledge\", \"knowledge\", \"knowledge\", \"knowledge\", \"landing\", \"language\", \"language\", \"latest\", \"latest\", \"launch\", \"launch\", \"lead\", \"lead\", \"lead\", \"leadership\", \"leadership\", \"leads\", \"lean\", \"learning\", \"learning\", \"learning\", \"learning\", \"learning\", \"learning\", \"learning\", \"learning\", \"learning\", \"learning\", \"learning\", \"learning\", \"learning\", \"less\", \"less\", \"lessons\", \"let\", \"leverage\", \"leverage\", \"library\", \"life\", \"life\", \"life\", \"life\", \"life\", \"life\", \"line\", \"line\", \"linkedin\", \"list\", \"list\", \"live\", \"live\", \"local\", \"long\", \"look\", \"looking\", \"low\", \"machine\", \"machine learning\", \"made\", \"making\", \"making\", \"making\", \"manage\", \"manage\", \"manage\", \"manage\", \"manage\", \"manage\", \"manage\", \"manage\", \"manage\", \"manage\", \"manage\", \"manage\", \"manage\", \"management\", \"management\", \"management\", \"management\", \"management\", \"management\", \"management\", \"management\", \"management\", \"management\", \"management\", \"management\", \"management\", \"management\", \"management\", \"manager\", \"manager\", \"manager\", \"manager\", \"managers\", \"managing\", \"many\", \"market\", \"market\", \"market\", \"market\", \"market\", \"market\", \"market\", \"marketing\", \"marketing\", \"marketing\", \"marketing\", \"marketing\", \"marketing\", \"marketing\", \"marketing\", \"marketing\", \"marketing\", \"marketing\", \"marketing\", \"marketing\", \"marketing\", \"marketing\", \"marketing\", \"marketing\", \"marketing\", \"markets\", \"master\", \"master\", \"master\", \"master\", \"master\", \"master\", \"master\", \"master\", \"master\", \"master\", \"master\", \"master\", \"master\", \"master\", \"master\", \"master\", \"master\", \"master\", \"master\", \"masterclass\", \"mastering\", \"mastering\", \"media\", \"method\", \"method\", \"method\", \"method\", \"method\", \"methods\", \"minutes\", \"minutes\", \"mobile\", \"mobile\", \"model\", \"model\", \"modeling\", \"modelling\", \"models\", \"models\", \"modern\", \"modern\", \"money\", \"money\", \"money\", \"money\", \"money\", \"motion\", \"much\", \"much\", \"much\", \"multiple\", \"mysql\", \"necessary\", \"needed\", \"net\", \"network\", \"networks\", \"networks\", \"neural\", \"never\", \"new\", \"new\", \"new\", \"new\", \"new\", \"new\", \"new\", \"new\", \"new\", \"new\", \"new\", \"new\", \"new\", \"new\", \"new\", \"new\", \"next\", \"next\", \"object\", \"online\", \"online\", \"online\", \"online\", \"online\", \"online\", \"online\", \"online\", \"online\", \"online\", \"online\", \"online\", \"online\", \"online\", \"online\", \"online\", \"online\", \"online\", \"online\", \"open\", \"open\", \"operations\", \"optimization\", \"optimize\", \"options\", \"organization\", \"oriented\", \"overview\", \"page\", \"page\", \"page\", \"pages\", \"pages\", \"paid\", \"part\", \"part\", \"pass\", \"pass\", \"passive\", \"passive income\", \"patterns\", \"people\", \"perfect\", \"perfect\", \"performance\", \"performance\", \"personal\", \"personal\", \"photo\", \"photoshop\", \"plan\", \"planning\", \"planning\", \"platform\", \"popular\", \"portfolio\", \"portfolio\", \"potential\", \"power\", \"powerful\", \"powerful\", \"powerful\", \"powerful\", \"powerful\", \"powerful\", \"powerful\", \"powerful\", \"powerful\", \"powerful\", \"powerful\", \"powerful\", \"practical\", \"practical\", \"practical\", \"practical\", \"practical\", \"practical\", \"practical\", \"practical\", \"practical\", \"practical\", \"practical\", \"practical\", \"practical\", \"practical\", \"practical\", \"practical\", \"practical\", \"practice\", \"practice\", \"practice\", \"practice\", \"practice\", \"practice\", \"practice\", \"practice\", \"practices\", \"practices\", \"preparation\", \"prepare\", \"presentation\", \"presentation\", \"presentations\", \"presentations\", \"price\", \"price\", \"principles\", \"principles\", \"principles\", \"print\", \"prior\", \"prior\", \"pro\", \"pro\", \"pro\", \"pro\", \"pro\", \"problem\", \"problems\", \"problems\", \"process\", \"process\", \"process\", \"process\", \"process\", \"process\", \"process\", \"process\", \"process\", \"process\", \"process\", \"processing\", \"product\", \"product\", \"product\", \"product\", \"product\", \"product\", \"product\", \"product\", \"production\", \"productivity\", \"products\", \"products\", \"products\", \"products\", \"products\", \"professional\", \"professional\", \"professional\", \"professional\", \"professional\", \"professional\", \"professional\", \"professional\", \"professional\", \"professional\", \"professional\", \"professional\", \"professional\", \"professional\", \"professionals\", \"profit\", \"profit\", \"profit\", \"profit\", \"profit\", \"profit\", \"profit\", \"profit\", \"profit\", \"profitable\", \"profitable\", \"profitable\", \"profitable\", \"profitable\", \"profitable\", \"profitable\", \"profitable\", \"profits\", \"program\", \"programming\", \"programming\", \"programming\", \"programming\", \"programming\", \"programming\", \"programs\", \"project\", \"project\", \"project\", \"project\", \"project\", \"project\", \"project\", \"project\", \"project\", \"project\", \"project\", \"project based\", \"project management\", \"projects\", \"projects\", \"projects\", \"projects\", \"projects\", \"projects\", \"projects\", \"projects\", \"projects\", \"projects\", \"projects\", \"projects\", \"promote\", \"proven\", \"public\", \"public\", \"public\", \"publish\", \"publish\", \"publishing\", \"publishing\", \"publishing\", \"python\", \"python\", \"python\", \"python\", \"quality\", \"quality\", \"questions\", \"questions\", \"questions\", \"quick\", \"quickly\", \"quickly\", \"rank\", \"ready\", \"ready\", \"real\", \"real\", \"real\", \"real\", \"real\", \"real\", \"real\", \"real\", \"real\", \"real\", \"real\", \"real\", \"real estate\", \"real life\", \"real world\", \"realistic\", \"realistic\", \"realistic\", \"reports\", \"required\", \"required\", \"required\", \"research\", \"resources\", \"resources\", \"responsive\", \"results\", \"results\", \"right\", \"right\", \"right\", \"right\", \"risk\", \"risk\", \"risk\", \"run\", \"running\", \"sales\", \"sales\", \"sales\", \"sales\", \"sales\", \"sales\", \"sales\", \"sales\", \"sales\", \"sales\", \"sales\", \"sales\", \"sales\", \"save\", \"save\", \"science\", \"scratch\", \"scratch\", \"scratch\", \"scratch\", \"scratch\", \"scratch\", \"scratch\", \"scratch\", \"scratch\", \"scratch\", \"scratch\", \"scratch\", \"scratch\", \"search\", \"secret\", \"secrets\", \"secrets\", \"secrets\", \"secrets\", \"secrets\", \"secrets\", \"secrets\", \"secrets\", \"secure\", \"see\", \"self\", \"sell\", \"sell\", \"sell\", \"sell\", \"sell\", \"sell\", \"sell\", \"sell\", \"selling\", \"selling\", \"selling\", \"selling\", \"seo\", \"seo\", \"seo\", \"seo\", \"series\", \"server\", \"service\", \"service\", \"service\", \"services\", \"set\", \"set\", \"set\", \"setting\", \"setup\", \"shopify\", \"short\", \"show\", \"simple\", \"simple\", \"simple\", \"simple\", \"simple\", \"simple\", \"simple\", \"simple\", \"simple\", \"simple\", \"simple\", \"simple\", \"simple\", \"simple\", \"simple\", \"simple\", \"simple\", \"simple\", \"simple\", \"single\", \"site\", \"skill\", \"skills\", \"skills\", \"skills\", \"skills\", \"skills\", \"skills\", \"skills\", \"skills\", \"skills\", \"skills\", \"skills\", \"skills\", \"skills\", \"skills\", \"skills\", \"skills\", \"skills\", \"skills\", \"skills\", \"skills\", \"small\", \"small business\", \"smart\", \"social\", \"social media\", \"software\", \"software\", \"software\", \"software\", \"software\", \"software\", \"software\", \"solutions\", \"solve\", \"solving\", \"source\", \"speaking\", \"sql\", \"sql\", \"sql server\", \"stack\", \"standard\", \"started\", \"started\", \"starting\", \"starting\", \"startup\", \"startup\", \"statements\", \"stock\", \"stock trading\", \"stocks\", \"stop\", \"store\", \"store\", \"strategies\", \"strategies\", \"strategies\", \"strategies\", \"strategies\", \"strategies\", \"strategies\", \"strategies\", \"strategies\", \"strategies\", \"strategies\", \"strategies\", \"strategies\", \"strategies\", \"strategy\", \"strategy\", \"strategy\", \"strategy\", \"strategy\", \"strategy\", \"strategy\", \"strategy\", \"strategy\", \"strategy\", \"structure\", \"students\", \"studies\", \"studio\", \"study\", \"stunning\", \"style\", \"style\", \"subscribers\", \"subscribers\", \"substance\", \"succeed\", \"success\", \"success\", \"success\", \"success\", \"success\", \"success\", \"success\", \"success\", \"success\", \"success\", \"success\", \"success\", \"success\", \"success\", \"successful\", \"successful\", \"successful\", \"successful\", \"successful\", \"successful\", \"successful\", \"successful\", \"successful\", \"successfully\", \"super\", \"support\", \"system\", \"system\", \"system\", \"system\", \"system\", \"system\", \"system\", \"system\", \"system\", \"system\", \"systems\", \"targeted\", \"tasks\", \"taught\", \"tax\", \"teach\", \"teaches\", \"team\", \"technical\", \"techniques\", \"techniques\", \"techniques\", \"techniques\", \"techniques\", \"techniques\", \"techniques\", \"techniques\", \"techniques\", \"techniques\", \"techniques\", \"techniques\", \"techniques\", \"techniques\", \"techniques\", \"techniques\", \"techniques\", \"techniques\", \"techniques\", \"technology\", \"template\", \"templates\", \"test\", \"test\", \"test\", \"test\", \"testing\", \"text\", \"text\", \"theory\", \"things\", \"thinking\", \"thousands\", \"tips\", \"tips\", \"tips\", \"tips\", \"tips\", \"tips tricks\", \"tool\", \"tools\", \"tools\", \"tools\", \"tools\", \"tools\", \"tools\", \"tools\", \"tools\", \"tools\", \"tools\", \"tools\", \"tools\", \"tools\", \"tools\", \"tools\", \"topics\", \"topics\", \"topics\", \"trade\", \"trade\", \"trade\", \"trading\", \"trading\", \"trading\", \"traffic\", \"traffic\", \"traffic\", \"traffic\", \"traffic\", \"training\", \"training\", \"training\", \"training\", \"training\", \"training\", \"training\", \"training\", \"training\", \"training\", \"training\", \"training\", \"training\", \"training\", \"training\", \"training\", \"transform\", \"tricks\", \"turn\", \"tutorial\", \"tutorials\", \"ultimate\", \"understand\", \"understand\", \"understand\", \"understand\", \"understand\", \"understand\", \"understand\", \"understand\", \"understand\", \"understand\", \"understand\", \"understand\", \"understanding\", \"understanding\", \"unique\", \"updated\", \"used\", \"used\", \"used\", \"used\", \"used\", \"used\", \"used\", \"useful\", \"user\", \"users\", \"value\", \"various\", \"vector\", \"version\", \"video\", \"video\", \"video\", \"video\", \"video\", \"video\", \"video\", \"video\", \"video\", \"video\", \"video\", \"videos\", \"videos\", \"videos\", \"virtual\", \"virtual\", \"visual\", \"visual\", \"visualization\", \"watch\", \"wealth\", \"web\", \"web\", \"web\", \"web\", \"web\", \"web\", \"web\", \"web\", \"web\", \"web applications\", \"website\", \"website\", \"website\", \"website\", \"website\", \"website\", \"website\", \"websites\", \"websites\", \"well\", \"win\", \"winning\", \"wordpress\", \"wordpress\", \"wordpress\", \"wordpress\", \"wordpress website\", \"work\", \"work\", \"work\", \"work\", \"work\", \"work\", \"work\", \"work\", \"work\", \"work\", \"work\", \"work\", \"work\", \"work\", \"work\", \"work\", \"workflow\", \"working\", \"working\", \"working\", \"works\", \"world\", \"world\", \"world\", \"world\", \"world\", \"world\", \"world\", \"write\", \"write\", \"write\", \"write\", \"write\", \"write\", \"write\", \"write\", \"write\", \"write\", \"writing\", \"writing\", \"writing\", \"writing\", \"writing\", \"writing\", \"writing\", \"writing\", \"writing\", \"writing\", \"writing\", \"writing\", \"writing\", \"writing\", \"years\", \"youtube\", \"youtube\"]}, \"R\": 30, \"lambda.step\": 0.01, \"plot.opts\": {\"xlab\": \"PC1\", \"ylab\": \"PC2\"}, \"topic.order\": [1, 2, 3, 4, 5, 6, 7, 8, 9, 10, 11, 12, 13, 14, 15, 16, 17, 18, 19, 20, 21]};\n",
              "\n",
              "function LDAvis_load_lib(url, callback){\n",
              "  var s = document.createElement('script');\n",
              "  s.src = url;\n",
              "  s.async = true;\n",
              "  s.onreadystatechange = s.onload = callback;\n",
              "  s.onerror = function(){console.warn(\"failed to load library \" + url);};\n",
              "  document.getElementsByTagName(\"head\")[0].appendChild(s);\n",
              "}\n",
              "\n",
              "if(typeof(LDAvis) !== \"undefined\"){\n",
              "   // already loaded: just create the visualization\n",
              "   !function(LDAvis){\n",
              "       new LDAvis(\"#\" + \"ldavis_el8811401010127296805083783530\", ldavis_el8811401010127296805083783530_data);\n",
              "   }(LDAvis);\n",
              "}else if(typeof define === \"function\" && define.amd){\n",
              "   // require.js is available: use it to load d3/LDAvis\n",
              "   require.config({paths: {d3: \"https://d3js.org/d3.v5\"}});\n",
              "   require([\"d3\"], function(d3){\n",
              "      window.d3 = d3;\n",
              "      LDAvis_load_lib(\"https://cdn.jsdelivr.net/gh/bmabey/pyLDAvis@3.3.1/pyLDAvis/js/ldavis.v3.0.0.js\", function(){\n",
              "        new LDAvis(\"#\" + \"ldavis_el8811401010127296805083783530\", ldavis_el8811401010127296805083783530_data);\n",
              "      });\n",
              "    });\n",
              "}else{\n",
              "    // require.js not available: dynamically load d3 & LDAvis\n",
              "    LDAvis_load_lib(\"https://d3js.org/d3.v5.js\", function(){\n",
              "         LDAvis_load_lib(\"https://cdn.jsdelivr.net/gh/bmabey/pyLDAvis@3.3.1/pyLDAvis/js/ldavis.v3.0.0.js\", function(){\n",
              "                 new LDAvis(\"#\" + \"ldavis_el8811401010127296805083783530\", ldavis_el8811401010127296805083783530_data);\n",
              "            })\n",
              "         });\n",
              "}\n",
              "</script>"
            ]
          },
          "metadata": {},
          "execution_count": 69
        }
      ],
      "source": [
        "import pyLDAvis\n",
        "import pyLDAvis.gensim_models\n",
        "\n",
        "pyLDAvis.enable_notebook()\n",
        "\n",
        "lda_display = pyLDAvis.gensim_models.prepare(coherence_ldamodel, corpus_tfidf, dictionary, sort_topics=False)\n",
        "pyLDAvis.display(lda_display)"
      ]
    },
    {
      "cell_type": "markdown",
      "metadata": {
        "id": "YO2cXv7AERgK"
      },
      "source": [
        "# Función para el recomendador "
      ]
    },
    {
      "cell_type": "markdown",
      "metadata": {
        "id": "fV0AzH8VmdLc"
      },
      "source": [
        "Se crea una matriz de similitud, haciendo el cálculo de la similitud del coseno, que utilizaremos para comparar los vectores de temas asignados y sus coherencias de acuerdo a la descripción de cada curso."
      ]
    },
    {
      "cell_type": "code",
      "execution_count": null,
      "metadata": {
        "id": "AvM2395XLNFN"
      },
      "outputs": [],
      "source": [
        "from gensim import similarities\n",
        "sim_mat = similarities.MatrixSimilarity(coherence_ldamodel[corpus_tfidf])"
      ]
    },
    {
      "cell_type": "markdown",
      "metadata": {
        "id": "paTnGtZxmkAH"
      },
      "source": [
        "### Convierto la variable Title en una lista"
      ]
    },
    {
      "cell_type": "code",
      "execution_count": null,
      "metadata": {
        "id": "PlD7HqRGVAm6"
      },
      "outputs": [],
      "source": [
        "course_title = data[\"Title\"]\n",
        "course_title = list(course_title)\n",
        "# course_title"
      ]
    },
    {
      "cell_type": "markdown",
      "metadata": {
        "id": "TzpwYGfpmvgk"
      },
      "source": [
        "### Defino la función del recomendador"
      ]
    },
    {
      "cell_type": "code",
      "execution_count": null,
      "metadata": {
        "id": "W2SPsd-HH2cM"
      },
      "outputs": [],
      "source": [
        "def course_recommender(skill):\n",
        "\n",
        "    recommendation_scores = []\n",
        "\n",
        "    for i in range(len(texts)):\n",
        "         \n",
        "        if skill in texts[i]:  #  vamos a chequear que alguna palabra de la descripción de curso aparezca\n",
        "            \n",
        "            lda_vectors = corpus_ldamodel[i] # vector con el topico del curso\n",
        "            sims = sim_mat[lda_vectors]\n",
        "            sims = list(enumerate(sims))\n",
        "            # # Tomamos los 10 cursos más parecidos al que tiene el mismo skill \n",
        "            sims = list(sorted(sims, key=lambda x: x[1], reverse=True))[:10]\n",
        "            for sim in sims:\n",
        "                course_num = sim[0]\n",
        "                recommendation_score = [course_title[course_num], sim[1], course_num]\n",
        "                recommendation_scores.append(recommendation_score)\n",
        "\n",
        "\n",
        "    if recommendation_scores:\n",
        "        print(\"*****\")\n",
        "        recommendation = sorted(recommendation_scores, key=lambda x: x[1], reverse=True)\n",
        "        print('Estas son sus recomendaciones para \"{}\":'.format(skill))\n",
        "        display(recommendation[1:16]) # muestre 15 recomendaciones\n",
        "\n",
        "    else:\n",
        "        print(\"No hay cursos disponibles\")"
      ]
    },
    {
      "cell_type": "markdown",
      "source": [
        "# Probamos varias skills"
      ],
      "metadata": {
        "id": "a1SX-ia7JX-E"
      }
    },
    {
      "cell_type": "markdown",
      "source": [
        "## Succesion Plan Skills\n",
        "\n",
        "\n"
      ],
      "metadata": {
        "id": "s1LNQ6G73Wn8"
      }
    },
    {
      "cell_type": "code",
      "source": [
        "course_recommender('leadership')"
      ],
      "metadata": {
        "colab": {
          "base_uri": "https://localhost:8080/",
          "height": 312
        },
        "id": "ML66UhPRHXU4",
        "outputId": "0c9c34ce-d072-4b7f-8b37-d50e1b1ea499"
      },
      "execution_count": null,
      "outputs": [
        {
          "output_type": "stream",
          "name": "stdout",
          "text": [
            "*****\n",
            "Estas son sus recomendaciones para \"leadership\":\n"
          ]
        },
        {
          "output_type": "display_data",
          "data": {
            "text/plain": [
              "[['inspirational leadership skills', 1.0, 230],\n",
              " ['leading virtual teams a quick course', 1.0, 260],\n",
              " ['change management for organizations drive strategic results', 1.0, 318],\n",
              " ['advanced product management leadership communication', 1.0, 600],\n",
              " [' successfully leading through change and uncertainty', 1.0, 645],\n",
              " ['leadership styles and corporate culture', 1.0, 807],\n",
              " ['chief financial officer leadership program', 1.0, 927],\n",
              " ['day to day leadership that gets results', 1.0, 964],\n",
              " ['agile management with scrum complete extra courses', 1.0, 1081],\n",
              " ['leadership and management leadership skills team management', 1.0, 1103],\n",
              " ['negotiation skills how to craft agreements that give more', 1.0, 1361],\n",
              " ['discovering the leader within you', 1.0, 1441],\n",
              " ['leadership likability striking the right balance', 1.0, 1554],\n",
              " ['mba business tools that get results free workbooks included', 1.0, 1908],\n",
              " ['leadership essentials accredited', 1.0, 2027]]"
            ]
          },
          "metadata": {}
        }
      ]
    },
    {
      "cell_type": "code",
      "source": [
        "course_recommender('decision making')"
      ],
      "metadata": {
        "colab": {
          "base_uri": "https://localhost:8080/",
          "height": 347
        },
        "id": "iDzs8XiMLT2f",
        "outputId": "01467ea4-7928-412d-f87a-96e9331de981"
      },
      "execution_count": null,
      "outputs": [
        {
          "output_type": "stream",
          "name": "stdout",
          "text": [
            "*****\n",
            "Estas son sus recomendaciones para \"decision making\":\n"
          ]
        },
        {
          "output_type": "display_data",
          "data": {
            "text/plain": [
              "[['master your decision making and critical thinking skills ', 1.0, 333],\n",
              " ['ethical decision making framework', 1.0, 1787],\n",
              " ['data storytelling with qlik sense', 1.0, 3850],\n",
              " ['ethical decision making models', 1.0, 4606],\n",
              " ['essentials for healthcare professionals problem solving', 1.0, 5234],\n",
              " ['cryptocurrency financial crime compliance bootcamp', 1.0, 4670],\n",
              " ['the role and goal of financial management', 1.0, 9979],\n",
              " ['behavioral economics and neuromarketing', 1.0, 12267],\n",
              " ['learn how to grow your business startups small biz ', 0.9999999, 4962],\n",
              " ['capital budgeting investment appraisal', 0.9999998, 11723],\n",
              " ['think strategically and make your ideas a reality', 0.99999976, 136],\n",
              " ['financial statements analysis learn to invest like a pro ',\n",
              "  0.9999997,\n",
              "  10397],\n",
              " ['r programming', 0.9999995, 18741],\n",
              " ['mba asap corporate finance fundamentals', 0.9999989, 9951],\n",
              " ['basics of finance and budgeting', 0.9999986, 10466]]"
            ]
          },
          "metadata": {}
        }
      ]
    },
    {
      "cell_type": "code",
      "source": [
        "course_recommender('presentation skills')"
      ],
      "metadata": {
        "colab": {
          "base_uri": "https://localhost:8080/",
          "height": 312
        },
        "id": "_pC-IE8o3fms",
        "outputId": "54a3e933-92af-40ff-b27b-1aea94033acf"
      },
      "execution_count": null,
      "outputs": [
        {
          "output_type": "stream",
          "name": "stdout",
          "text": [
            "*****\n",
            "Estas son sus recomendaciones para \"presentation skills\":\n"
          ]
        },
        {
          "output_type": "display_data",
          "data": {
            "text/plain": [
              "[['power bi a z hands on power bi training for data science ', 1.0, 29],\n",
              " ['acumen presents chris anderson on public speaking', 1.0, 73],\n",
              " ['gdpr in one hour the basic facts', 1.0, 157],\n",
              " ['complete introduction to google data studio edition', 1.0, 268],\n",
              " ['understanding and tackling gender bias in the workplace', 1.0, 307],\n",
              " [' charts in tableau basic to intermediate', 1.0, 322],\n",
              " ['presentation skills create killer presentations to wow', 1.0, 500],\n",
              " ['embracing a culture of feedback', 1.0, 529],\n",
              " ['how to find correct writing errors the proofreading guide', 1.0, 550],\n",
              " ['google data studio a z for data visualization and dashboards', 1.0, 652],\n",
              " ['presentation skills opening your presentation with impact', 1.0, 2704],\n",
              " ['c programming for absolute beginners newbie c guide', 1.0, 631],\n",
              " ['kickstart a freelance editor proofreader career on upwork', 1.0, 665],\n",
              " ['become a master of client and account management', 1.0, 801],\n",
              " ['business analysis developing irresistible business cases', 1.0, 940]]"
            ]
          },
          "metadata": {}
        }
      ]
    },
    {
      "cell_type": "markdown",
      "source": [
        "## Performance Measure skills"
      ],
      "metadata": {
        "id": "6LfOOneY6Hx4"
      }
    },
    {
      "cell_type": "code",
      "source": [
        "course_recommender('communication')"
      ],
      "metadata": {
        "colab": {
          "base_uri": "https://localhost:8080/",
          "height": 312
        },
        "id": "NcIXxM0uLqy6",
        "outputId": "4f5068d2-5f7f-4cca-c6e8-27e88130f6cf"
      },
      "execution_count": null,
      "outputs": [
        {
          "output_type": "stream",
          "name": "stdout",
          "text": [
            "*****\n",
            "Estas son sus recomendaciones para \"communication\":\n"
          ]
        },
        {
          "output_type": "display_data",
          "data": {
            "text/plain": [
              "[['conscious listening', 1.0, 22],\n",
              " ['the complete communication skills master class for life', 1.0, 31],\n",
              " ['cross cultural communication how to flex your style', 1.0, 55],\n",
              " ['logistics and supply chains fundamentals design operations', 1.0, 178],\n",
              " ['cheating spouses domestic cases', 1.0, 284],\n",
              " ['how to become a workplace coach the fundamentals', 1.0, 381],\n",
              " ['mastering conflict management and resolution at work', 1.0, 386],\n",
              " ['drawing for meetings presentations and trainings', 1.0, 406],\n",
              " ['economics macroeconomics for managers and executives', 1.0, 427],\n",
              " ['supervisor leadership skills for a safe workplace', 1.0, 694],\n",
              " ['nlp for sales persuasion influence certified nlp sales', 1.0, 703],\n",
              " ['the complete communication skills master class for life', 1.0, 31],\n",
              " ['cross cultural communication how to flex your style', 1.0, 55],\n",
              " ['logistics and supply chains fundamentals design operations', 1.0, 178],\n",
              " ['cheating spouses domestic cases', 1.0, 284]]"
            ]
          },
          "metadata": {}
        }
      ]
    },
    {
      "cell_type": "code",
      "source": [
        "course_recommender('productivity')"
      ],
      "metadata": {
        "colab": {
          "base_uri": "https://localhost:8080/",
          "height": 312
        },
        "id": "HtvNChl1H1dX",
        "outputId": "3094ff1f-481b-48ed-e871-81ec487e803f"
      },
      "execution_count": null,
      "outputs": [
        {
          "output_type": "stream",
          "name": "stdout",
          "text": [
            "*****\n",
            "Estas son sus recomendaciones para \"productivity\":\n"
          ]
        },
        {
          "output_type": "display_data",
          "data": {
            "text/plain": [
              "[['how to reduce constant work interruptions', 1.0, 472],\n",
              " ['trello project management complete course', 1.0, 538],\n",
              " ['writing effective business emails', 1.0, 762],\n",
              " ['managing generational conflict', 1.0, 816],\n",
              " ['kanban fundamentals how to become insanely productive', 1.0, 1011],\n",
              " ['agile management with scrum complete extra courses', 1.0, 1081],\n",
              " ['the complete open broadcaster obs almanac for ', 1.0, 1551],\n",
              " ['conflict management with emotional intelligence', 1.0, 72],\n",
              " ['write a bestselling novel in steps writing mastery ', 1.0, 227],\n",
              " ['deliver powerful painless feedback to motivate vs frustrate', 1.0, 1042],\n",
              " ['recruiting business development hacks', 1.0, 1190],\n",
              " ['youtube vlogging secrets of youtube success', 1.0, 1284],\n",
              " ['how to stop stalling and write your book', 1.0, 1357],\n",
              " ['introduction to organizations', 1.0, 1585],\n",
              " ['workplace mental health a manager s ultimate guide', 1.0, 1637]]"
            ]
          },
          "metadata": {}
        }
      ]
    },
    {
      "cell_type": "code",
      "source": [
        "course_recommender('problem solving')"
      ],
      "metadata": {
        "colab": {
          "base_uri": "https://localhost:8080/",
          "height": 312
        },
        "id": "B3JocOt072AE",
        "outputId": "e1d028da-8c95-4af7-8997-ca11cb231382"
      },
      "execution_count": null,
      "outputs": [
        {
          "output_type": "stream",
          "name": "stdout",
          "text": [
            "*****\n",
            "Estas son sus recomendaciones para \"problem solving\":\n"
          ]
        },
        {
          "output_type": "display_data",
          "data": {
            "text/plain": [
              "[['complete guide to conflict management in the workplace', 1.0, 196],\n",
              " ['master your decision making and critical thinking skills ', 1.0, 333],\n",
              " ['root cause analysis and the corrective action process', 1.0, 544],\n",
              " ['mastering the seven quality tools', 1.0, 682],\n",
              " ['certified six sigma yellow belt training', 1.0, 76],\n",
              " ['microsoft certified data analyst associate with power bi', 1.0, 287],\n",
              " ['blockchain applications in food safety healthcare pharma', 1.0, 370],\n",
              " ['comptia project exam prep', 1.0, 558],\n",
              " ['proofreading power basics', 1.0, 636],\n",
              " ['master course in tableau prep prepare clean data', 1.0, 683],\n",
              " ['the complete sales prospecting bootcamp course', 1.0, 779],\n",
              " ['writing for children', 1.0, 913],\n",
              " ['freelance article writing start a freelance writing career ', 1.0, 942],\n",
              " ['tableau server administration', 1.0, 962],\n",
              " ['negotiation master essential skills for success', 1.0, 3312]]"
            ]
          },
          "metadata": {}
        }
      ]
    },
    {
      "cell_type": "markdown",
      "source": [
        "## Position skills"
      ],
      "metadata": {
        "id": "Zu6gOX4v8Zrn"
      }
    },
    {
      "cell_type": "code",
      "source": [
        "course_recommender('trading')"
      ],
      "metadata": {
        "colab": {
          "base_uri": "https://localhost:8080/",
          "height": 312
        },
        "id": "CX-qF-i_ITl9",
        "outputId": "e381a1bb-6107-4d2a-bf5b-617a67778cda"
      },
      "execution_count": null,
      "outputs": [
        {
          "output_type": "stream",
          "name": "stdout",
          "text": [
            "*****\n",
            "Estas son sus recomendaciones para \"trading\":\n"
          ]
        },
        {
          "output_type": "display_data",
          "data": {
            "text/plain": [
              "[['forex trading bootcamp for traders investors new ', 1.0000001, 10502],\n",
              " ['the advanced options trading course updated ', 1.0000001, 10790],\n",
              " ['options trading essentials the ultimate guides', 1.0000001, 11844],\n",
              " ['the unique intraday trading strategy for nse in hindi ', 1.0000001, 15284],\n",
              " ['cryptocurrency trading course achieve wins daily ', 1.0, 59],\n",
              " [' cryptocurrency investment course a step by step guide', 1.0, 266],\n",
              " ['land your first business analyst position', 1.0, 355],\n",
              " ['crypto trading buy sell trade cryptocurrency for profit', 1.0, 366],\n",
              " ['the complete cryptocurrency investment course', 1.0, 446],\n",
              " ['cryptocurrency trading complete guide to trading altcoins', 1.0, 451],\n",
              " ['the best startup pitch deck how to raise venture capital', 1.0, 530],\n",
              " ['personal development life coach life coaching', 1.0, 566],\n",
              " ['forex trading making a living online trading forex', 1.0, 602],\n",
              " ['cryptocurrency mastery how to buy bitcoin ethereum more', 1.0, 667],\n",
              " ['bitcoin advanced level transactions', 1.0, 739]]"
            ]
          },
          "metadata": {}
        }
      ]
    },
    {
      "cell_type": "code",
      "source": [
        "course_recommender('python programming')"
      ],
      "metadata": {
        "colab": {
          "base_uri": "https://localhost:8080/",
          "height": 312
        },
        "id": "LPDRbe2p88Da",
        "outputId": "69fa2bc1-b8d0-46da-9488-5dbe73b94e1c"
      },
      "execution_count": null,
      "outputs": [
        {
          "output_type": "stream",
          "name": "stdout",
          "text": [
            "*****\n",
            "Estas son sus recomendaciones para \"python programming\":\n"
          ]
        },
        {
          "output_type": "display_data",
          "data": {
            "text/plain": [
              "[['advanced trading analysis with python', 1.0, 3582],\n",
              " ['python for finance investment fundamentals data analytics', 1.0, 9839],\n",
              " ['investment portfolio analysis with python', 1.0, 10410],\n",
              " ['python for beginners learn python programming python ', 1.0, 15504],\n",
              " ['selenium python automation testing from scratch frameworks', 1.0, 15647],\n",
              " ['learn to code with python ', 1.0, 15753],\n",
              " ['complete python bootcamp go beginner to expert in python ', 1.0, 16173],\n",
              " ['python best parts standard library beginner to advanced ', 1.0, 16182],\n",
              " ['python for beginners go from java to python in steps', 1.0, 16473],\n",
              " ['project based python programming for kids beginners', 1.0, 16528],\n",
              " ['certified six sigma yellow belt training', 1.0, 76],\n",
              " ['microsoft certified data analyst associate with power bi', 1.0, 287],\n",
              " ['blockchain applications in food safety healthcare pharma', 1.0, 370],\n",
              " ['comptia project exam prep', 1.0, 558],\n",
              " ['proofreading power basics', 1.0, 636]]"
            ]
          },
          "metadata": {}
        }
      ]
    },
    {
      "cell_type": "code",
      "source": [
        "course_recommender('data science')"
      ],
      "metadata": {
        "colab": {
          "base_uri": "https://localhost:8080/",
          "height": 312
        },
        "id": "azzEPxbcoP_d",
        "outputId": "a90fac04-b3be-42d1-f7a8-efb60934b683"
      },
      "execution_count": null,
      "outputs": [
        {
          "output_type": "stream",
          "name": "stdout",
          "text": [
            "*****\n",
            "Estas son sus recomendaciones para \"data science\":\n"
          ]
        },
        {
          "output_type": "display_data",
          "data": {
            "text/plain": [
              "[['python sql tableau integrating python sql and tableau', 1.0, 216],\n",
              " ['data analytics sql for newbs beginners and marketers', 1.0, 317],\n",
              " ['logistic regression using sas indepth predictive modeling', 1.0, 454],\n",
              " ['complete data wrangling data visualisation with python', 1.0, 879],\n",
              " ['mastering data visualization with r', 1.0, 1093],\n",
              " ['complete ibm cognos analytics cloud training course', 1.0, 1106],\n",
              " ['alteryx data science for non scientists', 1.0, 1411],\n",
              " ['complete data wrangling data visualisation in r', 1.0, 1973],\n",
              " ['ssas from beginner to pro the practical cube tutorial', 1.0, 2011],\n",
              " ['r for beginners', 1.0, 2067],\n",
              " ['microsoft power bi the complete masterclass edition', 1.0, 2439],\n",
              " ['tableau for data science with r python integration', 1.0, 3284],\n",
              " ['xgboost machine learning for data science and kaggle', 1.0, 4175],\n",
              " ['sigmaway s rapidminer and data analytics course', 1.0, 4695],\n",
              " ['lazy trading part set up your home trading environment', 1.0, 10584]]"
            ]
          },
          "metadata": {}
        }
      ]
    },
    {
      "cell_type": "code",
      "source": [
        "course_recommender('digital marketing')"
      ],
      "metadata": {
        "colab": {
          "base_uri": "https://localhost:8080/",
          "height": 312
        },
        "id": "BNfqYPZGHjP8",
        "outputId": "8a7ab801-abdc-43a0-9b11-c8308dbc0464"
      },
      "execution_count": null,
      "outputs": [
        {
          "output_type": "stream",
          "name": "stdout",
          "text": [
            "*****\n",
            "Estas son sus recomendaciones para \"digital marketing\":\n"
          ]
        },
        {
          "output_type": "display_data",
          "data": {
            "text/plain": [
              "[['social media marketing of weixin', 1.0, 14055],\n",
              " ['create a messaging guide to grow your small business ', 1.0, 5538],\n",
              " ['google analytics certification become certified earn more', 1.0, 12150],\n",
              " ['mega digital marketing course a z courses in updates', 1.0, 12159],\n",
              " [' digital marketing hacks social media marketing growth', 1.0, 12188],\n",
              " ['the social media marketing masterclass ', 1.0, 12260],\n",
              " ['digital advertising marketing today s trends topics', 1.0, 12291],\n",
              " ['digital marketing generate leads convert them to sales', 1.0, 12317],\n",
              " ['digital marketing for non profits charities', 1.0, 12453],\n",
              " ['mailchimp for ecommerce email marketing master class', 1.0, 12505],\n",
              " ['learn google optimize beginners free a b testing tool', 1.0, 12513],\n",
              " ['ninja writing the four levels of writing mastery', 1.0, 20],\n",
              " ['splunk beginner to architect', 1.0, 402],\n",
              " ['qliksense data architect masterclass', 1.0, 422],\n",
              " ['supply chain for management consultants business analysts', 1.0, 465]]"
            ]
          },
          "metadata": {}
        }
      ]
    },
    {
      "cell_type": "code",
      "source": [
        "course_recommender('public speaking')"
      ],
      "metadata": {
        "colab": {
          "base_uri": "https://localhost:8080/",
          "height": 312
        },
        "id": "GkEdh_JhMTs5",
        "outputId": "401dcb2b-a9bf-401d-e679-809d1708afaf"
      },
      "execution_count": null,
      "outputs": [
        {
          "output_type": "stream",
          "name": "stdout",
          "text": [
            "*****\n",
            "Estas son sus recomendaciones para \"public speaking\":\n"
          ]
        },
        {
          "output_type": "display_data",
          "data": {
            "text/plain": [
              "[['public speaking communicating skip theory master the art', 1.0, 316],\n",
              " ['effective presentation and ted like public speaking', 1.0, 619],\n",
              " ['public speaking you can be a great speaker within hours', 1.0, 632],\n",
              " ['public speaking be a professional speaker', 1.0, 894],\n",
              " ['video presentation public speaking skills complete guide', 1.0, 1082],\n",
              " ['fear of public speaking never fear public speaking again', 1.0, 1108],\n",
              " ['c programming for absolute beginners newbie c guide', 1.0, 631],\n",
              " ['kickstart a freelance editor proofreader career on upwork', 1.0, 665],\n",
              " ['become a master of client and account management', 1.0, 801],\n",
              " ['business analysis developing irresistible business cases', 1.0, 940],\n",
              " ['the art of negotiation become a master negotiator', 1.0, 944],\n",
              " ['broker u gateway to becoming a freight broker', 1.0, 960],\n",
              " ['stuttering treatment the abc s of smoother speech', 1.0, 1056],\n",
              " ['kidpreneurs academy entrepreneurship course for kids ', 1.0, 1094],\n",
              " ['all about kpis', 1.0, 1105]]"
            ]
          },
          "metadata": {}
        }
      ]
    },
    {
      "cell_type": "code",
      "source": [
        "course_recommender('deep learning')"
      ],
      "metadata": {
        "colab": {
          "base_uri": "https://localhost:8080/",
          "height": 312
        },
        "id": "rjGiW1g_B-i_",
        "outputId": "26ee1b5d-cc08-49e0-c723-15570582c04d"
      },
      "execution_count": null,
      "outputs": [
        {
          "output_type": "stream",
          "name": "stdout",
          "text": [
            "*****\n",
            "Estas son sus recomendaciones para \"deep learning\":\n"
          ]
        },
        {
          "output_type": "display_data",
          "data": {
            "text/plain": [
              "[['recommender systems and deep learning in python', 1.0, 207],\n",
              " ['complete keras bootcamp for deep learning in python', 1.0, 3491],\n",
              " ['deep learning with python and pytorch', 1.0, 5091],\n",
              " ['keras x projects', 1.0, 5355],\n",
              " ['nlp natural language processing with python', 1.0, 15578],\n",
              " ['advanced ai deep reinforcement learning in python', 1.0, 15681],\n",
              " ['complete tensorflow and keras deep learning bootcamp', 1.0, 15715],\n",
              " ['the complete self driving car course applied deep learning', 1.0, 15752],\n",
              " ['complete data science machine learning bootcamp', 1.0, 15812],\n",
              " ['deep learning with tensorflow ', 1.0, 15877],\n",
              " ['practical deep learning with pytorch', 1.0, 15970],\n",
              " ['deep learning computer vision™ cnn opencv yolo ssd gans', 1.0, 16003],\n",
              " ['a complete guide on tensorflow using keras api', 1.0, 16009],\n",
              " ['pytorch for deep learning and computer vision', 1.0, 16089],\n",
              " ['neural networks in python deep learning for beginners', 1.0, 16290]]"
            ]
          },
          "metadata": {}
        }
      ]
    },
    {
      "cell_type": "markdown",
      "source": [
        "# Evaluación del modelo\n",
        "\n",
        "Una de las maneras para evaluar un modelo de temas es mirar cómo se correlacionan los temas entre sí. \n",
        "\n",
        "Para esto se realiza un mapa de calor utilizando primero el Coeficiente de Jaccard y luego la Divergencia de Jensen Shannon. \n",
        "\n",
        "El resultado del mapa de calor nos indica que a medida que se pone más rojo, los temas están menos correlacionados y entre más azul los temas están más correlacionados, lo cual es justamente lo que estamos buscando, pues de esta manera, nuestro modelo podrá diferenciar mejor las palabras, ubicarlas en los temas y por ende, hacer recomendaciones más acertadas.\n",
        "\n",
        "Lo único que debería estar en azul es la diagonal."
      ],
      "metadata": {
        "id": "t4RvTaKAGawZ"
      }
    },
    {
      "cell_type": "code",
      "source": [
        "def plot_difference_matplotlib(mdiff, title=\"\", annotation=None):\n",
        "    import matplotlib.pyplot as plt\n",
        "    fig, ax = plt.subplots(figsize=(8, 8))\n",
        "    data = ax.imshow(mdiff, cmap='RdBu_r', origin='lower')\n",
        "    plt.title(title)\n",
        "    plt.colorbar(data)"
      ],
      "metadata": {
        "id": "HZlkKo8TEWz0"
      },
      "execution_count": null,
      "outputs": []
    },
    {
      "cell_type": "code",
      "source": [
        "mdiff, annotation = coherence_ldamodel.diff(coherence_ldamodel, distance='jaccard', num_words=50)\n",
        "plot_difference_matplotlib(mdiff, title=\"Topic difference jaccard distance\", annotation=annotation)"
      ],
      "metadata": {
        "colab": {
          "base_uri": "https://localhost:8080/",
          "height": 666
        },
        "id": "v1JYLv7rEAFQ",
        "outputId": "5076f80b-66be-4e24-9f95-85dfd099afe2"
      },
      "execution_count": null,
      "outputs": [
        {
          "output_type": "display_data",
          "data": {
            "text/plain": [
              "<Figure size 800x800 with 2 Axes>"
            ],
            "image/png": "[encoded data removed]"
          },
          "metadata": {}
        }
      ]
    },
    {
      "cell_type": "code",
      "source": [
        "mdiff, annotation = coherence_ldamodel.diff(coherence_ldamodel, distance='jensen_shannon', num_words=50)\n",
        "plot_difference_matplotlib(mdiff, title=\"Topic difference jensen shannon distance\", annotation=annotation)"
      ],
      "metadata": {
        "colab": {
          "base_uri": "https://localhost:8080/",
          "height": 666
        },
        "id": "QVctj6PTL5YJ",
        "outputId": "a87a618a-4b2c-494e-ed9d-883e24bfc978"
      },
      "execution_count": null,
      "outputs": [
        {
          "output_type": "display_data",
          "data": {
            "text/plain": [
              "<Figure size 800x800 with 2 Axes>"
            ],
            "image/png": "[encoded data removed]"
          },
          "metadata": {}
        }
      ]
    }
  ],
  "metadata": {
    "colab": {
      "collapsed_sections": [],
      "name": "Modelo Sistema Recomendador_F.ipynb",
      "provenance": [],
      "include_colab_link": true
    },
    "kernelspec": {
      "display_name": "Python 3 (ipykernel)",
      "language": "python",
      "name": "python3"
    },
    "language_info": {
      "codemirror_mode": {
        "name": "ipython",
        "version": 3
      },
      "file_extension": ".py",
      "mimetype": "text/x-python",
      "name": "python",
      "nbconvert_exporter": "python",
      "pygments_lexer": "ipython3",
      "version": "3.8.10"
    }
  },
  "nbformat": 4,
  "nbformat_minor": 0
}