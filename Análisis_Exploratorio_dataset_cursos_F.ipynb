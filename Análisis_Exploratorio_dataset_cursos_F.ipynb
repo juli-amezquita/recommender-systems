{
  "nbformat": 4,
  "nbformat_minor": 0,
  "metadata": {
    "colab": {
      "name": "Análisis Exploratorio dataset cursos_F.ipynb",
      "provenance": [],
      "collapsed_sections": [],
      "authorship_tag": "ABX9TyPjOXjz+wXOczjWd1z0vyAj",
      "include_colab_link": true
    },
    "kernelspec": {
      "name": "python3",
      "display_name": "Python 3"
    },
    "language_info": {
      "name": "python"
    }
  },
  "cells": [
    {
      "cell_type": "markdown",
      "metadata": {
        "id": "view-in-github",
        "colab_type": "text"
      },
      "source": [
        "<a href=\"https://colab.research.google.com/github/juli-amezquita/recommender-systems/blob/main/An%C3%A1lisis_Exploratorio_dataset_cursos_F.ipynb\" target=\"_parent\"><img src=\"https://colab.research.google.com/assets/colab-badge.svg\" alt=\"Open In Colab\"/></a>"
      ]
    },
    {
      "cell_type": "markdown",
      "source": [
        "# Sistema de recomendaciones para planes de formación y desarrollo empresarial\n",
        "## Análisis Exploratorio base de datos cursos Udemy"
      ],
      "metadata": {
        "id": "KsznAIfw39KG"
      }
    },
    {
      "cell_type": "code",
      "execution_count": null,
      "metadata": {
        "id": "Stac9mSx38FB"
      },
      "outputs": [],
      "source": [
        "import pandas as pd\n",
        "import numpy as np\n",
        "import re\n",
        "import string\n",
        "from unicodedata import normalize\n",
        "import matplotlib.pyplot as plt\n",
        "import seaborn as sns\n",
        "sns.set()"
      ]
    },
    {
      "cell_type": "markdown",
      "source": [
        "# Carga de datos"
      ],
      "metadata": {
        "id": "3-EpX6AzsqU1"
      }
    },
    {
      "cell_type": "code",
      "source": [
        "url_business = 'https://github.com/juli-amezquita/recommender-systems/blob/main/datasets%20udemy/udemy_business.csv?raw=true'\n",
        "url_design = 'https://github.com/juli-amezquita/recommender-systems/blob/main/datasets%20udemy/udemy_design.csv?raw=true'\n",
        "url_finance = 'https://github.com/juli-amezquita/recommender-systems/blob/main/datasets%20udemy/udemy_finance.csv?raw=true'\n",
        "url_lifestyle = 'https://github.com/juli-amezquita/recommender-systems/blob/main/datasets%20udemy/udemy_lifestyle.csv?raw=true'\n",
        "url_mkt = 'https://github.com/juli-amezquita/recommender-systems/blob/main/datasets%20udemy/udemy_marketing.csv?raw=true'\n",
        "url_music = 'https://github.com/juli-amezquita/recommender-systems/blob/main/datasets%20udemy/udemy_music.csv?raw=true'\n",
        "url_productivity = 'https://github.com/juli-amezquita/recommender-systems/blob/main/datasets%20udemy/udemy_office_productivity.csv?raw=true'\n",
        "url_photo = 'https://github.com/juli-amezquita/recommender-systems/blob/main/datasets%20udemy/udemy_photography.csv?raw=true'\n",
        "url_tech = 'https://github.com/juli-amezquita/recommender-systems/blob/main/datasets%20udemy/udemy_tech.csv?raw=true'"
      ],
      "metadata": {
        "id": "PBP01vOKstC1"
      },
      "execution_count": null,
      "outputs": []
    },
    {
      "cell_type": "code",
      "source": [
        "business = pd.read_csv(url_business)\n",
        "design = pd.read_csv(url_design)\n",
        "finance = pd.read_csv(url_finance)\n",
        "lifestyle = pd.read_csv(url_lifestyle)\n",
        "marketing = pd.read_csv(url_mkt)\n",
        "music = pd.read_csv(url_music)\n",
        "productivity = pd.read_csv(url_productivity)\n",
        "photo = pd.read_csv(url_photo)\n",
        "tech = pd.read_csv(url_tech)"
      ],
      "metadata": {
        "id": "PtN41NVmtWDo"
      },
      "execution_count": null,
      "outputs": []
    },
    {
      "cell_type": "markdown",
      "source": [
        "## Revisamos el shape\n",
        "Revisamos el tamaño de cada dataset para saber con cuántos cursos contamos de cada categoría"
      ],
      "metadata": {
        "id": "ZQYSLW0y0ysR"
      }
    },
    {
      "cell_type": "code",
      "source": [
        "print('shape_business:', business.shape)\n",
        "print('shape_design:',design.shape)\n",
        "print('shape_finance:',finance.shape)\n",
        "print('shape_lifestype:',lifestyle.shape)\n",
        "print('shape_marketing:',marketing.shape)\n",
        "print('shape_music:',music.shape)\n",
        "print('shape_productivity:',productivity.shape)\n",
        "print('shape_photo:',photo.shape)\n",
        "print('shape_tech:',tech.shape)"
      ],
      "metadata": {
        "colab": {
          "base_uri": "https://localhost:8080/"
        },
        "id": "cE-KKLt6ynf5",
        "outputId": "f8bcf9c9-aa70-4944-af17-7d53ebbbe7c9"
      },
      "execution_count": null,
      "outputs": [
        {
          "output_type": "stream",
          "name": "stdout",
          "text": [
            "shape_business: (9970, 7)\n",
            "shape_design: (9962, 7)\n",
            "shape_finance: (5887, 7)\n",
            "shape_lifestype: (16, 7)\n",
            "shape_marketing: (8788, 7)\n",
            "shape_music: (16, 7)\n",
            "shape_productivity: (16, 7)\n",
            "shape_photo: (16, 7)\n",
            "shape_tech: (9964, 7)\n"
          ]
        }
      ]
    },
    {
      "cell_type": "code",
      "source": [
        "business['Category'] = 'Business'\n",
        "design['Category'] = 'Design'\n",
        "finance['Category'] = 'Finance'\n",
        "lifestyle['Category'] = 'Lifestyle'\n",
        "marketing['Category'] = 'Marketing'\n",
        "music['Category'] = 'Music'\n",
        "productivity['Category'] = 'Productivity'\n",
        "photo['Category'] = 'Photography'\n",
        "tech['Category'] = 'Tech'"
      ],
      "metadata": {
        "id": "zBMaJ4B5p3TK"
      },
      "execution_count": null,
      "outputs": []
    },
    {
      "cell_type": "code",
      "source": [
        "lifestyle.head()"
      ],
      "metadata": {
        "colab": {
          "base_uri": "https://localhost:8080/",
          "height": 337
        },
        "id": "MHEgJcPArczZ",
        "outputId": "59e05aad-2ff1-4e1d-f659-764e65982d3a"
      },
      "execution_count": null,
      "outputs": [
        {
          "output_type": "execute_result",
          "data": {
            "text/plain": [
              "   index                                              Title  \\\n",
              "0      0       The Art & Science of Figure Drawing: GESTURE   \n",
              "1      1  Paint Realistic Watercolor and Botanicals - ST...   \n",
              "2      2                        Anime Drawing for Beginners   \n",
              "3      3               HOW TO PAINT FROM BEGINNER TO MASTER   \n",
              "4      4      Inside Your Dog's Mind with Victoria Stilwell   \n",
              "\n",
              "                                             Summary  Enrollment  Stars  \\\n",
              "0  Learn everything you need to know about drawin...       15138    4.8   \n",
              "1  This foundation tutorial will help you underst...       11845    4.5   \n",
              "2       Learn how to draw characters in Anime Style!       10141    4.6   \n",
              "3                  Oil Painting For All Skill Levels       11658    4.6   \n",
              "4  Understanding canine behavior and how dogs thi...        8550    4.4   \n",
              "\n",
              "   Rating                                               Link   Category  \n",
              "0    2282        https://www.udemy.com/course/figuredrawing/  Lifestyle  \n",
              "1    2265  https://www.udemy.com/course/paint-realistic-w...  Lifestyle  \n",
              "2    2231  https://www.udemy.com/course/anime-drawing-for...  Lifestyle  \n",
              "3    2018  https://www.udemy.com/course/how-to-paint-from...  Lifestyle  \n",
              "4    1957   https://www.udemy.com/course/insideyourdogsmind/  Lifestyle  "
            ],
            "text/html": [
              "\n",
              "  <div id=\"df-f6ba8e2a-f92e-4fbd-b158-dface8debe38\">\n",
              "    <div class=\"colab-df-container\">\n",
              "      <div>\n",
              "<style scoped>\n",
              "    .dataframe tbody tr th:only-of-type {\n",
              "        vertical-align: middle;\n",
              "    }\n",
              "\n",
              "    .dataframe tbody tr th {\n",
              "        vertical-align: top;\n",
              "    }\n",
              "\n",
              "    .dataframe thead th {\n",
              "        text-align: right;\n",
              "    }\n",
              "</style>\n",
              "<table border=\"1\" class=\"dataframe\">\n",
              "  <thead>\n",
              "    <tr style=\"text-align: right;\">\n",
              "      <th></th>\n",
              "      <th>index</th>\n",
              "      <th>Title</th>\n",
              "      <th>Summary</th>\n",
              "      <th>Enrollment</th>\n",
              "      <th>Stars</th>\n",
              "      <th>Rating</th>\n",
              "      <th>Link</th>\n",
              "      <th>Category</th>\n",
              "    </tr>\n",
              "  </thead>\n",
              "  <tbody>\n",
              "    <tr>\n",
              "      <th>0</th>\n",
              "      <td>0</td>\n",
              "      <td>The Art &amp; Science of Figure Drawing: GESTURE</td>\n",
              "      <td>Learn everything you need to know about drawin...</td>\n",
              "      <td>15138</td>\n",
              "      <td>4.8</td>\n",
              "      <td>2282</td>\n",
              "      <td>https://www.udemy.com/course/figuredrawing/</td>\n",
              "      <td>Lifestyle</td>\n",
              "    </tr>\n",
              "    <tr>\n",
              "      <th>1</th>\n",
              "      <td>1</td>\n",
              "      <td>Paint Realistic Watercolor and Botanicals - ST...</td>\n",
              "      <td>This foundation tutorial will help you underst...</td>\n",
              "      <td>11845</td>\n",
              "      <td>4.5</td>\n",
              "      <td>2265</td>\n",
              "      <td>https://www.udemy.com/course/paint-realistic-w...</td>\n",
              "      <td>Lifestyle</td>\n",
              "    </tr>\n",
              "    <tr>\n",
              "      <th>2</th>\n",
              "      <td>2</td>\n",
              "      <td>Anime Drawing for Beginners</td>\n",
              "      <td>Learn how to draw characters in Anime Style!</td>\n",
              "      <td>10141</td>\n",
              "      <td>4.6</td>\n",
              "      <td>2231</td>\n",
              "      <td>https://www.udemy.com/course/anime-drawing-for...</td>\n",
              "      <td>Lifestyle</td>\n",
              "    </tr>\n",
              "    <tr>\n",
              "      <th>3</th>\n",
              "      <td>3</td>\n",
              "      <td>HOW TO PAINT FROM BEGINNER TO MASTER</td>\n",
              "      <td>Oil Painting For All Skill Levels</td>\n",
              "      <td>11658</td>\n",
              "      <td>4.6</td>\n",
              "      <td>2018</td>\n",
              "      <td>https://www.udemy.com/course/how-to-paint-from...</td>\n",
              "      <td>Lifestyle</td>\n",
              "    </tr>\n",
              "    <tr>\n",
              "      <th>4</th>\n",
              "      <td>4</td>\n",
              "      <td>Inside Your Dog's Mind with Victoria Stilwell</td>\n",
              "      <td>Understanding canine behavior and how dogs thi...</td>\n",
              "      <td>8550</td>\n",
              "      <td>4.4</td>\n",
              "      <td>1957</td>\n",
              "      <td>https://www.udemy.com/course/insideyourdogsmind/</td>\n",
              "      <td>Lifestyle</td>\n",
              "    </tr>\n",
              "  </tbody>\n",
              "</table>\n",
              "</div>\n",
              "      <button class=\"colab-df-convert\" onclick=\"convertToInteractive('df-f6ba8e2a-f92e-4fbd-b158-dface8debe38')\"\n",
              "              title=\"Convert this dataframe to an interactive table.\"\n",
              "              style=\"display:none;\">\n",
              "        \n",
              "  <svg xmlns=\"http://www.w3.org/2000/svg\" height=\"24px\"viewBox=\"0 0 24 24\"\n",
              "       width=\"24px\">\n",
              "    <path d=\"M0 0h24v24H0V0z\" fill=\"none\"/>\n",
              "    <path d=\"M18.56 5.44l.94 2.06.94-2.06 2.06-.94-2.06-.94-.94-2.06-.94 2.06-2.06.94zm-11 1L8.5 8.5l.94-2.06 2.06-.94-2.06-.94L8.5 2.5l-.94 2.06-2.06.94zm10 10l.94 2.06.94-2.06 2.06-.94-2.06-.94-.94-2.06-.94 2.06-2.06.94z\"/><path d=\"M17.41 7.96l-1.37-1.37c-.4-.4-.92-.59-1.43-.59-.52 0-1.04.2-1.43.59L10.3 9.45l-7.72 7.72c-.78.78-.78 2.05 0 2.83L4 21.41c.39.39.9.59 1.41.59.51 0 1.02-.2 1.41-.59l7.78-7.78 2.81-2.81c.8-.78.8-2.07 0-2.86zM5.41 20L4 18.59l7.72-7.72 1.47 1.35L5.41 20z\"/>\n",
              "  </svg>\n",
              "      </button>\n",
              "      \n",
              "  <style>\n",
              "    .colab-df-container {\n",
              "      display:flex;\n",
              "      flex-wrap:wrap;\n",
              "      gap: 12px;\n",
              "    }\n",
              "\n",
              "    .colab-df-convert {\n",
              "      background-color: #E8F0FE;\n",
              "      border: none;\n",
              "      border-radius: 50%;\n",
              "      cursor: pointer;\n",
              "      display: none;\n",
              "      fill: #1967D2;\n",
              "      height: 32px;\n",
              "      padding: 0 0 0 0;\n",
              "      width: 32px;\n",
              "    }\n",
              "\n",
              "    .colab-df-convert:hover {\n",
              "      background-color: #E2EBFA;\n",
              "      box-shadow: 0px 1px 2px rgba(60, 64, 67, 0.3), 0px 1px 3px 1px rgba(60, 64, 67, 0.15);\n",
              "      fill: #174EA6;\n",
              "    }\n",
              "\n",
              "    [theme=dark] .colab-df-convert {\n",
              "      background-color: #3B4455;\n",
              "      fill: #D2E3FC;\n",
              "    }\n",
              "\n",
              "    [theme=dark] .colab-df-convert:hover {\n",
              "      background-color: #434B5C;\n",
              "      box-shadow: 0px 1px 3px 1px rgba(0, 0, 0, 0.15);\n",
              "      filter: drop-shadow(0px 1px 2px rgba(0, 0, 0, 0.3));\n",
              "      fill: #FFFFFF;\n",
              "    }\n",
              "  </style>\n",
              "\n",
              "      <script>\n",
              "        const buttonEl =\n",
              "          document.querySelector('#df-f6ba8e2a-f92e-4fbd-b158-dface8debe38 button.colab-df-convert');\n",
              "        buttonEl.style.display =\n",
              "          google.colab.kernel.accessAllowed ? 'block' : 'none';\n",
              "\n",
              "        async function convertToInteractive(key) {\n",
              "          const element = document.querySelector('#df-f6ba8e2a-f92e-4fbd-b158-dface8debe38');\n",
              "          const dataTable =\n",
              "            await google.colab.kernel.invokeFunction('convertToInteractive',\n",
              "                                                     [key], {});\n",
              "          if (!dataTable) return;\n",
              "\n",
              "          const docLinkHtml = 'Like what you see? Visit the ' +\n",
              "            '<a target=\"_blank\" href=https://colab.research.google.com/notebooks/data_table.ipynb>data table notebook</a>'\n",
              "            + ' to learn more about interactive tables.';\n",
              "          element.innerHTML = '';\n",
              "          dataTable['output_type'] = 'display_data';\n",
              "          await google.colab.output.renderOutput(dataTable, element);\n",
              "          const docLink = document.createElement('div');\n",
              "          docLink.innerHTML = docLinkHtml;\n",
              "          element.appendChild(docLink);\n",
              "        }\n",
              "      </script>\n",
              "    </div>\n",
              "  </div>\n",
              "  "
            ]
          },
          "metadata": {},
          "execution_count": 6
        }
      ]
    },
    {
      "cell_type": "code",
      "source": [
        "business.head()"
      ],
      "metadata": {
        "colab": {
          "base_uri": "https://localhost:8080/",
          "height": 337
        },
        "id": "QdyK4U1Rztys",
        "outputId": "d333ec7e-acca-4dbd-cf26-7369df462a41"
      },
      "execution_count": null,
      "outputs": [
        {
          "output_type": "execute_result",
          "data": {
            "text/plain": [
              "   index                                              Title  \\\n",
              "0      0  The Complete SQL Bootcamp 2020: Go from Zero t...   \n",
              "1      1  Tableau 2020 A-Z: Hands-On Tableau Training fo...   \n",
              "2      2              PMP Exam Prep Seminar - PMBOK Guide 6   \n",
              "3      3         The Complete Financial Analyst Course 2020   \n",
              "4      4  An Entire MBA in 1 Course:Award Winning Busine...   \n",
              "\n",
              "                                             Summary  Enrollment  Stars  \\\n",
              "0                           Become an expert at SQL!      301243    4.7   \n",
              "1  Learn Tableau 2020 for data science step by st...      211674    4.6   \n",
              "2  PMP Exam Prep Seminar - Earn 35 PDUs by comple...      157957    4.6   \n",
              "3  Excel, Accounting, Financial Statement Analysi...      249097    4.5   \n",
              "4  ** #1 Best Selling Business Course! ** Everyth...      376913    4.5   \n",
              "\n",
              "   Rating                                               Link  Category  \n",
              "0   79919  https://www.udemy.com/course/the-complete-sql-...  Business  \n",
              "1   55582            https://www.udemy.com/course/tableau10/  Business  \n",
              "2   53858   https://www.udemy.com/course/pmp-pmbok6-35-pdus/  Business  \n",
              "3   47415  https://www.udemy.com/course/the-complete-fina...  Business  \n",
              "4   42101  https://www.udemy.com/course/an-entire-mba-in-...  Business  "
            ],
            "text/html": [
              "\n",
              "  <div id=\"df-e9f7f524-b11f-4722-8b25-081404bde326\">\n",
              "    <div class=\"colab-df-container\">\n",
              "      <div>\n",
              "<style scoped>\n",
              "    .dataframe tbody tr th:only-of-type {\n",
              "        vertical-align: middle;\n",
              "    }\n",
              "\n",
              "    .dataframe tbody tr th {\n",
              "        vertical-align: top;\n",
              "    }\n",
              "\n",
              "    .dataframe thead th {\n",
              "        text-align: right;\n",
              "    }\n",
              "</style>\n",
              "<table border=\"1\" class=\"dataframe\">\n",
              "  <thead>\n",
              "    <tr style=\"text-align: right;\">\n",
              "      <th></th>\n",
              "      <th>index</th>\n",
              "      <th>Title</th>\n",
              "      <th>Summary</th>\n",
              "      <th>Enrollment</th>\n",
              "      <th>Stars</th>\n",
              "      <th>Rating</th>\n",
              "      <th>Link</th>\n",
              "      <th>Category</th>\n",
              "    </tr>\n",
              "  </thead>\n",
              "  <tbody>\n",
              "    <tr>\n",
              "      <th>0</th>\n",
              "      <td>0</td>\n",
              "      <td>The Complete SQL Bootcamp 2020: Go from Zero t...</td>\n",
              "      <td>Become an expert at SQL!</td>\n",
              "      <td>301243</td>\n",
              "      <td>4.7</td>\n",
              "      <td>79919</td>\n",
              "      <td>https://www.udemy.com/course/the-complete-sql-...</td>\n",
              "      <td>Business</td>\n",
              "    </tr>\n",
              "    <tr>\n",
              "      <th>1</th>\n",
              "      <td>1</td>\n",
              "      <td>Tableau 2020 A-Z: Hands-On Tableau Training fo...</td>\n",
              "      <td>Learn Tableau 2020 for data science step by st...</td>\n",
              "      <td>211674</td>\n",
              "      <td>4.6</td>\n",
              "      <td>55582</td>\n",
              "      <td>https://www.udemy.com/course/tableau10/</td>\n",
              "      <td>Business</td>\n",
              "    </tr>\n",
              "    <tr>\n",
              "      <th>2</th>\n",
              "      <td>2</td>\n",
              "      <td>PMP Exam Prep Seminar - PMBOK Guide 6</td>\n",
              "      <td>PMP Exam Prep Seminar - Earn 35 PDUs by comple...</td>\n",
              "      <td>157957</td>\n",
              "      <td>4.6</td>\n",
              "      <td>53858</td>\n",
              "      <td>https://www.udemy.com/course/pmp-pmbok6-35-pdus/</td>\n",
              "      <td>Business</td>\n",
              "    </tr>\n",
              "    <tr>\n",
              "      <th>3</th>\n",
              "      <td>3</td>\n",
              "      <td>The Complete Financial Analyst Course 2020</td>\n",
              "      <td>Excel, Accounting, Financial Statement Analysi...</td>\n",
              "      <td>249097</td>\n",
              "      <td>4.5</td>\n",
              "      <td>47415</td>\n",
              "      <td>https://www.udemy.com/course/the-complete-fina...</td>\n",
              "      <td>Business</td>\n",
              "    </tr>\n",
              "    <tr>\n",
              "      <th>4</th>\n",
              "      <td>4</td>\n",
              "      <td>An Entire MBA in 1 Course:Award Winning Busine...</td>\n",
              "      <td>** #1 Best Selling Business Course! ** Everyth...</td>\n",
              "      <td>376913</td>\n",
              "      <td>4.5</td>\n",
              "      <td>42101</td>\n",
              "      <td>https://www.udemy.com/course/an-entire-mba-in-...</td>\n",
              "      <td>Business</td>\n",
              "    </tr>\n",
              "  </tbody>\n",
              "</table>\n",
              "</div>\n",
              "      <button class=\"colab-df-convert\" onclick=\"convertToInteractive('df-e9f7f524-b11f-4722-8b25-081404bde326')\"\n",
              "              title=\"Convert this dataframe to an interactive table.\"\n",
              "              style=\"display:none;\">\n",
              "        \n",
              "  <svg xmlns=\"http://www.w3.org/2000/svg\" height=\"24px\"viewBox=\"0 0 24 24\"\n",
              "       width=\"24px\">\n",
              "    <path d=\"M0 0h24v24H0V0z\" fill=\"none\"/>\n",
              "    <path d=\"M18.56 5.44l.94 2.06.94-2.06 2.06-.94-2.06-.94-.94-2.06-.94 2.06-2.06.94zm-11 1L8.5 8.5l.94-2.06 2.06-.94-2.06-.94L8.5 2.5l-.94 2.06-2.06.94zm10 10l.94 2.06.94-2.06 2.06-.94-2.06-.94-.94-2.06-.94 2.06-2.06.94z\"/><path d=\"M17.41 7.96l-1.37-1.37c-.4-.4-.92-.59-1.43-.59-.52 0-1.04.2-1.43.59L10.3 9.45l-7.72 7.72c-.78.78-.78 2.05 0 2.83L4 21.41c.39.39.9.59 1.41.59.51 0 1.02-.2 1.41-.59l7.78-7.78 2.81-2.81c.8-.78.8-2.07 0-2.86zM5.41 20L4 18.59l7.72-7.72 1.47 1.35L5.41 20z\"/>\n",
              "  </svg>\n",
              "      </button>\n",
              "      \n",
              "  <style>\n",
              "    .colab-df-container {\n",
              "      display:flex;\n",
              "      flex-wrap:wrap;\n",
              "      gap: 12px;\n",
              "    }\n",
              "\n",
              "    .colab-df-convert {\n",
              "      background-color: #E8F0FE;\n",
              "      border: none;\n",
              "      border-radius: 50%;\n",
              "      cursor: pointer;\n",
              "      display: none;\n",
              "      fill: #1967D2;\n",
              "      height: 32px;\n",
              "      padding: 0 0 0 0;\n",
              "      width: 32px;\n",
              "    }\n",
              "\n",
              "    .colab-df-convert:hover {\n",
              "      background-color: #E2EBFA;\n",
              "      box-shadow: 0px 1px 2px rgba(60, 64, 67, 0.3), 0px 1px 3px 1px rgba(60, 64, 67, 0.15);\n",
              "      fill: #174EA6;\n",
              "    }\n",
              "\n",
              "    [theme=dark] .colab-df-convert {\n",
              "      background-color: #3B4455;\n",
              "      fill: #D2E3FC;\n",
              "    }\n",
              "\n",
              "    [theme=dark] .colab-df-convert:hover {\n",
              "      background-color: #434B5C;\n",
              "      box-shadow: 0px 1px 3px 1px rgba(0, 0, 0, 0.15);\n",
              "      filter: drop-shadow(0px 1px 2px rgba(0, 0, 0, 0.3));\n",
              "      fill: #FFFFFF;\n",
              "    }\n",
              "  </style>\n",
              "\n",
              "      <script>\n",
              "        const buttonEl =\n",
              "          document.querySelector('#df-e9f7f524-b11f-4722-8b25-081404bde326 button.colab-df-convert');\n",
              "        buttonEl.style.display =\n",
              "          google.colab.kernel.accessAllowed ? 'block' : 'none';\n",
              "\n",
              "        async function convertToInteractive(key) {\n",
              "          const element = document.querySelector('#df-e9f7f524-b11f-4722-8b25-081404bde326');\n",
              "          const dataTable =\n",
              "            await google.colab.kernel.invokeFunction('convertToInteractive',\n",
              "                                                     [key], {});\n",
              "          if (!dataTable) return;\n",
              "\n",
              "          const docLinkHtml = 'Like what you see? Visit the ' +\n",
              "            '<a target=\"_blank\" href=https://colab.research.google.com/notebooks/data_table.ipynb>data table notebook</a>'\n",
              "            + ' to learn more about interactive tables.';\n",
              "          element.innerHTML = '';\n",
              "          dataTable['output_type'] = 'display_data';\n",
              "          await google.colab.output.renderOutput(dataTable, element);\n",
              "          const docLink = document.createElement('div');\n",
              "          docLink.innerHTML = docLinkHtml;\n",
              "          element.appendChild(docLink);\n",
              "        }\n",
              "      </script>\n",
              "    </div>\n",
              "  </div>\n",
              "  "
            ]
          },
          "metadata": {},
          "execution_count": 7
        }
      ]
    },
    {
      "cell_type": "markdown",
      "source": [
        "## Se concatena el dataset"
      ],
      "metadata": {
        "id": "ansTjR290t96"
      }
    },
    {
      "cell_type": "code",
      "source": [
        "courses = pd.concat([business, design, finance, lifestyle, marketing, music, productivity, photo, tech], ignore_index = True )\n",
        "courses.head()"
      ],
      "metadata": {
        "colab": {
          "base_uri": "https://localhost:8080/",
          "height": 337
        },
        "id": "vxrQjW980rXW",
        "outputId": "65c25909-c89d-4fff-a634-0d5097b6a00d"
      },
      "execution_count": null,
      "outputs": [
        {
          "output_type": "execute_result",
          "data": {
            "text/plain": [
              "   index                                              Title  \\\n",
              "0      0  The Complete SQL Bootcamp 2020: Go from Zero t...   \n",
              "1      1  Tableau 2020 A-Z: Hands-On Tableau Training fo...   \n",
              "2      2              PMP Exam Prep Seminar - PMBOK Guide 6   \n",
              "3      3         The Complete Financial Analyst Course 2020   \n",
              "4      4  An Entire MBA in 1 Course:Award Winning Busine...   \n",
              "\n",
              "                                             Summary  Enrollment  Stars  \\\n",
              "0                           Become an expert at SQL!      301243    4.7   \n",
              "1  Learn Tableau 2020 for data science step by st...      211674    4.6   \n",
              "2  PMP Exam Prep Seminar - Earn 35 PDUs by comple...      157957    4.6   \n",
              "3  Excel, Accounting, Financial Statement Analysi...      249097    4.5   \n",
              "4  ** #1 Best Selling Business Course! ** Everyth...      376913    4.5   \n",
              "\n",
              "   Rating                                               Link  Category  \n",
              "0   79919  https://www.udemy.com/course/the-complete-sql-...  Business  \n",
              "1   55582            https://www.udemy.com/course/tableau10/  Business  \n",
              "2   53858   https://www.udemy.com/course/pmp-pmbok6-35-pdus/  Business  \n",
              "3   47415  https://www.udemy.com/course/the-complete-fina...  Business  \n",
              "4   42101  https://www.udemy.com/course/an-entire-mba-in-...  Business  "
            ],
            "text/html": [
              "\n",
              "  <div id=\"df-2c0660a6-6613-4aa8-ade9-ee75bfa2c029\">\n",
              "    <div class=\"colab-df-container\">\n",
              "      <div>\n",
              "<style scoped>\n",
              "    .dataframe tbody tr th:only-of-type {\n",
              "        vertical-align: middle;\n",
              "    }\n",
              "\n",
              "    .dataframe tbody tr th {\n",
              "        vertical-align: top;\n",
              "    }\n",
              "\n",
              "    .dataframe thead th {\n",
              "        text-align: right;\n",
              "    }\n",
              "</style>\n",
              "<table border=\"1\" class=\"dataframe\">\n",
              "  <thead>\n",
              "    <tr style=\"text-align: right;\">\n",
              "      <th></th>\n",
              "      <th>index</th>\n",
              "      <th>Title</th>\n",
              "      <th>Summary</th>\n",
              "      <th>Enrollment</th>\n",
              "      <th>Stars</th>\n",
              "      <th>Rating</th>\n",
              "      <th>Link</th>\n",
              "      <th>Category</th>\n",
              "    </tr>\n",
              "  </thead>\n",
              "  <tbody>\n",
              "    <tr>\n",
              "      <th>0</th>\n",
              "      <td>0</td>\n",
              "      <td>The Complete SQL Bootcamp 2020: Go from Zero t...</td>\n",
              "      <td>Become an expert at SQL!</td>\n",
              "      <td>301243</td>\n",
              "      <td>4.7</td>\n",
              "      <td>79919</td>\n",
              "      <td>https://www.udemy.com/course/the-complete-sql-...</td>\n",
              "      <td>Business</td>\n",
              "    </tr>\n",
              "    <tr>\n",
              "      <th>1</th>\n",
              "      <td>1</td>\n",
              "      <td>Tableau 2020 A-Z: Hands-On Tableau Training fo...</td>\n",
              "      <td>Learn Tableau 2020 for data science step by st...</td>\n",
              "      <td>211674</td>\n",
              "      <td>4.6</td>\n",
              "      <td>55582</td>\n",
              "      <td>https://www.udemy.com/course/tableau10/</td>\n",
              "      <td>Business</td>\n",
              "    </tr>\n",
              "    <tr>\n",
              "      <th>2</th>\n",
              "      <td>2</td>\n",
              "      <td>PMP Exam Prep Seminar - PMBOK Guide 6</td>\n",
              "      <td>PMP Exam Prep Seminar - Earn 35 PDUs by comple...</td>\n",
              "      <td>157957</td>\n",
              "      <td>4.6</td>\n",
              "      <td>53858</td>\n",
              "      <td>https://www.udemy.com/course/pmp-pmbok6-35-pdus/</td>\n",
              "      <td>Business</td>\n",
              "    </tr>\n",
              "    <tr>\n",
              "      <th>3</th>\n",
              "      <td>3</td>\n",
              "      <td>The Complete Financial Analyst Course 2020</td>\n",
              "      <td>Excel, Accounting, Financial Statement Analysi...</td>\n",
              "      <td>249097</td>\n",
              "      <td>4.5</td>\n",
              "      <td>47415</td>\n",
              "      <td>https://www.udemy.com/course/the-complete-fina...</td>\n",
              "      <td>Business</td>\n",
              "    </tr>\n",
              "    <tr>\n",
              "      <th>4</th>\n",
              "      <td>4</td>\n",
              "      <td>An Entire MBA in 1 Course:Award Winning Busine...</td>\n",
              "      <td>** #1 Best Selling Business Course! ** Everyth...</td>\n",
              "      <td>376913</td>\n",
              "      <td>4.5</td>\n",
              "      <td>42101</td>\n",
              "      <td>https://www.udemy.com/course/an-entire-mba-in-...</td>\n",
              "      <td>Business</td>\n",
              "    </tr>\n",
              "  </tbody>\n",
              "</table>\n",
              "</div>\n",
              "      <button class=\"colab-df-convert\" onclick=\"convertToInteractive('df-2c0660a6-6613-4aa8-ade9-ee75bfa2c029')\"\n",
              "              title=\"Convert this dataframe to an interactive table.\"\n",
              "              style=\"display:none;\">\n",
              "        \n",
              "  <svg xmlns=\"http://www.w3.org/2000/svg\" height=\"24px\"viewBox=\"0 0 24 24\"\n",
              "       width=\"24px\">\n",
              "    <path d=\"M0 0h24v24H0V0z\" fill=\"none\"/>\n",
              "    <path d=\"M18.56 5.44l.94 2.06.94-2.06 2.06-.94-2.06-.94-.94-2.06-.94 2.06-2.06.94zm-11 1L8.5 8.5l.94-2.06 2.06-.94-2.06-.94L8.5 2.5l-.94 2.06-2.06.94zm10 10l.94 2.06.94-2.06 2.06-.94-2.06-.94-.94-2.06-.94 2.06-2.06.94z\"/><path d=\"M17.41 7.96l-1.37-1.37c-.4-.4-.92-.59-1.43-.59-.52 0-1.04.2-1.43.59L10.3 9.45l-7.72 7.72c-.78.78-.78 2.05 0 2.83L4 21.41c.39.39.9.59 1.41.59.51 0 1.02-.2 1.41-.59l7.78-7.78 2.81-2.81c.8-.78.8-2.07 0-2.86zM5.41 20L4 18.59l7.72-7.72 1.47 1.35L5.41 20z\"/>\n",
              "  </svg>\n",
              "      </button>\n",
              "      \n",
              "  <style>\n",
              "    .colab-df-container {\n",
              "      display:flex;\n",
              "      flex-wrap:wrap;\n",
              "      gap: 12px;\n",
              "    }\n",
              "\n",
              "    .colab-df-convert {\n",
              "      background-color: #E8F0FE;\n",
              "      border: none;\n",
              "      border-radius: 50%;\n",
              "      cursor: pointer;\n",
              "      display: none;\n",
              "      fill: #1967D2;\n",
              "      height: 32px;\n",
              "      padding: 0 0 0 0;\n",
              "      width: 32px;\n",
              "    }\n",
              "\n",
              "    .colab-df-convert:hover {\n",
              "      background-color: #E2EBFA;\n",
              "      box-shadow: 0px 1px 2px rgba(60, 64, 67, 0.3), 0px 1px 3px 1px rgba(60, 64, 67, 0.15);\n",
              "      fill: #174EA6;\n",
              "    }\n",
              "\n",
              "    [theme=dark] .colab-df-convert {\n",
              "      background-color: #3B4455;\n",
              "      fill: #D2E3FC;\n",
              "    }\n",
              "\n",
              "    [theme=dark] .colab-df-convert:hover {\n",
              "      background-color: #434B5C;\n",
              "      box-shadow: 0px 1px 3px 1px rgba(0, 0, 0, 0.15);\n",
              "      filter: drop-shadow(0px 1px 2px rgba(0, 0, 0, 0.3));\n",
              "      fill: #FFFFFF;\n",
              "    }\n",
              "  </style>\n",
              "\n",
              "      <script>\n",
              "        const buttonEl =\n",
              "          document.querySelector('#df-2c0660a6-6613-4aa8-ade9-ee75bfa2c029 button.colab-df-convert');\n",
              "        buttonEl.style.display =\n",
              "          google.colab.kernel.accessAllowed ? 'block' : 'none';\n",
              "\n",
              "        async function convertToInteractive(key) {\n",
              "          const element = document.querySelector('#df-2c0660a6-6613-4aa8-ade9-ee75bfa2c029');\n",
              "          const dataTable =\n",
              "            await google.colab.kernel.invokeFunction('convertToInteractive',\n",
              "                                                     [key], {});\n",
              "          if (!dataTable) return;\n",
              "\n",
              "          const docLinkHtml = 'Like what you see? Visit the ' +\n",
              "            '<a target=\"_blank\" href=https://colab.research.google.com/notebooks/data_table.ipynb>data table notebook</a>'\n",
              "            + ' to learn more about interactive tables.';\n",
              "          element.innerHTML = '';\n",
              "          dataTable['output_type'] = 'display_data';\n",
              "          await google.colab.output.renderOutput(dataTable, element);\n",
              "          const docLink = document.createElement('div');\n",
              "          docLink.innerHTML = docLinkHtml;\n",
              "          element.appendChild(docLink);\n",
              "        }\n",
              "      </script>\n",
              "    </div>\n",
              "  </div>\n",
              "  "
            ]
          },
          "metadata": {},
          "execution_count": 8
        }
      ]
    },
    {
      "cell_type": "markdown",
      "source": [
        "## Revisamos el shape de nuestro nuevo dataset courses"
      ],
      "metadata": {
        "id": "YVUnJa5x1aGp"
      }
    },
    {
      "cell_type": "code",
      "source": [
        "courses.shape"
      ],
      "metadata": {
        "colab": {
          "base_uri": "https://localhost:8080/"
        },
        "id": "KKcibqps1eOE",
        "outputId": "ab3c25df-25b0-4cdb-ab40-6cd816f0824b"
      },
      "execution_count": null,
      "outputs": [
        {
          "output_type": "execute_result",
          "data": {
            "text/plain": [
              "(44635, 8)"
            ]
          },
          "metadata": {},
          "execution_count": 9
        }
      ]
    },
    {
      "cell_type": "code",
      "source": [
        "courses.info()"
      ],
      "metadata": {
        "colab": {
          "base_uri": "https://localhost:8080/"
        },
        "id": "xk7r9Grw1hxw",
        "outputId": "297d5771-2cb9-4333-b790-e1c087c28810"
      },
      "execution_count": null,
      "outputs": [
        {
          "output_type": "stream",
          "name": "stdout",
          "text": [
            "<class 'pandas.core.frame.DataFrame'>\n",
            "RangeIndex: 44635 entries, 0 to 44634\n",
            "Data columns (total 8 columns):\n",
            " #   Column      Non-Null Count  Dtype  \n",
            "---  ------      --------------  -----  \n",
            " 0   index       44635 non-null  int64  \n",
            " 1   Title       44635 non-null  object \n",
            " 2   Summary     44625 non-null  object \n",
            " 3   Enrollment  44635 non-null  int64  \n",
            " 4   Stars       44635 non-null  float64\n",
            " 5   Rating      44635 non-null  int64  \n",
            " 6   Link        44635 non-null  object \n",
            " 7   Category    44635 non-null  object \n",
            "dtypes: float64(1), int64(3), object(4)\n",
            "memory usage: 2.7+ MB\n"
          ]
        }
      ]
    },
    {
      "cell_type": "markdown",
      "source": [
        "### Se verifican los valores nulos"
      ],
      "metadata": {
        "id": "8K4bsA-ePryB"
      }
    },
    {
      "cell_type": "code",
      "source": [
        "print(courses.isna().sum())"
      ],
      "metadata": {
        "colab": {
          "base_uri": "https://localhost:8080/"
        },
        "id": "cRyZzjBg1lKH",
        "outputId": "b1ef3398-531c-407d-9aef-08318f5069e8"
      },
      "execution_count": null,
      "outputs": [
        {
          "output_type": "stream",
          "name": "stdout",
          "text": [
            "index          0\n",
            "Title          0\n",
            "Summary       10\n",
            "Enrollment     0\n",
            "Stars          0\n",
            "Rating         0\n",
            "Link           0\n",
            "Category       0\n",
            "dtype: int64\n"
          ]
        }
      ]
    },
    {
      "cell_type": "markdown",
      "source": [
        "Se eliminan los 10 cursos que no tienen Summary"
      ],
      "metadata": {
        "id": "HQfj4criPzUD"
      }
    },
    {
      "cell_type": "code",
      "source": [
        "courses = courses.dropna()"
      ],
      "metadata": {
        "id": "eIKunHQhNomp"
      },
      "execution_count": null,
      "outputs": []
    },
    {
      "cell_type": "code",
      "source": [
        "print(courses.isna().sum())"
      ],
      "metadata": {
        "colab": {
          "base_uri": "https://localhost:8080/"
        },
        "id": "Q5uzmCVWN1pR",
        "outputId": "cc6640a3-22ab-4468-a03e-6220d6fdef69"
      },
      "execution_count": null,
      "outputs": [
        {
          "output_type": "stream",
          "name": "stdout",
          "text": [
            "index         0\n",
            "Title         0\n",
            "Summary       0\n",
            "Enrollment    0\n",
            "Stars         0\n",
            "Rating        0\n",
            "Link          0\n",
            "Category      0\n",
            "dtype: int64\n"
          ]
        }
      ]
    },
    {
      "cell_type": "code",
      "source": [
        "courses.shape"
      ],
      "metadata": {
        "colab": {
          "base_uri": "https://localhost:8080/"
        },
        "id": "e5351JXsN4SZ",
        "outputId": "3528d2d3-208f-4041-e221-8361bff3a168"
      },
      "execution_count": null,
      "outputs": [
        {
          "output_type": "execute_result",
          "data": {
            "text/plain": [
              "(44625, 8)"
            ]
          },
          "metadata": {},
          "execution_count": 14
        }
      ]
    },
    {
      "cell_type": "markdown",
      "source": [
        "### Ver una muestra de los textos"
      ],
      "metadata": {
        "id": "UWvXr-mgN-E-"
      }
    },
    {
      "cell_type": "code",
      "source": [
        "courses.sample(10)"
      ],
      "metadata": {
        "colab": {
          "base_uri": "https://localhost:8080/",
          "height": 563
        },
        "id": "o8nIKQXi52G2",
        "outputId": "73e49254-36fd-46af-fcc3-1bbba073d979"
      },
      "execution_count": null,
      "outputs": [
        {
          "output_type": "execute_result",
          "data": {
            "text/plain": [
              "       index                                              Title  \\\n",
              "33449   7604  Como Criar uma Loja Virtual do Zero Sem Gastar...   \n",
              "39877   5198  Create App Like Instagram using Parse Server: ...   \n",
              "26594    753   Powerful Proofreading Tools For Aspiring Writers   \n",
              "34014   8173              Mailchimp ile E-Posta Pazarlamacılığı   \n",
              "25797   5865                      מושגים בסיסיים באופציות חלק ג   \n",
              "4290    4275  Practical Project Management for Machine Learn...   \n",
              "19818   9846  Master en INVENTOR 2019 SIMULACIONES paso a pa...   \n",
              "35068    394  Computer Science 101: Master the Theory Behind...   \n",
              "12933   2958         The Ultimate Blender 2.8 3D Modeling Guide   \n",
              "36005   1325  Learn the Art and Science of PCB Design with E...   \n",
              "\n",
              "                                                 Summary  Enrollment  Stars  \\\n",
              "33449  Crie sua loja virtual sem conhecimentos de pro...         361    3.4   \n",
              "39877  Parse Server development course. Learn how to ...        3064    4.3   \n",
              "26594                  A Smarter Way to Write Error-Free       13759    3.7   \n",
              "34014  Mailchimp toplu e-posta gönderme ve pazarlama ...           1    1.0   \n",
              "25797                                   אופציות למתחילים          46    4.0   \n",
              "4290   Specific Challenges and Best Practices for Man...         108    3.8   \n",
              "19818  El Mejor Curso para Aprender a SIMULAR con INV...          23    3.3   \n",
              "35068  Computer Science 101: Learn Computer Science t...       13191    4.5   \n",
              "12933  Have you ever wanted to build your own 3D mode...         282    3.2   \n",
              "36005  Learn Circuit Design with the most widely used...        1817    4.4   \n",
              "\n",
              "       Rating                                               Link   Category  \n",
              "33449       5  https://www.udemy.com/course/criacao-de-loja-v...  Marketing  \n",
              "39877      57  https://www.udemy.com/course/parse-server-deve...       Tech  \n",
              "26594     104  https://www.udemy.com/course/powerful-proofrea...  Marketing  \n",
              "34014       1  https://www.udemy.com/course/mailchimp-ile-e-p...  Marketing  \n",
              "25797       1             https://www.udemy.com/course/1-lqcxso/    Finance  \n",
              "4290       41  https://www.udemy.com/course/practical-project...   Business  \n",
              "19818       3  https://www.udemy.com/course/master-en-invento...     Design  \n",
              "35068    2546  https://www.udemy.com/course/computer-science-...       Tech  \n",
              "12933      19  https://www.udemy.com/course/the-ultimate-blen...     Design  \n",
              "36005     528  https://www.udemy.com/course/pcb-design-with-e...       Tech  "
            ],
            "text/html": [
              "\n",
              "  <div id=\"df-e791f16a-4c0a-4969-9d6a-66c6a5766ab3\">\n",
              "    <div class=\"colab-df-container\">\n",
              "      <div>\n",
              "<style scoped>\n",
              "    .dataframe tbody tr th:only-of-type {\n",
              "        vertical-align: middle;\n",
              "    }\n",
              "\n",
              "    .dataframe tbody tr th {\n",
              "        vertical-align: top;\n",
              "    }\n",
              "\n",
              "    .dataframe thead th {\n",
              "        text-align: right;\n",
              "    }\n",
              "</style>\n",
              "<table border=\"1\" class=\"dataframe\">\n",
              "  <thead>\n",
              "    <tr style=\"text-align: right;\">\n",
              "      <th></th>\n",
              "      <th>index</th>\n",
              "      <th>Title</th>\n",
              "      <th>Summary</th>\n",
              "      <th>Enrollment</th>\n",
              "      <th>Stars</th>\n",
              "      <th>Rating</th>\n",
              "      <th>Link</th>\n",
              "      <th>Category</th>\n",
              "    </tr>\n",
              "  </thead>\n",
              "  <tbody>\n",
              "    <tr>\n",
              "      <th>33449</th>\n",
              "      <td>7604</td>\n",
              "      <td>Como Criar uma Loja Virtual do Zero Sem Gastar...</td>\n",
              "      <td>Crie sua loja virtual sem conhecimentos de pro...</td>\n",
              "      <td>361</td>\n",
              "      <td>3.4</td>\n",
              "      <td>5</td>\n",
              "      <td>https://www.udemy.com/course/criacao-de-loja-v...</td>\n",
              "      <td>Marketing</td>\n",
              "    </tr>\n",
              "    <tr>\n",
              "      <th>39877</th>\n",
              "      <td>5198</td>\n",
              "      <td>Create App Like Instagram using Parse Server: ...</td>\n",
              "      <td>Parse Server development course. Learn how to ...</td>\n",
              "      <td>3064</td>\n",
              "      <td>4.3</td>\n",
              "      <td>57</td>\n",
              "      <td>https://www.udemy.com/course/parse-server-deve...</td>\n",
              "      <td>Tech</td>\n",
              "    </tr>\n",
              "    <tr>\n",
              "      <th>26594</th>\n",
              "      <td>753</td>\n",
              "      <td>Powerful Proofreading Tools For Aspiring Writers</td>\n",
              "      <td>A Smarter Way to Write Error-Free</td>\n",
              "      <td>13759</td>\n",
              "      <td>3.7</td>\n",
              "      <td>104</td>\n",
              "      <td>https://www.udemy.com/course/powerful-proofrea...</td>\n",
              "      <td>Marketing</td>\n",
              "    </tr>\n",
              "    <tr>\n",
              "      <th>34014</th>\n",
              "      <td>8173</td>\n",
              "      <td>Mailchimp ile E-Posta Pazarlamacılığı</td>\n",
              "      <td>Mailchimp toplu e-posta gönderme ve pazarlama ...</td>\n",
              "      <td>1</td>\n",
              "      <td>1.0</td>\n",
              "      <td>1</td>\n",
              "      <td>https://www.udemy.com/course/mailchimp-ile-e-p...</td>\n",
              "      <td>Marketing</td>\n",
              "    </tr>\n",
              "    <tr>\n",
              "      <th>25797</th>\n",
              "      <td>5865</td>\n",
              "      <td>מושגים בסיסיים באופציות חלק ג</td>\n",
              "      <td>אופציות למתחילים</td>\n",
              "      <td>46</td>\n",
              "      <td>4.0</td>\n",
              "      <td>1</td>\n",
              "      <td>https://www.udemy.com/course/1-lqcxso/</td>\n",
              "      <td>Finance</td>\n",
              "    </tr>\n",
              "    <tr>\n",
              "      <th>4290</th>\n",
              "      <td>4275</td>\n",
              "      <td>Practical Project Management for Machine Learn...</td>\n",
              "      <td>Specific Challenges and Best Practices for Man...</td>\n",
              "      <td>108</td>\n",
              "      <td>3.8</td>\n",
              "      <td>41</td>\n",
              "      <td>https://www.udemy.com/course/practical-project...</td>\n",
              "      <td>Business</td>\n",
              "    </tr>\n",
              "    <tr>\n",
              "      <th>19818</th>\n",
              "      <td>9846</td>\n",
              "      <td>Master en INVENTOR 2019 SIMULACIONES paso a pa...</td>\n",
              "      <td>El Mejor Curso para Aprender a SIMULAR con INV...</td>\n",
              "      <td>23</td>\n",
              "      <td>3.3</td>\n",
              "      <td>3</td>\n",
              "      <td>https://www.udemy.com/course/master-en-invento...</td>\n",
              "      <td>Design</td>\n",
              "    </tr>\n",
              "    <tr>\n",
              "      <th>35068</th>\n",
              "      <td>394</td>\n",
              "      <td>Computer Science 101: Master the Theory Behind...</td>\n",
              "      <td>Computer Science 101: Learn Computer Science t...</td>\n",
              "      <td>13191</td>\n",
              "      <td>4.5</td>\n",
              "      <td>2546</td>\n",
              "      <td>https://www.udemy.com/course/computer-science-...</td>\n",
              "      <td>Tech</td>\n",
              "    </tr>\n",
              "    <tr>\n",
              "      <th>12933</th>\n",
              "      <td>2958</td>\n",
              "      <td>The Ultimate Blender 2.8 3D Modeling Guide</td>\n",
              "      <td>Have you ever wanted to build your own 3D mode...</td>\n",
              "      <td>282</td>\n",
              "      <td>3.2</td>\n",
              "      <td>19</td>\n",
              "      <td>https://www.udemy.com/course/the-ultimate-blen...</td>\n",
              "      <td>Design</td>\n",
              "    </tr>\n",
              "    <tr>\n",
              "      <th>36005</th>\n",
              "      <td>1325</td>\n",
              "      <td>Learn the Art and Science of PCB Design with E...</td>\n",
              "      <td>Learn Circuit Design with the most widely used...</td>\n",
              "      <td>1817</td>\n",
              "      <td>4.4</td>\n",
              "      <td>528</td>\n",
              "      <td>https://www.udemy.com/course/pcb-design-with-e...</td>\n",
              "      <td>Tech</td>\n",
              "    </tr>\n",
              "  </tbody>\n",
              "</table>\n",
              "</div>\n",
              "      <button class=\"colab-df-convert\" onclick=\"convertToInteractive('df-e791f16a-4c0a-4969-9d6a-66c6a5766ab3')\"\n",
              "              title=\"Convert this dataframe to an interactive table.\"\n",
              "              style=\"display:none;\">\n",
              "        \n",
              "  <svg xmlns=\"http://www.w3.org/2000/svg\" height=\"24px\"viewBox=\"0 0 24 24\"\n",
              "       width=\"24px\">\n",
              "    <path d=\"M0 0h24v24H0V0z\" fill=\"none\"/>\n",
              "    <path d=\"M18.56 5.44l.94 2.06.94-2.06 2.06-.94-2.06-.94-.94-2.06-.94 2.06-2.06.94zm-11 1L8.5 8.5l.94-2.06 2.06-.94-2.06-.94L8.5 2.5l-.94 2.06-2.06.94zm10 10l.94 2.06.94-2.06 2.06-.94-2.06-.94-.94-2.06-.94 2.06-2.06.94z\"/><path d=\"M17.41 7.96l-1.37-1.37c-.4-.4-.92-.59-1.43-.59-.52 0-1.04.2-1.43.59L10.3 9.45l-7.72 7.72c-.78.78-.78 2.05 0 2.83L4 21.41c.39.39.9.59 1.41.59.51 0 1.02-.2 1.41-.59l7.78-7.78 2.81-2.81c.8-.78.8-2.07 0-2.86zM5.41 20L4 18.59l7.72-7.72 1.47 1.35L5.41 20z\"/>\n",
              "  </svg>\n",
              "      </button>\n",
              "      \n",
              "  <style>\n",
              "    .colab-df-container {\n",
              "      display:flex;\n",
              "      flex-wrap:wrap;\n",
              "      gap: 12px;\n",
              "    }\n",
              "\n",
              "    .colab-df-convert {\n",
              "      background-color: #E8F0FE;\n",
              "      border: none;\n",
              "      border-radius: 50%;\n",
              "      cursor: pointer;\n",
              "      display: none;\n",
              "      fill: #1967D2;\n",
              "      height: 32px;\n",
              "      padding: 0 0 0 0;\n",
              "      width: 32px;\n",
              "    }\n",
              "\n",
              "    .colab-df-convert:hover {\n",
              "      background-color: #E2EBFA;\n",
              "      box-shadow: 0px 1px 2px rgba(60, 64, 67, 0.3), 0px 1px 3px 1px rgba(60, 64, 67, 0.15);\n",
              "      fill: #174EA6;\n",
              "    }\n",
              "\n",
              "    [theme=dark] .colab-df-convert {\n",
              "      background-color: #3B4455;\n",
              "      fill: #D2E3FC;\n",
              "    }\n",
              "\n",
              "    [theme=dark] .colab-df-convert:hover {\n",
              "      background-color: #434B5C;\n",
              "      box-shadow: 0px 1px 3px 1px rgba(0, 0, 0, 0.15);\n",
              "      filter: drop-shadow(0px 1px 2px rgba(0, 0, 0, 0.3));\n",
              "      fill: #FFFFFF;\n",
              "    }\n",
              "  </style>\n",
              "\n",
              "      <script>\n",
              "        const buttonEl =\n",
              "          document.querySelector('#df-e791f16a-4c0a-4969-9d6a-66c6a5766ab3 button.colab-df-convert');\n",
              "        buttonEl.style.display =\n",
              "          google.colab.kernel.accessAllowed ? 'block' : 'none';\n",
              "\n",
              "        async function convertToInteractive(key) {\n",
              "          const element = document.querySelector('#df-e791f16a-4c0a-4969-9d6a-66c6a5766ab3');\n",
              "          const dataTable =\n",
              "            await google.colab.kernel.invokeFunction('convertToInteractive',\n",
              "                                                     [key], {});\n",
              "          if (!dataTable) return;\n",
              "\n",
              "          const docLinkHtml = 'Like what you see? Visit the ' +\n",
              "            '<a target=\"_blank\" href=https://colab.research.google.com/notebooks/data_table.ipynb>data table notebook</a>'\n",
              "            + ' to learn more about interactive tables.';\n",
              "          element.innerHTML = '';\n",
              "          dataTable['output_type'] = 'display_data';\n",
              "          await google.colab.output.renderOutput(dataTable, element);\n",
              "          const docLink = document.createElement('div');\n",
              "          docLink.innerHTML = docLinkHtml;\n",
              "          element.appendChild(docLink);\n",
              "        }\n",
              "      </script>\n",
              "    </div>\n",
              "  </div>\n",
              "  "
            ]
          },
          "metadata": {},
          "execution_count": 15
        }
      ]
    },
    {
      "cell_type": "markdown",
      "source": [
        "# Exploratory Data Analysis"
      ],
      "metadata": {
        "id": "EqGYWO-B2T5l"
      }
    },
    {
      "cell_type": "markdown",
      "source": [
        "Revisamos el número de estrellas de los cursos"
      ],
      "metadata": {
        "id": "HmzylDhvZZ2o"
      }
    },
    {
      "cell_type": "code",
      "source": [
        "f, ax = plt.subplots(figsize=(15, 5))\n",
        "plt.xticks(rotation='90')\n",
        "sns.countplot( x = courses.Stars, palette=\"winter\")\n",
        "\n",
        "plt.tight_layout()\n",
        "\n",
        "fig = plt.gcf()\n",
        "plt.show()\n",
        "fig.savefig('1.png')"
      ],
      "metadata": {
        "colab": {
          "base_uri": "https://localhost:8080/",
          "height": 369
        },
        "id": "1ZsbLPhlrMh9",
        "outputId": "f2ffa9b6-facd-4a3c-a11b-62705d83f1e2"
      },
      "execution_count": null,
      "outputs": [
        {
          "output_type": "display_data",
          "data": {
            "text/plain": [
              "<Figure size 1080x360 with 1 Axes>"
            ],
            "image/png": "[encoded data removed]"
          },
          "metadata": {
            "needs_background": "light"
          }
        }
      ]
    },
    {
      "cell_type": "markdown",
      "source": [
        "Revisamos las categorías"
      ],
      "metadata": {
        "id": "VAxErCVEZgQR"
      }
    },
    {
      "cell_type": "code",
      "source": [
        "f, ax = plt.subplots(figsize=(15, 5))\n",
        "sns.countplot(data = courses, x= \"Category\", order = courses[\"Category\"].value_counts().index, palette=\"winter_r\")\n",
        "\n",
        "fig = plt.gcf()\n",
        "plt.show()\n",
        "fig.savefig('gra2.png')"
      ],
      "metadata": {
        "colab": {
          "base_uri": "https://localhost:8080/",
          "height": 339
        },
        "id": "StZZPEf1rQjN",
        "outputId": "e3bfe914-9d5f-4b60-e9f5-67d197aaccc1"
      },
      "execution_count": null,
      "outputs": [
        {
          "output_type": "display_data",
          "data": {
            "text/plain": [
              "<Figure size 1080x360 with 1 Axes>"
            ],
            "image/png": "[encoded data removed]"
          },
          "metadata": {
            "needs_background": "light"
          }
        }
      ]
    },
    {
      "cell_type": "code",
      "source": [
        "media_r= courses.Rating.mean()\n",
        "print(media_r)"
      ],
      "metadata": {
        "colab": {
          "base_uri": "https://localhost:8080/"
        },
        "id": "zmKOjKoSgl3y",
        "outputId": "fcc593be-11d3-4d95-857f-6b6f16cd0cc3"
      },
      "execution_count": null,
      "outputs": [
        {
          "output_type": "stream",
          "name": "stdout",
          "text": [
            "326.0934453781513\n"
          ]
        }
      ]
    },
    {
      "cell_type": "markdown",
      "source": [
        "### Se toman sólo los cursos en los que hayan participado al menos 100 personas y que tengan una calificación mayor o igual a 4.0"
      ],
      "metadata": {
        "id": "CHKrNFdAPdNh"
      }
    },
    {
      "cell_type": "code",
      "source": [
        "courses = courses[(courses[\"Stars\"]>=4)]"
      ],
      "metadata": {
        "id": "iWJL5fjDQacJ"
      },
      "execution_count": null,
      "outputs": []
    },
    {
      "cell_type": "code",
      "source": [
        "courses.shape"
      ],
      "metadata": {
        "colab": {
          "base_uri": "https://localhost:8080/"
        },
        "id": "fUmj4MAfRBY4",
        "outputId": "4e16cb6d-223d-4764-c619-e0c2da2cdf91"
      },
      "execution_count": null,
      "outputs": [
        {
          "output_type": "execute_result",
          "data": {
            "text/plain": [
              "(29151, 8)"
            ]
          },
          "metadata": {},
          "execution_count": 20
        }
      ]
    },
    {
      "cell_type": "code",
      "source": [
        "f, ax = plt.subplots(figsize=(15, 5))\n",
        "sns.countplot( x = courses.Stars, palette=\"winter\")\n",
        "\n",
        "plt.tight_layout()\n",
        "\n",
        "fig = plt.gcf()\n",
        "plt.show()\n",
        "fig.savefig('filtro.png')"
      ],
      "metadata": {
        "colab": {
          "base_uri": "https://localhost:8080/",
          "height": 369
        },
        "id": "h0OERKLOfgSx",
        "outputId": "5197092d-fb3e-4d4e-f362-8d4bd86c247a"
      },
      "execution_count": null,
      "outputs": [
        {
          "output_type": "display_data",
          "data": {
            "text/plain": [
              "<Figure size 1080x360 with 1 Axes>"
            ],
            "image/png": "[encoded data removed]"
          },
          "metadata": {
            "needs_background": "light"
          }
        }
      ]
    },
    {
      "cell_type": "markdown",
      "source": [
        "Pre-procesamiento de datos"
      ],
      "metadata": {
        "id": "jaX6eF2bEZyA"
      }
    },
    {
      "cell_type": "markdown",
      "source": [
        "### Creamos una función para limpiar los textos: remover puntuaciones, símobolos, convertir textos en minúsculas, etc. "
      ],
      "metadata": {
        "id": "i9_0NwKRi__f"
      }
    },
    {
      "cell_type": "code",
      "source": [
        "re_punc = re.compile(\"([\\\"\\''().,;:/_¿?¡!—\\-])\") # Agrega espacios alrededor de la puntuación\n",
        "\n",
        "re_mult_space = re.compile(r\"  *\") # Reemplaza multiples espacios con solo uno\n",
        "\n",
        "# Pattern para remover los emoticones. Referencia: https://gist.github.com/slowkow/7a7f61f495e3dbb7e3d767f97bd7304b\n",
        "emoji_pattern = re.compile(\"[\"\n",
        "                               u\"\\U0001F600-\\U0001F64F\"  # emoticons\n",
        "                               u\"\\U0001F300-\\U0001F5FF\"  # symbols & pictographs\n",
        "                               u\"\\U0001F680-\\U0001F6FF\"  # transport & map symbols\n",
        "                               u\"\\U0001F1E0-\\U0001F1FF\"  # flags (iOS)\n",
        "                               u\"\\U00002500-\\U00002BEF\"  # chinese char\n",
        "                               u\"\\U00002702-\\U000027B0\"\n",
        "                               u\"\\U00002702-\\U000027B0\"\n",
        "                               u\"\\U000024C2-\\U0001F251\"\n",
        "                               u\"\\U0001f926-\\U0001f937\"\n",
        "                               u\"\\U00010000-\\U0010ffff\"\n",
        "                               u\"\\u2640-\\u2642\"\n",
        "                               u\"\\u2600-\\u2B55\"\n",
        "                               u\"\\u200d\"\n",
        "                               u\"\\u23cf\"\n",
        "                               u\"\\u23e9\"\n",
        "                               u\"\\u231a\"\n",
        "                               u\"\\ufe0f\"  # dingbats\n",
        "                               u\"\\u3030\"\n",
        "                               \"]+\", flags=re.UNICODE)\n",
        "\n",
        "\n",
        "def clean_text(text):\n",
        "    text = re.sub('\\w*\\d\\w*', '', text) # Remueve todos los dígitos\n",
        "    text = emoji_pattern.sub(r'', text) # Remueve todos los emoticones\n",
        "    text = re.sub('[%s]' % re.escape(string.punctuation + '¡¿°€ª”'), '', text.lower()) # Remueve todas las puntuaciones y simbolos incluyendo los signos que no están en la librería string y se convierte texto a minúsculas\n",
        "    text = re_punc.sub(r\" \\1 \", text) # Agrega espacios alrededor de la puntuación para corregir por ej: pero,no\n",
        "    text = re.sub(\"(.)\\\\1{2,}\", \"\\\\1\", text) # Cuando encuentra 3 letras juntas o más, las remueve y deja solo una. Ej: noooo\n",
        "    text = re_mult_space.sub(' ', text) # Reemplaza multiples espacios con solo uno\n",
        "    text = re.sub('http\\S+', ' ', text)  # Eliminación de páginas web (palabras que empiezan por \"http\")\n",
        "    text = re.sub(r'#', '', text) # Remueve hashtags\n",
        "    text = re.sub(r\"([^n\\u0300-\\u036f]|n(?!\\u0303(?![\\u0300-\\u036f])))[\\u0300-\\u036f]+\", r\"\\1\", normalize( \"NFD\", text), 0, re.I) # Se reemplazan todas las letras que tienen tilde por letras sin tilde \n",
        "    text = normalize( 'NFC', text)\n",
        "    return text"
      ],
      "metadata": {
        "id": "vNlxBOFmCsxH"
      },
      "execution_count": null,
      "outputs": []
    },
    {
      "cell_type": "code",
      "source": [
        "%%time\n",
        "# Se aplica la función clean_text sobre el campo Summary\n",
        "courses['Summary'] = courses['Summary'].apply(lambda x: clean_text(x))"
      ],
      "metadata": {
        "colab": {
          "base_uri": "https://localhost:8080/"
        },
        "id": "T1T5BReyOqkb",
        "outputId": "c68d5427-4cb6-48e9-823c-ac7e04b7e4b1"
      },
      "execution_count": null,
      "outputs": [
        {
          "output_type": "stream",
          "name": "stdout",
          "text": [
            "CPU times: user 1.5 s, sys: 7.14 ms, total: 1.51 s\n",
            "Wall time: 1.54 s\n"
          ]
        }
      ]
    },
    {
      "cell_type": "code",
      "source": [
        "%%time\n",
        "# Se aplica la función clean_text sobre el campo tittle\n",
        "courses['Title'] = courses['Title'].apply(lambda x: clean_text(x))"
      ],
      "metadata": {
        "colab": {
          "base_uri": "https://localhost:8080/"
        },
        "id": "QYjcSJ62XxFW",
        "outputId": "bd711ab8-4816-40fd-c21a-7a25985a0e1e"
      },
      "execution_count": null,
      "outputs": [
        {
          "output_type": "stream",
          "name": "stdout",
          "text": [
            "CPU times: user 1.06 s, sys: 5.84 ms, total: 1.07 s\n",
            "Wall time: 1.07 s\n"
          ]
        }
      ]
    },
    {
      "cell_type": "markdown",
      "source": [
        "# Detectar idiomas de los cursos en el dataset"
      ],
      "metadata": {
        "id": "Nu68xm5sPNzo"
      }
    },
    {
      "cell_type": "code",
      "source": [
        "#pip install spacy_cld"
      ],
      "metadata": {
        "id": "-ogin1_NP9LS"
      },
      "execution_count": null,
      "outputs": []
    },
    {
      "cell_type": "code",
      "source": [
        "! python -m spacy download en_core_web_sm\n",
        "import spacy\n",
        "nlp = spacy.load(\"en_core_web_sm\")"
      ],
      "metadata": {
        "id": "54rpW2RUdjLM"
      },
      "execution_count": null,
      "outputs": []
    },
    {
      "cell_type": "code",
      "source": [
        "from spacy_cld import LanguageDetector\n",
        "\n",
        "language_detector = LanguageDetector()\n",
        "nlp.add_pipe(language_detector)"
      ],
      "metadata": {
        "id": "8ZsKzI9uPT-I"
      },
      "execution_count": null,
      "outputs": []
    },
    {
      "cell_type": "code",
      "source": [
        "%%time\n",
        "\"\"\"\n",
        "doc._.languages devuelve una lista de str : list of str\n",
        "por ejemplo : ['fr'] -> french\n",
        "              ['en'] -> english\n",
        "              [] -> empty\n",
        "\"\"\"\n",
        "\n",
        "courses_df = courses['Summary']\n",
        "languages = []\n",
        "\n",
        "for i in courses_df:\n",
        "    doc = nlp(i)\n",
        "    # chacamos si doc._.languages no está vacío\n",
        "    # luego guardamos con append el primer idioma detectado\n",
        "    if(doc._.languages):\n",
        "        languages.append(doc._.languages[0])\n",
        "    # Si esta vacío o no detecta el idioma, se guarda con unknown\n",
        "     else:\n",
        "        languages.append('unknown')"
      ],
      "metadata": {
        "colab": {
          "base_uri": "https://localhost:8080/"
        },
        "id": "ecBfT2glQNo-",
        "outputId": "9e4007d5-0042-49ab-d39e-f5496e0a205a"
      },
      "execution_count": null,
      "outputs": [
        {
          "output_type": "stream",
          "name": "stdout",
          "text": [
            "CPU times: user 4min 38s, sys: 886 ms, total: 4min 39s\n",
            "Wall time: 4min 45s\n"
          ]
        }
      ]
    },
    {
      "cell_type": "markdown",
      "source": [
        "### Agregamos una columna para identificar el idioma de cada curso"
      ],
      "metadata": {
        "id": "hXFi5t41Wlwk"
      }
    },
    {
      "cell_type": "code",
      "source": [
        "courses['languages'] = languages"
      ],
      "metadata": {
        "id": "uxh3593bSQ0E"
      },
      "execution_count": null,
      "outputs": []
    },
    {
      "cell_type": "code",
      "source": [
        "courses.sample(5)"
      ],
      "metadata": {
        "colab": {
          "base_uri": "https://localhost:8080/",
          "height": 354
        },
        "id": "VHLN-VW4STzX",
        "outputId": "e6f428d0-e60a-4e84-c2c6-5a7f1e32d734"
      },
      "execution_count": null,
      "outputs": [
        {
          "output_type": "execute_result",
          "data": {
            "text/plain": [
              "       index                                              Title  \\\n",
              "12719   2745               create custom designs with tinkercad   \n",
              "34701     29     the complete react native hooks course edition   \n",
              "32108   6266  aprende semrush desde cero la mejor herramient...   \n",
              "1869    1860  blogging to freedom create your independence w...   \n",
              "6646    6638                    project management fundamentals   \n",
              "\n",
              "                                                 Summary  Enrollment  Stars  \\\n",
              "12719                        learn design with tinkercad         105    4.7   \n",
              "34701  understand react native with hooks context and...      130527    4.6   \n",
              "32108  mejora el posicionamiento de tus palabras clav...         233    4.1   \n",
              "1869   the cubiclepreneurs step by step guide to blog...       25208    4.4   \n",
              "6646   develop a solid understanding of project manag...          61    4.2   \n",
              "\n",
              "       Rating                                               Link   Category  \\\n",
              "12719      23            https://www.udemy.com/course/create-3d/     Design   \n",
              "34701   34178  https://www.udemy.com/course/the-complete-reac...       Tech   \n",
              "32108      49  https://www.udemy.com/course/semrush-herramien...  Marketing   \n",
              "1869      167  https://www.udemy.com/course/create-my-indepen...   Business   \n",
              "6646       16  https://www.udemy.com/course/project-managemen...   Business   \n",
              "\n",
              "      languages  \n",
              "12719        en  \n",
              "34701        en  \n",
              "32108        es  \n",
              "1869         en  \n",
              "6646         en  "
            ],
            "text/html": [
              "\n",
              "  <div id=\"df-c67be3a6-ae49-4a09-a22d-adb8b55fc184\">\n",
              "    <div class=\"colab-df-container\">\n",
              "      <div>\n",
              "<style scoped>\n",
              "    .dataframe tbody tr th:only-of-type {\n",
              "        vertical-align: middle;\n",
              "    }\n",
              "\n",
              "    .dataframe tbody tr th {\n",
              "        vertical-align: top;\n",
              "    }\n",
              "\n",
              "    .dataframe thead th {\n",
              "        text-align: right;\n",
              "    }\n",
              "</style>\n",
              "<table border=\"1\" class=\"dataframe\">\n",
              "  <thead>\n",
              "    <tr style=\"text-align: right;\">\n",
              "      <th></th>\n",
              "      <th>index</th>\n",
              "      <th>Title</th>\n",
              "      <th>Summary</th>\n",
              "      <th>Enrollment</th>\n",
              "      <th>Stars</th>\n",
              "      <th>Rating</th>\n",
              "      <th>Link</th>\n",
              "      <th>Category</th>\n",
              "      <th>languages</th>\n",
              "    </tr>\n",
              "  </thead>\n",
              "  <tbody>\n",
              "    <tr>\n",
              "      <th>12719</th>\n",
              "      <td>2745</td>\n",
              "      <td>create custom designs with tinkercad</td>\n",
              "      <td>learn design with tinkercad</td>\n",
              "      <td>105</td>\n",
              "      <td>4.7</td>\n",
              "      <td>23</td>\n",
              "      <td>https://www.udemy.com/course/create-3d/</td>\n",
              "      <td>Design</td>\n",
              "      <td>en</td>\n",
              "    </tr>\n",
              "    <tr>\n",
              "      <th>34701</th>\n",
              "      <td>29</td>\n",
              "      <td>the complete react native hooks course edition</td>\n",
              "      <td>understand react native with hooks context and...</td>\n",
              "      <td>130527</td>\n",
              "      <td>4.6</td>\n",
              "      <td>34178</td>\n",
              "      <td>https://www.udemy.com/course/the-complete-reac...</td>\n",
              "      <td>Tech</td>\n",
              "      <td>en</td>\n",
              "    </tr>\n",
              "    <tr>\n",
              "      <th>32108</th>\n",
              "      <td>6266</td>\n",
              "      <td>aprende semrush desde cero la mejor herramient...</td>\n",
              "      <td>mejora el posicionamiento de tus palabras clav...</td>\n",
              "      <td>233</td>\n",
              "      <td>4.1</td>\n",
              "      <td>49</td>\n",
              "      <td>https://www.udemy.com/course/semrush-herramien...</td>\n",
              "      <td>Marketing</td>\n",
              "      <td>es</td>\n",
              "    </tr>\n",
              "    <tr>\n",
              "      <th>1869</th>\n",
              "      <td>1860</td>\n",
              "      <td>blogging to freedom create your independence w...</td>\n",
              "      <td>the cubiclepreneurs step by step guide to blog...</td>\n",
              "      <td>25208</td>\n",
              "      <td>4.4</td>\n",
              "      <td>167</td>\n",
              "      <td>https://www.udemy.com/course/create-my-indepen...</td>\n",
              "      <td>Business</td>\n",
              "      <td>en</td>\n",
              "    </tr>\n",
              "    <tr>\n",
              "      <th>6646</th>\n",
              "      <td>6638</td>\n",
              "      <td>project management fundamentals</td>\n",
              "      <td>develop a solid understanding of project manag...</td>\n",
              "      <td>61</td>\n",
              "      <td>4.2</td>\n",
              "      <td>16</td>\n",
              "      <td>https://www.udemy.com/course/project-managemen...</td>\n",
              "      <td>Business</td>\n",
              "      <td>en</td>\n",
              "    </tr>\n",
              "  </tbody>\n",
              "</table>\n",
              "</div>\n",
              "      <button class=\"colab-df-convert\" onclick=\"convertToInteractive('df-c67be3a6-ae49-4a09-a22d-adb8b55fc184')\"\n",
              "              title=\"Convert this dataframe to an interactive table.\"\n",
              "              style=\"display:none;\">\n",
              "        \n",
              "  <svg xmlns=\"http://www.w3.org/2000/svg\" height=\"24px\"viewBox=\"0 0 24 24\"\n",
              "       width=\"24px\">\n",
              "    <path d=\"M0 0h24v24H0V0z\" fill=\"none\"/>\n",
              "    <path d=\"M18.56 5.44l.94 2.06.94-2.06 2.06-.94-2.06-.94-.94-2.06-.94 2.06-2.06.94zm-11 1L8.5 8.5l.94-2.06 2.06-.94-2.06-.94L8.5 2.5l-.94 2.06-2.06.94zm10 10l.94 2.06.94-2.06 2.06-.94-2.06-.94-.94-2.06-.94 2.06-2.06.94z\"/><path d=\"M17.41 7.96l-1.37-1.37c-.4-.4-.92-.59-1.43-.59-.52 0-1.04.2-1.43.59L10.3 9.45l-7.72 7.72c-.78.78-.78 2.05 0 2.83L4 21.41c.39.39.9.59 1.41.59.51 0 1.02-.2 1.41-.59l7.78-7.78 2.81-2.81c.8-.78.8-2.07 0-2.86zM5.41 20L4 18.59l7.72-7.72 1.47 1.35L5.41 20z\"/>\n",
              "  </svg>\n",
              "      </button>\n",
              "      \n",
              "  <style>\n",
              "    .colab-df-container {\n",
              "      display:flex;\n",
              "      flex-wrap:wrap;\n",
              "      gap: 12px;\n",
              "    }\n",
              "\n",
              "    .colab-df-convert {\n",
              "      background-color: #E8F0FE;\n",
              "      border: none;\n",
              "      border-radius: 50%;\n",
              "      cursor: pointer;\n",
              "      display: none;\n",
              "      fill: #1967D2;\n",
              "      height: 32px;\n",
              "      padding: 0 0 0 0;\n",
              "      width: 32px;\n",
              "    }\n",
              "\n",
              "    .colab-df-convert:hover {\n",
              "      background-color: #E2EBFA;\n",
              "      box-shadow: 0px 1px 2px rgba(60, 64, 67, 0.3), 0px 1px 3px 1px rgba(60, 64, 67, 0.15);\n",
              "      fill: #174EA6;\n",
              "    }\n",
              "\n",
              "    [theme=dark] .colab-df-convert {\n",
              "      background-color: #3B4455;\n",
              "      fill: #D2E3FC;\n",
              "    }\n",
              "\n",
              "    [theme=dark] .colab-df-convert:hover {\n",
              "      background-color: #434B5C;\n",
              "      box-shadow: 0px 1px 3px 1px rgba(0, 0, 0, 0.15);\n",
              "      filter: drop-shadow(0px 1px 2px rgba(0, 0, 0, 0.3));\n",
              "      fill: #FFFFFF;\n",
              "    }\n",
              "  </style>\n",
              "\n",
              "      <script>\n",
              "        const buttonEl =\n",
              "          document.querySelector('#df-c67be3a6-ae49-4a09-a22d-adb8b55fc184 button.colab-df-convert');\n",
              "        buttonEl.style.display =\n",
              "          google.colab.kernel.accessAllowed ? 'block' : 'none';\n",
              "\n",
              "        async function convertToInteractive(key) {\n",
              "          const element = document.querySelector('#df-c67be3a6-ae49-4a09-a22d-adb8b55fc184');\n",
              "          const dataTable =\n",
              "            await google.colab.kernel.invokeFunction('convertToInteractive',\n",
              "                                                     [key], {});\n",
              "          if (!dataTable) return;\n",
              "\n",
              "          const docLinkHtml = 'Like what you see? Visit the ' +\n",
              "            '<a target=\"_blank\" href=https://colab.research.google.com/notebooks/data_table.ipynb>data table notebook</a>'\n",
              "            + ' to learn more about interactive tables.';\n",
              "          element.innerHTML = '';\n",
              "          dataTable['output_type'] = 'display_data';\n",
              "          await google.colab.output.renderOutput(dataTable, element);\n",
              "          const docLink = document.createElement('div');\n",
              "          docLink.innerHTML = docLinkHtml;\n",
              "          element.appendChild(docLink);\n",
              "        }\n",
              "      </script>\n",
              "    </div>\n",
              "  </div>\n",
              "  "
            ]
          },
          "metadata": {},
          "execution_count": 31
        }
      ]
    },
    {
      "cell_type": "code",
      "source": [
        "courses['languages'].value_counts()"
      ],
      "metadata": {
        "colab": {
          "base_uri": "https://localhost:8080/"
        },
        "id": "_qqhlR60WgVW",
        "outputId": "d050c8db-09c7-4856-e151-1286ccd40ad8"
      },
      "execution_count": null,
      "outputs": [
        {
          "output_type": "execute_result",
          "data": {
            "text/plain": [
              "en         23755\n",
              "unknown     1506\n",
              "pt          1072\n",
              "es           762\n",
              "tr           456\n",
              "de           400\n",
              "fr           275\n",
              "it           228\n",
              "ar           214\n",
              "ru           145\n",
              "pl            83\n",
              "id            46\n",
              "gl            39\n",
              "iw            21\n",
              "da            17\n",
              "oc            14\n",
              "nl            11\n",
              "la            10\n",
              "ro             9\n",
              "hu             8\n",
              "hi             8\n",
              "el             7\n",
              "az             6\n",
              "vi             4\n",
              "my             4\n",
              "fa             4\n",
              "mr             3\n",
              "xh             3\n",
              "th             3\n",
              "war            3\n",
              "ta             3\n",
              "cs             2\n",
              "eu             2\n",
              "nn             2\n",
              "rm             2\n",
              "ms             2\n",
              "lb             2\n",
              "no             1\n",
              "mfe            1\n",
              "hr             1\n",
              "et             1\n",
              "ia             1\n",
              "bs             1\n",
              "lt             1\n",
              "ss             1\n",
              "af             1\n",
              "vo             1\n",
              "bn             1\n",
              "so             1\n",
              "bg             1\n",
              "zzp            1\n",
              "sr             1\n",
              "ur             1\n",
              "ca             1\n",
              "ml             1\n",
              "rw             1\n",
              "si             1\n",
              "Name: languages, dtype: int64"
            ]
          },
          "metadata": {},
          "execution_count": 32
        }
      ]
    },
    {
      "cell_type": "markdown",
      "source": [
        "## Cursos en español"
      ],
      "metadata": {
        "id": "ryJivGloM-uD"
      }
    },
    {
      "cell_type": "code",
      "source": [
        "es_courses= courses[(courses.languages =='es')]\n"
      ],
      "metadata": {
        "id": "WBYsOhksuKEo"
      },
      "execution_count": null,
      "outputs": []
    },
    {
      "cell_type": "code",
      "source": [
        "f, ax = plt.subplots(figsize=(5, 5))\n",
        "sns.countplot(data = es_courses, x= \"Category\", order = es_courses[\"Category\"].value_counts().index, palette=\"winter_r\")\n",
        "plt.tight_layout()\n",
        "\n",
        "fig = plt.gcf()\n",
        "plt.show()\n",
        "fig.savefig('gra4.png')"
      ],
      "metadata": {
        "colab": {
          "base_uri": "https://localhost:8080/",
          "height": 369
        },
        "id": "atwsIC91uNqj",
        "outputId": "2b4b766b-d54c-4254-adae-4be2959717eb"
      },
      "execution_count": null,
      "outputs": [
        {
          "output_type": "display_data",
          "data": {
            "text/plain": [
              "<Figure size 360x360 with 1 Axes>"
            ],
            "image/png": "[encoded data removed]"
          },
          "metadata": {
            "needs_background": "light"
          }
        }
      ]
    },
    {
      "cell_type": "markdown",
      "source": [
        "## Cursos en Inglés"
      ],
      "metadata": {
        "id": "yNJ7IRoUNDuA"
      }
    },
    {
      "cell_type": "code",
      "source": [
        "en_courses= courses[(courses.languages =='en')]"
      ],
      "metadata": {
        "id": "pbGCYxUhubTw"
      },
      "execution_count": null,
      "outputs": []
    },
    {
      "cell_type": "code",
      "source": [
        "f, ax = plt.subplots(figsize=(15, 5))\n",
        "sns.countplot(data = en_courses, x= \"Category\", order = en_courses[\"Category\"].value_counts().index, palette=\"winter_r\")\n",
        "plt.tight_layout()\n",
        "\n",
        "fig = plt.gcf()\n",
        "plt.show()\n",
        "fig.savefig('gra5.png')"
      ],
      "metadata": {
        "colab": {
          "base_uri": "https://localhost:8080/",
          "height": 369
        },
        "id": "afWJoreQugeU",
        "outputId": "5faee40f-1e2e-486f-94e0-a810cb45a8f3"
      },
      "execution_count": null,
      "outputs": [
        {
          "output_type": "display_data",
          "data": {
            "text/plain": [
              "<Figure size 1080x360 with 1 Axes>"
            ],
            "image/png": "[encoded data removed]"
          },
          "metadata": {
            "needs_background": "light"
          }
        }
      ]
    },
    {
      "cell_type": "code",
      "source": [
        "en_courses.Category.value_counts()"
      ],
      "metadata": {
        "colab": {
          "base_uri": "https://localhost:8080/"
        },
        "id": "SDLyHXRdycbY",
        "outputId": "dc4973ab-7cd7-4e8a-b598-97e6ff598d2c"
      },
      "execution_count": null,
      "outputs": [
        {
          "output_type": "execute_result",
          "data": {
            "text/plain": [
              "Business        6952\n",
              "Tech            6540\n",
              "Design          4458\n",
              "Marketing       3341\n",
              "Finance         2401\n",
              "Lifestyle         16\n",
              "Music             16\n",
              "Productivity      16\n",
              "Photography       15\n",
              "Name: Category, dtype: int64"
            ]
          },
          "metadata": {},
          "execution_count": 38
        }
      ]
    },
    {
      "cell_type": "code",
      "source": [
        "en_courses.shape"
      ],
      "metadata": {
        "colab": {
          "base_uri": "https://localhost:8080/"
        },
        "id": "A7qiz-EV9Juc",
        "outputId": "f8ab64ed-62cb-4553-a90d-1fa0d9ad2c80"
      },
      "execution_count": null,
      "outputs": [
        {
          "output_type": "execute_result",
          "data": {
            "text/plain": [
              "(23755, 9)"
            ]
          },
          "metadata": {},
          "execution_count": 39
        }
      ]
    },
    {
      "cell_type": "code",
      "source": [
        "# guardamos el dataset con los cursos en inglés\n",
        "en_courses.to_csv('en_courses_9categories.csv',index =False)"
      ],
      "metadata": {
        "id": "zL38mB5kxowy"
      },
      "execution_count": null,
      "outputs": []
    }
  ]
}